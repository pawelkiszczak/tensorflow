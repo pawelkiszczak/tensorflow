{
 "cells": [
  {
   "attachments": {},
   "cell_type": "markdown",
   "metadata": {},
   "source": [
    "# Computer Vision & Convolutional Neural Networks (CNN) in TensorFlow - Exercises"
   ]
  },
  {
   "attachments": {},
   "cell_type": "markdown",
   "metadata": {},
   "source": [
    "### Spend 20 minutes on reading and interacting with [CNN Explained Website](https://poloclub.github.io/cnn-explainer/). What are the key terms? Explain convolution in your own words."
   ]
  },
  {
   "attachments": {},
   "cell_type": "markdown",
   "metadata": {},
   "source": [
    "The key terms in case of CNNs are:\n",
    "* *filters* are a number of distinguished, random sets of extractors for features in input images\n",
    "* *kernel* is a square-shaped window that travels throught whole picture and performs a dot product of involved pixels. Has significant impact on the network depth and it's feature extraction properties (larger kernels 'see' bigger size details, smaller kernels pick up on small size details).\n",
    "* *stride* is distance that kernel travels in each iteration. Also has impact on the network depth and overall performace\n",
    "* *padding* is a kind of symmetrical overlay on each side of the picture. Allows to build deeper networks as we do not 'consume' the volume of the image. Most used padding type is to pad with zeros (0)\n",
    "* *max pooling* is a type of pooling operation that uses both kernel and stride. Differs from them in terms of the logic as it picks up the highest value per kernel and forwards it to the next transformation\n",
    "* *flattening* allows to transform a 3-dimensional image (width, height, color channels) to a 1-dimensional vector of size W x H x CC"
   ]
  },
  {
   "attachments": {},
   "cell_type": "markdown",
   "metadata": {},
   "source": [
    "Convolutional model works as per following steps:\n",
    "1. Input an image (and if needed - scale it to desired size)\n",
    "2. Pass it through convolution layers, each of which consists of:\n",
    "\t* kernel size\n",
    "\t* stride\n",
    "\t* padding\n",
    "\t* no of filters\n",
    "\t* activation function\n",
    "3. Either use another convolution layer or pooling layer (no of dimensions should match each other):\n",
    "\t* convolution layer consist of the above\n",
    "\t* pooling layer shrinks the image and performs e.g. max pooling (so passes through only the highest value per kernel per stride)\n",
    "4. Repeat 2 and 3 if necessary.\n",
    "5. Flatten the output of last pooling layer (convert from 3D tensor to 1D tensor)\n",
    "6. Output the final result with help of softmax function (if it's a multiclass classification problem, other problems may require different output activation functions) and as many outputs as there are final classes"
   ]
  },
  {
   "attachments": {},
   "cell_type": "markdown",
   "metadata": {},
   "source": [
    "### Find an ideal learning rate for a simple CNN model on you 10 class dataset."
   ]
  },
  {
   "cell_type": "code",
   "execution_count": 15,
   "metadata": {},
   "outputs": [
    {
     "name": "stdout",
     "output_type": "stream",
     "text": [
      "There are: 2 directories and 1 images in 03_exercise_dataset/10_food_classes_all_data\n",
      "There are: 10 directories and 0 images in 03_exercise_dataset/10_food_classes_all_data/test\n",
      "There are: 0 directories and 250 images in 03_exercise_dataset/10_food_classes_all_data/test/ice_cream\n",
      "There are: 0 directories and 250 images in 03_exercise_dataset/10_food_classes_all_data/test/chicken_curry\n",
      "There are: 0 directories and 250 images in 03_exercise_dataset/10_food_classes_all_data/test/steak\n",
      "There are: 0 directories and 250 images in 03_exercise_dataset/10_food_classes_all_data/test/sushi\n",
      "There are: 0 directories and 250 images in 03_exercise_dataset/10_food_classes_all_data/test/chicken_wings\n",
      "There are: 0 directories and 250 images in 03_exercise_dataset/10_food_classes_all_data/test/grilled_salmon\n",
      "There are: 0 directories and 250 images in 03_exercise_dataset/10_food_classes_all_data/test/hamburger\n",
      "There are: 0 directories and 250 images in 03_exercise_dataset/10_food_classes_all_data/test/pizza\n",
      "There are: 0 directories and 250 images in 03_exercise_dataset/10_food_classes_all_data/test/ramen\n",
      "There are: 0 directories and 250 images in 03_exercise_dataset/10_food_classes_all_data/test/fried_rice\n",
      "There are: 10 directories and 0 images in 03_exercise_dataset/10_food_classes_all_data/train\n",
      "There are: 0 directories and 750 images in 03_exercise_dataset/10_food_classes_all_data/train/ice_cream\n",
      "There are: 0 directories and 750 images in 03_exercise_dataset/10_food_classes_all_data/train/chicken_curry\n",
      "There are: 0 directories and 750 images in 03_exercise_dataset/10_food_classes_all_data/train/steak\n",
      "There are: 0 directories and 750 images in 03_exercise_dataset/10_food_classes_all_data/train/sushi\n",
      "There are: 0 directories and 750 images in 03_exercise_dataset/10_food_classes_all_data/train/chicken_wings\n",
      "There are: 0 directories and 750 images in 03_exercise_dataset/10_food_classes_all_data/train/grilled_salmon\n",
      "There are: 0 directories and 750 images in 03_exercise_dataset/10_food_classes_all_data/train/hamburger\n",
      "There are: 0 directories and 750 images in 03_exercise_dataset/10_food_classes_all_data/train/pizza\n",
      "There are: 0 directories and 750 images in 03_exercise_dataset/10_food_classes_all_data/train/ramen\n",
      "There are: 0 directories and 750 images in 03_exercise_dataset/10_food_classes_all_data/train/fried_rice\n"
     ]
    }
   ],
   "source": [
    "import os\n",
    "# Walk through the image directories\n",
    "for dirpath, dirnames, filenames in os.walk('03_exercise_dataset/10_food_classes_all_data'):\n",
    "    print(f\"There are: {len(dirnames)} directories and {len(filenames)} images in {dirpath}\")"
   ]
  },
  {
   "cell_type": "code",
   "execution_count": 16,
   "metadata": {},
   "outputs": [],
   "source": [
    "# Set up the data directories\n",
    "train_dir = \"03_exercise_dataset/10_food_classes_all_data/train/\"\n",
    "test_dir = \"03_exercise_dataset/10_food_classes_all_data/test\""
   ]
  },
  {
   "cell_type": "code",
   "execution_count": 17,
   "metadata": {},
   "outputs": [
    {
     "name": "stdout",
     "output_type": "stream",
     "text": [
      "['chicken_curry' 'chicken_wings' 'fried_rice' 'grilled_salmon' 'hamburger'\n",
      " 'ice_cream' 'pizza' 'ramen' 'steak' 'sushi']\n"
     ]
    }
   ],
   "source": [
    "# Get the class names\n",
    "import pathlib\n",
    "import numpy as np\n",
    "\n",
    "data_dir = pathlib.Path(train_dir)\n",
    "# Return class names in SORTED order, as folders in directory are also sorted\n",
    "class_names = np.array(sorted([item.name for item in data_dir.glob('*')]))\n",
    "print(class_names)"
   ]
  },
  {
   "cell_type": "code",
   "execution_count": 18,
   "metadata": {},
   "outputs": [
    {
     "name": "stdout",
     "output_type": "stream",
     "text": [
      "Found 7500 images belonging to 10 classes.\n",
      "Found 2500 images belonging to 10 classes.\n"
     ]
    }
   ],
   "source": [
    "# Preprocess the images\n",
    "from tensorflow.keras.preprocessing.image import ImageDataGenerator\n",
    "\n",
    "# Rescale\n",
    "train_datagen = ImageDataGenerator(rescale=1/255.,\n",
    "                                   rotation_range=0.2,\n",
    "                                   zoom_range=0.15,\n",
    "                                   shear_range=0.15,\n",
    "                                   vertical_flip=True,\n",
    "                                   horizontal_flip=True)\n",
    "test_datagen = ImageDataGenerator(rescale=1/255.)\n",
    "\n",
    "# Load in data from directories\n",
    "train_data = train_datagen.flow_from_directory(directory=train_dir,\n",
    "                                               target_size=(224, 224),\n",
    "                                               color_mode='rgb',\n",
    "                                               batch_size=8,\n",
    "                                               shuffle=True,\n",
    "                                               class_mode='categorical')\n",
    "\n",
    "test_data = test_datagen.flow_from_directory(directory=test_dir,\n",
    "                                             target_size=(224, 224),\n",
    "                                             color_mode='rgb',\n",
    "                                             batch_size=8,\n",
    "                                             shuffle=False,\n",
    "                                             class_mode='categorical')"
   ]
  },
  {
   "cell_type": "code",
   "execution_count": 20,
   "metadata": {},
   "outputs": [
    {
     "name": "stdout",
     "output_type": "stream",
     "text": [
      "Epoch 1/30\n"
     ]
    },
    {
     "name": "stderr",
     "output_type": "stream",
     "text": [
      "2023-07-02 20:42:46.017514: I tensorflow/core/grappler/optimizers/custom_graph_optimizer_registry.cc:114] Plugin optimizer for device_type GPU is enabled.\n"
     ]
    },
    {
     "name": "stdout",
     "output_type": "stream",
     "text": [
      "938/938 [==============================] - 45s 47ms/step - loss: 2.1745 - accuracy: 0.2029 - lr: 1.0000e-04\n",
      "Epoch 2/30\n",
      "938/938 [==============================] - 44s 47ms/step - loss: 2.0599 - accuracy: 0.2667 - lr: 1.2589e-04\n",
      "Epoch 3/30\n",
      "938/938 [==============================] - 44s 47ms/step - loss: 1.9939 - accuracy: 0.2899 - lr: 1.5849e-04\n",
      "Epoch 4/30\n",
      "938/938 [==============================] - 44s 47ms/step - loss: 1.9549 - accuracy: 0.3073 - lr: 1.9953e-04\n",
      "Epoch 5/30\n",
      "938/938 [==============================] - 44s 47ms/step - loss: 1.9257 - accuracy: 0.3295 - lr: 2.5119e-04\n",
      "Epoch 6/30\n",
      "938/938 [==============================] - 47s 50ms/step - loss: 1.9075 - accuracy: 0.3351 - lr: 3.1623e-04\n",
      "Epoch 7/30\n",
      "938/938 [==============================] - 52s 55ms/step - loss: 1.8975 - accuracy: 0.3399 - lr: 3.9811e-04\n",
      "Epoch 8/30\n",
      "938/938 [==============================] - 46s 49ms/step - loss: 1.8850 - accuracy: 0.3444 - lr: 5.0119e-04\n",
      "Epoch 9/30\n",
      "938/938 [==============================] - 52s 55ms/step - loss: 1.8754 - accuracy: 0.3576 - lr: 6.3096e-04\n",
      "Epoch 10/30\n",
      "938/938 [==============================] - 47s 50ms/step - loss: 1.8661 - accuracy: 0.3533 - lr: 7.9433e-04\n",
      "Epoch 11/30\n",
      "938/938 [==============================] - 49s 52ms/step - loss: 1.8729 - accuracy: 0.3557 - lr: 0.0010\n",
      "Epoch 12/30\n",
      "938/938 [==============================] - 49s 52ms/step - loss: 1.8774 - accuracy: 0.3531 - lr: 0.0013\n",
      "Epoch 13/30\n",
      "938/938 [==============================] - 47s 50ms/step - loss: 1.8834 - accuracy: 0.3561 - lr: 0.0016\n",
      "Epoch 14/30\n",
      "938/938 [==============================] - 47s 50ms/step - loss: 1.8815 - accuracy: 0.3559 - lr: 0.0020\n",
      "Epoch 15/30\n",
      "938/938 [==============================] - 48s 51ms/step - loss: 1.8945 - accuracy: 0.3427 - lr: 0.0025\n",
      "Epoch 16/30\n",
      "938/938 [==============================] - 49s 52ms/step - loss: 1.9536 - accuracy: 0.3272 - lr: 0.0032\n",
      "Epoch 17/30\n",
      "938/938 [==============================] - 48s 51ms/step - loss: 2.0425 - accuracy: 0.2865 - lr: 0.0040\n",
      "Epoch 18/30\n",
      "938/938 [==============================] - 50s 54ms/step - loss: 2.0614 - accuracy: 0.2815 - lr: 0.0050\n",
      "Epoch 19/30\n",
      "938/938 [==============================] - 48s 51ms/step - loss: 2.1499 - accuracy: 0.2283 - lr: 0.0063\n",
      "Epoch 20/30\n",
      "938/938 [==============================] - 48s 51ms/step - loss: 2.2866 - accuracy: 0.1183 - lr: 0.0079\n",
      "Epoch 21/30\n",
      "938/938 [==============================] - 45s 48ms/step - loss: 2.2729 - accuracy: 0.1365 - lr: 0.0100\n",
      "Epoch 22/30\n",
      "938/938 [==============================] - 45s 48ms/step - loss: 2.3024 - accuracy: 0.1071 - lr: 0.0126\n",
      "Epoch 23/30\n",
      "938/938 [==============================] - 44s 47ms/step - loss: 2.3077 - accuracy: 0.0965 - lr: 0.0158\n",
      "Epoch 24/30\n",
      "938/938 [==============================] - 45s 48ms/step - loss: 2.3078 - accuracy: 0.0992 - lr: 0.0200\n",
      "Epoch 25/30\n",
      "938/938 [==============================] - 45s 48ms/step - loss: 2.3100 - accuracy: 0.0945 - lr: 0.0251\n",
      "Epoch 26/30\n",
      "938/938 [==============================] - 48s 51ms/step - loss: 2.3115 - accuracy: 0.0999 - lr: 0.0316\n",
      "Epoch 27/30\n",
      "938/938 [==============================] - 47s 50ms/step - loss: 2.3132 - accuracy: 0.1017 - lr: 0.0398\n",
      "Epoch 28/30\n",
      "938/938 [==============================] - 48s 51ms/step - loss: 2.3169 - accuracy: 0.0957 - lr: 0.0501\n",
      "Epoch 29/30\n",
      "938/938 [==============================] - 45s 48ms/step - loss: 2.3208 - accuracy: 0.0948 - lr: 0.0631\n",
      "Epoch 30/30\n",
      "938/938 [==============================] - 45s 48ms/step - loss: 2.3269 - accuracy: 0.1001 - lr: 0.0794\n",
      "  9/313 [..............................] - ETA: 3s - loss: 2.5225 - accuracy: 0.0000e+00"
     ]
    },
    {
     "name": "stderr",
     "output_type": "stream",
     "text": [
      "2023-07-02 21:06:10.950838: I tensorflow/core/grappler/optimizers/custom_graph_optimizer_registry.cc:114] Plugin optimizer for device_type GPU is enabled.\n"
     ]
    },
    {
     "name": "stdout",
     "output_type": "stream",
     "text": [
      "313/313 [==============================] - 4s 13ms/step - loss: 2.3218 - accuracy: 0.1000\n"
     ]
    },
    {
     "data": {
      "text/plain": [
       "[2.3218233585357666, 0.10000000149011612]"
      ]
     },
     "execution_count": 20,
     "metadata": {},
     "output_type": "execute_result"
    }
   ],
   "source": [
    "# Create simple CNN model\n",
    "import tensorflow as tf\n",
    "from tensorflow.keras import layers\n",
    "\n",
    "# LearningRateScheduler to monitor the learning rate\n",
    "from tensorflow.keras.callbacks import LearningRateScheduler\n",
    "lr_scheduler = LearningRateScheduler(lambda epoch: 1e-4 * 100 **(epoch/20))\n",
    "\n",
    "# Architecture\n",
    "model_cnn = tf.keras.Sequential([\n",
    "    layers.Conv2D(filters=8,\n",
    "        kernel_size=5,\n",
    "        strides=1,\n",
    "        padding='valid',\n",
    "        input_shape=(224, 224, 3),\n",
    "        activation='relu'),\n",
    "\tlayers.Conv2D(filters=8,\n",
    "        kernel_size=3,\n",
    "        activation='relu'),\n",
    "    layers.MaxPool2D(),\n",
    "    layers.Conv2D(filters=8,\n",
    "        kernel_size=5,\n",
    "        activation='relu'),\n",
    "    layers.Conv2D(filters=8,\n",
    "        kernel_size=3,\n",
    "        activation='relu'),\n",
    "    layers.AveragePooling2D(),\n",
    "    layers.Flatten(),\n",
    "    layers.Dense(units=10,\n",
    "\t\tactivation='softmax')\n",
    "])\n",
    "\n",
    "# Compile\n",
    "model_cnn.compile(loss=tf.keras.losses.CategoricalCrossentropy(),\n",
    "\toptimizer=tf.keras.optimizers.Adam(),\n",
    "    metrics=['accuracy'])\n",
    "\n",
    "# Fit the model\n",
    "cnn_history = model_cnn.fit(train_data,\n",
    "                            epochs=30,\n",
    "                            steps_per_epoch=len(train_data),\n",
    "                            callbacks=[lr_scheduler])\n",
    "\n",
    "# Evaluation\n",
    "model_cnn.evaluate(test_data)"
   ]
  },
  {
   "cell_type": "code",
   "execution_count": 24,
   "metadata": {},
   "outputs": [
    {
     "data": {
      "text/plain": [
       "Text(0.5, 1.0, 'Learning rate vs Loss')"
      ]
     },
     "execution_count": 24,
     "metadata": {},
     "output_type": "execute_result"
    },
    {
     "data": {
      "image/png": "[encoded data removed]",
      "text/plain": [
       "<Figure size 800x500 with 1 Axes>"
      ]
     },
     "metadata": {},
     "output_type": "display_data"
    }
   ],
   "source": [
    "# Plotting the learning rate vs loss\n",
    "lr = 1e-4 * (10**(tf.range(30)/50))\n",
    "\n",
    "import matplotlib.pyplot as plt\n",
    "plt.figure(figsize=(8,5))\n",
    "plt.semilogx(lr, cnn_history.history['loss'])\n",
    "plt.xlabel('Learning rate')\n",
    "plt.ylabel('Loss')\n",
    "plt.title('Learning rate vs Loss')"
   ]
  },
  {
   "attachments": {},
   "cell_type": "markdown",
   "metadata": {},
   "source": [
    "As we can see, the lowest learning rate in this case is about 1.5e-4. Therefore if we'd were to choose a proper one for this case, we'd choose a value somehere a bit earlier than this one. We can assume that approx. 1.2e-4 would be a good fit."
   ]
  },
  {
   "attachments": {},
   "cell_type": "markdown",
   "metadata": {},
   "source": []
  }
 ],
 "metadata": {
  "kernelspec": {
   "display_name": "Python 3",
   "language": "python",
   "name": "python3"
  },
  "language_info": {
   "codemirror_mode": {
    "name": "ipython",
    "version": 3
   },
   "file_extension": ".py",
   "mimetype": "text/x-python",
   "name": "python",
   "nbconvert_exporter": "python",
   "pygments_lexer": "ipython3",
   "version": "3.8.15"
  },
  "orig_nbformat": 4
 },
 "nbformat": 4,
 "nbformat_minor": 2
}
