{
  "nbformat": 4,
  "nbformat_minor": 0,
  "metadata": {
    "colab": {
      "provenance": [],
      "collapsed_sections": [
        "zn_ivXMVkXSY",
        "T7N0v6q3c4DC"
      ],
      "gpuType": "V100"
    },
    "kernelspec": {
      "name": "python3",
      "display_name": "Python 3"
    },
    "language_info": {
      "name": "python"
    },
    "accelerator": "GPU"
  },
  "cells": [
    {
      "cell_type": "markdown",
      "source": [
        "# 05 Transfer Learning in TensorFlow Part 2: Fine-tuning"
      ],
      "metadata": {
        "id": "LxeXIp2rWpGB"
      }
    },
    {
      "cell_type": "markdown",
      "source": [
        "## Use feature extraction to train a transfer learning model on 10% of the Food Vision data for 10 epochs using `tf.keras.applications.EfficientNetB0` as the base model. Use the `ModelCheckpoint` callback to save the weights to file."
      ],
      "metadata": {
        "id": "g-LrAapyW1kR"
      }
    },
    {
      "cell_type": "markdown",
      "source": [
        "### Preparation for the model creation"
      ],
      "metadata": {
        "id": "zn_ivXMVkXSY"
      }
    },
    {
      "cell_type": "code",
      "execution_count": 127,
      "metadata": {
        "colab": {
          "base_uri": "https://localhost:8080/"
        },
        "id": "6WfPD8sBWN1M",
        "outputId": "60853b8c-1755-4b90-a2b3-8752c0d5468b"
      },
      "outputs": [
        {
          "output_type": "stream",
          "name": "stdout",
          "text": [
            "Thu Oct  5 10:36:49 2023       \n",
            "+-----------------------------------------------------------------------------+\n",
            "| NVIDIA-SMI 525.105.17   Driver Version: 525.105.17   CUDA Version: 12.0     |\n",
            "|-------------------------------+----------------------+----------------------+\n",
            "| GPU  Name        Persistence-M| Bus-Id        Disp.A | Volatile Uncorr. ECC |\n",
            "| Fan  Temp  Perf  Pwr:Usage/Cap|         Memory-Usage | GPU-Util  Compute M. |\n",
            "|                               |                      |               MIG M. |\n",
            "|===============================+======================+======================|\n",
            "|   0  Tesla V100-SXM2...  Off  | 00000000:00:04.0 Off |                    0 |\n",
            "| N/A   38C    P0    51W / 300W |   3042MiB / 16384MiB |      0%      Default |\n",
            "|                               |                      |                  N/A |\n",
            "+-------------------------------+----------------------+----------------------+\n",
            "                                                                               \n",
            "+-----------------------------------------------------------------------------+\n",
            "| Processes:                                                                  |\n",
            "|  GPU   GI   CI        PID   Type   Process name                  GPU Memory |\n",
            "|        ID   ID                                                   Usage      |\n",
            "|=============================================================================|\n",
            "+-----------------------------------------------------------------------------+\n"
          ]
        }
      ],
      "source": [
        "# Check for the GPU\n",
        "!nvidia-smi"
      ]
    },
    {
      "cell_type": "code",
      "source": [
        "# Get the helper functions\n",
        "!wget https://raw.githubusercontent.com/mrdbourke/tensorflow-deep-learning/main/extras/helper_functions.py"
      ],
      "metadata": {
        "colab": {
          "base_uri": "https://localhost:8080/"
        },
        "id": "qrU7_ZxhWdSz",
        "outputId": "882f7a58-79e0-4ab7-ddc0-99488746534e"
      },
      "execution_count": 128,
      "outputs": [
        {
          "output_type": "stream",
          "name": "stdout",
          "text": [
            "--2023-10-05 10:36:49--  https://raw.githubusercontent.com/mrdbourke/tensorflow-deep-learning/main/extras/helper_functions.py\n",
            "Resolving raw.githubusercontent.com (raw.githubusercontent.com)... 185.199.109.133, 185.199.111.133, 185.199.110.133, ...\n",
            "Connecting to raw.githubusercontent.com (raw.githubusercontent.com)|185.199.109.133|:443... connected.\n",
            "HTTP request sent, awaiting response... 200 OK\n",
            "Length: 10246 (10K) [text/plain]\n",
            "Saving to: ‘helper_functions.py.6’\n",
            "\n",
            "\rhelper_functions.py   0%[                    ]       0  --.-KB/s               \rhelper_functions.py 100%[===================>]  10.01K  --.-KB/s    in 0s      \n",
            "\n",
            "2023-10-05 10:36:49 (115 MB/s) - ‘helper_functions.py.6’ saved [10246/10246]\n",
            "\n"
          ]
        }
      ]
    },
    {
      "cell_type": "code",
      "source": [
        "from helper_functions import unzip_data, walk_through_dir, plot_loss_curves"
      ],
      "metadata": {
        "id": "EpCtpBtHWjT4"
      },
      "execution_count": 129,
      "outputs": []
    },
    {
      "cell_type": "code",
      "source": [
        "# Get the training data\n",
        "!wget https://storage.googleapis.com/ztm_tf_course/food_vision/10_food_classes_10_percent.zip\n",
        "unzip_data(\"10_food_classes_10_percent.zip\")"
      ],
      "metadata": {
        "colab": {
          "base_uri": "https://localhost:8080/"
        },
        "id": "-Ly7jQ5PX-Nv",
        "outputId": "8b03f990-612c-45be-ad7f-c9678058030e"
      },
      "execution_count": 130,
      "outputs": [
        {
          "output_type": "stream",
          "name": "stdout",
          "text": [
            "--2023-10-05 10:36:49--  https://storage.googleapis.com/ztm_tf_course/food_vision/10_food_classes_10_percent.zip\n",
            "Resolving storage.googleapis.com (storage.googleapis.com)... 142.251.31.207, 74.125.143.207, 173.194.79.207, ...\n",
            "Connecting to storage.googleapis.com (storage.googleapis.com)|142.251.31.207|:443... connected.\n",
            "HTTP request sent, awaiting response... 200 OK\n",
            "Length: 168546183 (161M) [application/zip]\n",
            "Saving to: ‘10_food_classes_10_percent.zip.5’\n",
            "\n",
            "10_food_classes_10_ 100%[===================>] 160.74M  41.7MB/s    in 4.5s    \n",
            "\n",
            "2023-10-05 10:36:54 (36.0 MB/s) - ‘10_food_classes_10_percent.zip.5’ saved [168546183/168546183]\n",
            "\n"
          ]
        }
      ]
    },
    {
      "cell_type": "code",
      "source": [
        "# Investigate the data\n",
        "walk_through_dir(\"10_food_classes_10_percent\")"
      ],
      "metadata": {
        "colab": {
          "base_uri": "https://localhost:8080/"
        },
        "id": "6GWRVWO3YDoa",
        "outputId": "d52ab735-b2d4-497c-9982-b7186351bea2"
      },
      "execution_count": 131,
      "outputs": [
        {
          "output_type": "stream",
          "name": "stdout",
          "text": [
            "There are 2 directories and 0 images in '10_food_classes_10_percent'.\n",
            "There are 10 directories and 0 images in '10_food_classes_10_percent/test'.\n",
            "There are 0 directories and 250 images in '10_food_classes_10_percent/test/sushi'.\n",
            "There are 0 directories and 250 images in '10_food_classes_10_percent/test/grilled_salmon'.\n",
            "There are 0 directories and 250 images in '10_food_classes_10_percent/test/chicken_curry'.\n",
            "There are 0 directories and 250 images in '10_food_classes_10_percent/test/pizza'.\n",
            "There are 0 directories and 250 images in '10_food_classes_10_percent/test/fried_rice'.\n",
            "There are 0 directories and 250 images in '10_food_classes_10_percent/test/chicken_wings'.\n",
            "There are 0 directories and 250 images in '10_food_classes_10_percent/test/ramen'.\n",
            "There are 0 directories and 250 images in '10_food_classes_10_percent/test/steak'.\n",
            "There are 0 directories and 250 images in '10_food_classes_10_percent/test/ice_cream'.\n",
            "There are 0 directories and 250 images in '10_food_classes_10_percent/test/hamburger'.\n",
            "There are 10 directories and 0 images in '10_food_classes_10_percent/train'.\n",
            "There are 0 directories and 75 images in '10_food_classes_10_percent/train/sushi'.\n",
            "There are 0 directories and 75 images in '10_food_classes_10_percent/train/grilled_salmon'.\n",
            "There are 0 directories and 75 images in '10_food_classes_10_percent/train/chicken_curry'.\n",
            "There are 0 directories and 75 images in '10_food_classes_10_percent/train/pizza'.\n",
            "There are 0 directories and 75 images in '10_food_classes_10_percent/train/fried_rice'.\n",
            "There are 0 directories and 75 images in '10_food_classes_10_percent/train/chicken_wings'.\n",
            "There are 0 directories and 75 images in '10_food_classes_10_percent/train/ramen'.\n",
            "There are 0 directories and 75 images in '10_food_classes_10_percent/train/steak'.\n",
            "There are 0 directories and 75 images in '10_food_classes_10_percent/train/ice_cream'.\n",
            "There are 0 directories and 75 images in '10_food_classes_10_percent/train/hamburger'.\n"
          ]
        }
      ]
    },
    {
      "cell_type": "code",
      "source": [
        "# Create train and test sets\n",
        "train_dir = \"10_food_classes_10_percent/train\"\n",
        "test_dir = \"10_food_classes_10_percent/test\""
      ],
      "metadata": {
        "id": "aljSJobFYZVp"
      },
      "execution_count": 132,
      "outputs": []
    },
    {
      "cell_type": "code",
      "source": [
        "# State global variables\n",
        "IMG_SIZE = (224, 224)\n",
        "BATCH_SIZE= 32"
      ],
      "metadata": {
        "id": "Yxte0ddVZIsa"
      },
      "execution_count": 133,
      "outputs": []
    },
    {
      "cell_type": "code",
      "source": [
        "# Batch the data\n",
        "import tensorflow as tf\n",
        "\n",
        "train_data = tf.keras.preprocessing.image_dataset_from_directory(directory=train_dir,\n",
        "                                                                 image_size=IMG_SIZE,\n",
        "                                                                 label_mode='categorical',\n",
        "                                                                 batch_size=BATCH_SIZE)\n",
        "\n",
        "test_data = tf.keras.preprocessing.image_dataset_from_directory(directory=test_dir,\n",
        "                                                                image_size=IMG_SIZE,\n",
        "                                                                label_mode='categorical',\n",
        "                                                                batch_size=BATCH_SIZE)"
      ],
      "metadata": {
        "colab": {
          "base_uri": "https://localhost:8080/"
        },
        "id": "5QnaxV38ZQLI",
        "outputId": "ff4fb767-a411-4e12-838e-2d6536e6f6b8"
      },
      "execution_count": 134,
      "outputs": [
        {
          "output_type": "stream",
          "name": "stdout",
          "text": [
            "Found 750 files belonging to 10 classes.\n",
            "Found 2500 files belonging to 10 classes.\n"
          ]
        }
      ]
    },
    {
      "cell_type": "code",
      "source": [
        "# Sanity check\n",
        "train_data"
      ],
      "metadata": {
        "colab": {
          "base_uri": "https://localhost:8080/"
        },
        "id": "GZvq8VRpZrKx",
        "outputId": "c7fb1288-10cc-495a-b07d-22d4f8234b65"
      },
      "execution_count": 135,
      "outputs": [
        {
          "output_type": "execute_result",
          "data": {
            "text/plain": [
              "<_BatchDataset element_spec=(TensorSpec(shape=(None, 224, 224, 3), dtype=tf.float32, name=None), TensorSpec(shape=(None, 10), dtype=tf.float32, name=None))>"
            ]
          },
          "metadata": {},
          "execution_count": 135
        }
      ]
    },
    {
      "cell_type": "code",
      "source": [
        "# Sanity check 2\n",
        "train_data.class_names"
      ],
      "metadata": {
        "colab": {
          "base_uri": "https://localhost:8080/"
        },
        "id": "HQne1JQwZ5QL",
        "outputId": "f2f45afe-18cc-47c4-f32b-b6360d607ac1"
      },
      "execution_count": 136,
      "outputs": [
        {
          "output_type": "execute_result",
          "data": {
            "text/plain": [
              "['chicken_curry',\n",
              " 'chicken_wings',\n",
              " 'fried_rice',\n",
              " 'grilled_salmon',\n",
              " 'hamburger',\n",
              " 'ice_cream',\n",
              " 'pizza',\n",
              " 'ramen',\n",
              " 'steak',\n",
              " 'sushi']"
            ]
          },
          "metadata": {},
          "execution_count": 136
        }
      ]
    },
    {
      "cell_type": "markdown",
      "source": [
        "### Model creation (base version with frozen EfficientNetB0 weights)"
      ],
      "metadata": {
        "id": "4ANzlaI_ka7M"
      }
    },
    {
      "cell_type": "code",
      "source": [
        "# Prepare needed callback\n",
        "ckpt_path = \"checkpoints/model_ckpt.ckpt\"\n",
        "model_checkpoint = tf.keras.callbacks.ModelCheckpoint(filepath=ckpt_path,\n",
        "                                                      monitor='val_loss',\n",
        "                                                      save_weights_only=True,\n",
        "                                                      save_best_only=True,\n",
        "                                                      verbose=1)"
      ],
      "metadata": {
        "id": "uhswMDdEmJ8a"
      },
      "execution_count": 162,
      "outputs": []
    },
    {
      "cell_type": "code",
      "source": [
        "# Create the base_model with EfficientNetB0\n",
        "base_model = tf.keras.applications.EfficientNetB0(include_top=False)\n",
        "\n",
        "# Freeze the base model\n",
        "base_model.trainable = False\n",
        "\n",
        "# Create the input layer\n",
        "input_layer = tf.keras.layers.Input(shape=(224,224,3), name='input_layer')\n",
        "\n",
        "# Passing the inputs\n",
        "x = base_model(input_layer)\n",
        "\n",
        "# Averaging the weights from the base_model\n",
        "x = tf.keras.layers.GlobalAveragePooling2D(name='global_average_pooling_2d')(x)\n",
        "\n",
        "# Output layer with activation\n",
        "output_layer = tf.keras.layers.Dense(10,\n",
        "                                     activation='softmax',\n",
        "                                     name='output_layer')(x)\n",
        "\n",
        "# Combine the inputs and outputs\n",
        "model_0 = tf.keras.Model(input_layer, output_layer)\n",
        "\n",
        "# Compile the model\n",
        "model_0.compile(loss=tf.keras.losses.CategoricalCrossentropy(),\n",
        "                optimizer=tf.keras.optimizers.Adam(),\n",
        "                metrics=['accuracy'])\n",
        "\n",
        "# Fit the model\n",
        "initial_epochs = 10\n",
        "\n",
        "history_0 = model_0.fit(train_data,\n",
        "                        epochs=initial_epochs,\n",
        "                        steps_per_epoch=len(train_data),\n",
        "                        validation_data=test_data,\n",
        "                        validation_steps=int(0.1*len(test_data)),\n",
        "                        callbacks=model_checkpoint)"
      ],
      "metadata": {
        "colab": {
          "base_uri": "https://localhost:8080/"
        },
        "id": "lacm6uflZ8l4",
        "outputId": "9e964036-e605-41fd-9bd2-40e5849bbf46"
      },
      "execution_count": 138,
      "outputs": [
        {
          "output_type": "stream",
          "name": "stdout",
          "text": [
            "Epoch 1/10\n",
            "23/24 [===========================>..] - ETA: 0s - loss: 1.8942 - accuracy: 0.3832\n",
            "Epoch 1: val_loss improved from inf to 1.27405, saving model to checkpoints/model_ckpt.ckpt\n",
            "24/24 [==============================] - 13s 218ms/step - loss: 1.8824 - accuracy: 0.3893 - val_loss: 1.2740 - val_accuracy: 0.7455\n",
            "Epoch 2/10\n",
            "23/24 [===========================>..] - ETA: 0s - loss: 1.1099 - accuracy: 0.7677\n",
            "Epoch 2: val_loss improved from 1.27405 to 0.92890, saving model to checkpoints/model_ckpt.ckpt\n",
            "24/24 [==============================] - 3s 124ms/step - loss: 1.1044 - accuracy: 0.7693 - val_loss: 0.9289 - val_accuracy: 0.7679\n",
            "Epoch 3/10\n",
            "23/24 [===========================>..] - ETA: 0s - loss: 0.8033 - accuracy: 0.8302\n",
            "Epoch 3: val_loss improved from 0.92890 to 0.73557, saving model to checkpoints/model_ckpt.ckpt\n",
            "24/24 [==============================] - 3s 104ms/step - loss: 0.7994 - accuracy: 0.8307 - val_loss: 0.7356 - val_accuracy: 0.8259\n",
            "Epoch 4/10\n",
            "23/24 [===========================>..] - ETA: 0s - loss: 0.6514 - accuracy: 0.8451\n",
            "Epoch 4: val_loss improved from 0.73557 to 0.60469, saving model to checkpoints/model_ckpt.ckpt\n",
            "24/24 [==============================] - 3s 117ms/step - loss: 0.6493 - accuracy: 0.8467 - val_loss: 0.6047 - val_accuracy: 0.8482\n",
            "Epoch 5/10\n",
            "23/24 [===========================>..] - ETA: 0s - loss: 0.5583 - accuracy: 0.8736\n",
            "Epoch 5: val_loss improved from 0.60469 to 0.58842, saving model to checkpoints/model_ckpt.ckpt\n",
            "24/24 [==============================] - 3s 100ms/step - loss: 0.5611 - accuracy: 0.8720 - val_loss: 0.5884 - val_accuracy: 0.8571\n",
            "Epoch 6/10\n",
            "23/24 [===========================>..] - ETA: 0s - loss: 0.4860 - accuracy: 0.8899\n",
            "Epoch 6: val_loss improved from 0.58842 to 0.55645, saving model to checkpoints/model_ckpt.ckpt\n",
            "24/24 [==============================] - 3s 105ms/step - loss: 0.4878 - accuracy: 0.8893 - val_loss: 0.5565 - val_accuracy: 0.8571\n",
            "Epoch 7/10\n",
            "23/24 [===========================>..] - ETA: 0s - loss: 0.4402 - accuracy: 0.9035\n",
            "Epoch 7: val_loss did not improve from 0.55645\n",
            "24/24 [==============================] - 2s 87ms/step - loss: 0.4391 - accuracy: 0.9053 - val_loss: 0.5811 - val_accuracy: 0.8438\n",
            "Epoch 8/10\n",
            "24/24 [==============================] - ETA: 0s - loss: 0.3805 - accuracy: 0.9227\n",
            "Epoch 8: val_loss improved from 0.55645 to 0.52608, saving model to checkpoints/model_ckpt.ckpt\n",
            "24/24 [==============================] - 5s 196ms/step - loss: 0.3805 - accuracy: 0.9227 - val_loss: 0.5261 - val_accuracy: 0.8527\n",
            "Epoch 9/10\n",
            "23/24 [===========================>..] - ETA: 0s - loss: 0.3531 - accuracy: 0.9375\n",
            "Epoch 9: val_loss improved from 0.52608 to 0.47902, saving model to checkpoints/model_ckpt.ckpt\n",
            "24/24 [==============================] - 3s 103ms/step - loss: 0.3543 - accuracy: 0.9360 - val_loss: 0.4790 - val_accuracy: 0.8482\n",
            "Epoch 10/10\n",
            "23/24 [===========================>..] - ETA: 0s - loss: 0.3160 - accuracy: 0.9389\n",
            "Epoch 10: val_loss improved from 0.47902 to 0.46666, saving model to checkpoints/model_ckpt.ckpt\n",
            "24/24 [==============================] - 3s 105ms/step - loss: 0.3155 - accuracy: 0.9387 - val_loss: 0.4667 - val_accuracy: 0.8750\n"
          ]
        }
      ]
    },
    {
      "cell_type": "code",
      "source": [
        "model_0.evaluate(test_data)"
      ],
      "metadata": {
        "colab": {
          "base_uri": "https://localhost:8080/"
        },
        "id": "7uVK6FFNmz7W",
        "outputId": "4fd4caea-9392-4269-b5fd-4c3e380490ad"
      },
      "execution_count": 139,
      "outputs": [
        {
          "output_type": "stream",
          "name": "stdout",
          "text": [
            "79/79 [==============================] - 5s 60ms/step - loss: 0.4432 - accuracy: 0.8780\n"
          ]
        },
        {
          "output_type": "execute_result",
          "data": {
            "text/plain": [
              "[0.44321903586387634, 0.878000020980835]"
            ]
          },
          "metadata": {},
          "execution_count": 139
        }
      ]
    },
    {
      "cell_type": "markdown",
      "source": [
        "As seen, the baseline `model_0` was able to achieve 87.4% of accuracy while being trained on 10% of 10 classes of different food. Now let's continue and try finetuning it to this dataset."
      ],
      "metadata": {
        "id": "EeCIws1lnYJO"
      }
    },
    {
      "cell_type": "markdown",
      "source": [
        "## Fine-tune the last 20 layers of the base model you trained in previos exercise for another epochs. How did it go?"
      ],
      "metadata": {
        "id": "6xgaCf1xnpmm"
      }
    },
    {
      "cell_type": "markdown",
      "source": [
        "### Layer preparation"
      ],
      "metadata": {
        "id": "rvhZ5VDwqdKf"
      }
    },
    {
      "cell_type": "code",
      "source": [
        "# Investigate model layers\n",
        "print(model_0.summary())"
      ],
      "metadata": {
        "colab": {
          "base_uri": "https://localhost:8080/"
        },
        "id": "1ik-EJz5nUqk",
        "outputId": "a40baa4f-e329-43df-f83f-7bdf9c7e43a5"
      },
      "execution_count": 140,
      "outputs": [
        {
          "output_type": "stream",
          "name": "stdout",
          "text": [
            "Model: \"model_5\"\n",
            "_________________________________________________________________\n",
            " Layer (type)                Output Shape              Param #   \n",
            "=================================================================\n",
            " input_layer (InputLayer)    [(None, 224, 224, 3)]     0         \n",
            "                                                                 \n",
            " efficientnetb0 (Functional  (None, None, None, 1280   4049571   \n",
            " )                           )                                   \n",
            "                                                                 \n",
            " global_average_pooling_2d   (None, 1280)              0         \n",
            " (GlobalAveragePooling2D)                                        \n",
            "                                                                 \n",
            " output_layer (Dense)        (None, 10)                12810     \n",
            "                                                                 \n",
            "=================================================================\n",
            "Total params: 4062381 (15.50 MB)\n",
            "Trainable params: 12810 (50.04 KB)\n",
            "Non-trainable params: 4049571 (15.45 MB)\n",
            "_________________________________________________________________\n",
            "None\n"
          ]
        }
      ]
    },
    {
      "cell_type": "code",
      "source": [
        "model_0.layers"
      ],
      "metadata": {
        "id": "tbbczoxeYD9F",
        "outputId": "433f09fc-83c8-4e37-ac2d-13b2809ffbde",
        "colab": {
          "base_uri": "https://localhost:8080/"
        }
      },
      "execution_count": 141,
      "outputs": [
        {
          "output_type": "execute_result",
          "data": {
            "text/plain": [
              "[<keras.src.engine.input_layer.InputLayer at 0x7e39a3cc7fa0>,\n",
              " <keras.src.engine.functional.Functional at 0x7e399930cdc0>,\n",
              " <keras.src.layers.pooling.global_average_pooling2d.GlobalAveragePooling2D at 0x7e393417a4d0>,\n",
              " <keras.src.layers.core.dense.Dense at 0x7e399932a8c0>]"
            ]
          },
          "metadata": {},
          "execution_count": 141
        }
      ]
    },
    {
      "cell_type": "code",
      "source": [
        "# Investigate further for trainable layers\n",
        "print(model_0.layers[1].trainable_variables)"
      ],
      "metadata": {
        "colab": {
          "base_uri": "https://localhost:8080/"
        },
        "id": "qvuMR0Y1n75G",
        "outputId": "2eff8c47-a2c6-42c2-e873-e97c2e3b3913"
      },
      "execution_count": 142,
      "outputs": [
        {
          "output_type": "stream",
          "name": "stdout",
          "text": [
            "[]\n"
          ]
        }
      ]
    },
    {
      "cell_type": "markdown",
      "source": [
        "There are none since we did freeze them - all good for now."
      ],
      "metadata": {
        "id": "eFMpK3-soOyp"
      }
    },
    {
      "cell_type": "code",
      "source": [
        "# To prepare for fine-tuning, unfreezing the last layers is a must. Let's do so\n",
        "base_model.trainable = True"
      ],
      "metadata": {
        "id": "g-Sp9zEEoIko"
      },
      "execution_count": 143,
      "outputs": []
    },
    {
      "cell_type": "code",
      "source": [
        "# Freeze all of the layers except last 20\n",
        "for layer in base_model.layers[:-20]:\n",
        "  layer.trainable = False"
      ],
      "metadata": {
        "id": "kAOQNAm4orcQ"
      },
      "execution_count": 144,
      "outputs": []
    },
    {
      "cell_type": "code",
      "source": [
        "# Check which layers are trainable\n",
        "for layer_no, layer in enumerate(base_model.layers):\n",
        "  print(layer_no, layer.name, layer.trainable)"
      ],
      "metadata": {
        "colab": {
          "base_uri": "https://localhost:8080/"
        },
        "id": "AImwc8fVo0c-",
        "outputId": "b201bb83-3fb1-43c7-fc13-f0eea4c0ac7c"
      },
      "execution_count": 145,
      "outputs": [
        {
          "output_type": "stream",
          "name": "stdout",
          "text": [
            "0 input_6 False\n",
            "1 rescaling_10 False\n",
            "2 normalization_5 False\n",
            "3 rescaling_11 False\n",
            "4 stem_conv_pad False\n",
            "5 stem_conv False\n",
            "6 stem_bn False\n",
            "7 stem_activation False\n",
            "8 block1a_dwconv False\n",
            "9 block1a_bn False\n",
            "10 block1a_activation False\n",
            "11 block1a_se_squeeze False\n",
            "12 block1a_se_reshape False\n",
            "13 block1a_se_reduce False\n",
            "14 block1a_se_expand False\n",
            "15 block1a_se_excite False\n",
            "16 block1a_project_conv False\n",
            "17 block1a_project_bn False\n",
            "18 block2a_expand_conv False\n",
            "19 block2a_expand_bn False\n",
            "20 block2a_expand_activation False\n",
            "21 block2a_dwconv_pad False\n",
            "22 block2a_dwconv False\n",
            "23 block2a_bn False\n",
            "24 block2a_activation False\n",
            "25 block2a_se_squeeze False\n",
            "26 block2a_se_reshape False\n",
            "27 block2a_se_reduce False\n",
            "28 block2a_se_expand False\n",
            "29 block2a_se_excite False\n",
            "30 block2a_project_conv False\n",
            "31 block2a_project_bn False\n",
            "32 block2b_expand_conv False\n",
            "33 block2b_expand_bn False\n",
            "34 block2b_expand_activation False\n",
            "35 block2b_dwconv False\n",
            "36 block2b_bn False\n",
            "37 block2b_activation False\n",
            "38 block2b_se_squeeze False\n",
            "39 block2b_se_reshape False\n",
            "40 block2b_se_reduce False\n",
            "41 block2b_se_expand False\n",
            "42 block2b_se_excite False\n",
            "43 block2b_project_conv False\n",
            "44 block2b_project_bn False\n",
            "45 block2b_drop False\n",
            "46 block2b_add False\n",
            "47 block3a_expand_conv False\n",
            "48 block3a_expand_bn False\n",
            "49 block3a_expand_activation False\n",
            "50 block3a_dwconv_pad False\n",
            "51 block3a_dwconv False\n",
            "52 block3a_bn False\n",
            "53 block3a_activation False\n",
            "54 block3a_se_squeeze False\n",
            "55 block3a_se_reshape False\n",
            "56 block3a_se_reduce False\n",
            "57 block3a_se_expand False\n",
            "58 block3a_se_excite False\n",
            "59 block3a_project_conv False\n",
            "60 block3a_project_bn False\n",
            "61 block3b_expand_conv False\n",
            "62 block3b_expand_bn False\n",
            "63 block3b_expand_activation False\n",
            "64 block3b_dwconv False\n",
            "65 block3b_bn False\n",
            "66 block3b_activation False\n",
            "67 block3b_se_squeeze False\n",
            "68 block3b_se_reshape False\n",
            "69 block3b_se_reduce False\n",
            "70 block3b_se_expand False\n",
            "71 block3b_se_excite False\n",
            "72 block3b_project_conv False\n",
            "73 block3b_project_bn False\n",
            "74 block3b_drop False\n",
            "75 block3b_add False\n",
            "76 block4a_expand_conv False\n",
            "77 block4a_expand_bn False\n",
            "78 block4a_expand_activation False\n",
            "79 block4a_dwconv_pad False\n",
            "80 block4a_dwconv False\n",
            "81 block4a_bn False\n",
            "82 block4a_activation False\n",
            "83 block4a_se_squeeze False\n",
            "84 block4a_se_reshape False\n",
            "85 block4a_se_reduce False\n",
            "86 block4a_se_expand False\n",
            "87 block4a_se_excite False\n",
            "88 block4a_project_conv False\n",
            "89 block4a_project_bn False\n",
            "90 block4b_expand_conv False\n",
            "91 block4b_expand_bn False\n",
            "92 block4b_expand_activation False\n",
            "93 block4b_dwconv False\n",
            "94 block4b_bn False\n",
            "95 block4b_activation False\n",
            "96 block4b_se_squeeze False\n",
            "97 block4b_se_reshape False\n",
            "98 block4b_se_reduce False\n",
            "99 block4b_se_expand False\n",
            "100 block4b_se_excite False\n",
            "101 block4b_project_conv False\n",
            "102 block4b_project_bn False\n",
            "103 block4b_drop False\n",
            "104 block4b_add False\n",
            "105 block4c_expand_conv False\n",
            "106 block4c_expand_bn False\n",
            "107 block4c_expand_activation False\n",
            "108 block4c_dwconv False\n",
            "109 block4c_bn False\n",
            "110 block4c_activation False\n",
            "111 block4c_se_squeeze False\n",
            "112 block4c_se_reshape False\n",
            "113 block4c_se_reduce False\n",
            "114 block4c_se_expand False\n",
            "115 block4c_se_excite False\n",
            "116 block4c_project_conv False\n",
            "117 block4c_project_bn False\n",
            "118 block4c_drop False\n",
            "119 block4c_add False\n",
            "120 block5a_expand_conv False\n",
            "121 block5a_expand_bn False\n",
            "122 block5a_expand_activation False\n",
            "123 block5a_dwconv False\n",
            "124 block5a_bn False\n",
            "125 block5a_activation False\n",
            "126 block5a_se_squeeze False\n",
            "127 block5a_se_reshape False\n",
            "128 block5a_se_reduce False\n",
            "129 block5a_se_expand False\n",
            "130 block5a_se_excite False\n",
            "131 block5a_project_conv False\n",
            "132 block5a_project_bn False\n",
            "133 block5b_expand_conv False\n",
            "134 block5b_expand_bn False\n",
            "135 block5b_expand_activation False\n",
            "136 block5b_dwconv False\n",
            "137 block5b_bn False\n",
            "138 block5b_activation False\n",
            "139 block5b_se_squeeze False\n",
            "140 block5b_se_reshape False\n",
            "141 block5b_se_reduce False\n",
            "142 block5b_se_expand False\n",
            "143 block5b_se_excite False\n",
            "144 block5b_project_conv False\n",
            "145 block5b_project_bn False\n",
            "146 block5b_drop False\n",
            "147 block5b_add False\n",
            "148 block5c_expand_conv False\n",
            "149 block5c_expand_bn False\n",
            "150 block5c_expand_activation False\n",
            "151 block5c_dwconv False\n",
            "152 block5c_bn False\n",
            "153 block5c_activation False\n",
            "154 block5c_se_squeeze False\n",
            "155 block5c_se_reshape False\n",
            "156 block5c_se_reduce False\n",
            "157 block5c_se_expand False\n",
            "158 block5c_se_excite False\n",
            "159 block5c_project_conv False\n",
            "160 block5c_project_bn False\n",
            "161 block5c_drop False\n",
            "162 block5c_add False\n",
            "163 block6a_expand_conv False\n",
            "164 block6a_expand_bn False\n",
            "165 block6a_expand_activation False\n",
            "166 block6a_dwconv_pad False\n",
            "167 block6a_dwconv False\n",
            "168 block6a_bn False\n",
            "169 block6a_activation False\n",
            "170 block6a_se_squeeze False\n",
            "171 block6a_se_reshape False\n",
            "172 block6a_se_reduce False\n",
            "173 block6a_se_expand False\n",
            "174 block6a_se_excite False\n",
            "175 block6a_project_conv False\n",
            "176 block6a_project_bn False\n",
            "177 block6b_expand_conv False\n",
            "178 block6b_expand_bn False\n",
            "179 block6b_expand_activation False\n",
            "180 block6b_dwconv False\n",
            "181 block6b_bn False\n",
            "182 block6b_activation False\n",
            "183 block6b_se_squeeze False\n",
            "184 block6b_se_reshape False\n",
            "185 block6b_se_reduce False\n",
            "186 block6b_se_expand False\n",
            "187 block6b_se_excite False\n",
            "188 block6b_project_conv False\n",
            "189 block6b_project_bn False\n",
            "190 block6b_drop False\n",
            "191 block6b_add False\n",
            "192 block6c_expand_conv False\n",
            "193 block6c_expand_bn False\n",
            "194 block6c_expand_activation False\n",
            "195 block6c_dwconv False\n",
            "196 block6c_bn False\n",
            "197 block6c_activation False\n",
            "198 block6c_se_squeeze False\n",
            "199 block6c_se_reshape False\n",
            "200 block6c_se_reduce False\n",
            "201 block6c_se_expand False\n",
            "202 block6c_se_excite False\n",
            "203 block6c_project_conv False\n",
            "204 block6c_project_bn False\n",
            "205 block6c_drop False\n",
            "206 block6c_add False\n",
            "207 block6d_expand_conv False\n",
            "208 block6d_expand_bn False\n",
            "209 block6d_expand_activation False\n",
            "210 block6d_dwconv False\n",
            "211 block6d_bn False\n",
            "212 block6d_activation False\n",
            "213 block6d_se_squeeze False\n",
            "214 block6d_se_reshape False\n",
            "215 block6d_se_reduce False\n",
            "216 block6d_se_expand False\n",
            "217 block6d_se_excite False\n",
            "218 block6d_project_conv True\n",
            "219 block6d_project_bn True\n",
            "220 block6d_drop True\n",
            "221 block6d_add True\n",
            "222 block7a_expand_conv True\n",
            "223 block7a_expand_bn True\n",
            "224 block7a_expand_activation True\n",
            "225 block7a_dwconv True\n",
            "226 block7a_bn True\n",
            "227 block7a_activation True\n",
            "228 block7a_se_squeeze True\n",
            "229 block7a_se_reshape True\n",
            "230 block7a_se_reduce True\n",
            "231 block7a_se_expand True\n",
            "232 block7a_se_excite True\n",
            "233 block7a_project_conv True\n",
            "234 block7a_project_bn True\n",
            "235 top_conv True\n",
            "236 top_bn True\n",
            "237 top_activation True\n"
          ]
        }
      ]
    },
    {
      "cell_type": "markdown",
      "source": [
        "### Fine tune the model"
      ],
      "metadata": {
        "id": "dGz2LQbZbzWv"
      }
    },
    {
      "cell_type": "code",
      "source": [
        "# Recompile the model with lower learning rate (good practice for fine-tuning)\n",
        "model_0.compile(loss=tf.keras.losses.CategoricalCrossentropy(),\n",
        "                optimizer=tf.keras.optimizers.Adam(learning_rate=0.0001),\n",
        "                metrics=['accuracy'])"
      ],
      "metadata": {
        "id": "4ot7E8xko_7g"
      },
      "execution_count": 146,
      "outputs": []
    },
    {
      "cell_type": "code",
      "source": [
        "# Sanity check for unfrozen layers\n",
        "len(model_0.trainable_variables)"
      ],
      "metadata": {
        "colab": {
          "base_uri": "https://localhost:8080/"
        },
        "id": "e1HfPsh5pWlS",
        "outputId": "ea753af7-365e-42e3-d4b2-676bbaf5bd45"
      },
      "execution_count": 147,
      "outputs": [
        {
          "output_type": "execute_result",
          "data": {
            "text/plain": [
              "21"
            ]
          },
          "metadata": {},
          "execution_count": 147
        }
      ]
    },
    {
      "cell_type": "code",
      "source": [
        "# As per exercise - fine-tuning is required for additional 10 epochs\n",
        "fine_tune_epochs = initial_epochs + 10\n",
        "\n",
        "# Fine-tuning the model\n",
        "history_0_fine_1 = model_0.fit(train_data,\n",
        "                               epochs=fine_tune_epochs,\n",
        "                               steps_per_epoch=len(train_data),\n",
        "                               validation_data=test_data,\n",
        "                               validation_steps=int(0.1*len(test_data)),\n",
        "                               initial_epoch=history_0.epoch[-1],\n",
        "                               callbacks=model_checkpoint)"
      ],
      "metadata": {
        "colab": {
          "base_uri": "https://localhost:8080/"
        },
        "id": "EftiYsYrpixw",
        "outputId": "05008415-6647-4d8d-fff7-985b48b1a115"
      },
      "execution_count": 150,
      "outputs": [
        {
          "output_type": "stream",
          "name": "stdout",
          "text": [
            "Epoch 10/20\n",
            "23/24 [===========================>..] - ETA: 0s - loss: 0.7607 - accuracy: 0.8247\n",
            "Epoch 10: val_loss improved from 0.46666 to 0.46153, saving model to checkpoints/model_ckpt.ckpt\n",
            "24/24 [==============================] - 15s 214ms/step - loss: 0.7610 - accuracy: 0.8253 - val_loss: 0.4615 - val_accuracy: 0.8482\n",
            "Epoch 11/20\n",
            "23/24 [===========================>..] - ETA: 0s - loss: 0.4901 - accuracy: 0.9117\n",
            "Epoch 11: val_loss improved from 0.46153 to 0.40515, saving model to checkpoints/model_ckpt.ckpt\n",
            "24/24 [==============================] - 3s 109ms/step - loss: 0.4874 - accuracy: 0.9133 - val_loss: 0.4052 - val_accuracy: 0.8795\n",
            "Epoch 12/20\n",
            "23/24 [===========================>..] - ETA: 0s - loss: 0.3408 - accuracy: 0.9497\n",
            "Epoch 12: val_loss did not improve from 0.40515\n",
            "24/24 [==============================] - 3s 92ms/step - loss: 0.3384 - accuracy: 0.9507 - val_loss: 0.4382 - val_accuracy: 0.8661\n",
            "Epoch 13/20\n",
            "23/24 [===========================>..] - ETA: 0s - loss: 0.2852 - accuracy: 0.9633\n",
            "Epoch 13: val_loss improved from 0.40515 to 0.37496, saving model to checkpoints/model_ckpt.ckpt\n",
            "24/24 [==============================] - 3s 108ms/step - loss: 0.2864 - accuracy: 0.9640 - val_loss: 0.3750 - val_accuracy: 0.8884\n",
            "Epoch 14/20\n",
            "24/24 [==============================] - ETA: 0s - loss: 0.2326 - accuracy: 0.9693\n",
            "Epoch 14: val_loss did not improve from 0.37496\n",
            "24/24 [==============================] - 4s 172ms/step - loss: 0.2326 - accuracy: 0.9693 - val_loss: 0.4599 - val_accuracy: 0.8348\n",
            "Epoch 15/20\n",
            "24/24 [==============================] - ETA: 0s - loss: 0.2022 - accuracy: 0.9747\n",
            "Epoch 15: val_loss did not improve from 0.37496\n",
            "24/24 [==============================] - 3s 110ms/step - loss: 0.2022 - accuracy: 0.9747 - val_loss: 0.4098 - val_accuracy: 0.8750\n",
            "Epoch 16/20\n",
            "23/24 [===========================>..] - ETA: 0s - loss: 0.1451 - accuracy: 0.9878\n",
            "Epoch 16: val_loss did not improve from 0.37496\n",
            "24/24 [==============================] - 3s 109ms/step - loss: 0.1497 - accuracy: 0.9867 - val_loss: 0.4469 - val_accuracy: 0.8527\n",
            "Epoch 17/20\n",
            "23/24 [===========================>..] - ETA: 0s - loss: 0.1348 - accuracy: 0.9891\n",
            "Epoch 17: val_loss did not improve from 0.37496\n",
            "24/24 [==============================] - 3s 109ms/step - loss: 0.1346 - accuracy: 0.9893 - val_loss: 0.4068 - val_accuracy: 0.8527\n",
            "Epoch 18/20\n",
            "24/24 [==============================] - ETA: 0s - loss: 0.1222 - accuracy: 0.9880\n",
            "Epoch 18: val_loss did not improve from 0.37496\n",
            "24/24 [==============================] - 3s 127ms/step - loss: 0.1222 - accuracy: 0.9880 - val_loss: 0.4068 - val_accuracy: 0.8393\n",
            "Epoch 19/20\n",
            "23/24 [===========================>..] - ETA: 0s - loss: 0.0874 - accuracy: 0.9959\n",
            "Epoch 19: val_loss improved from 0.37496 to 0.34279, saving model to checkpoints/model_ckpt.ckpt\n",
            "24/24 [==============================] - 3s 129ms/step - loss: 0.0876 - accuracy: 0.9960 - val_loss: 0.3428 - val_accuracy: 0.8973\n",
            "Epoch 20/20\n",
            "23/24 [===========================>..] - ETA: 0s - loss: 0.0854 - accuracy: 0.9946\n",
            "Epoch 20: val_loss did not improve from 0.34279\n",
            "24/24 [==============================] - 3s 92ms/step - loss: 0.0864 - accuracy: 0.9947 - val_loss: 0.3952 - val_accuracy: 0.8661\n"
          ]
        }
      ]
    },
    {
      "cell_type": "markdown",
      "source": [
        "Looks alike model is quite heavily overfitted, but the plots should make it a much clearer picture."
      ],
      "metadata": {
        "id": "1XJqpJFjtxUm"
      }
    },
    {
      "cell_type": "code",
      "source": [
        "from helper_functions import compare_historys\n",
        "compare_historys(history_0,\n",
        "                 history_0_fine_1,\n",
        "                 initial_epochs=10)"
      ],
      "metadata": {
        "colab": {
          "base_uri": "https://localhost:8080/",
          "height": 717
        },
        "id": "YApHp2wGssXx",
        "outputId": "fae63c79-161b-451f-d654-ab79a831f369"
      },
      "execution_count": 124,
      "outputs": [
        {
          "output_type": "display_data",
          "data": {
            "text/plain": [
              "<Figure size 800x800 with 2 Axes>"
            ],
            "image/png": "[encoded data removed]"
          },
          "metadata": {}
        }
      ]
    },
    {
      "cell_type": "markdown",
      "source": [
        "I suppose it easy to spot that validation loss and training loss are starting to move from each other the longer the fine-tuning is performed. The sweet spot is probably somewhere between 12 and 13 epochs (so 2-3 epochs of fine-tuning)."
      ],
      "metadata": {
        "id": "N8f7H8_IuipX"
      }
    },
    {
      "cell_type": "markdown",
      "source": [
        "## Fine-tune the last 30 layers of the base model you've trained in previous exercise for another 10 epochs. How did it go this time?"
      ],
      "metadata": {
        "id": "2MgSmQ6fu8Us"
      }
    },
    {
      "cell_type": "markdown",
      "source": [
        "### Prepare the architecture"
      ],
      "metadata": {
        "id": "T7N0v6q3c4DC"
      }
    },
    {
      "cell_type": "code",
      "source": [
        "# Check the summary again\n",
        "model_0.summary()"
      ],
      "metadata": {
        "colab": {
          "base_uri": "https://localhost:8080/"
        },
        "id": "Dk2bGdwHuEXP",
        "outputId": "0cbe08cb-6cd5-4b32-c704-f7689f08be97"
      },
      "execution_count": 151,
      "outputs": [
        {
          "output_type": "stream",
          "name": "stdout",
          "text": [
            "Model: \"model_5\"\n",
            "_________________________________________________________________\n",
            " Layer (type)                Output Shape              Param #   \n",
            "=================================================================\n",
            " input_layer (InputLayer)    [(None, 224, 224, 3)]     0         \n",
            "                                                                 \n",
            " efficientnetb0 (Functional  (None, None, None, 1280   4049571   \n",
            " )                           )                                   \n",
            "                                                                 \n",
            " global_average_pooling_2d   (None, 1280)              0         \n",
            " (GlobalAveragePooling2D)                                        \n",
            "                                                                 \n",
            " output_layer (Dense)        (None, 10)                12810     \n",
            "                                                                 \n",
            "=================================================================\n",
            "Total params: 4062381 (15.50 MB)\n",
            "Trainable params: 1363770 (5.20 MB)\n",
            "Non-trainable params: 2698611 (10.29 MB)\n",
            "_________________________________________________________________\n"
          ]
        }
      ]
    },
    {
      "cell_type": "code",
      "source": [
        "# Check further\n",
        "len(model_0.layers[1].trainable_variables)"
      ],
      "metadata": {
        "colab": {
          "base_uri": "https://localhost:8080/"
        },
        "id": "ytoRUd5qW4PH",
        "outputId": "b03e0250-e8c8-4215-cca9-7ae2c66c0467"
      },
      "execution_count": 152,
      "outputs": [
        {
          "output_type": "execute_result",
          "data": {
            "text/plain": [
              "19"
            ]
          },
          "metadata": {},
          "execution_count": 152
        }
      ]
    },
    {
      "cell_type": "code",
      "source": [
        "# Unfreeze all of the layers is base model\n",
        "base_model.trainable = True"
      ],
      "metadata": {
        "id": "nWAM0DqnXBo2"
      },
      "execution_count": 153,
      "outputs": []
    },
    {
      "cell_type": "code",
      "source": [
        "# Freeze anything but last 30 layers\n",
        "for layer in base_model.layers[:-30]:\n",
        "  layer.trainable = False"
      ],
      "metadata": {
        "id": "b1YCal7nb4B6"
      },
      "execution_count": 154,
      "outputs": []
    },
    {
      "cell_type": "code",
      "source": [
        "# Check for if the freeze is performed properly\n",
        "for i, layer in enumerate(base_model.layers):\n",
        "  print(i, layer.name, layer.trainable)"
      ],
      "metadata": {
        "id": "LWA26-QWcEIj"
      },
      "execution_count": null,
      "outputs": []
    },
    {
      "cell_type": "code",
      "source": [
        "# Sanity check\n",
        "len(base_model.trainable_variables)"
      ],
      "metadata": {
        "colab": {
          "base_uri": "https://localhost:8080/"
        },
        "id": "ljcpu4y7cPqj",
        "outputId": "2662ecf1-abb8-4b35-9181-60876755e5cc"
      },
      "execution_count": 156,
      "outputs": [
        {
          "output_type": "execute_result",
          "data": {
            "text/plain": [
              "28"
            ]
          },
          "metadata": {},
          "execution_count": 156
        }
      ]
    },
    {
      "cell_type": "code",
      "source": [
        "# Recompile the model yet again with even lower learning rate\n",
        "model_0.compile(loss=tf.keras.losses.CategoricalCrossentropy(),\n",
        "                optimizer=tf.keras.optimizers.Adam(learning_rate=0.00001),\n",
        "                metrics=['accuracy'])"
      ],
      "metadata": {
        "id": "X4W_USzWcU6-"
      },
      "execution_count": 157,
      "outputs": []
    },
    {
      "cell_type": "code",
      "source": [
        "len(model_0.trainable_variables)"
      ],
      "metadata": {
        "colab": {
          "base_uri": "https://localhost:8080/"
        },
        "id": "9ljYiNgMcvY7",
        "outputId": "0970def0-6f9b-4b84-cfd7-3473f9a132bc"
      },
      "execution_count": 158,
      "outputs": [
        {
          "output_type": "execute_result",
          "data": {
            "text/plain": [
              "30"
            ]
          },
          "metadata": {},
          "execution_count": 158
        }
      ]
    },
    {
      "cell_type": "markdown",
      "source": [
        "### Prepare the model and tune it (again)"
      ],
      "metadata": {
        "id": "QYtCZKFRc60s"
      }
    },
    {
      "cell_type": "code",
      "source": [
        "fine_tune_epochs_2 = fine_tune_epochs + 10\n",
        "\n",
        "# Fine tune the model\n",
        "history_0_fine_2 = model_0.fit(train_data,\n",
        "                               epochs=fine_tune_epochs_2,\n",
        "                               steps_per_epoch=len(train_data),\n",
        "                               initial_epoch=history_0_fine_1.epoch[-1],\n",
        "                               validation_data=test_data,\n",
        "                               validation_steps=int(0.1*len(test_data)),\n",
        "                               callbacks=model_checkpoint)"
      ],
      "metadata": {
        "colab": {
          "base_uri": "https://localhost:8080/"
        },
        "id": "RTchn7hdcxm1",
        "outputId": "5f5866d1-2a76-436a-c708-63e7a0922bca"
      },
      "execution_count": 160,
      "outputs": [
        {
          "output_type": "stream",
          "name": "stdout",
          "text": [
            "Epoch 20/30\n",
            "23/24 [===========================>..] - ETA: 0s - loss: 0.0980 - accuracy: 0.9932\n",
            "Epoch 20: val_loss did not improve from 0.34279\n",
            "24/24 [==============================] - 17s 173ms/step - loss: 0.0982 - accuracy: 0.9933 - val_loss: 0.3746 - val_accuracy: 0.8705\n",
            "Epoch 21/30\n",
            "23/24 [===========================>..] - ETA: 0s - loss: 0.0922 - accuracy: 0.9973\n",
            "Epoch 21: val_loss did not improve from 0.34279\n",
            "24/24 [==============================] - 3s 111ms/step - loss: 0.0929 - accuracy: 0.9973 - val_loss: 0.4143 - val_accuracy: 0.8705\n",
            "Epoch 22/30\n",
            "23/24 [===========================>..] - ETA: 0s - loss: 0.0917 - accuracy: 0.9918\n",
            "Epoch 22: val_loss did not improve from 0.34279\n",
            "24/24 [==============================] - 3s 110ms/step - loss: 0.0924 - accuracy: 0.9920 - val_loss: 0.3558 - val_accuracy: 0.8795\n",
            "Epoch 23/30\n",
            "23/24 [===========================>..] - ETA: 0s - loss: 0.0820 - accuracy: 0.9959\n",
            "Epoch 23: val_loss did not improve from 0.34279\n",
            "24/24 [==============================] - 3s 109ms/step - loss: 0.0840 - accuracy: 0.9947 - val_loss: 0.4119 - val_accuracy: 0.8705\n",
            "Epoch 24/30\n",
            "23/24 [===========================>..] - ETA: 0s - loss: 0.0917 - accuracy: 0.9973\n",
            "Epoch 24: val_loss improved from 0.34279 to 0.33754, saving model to checkpoints/model_ckpt.ckpt\n",
            "24/24 [==============================] - 5s 186ms/step - loss: 0.0917 - accuracy: 0.9973 - val_loss: 0.3375 - val_accuracy: 0.8929\n",
            "Epoch 25/30\n",
            "23/24 [===========================>..] - ETA: 0s - loss: 0.0942 - accuracy: 0.9946\n",
            "Epoch 25: val_loss did not improve from 0.33754\n",
            "24/24 [==============================] - 3s 110ms/step - loss: 0.1001 - accuracy: 0.9920 - val_loss: 0.3817 - val_accuracy: 0.8795\n",
            "Epoch 26/30\n",
            "23/24 [===========================>..] - ETA: 0s - loss: 0.0712 - accuracy: 0.9986\n",
            "Epoch 26: val_loss did not improve from 0.33754\n",
            "24/24 [==============================] - 4s 146ms/step - loss: 0.0721 - accuracy: 0.9987 - val_loss: 0.4483 - val_accuracy: 0.8571\n",
            "Epoch 27/30\n",
            "23/24 [===========================>..] - ETA: 0s - loss: 0.0836 - accuracy: 0.9932\n",
            "Epoch 27: val_loss improved from 0.33754 to 0.33043, saving model to checkpoints/model_ckpt.ckpt\n",
            "24/24 [==============================] - 5s 199ms/step - loss: 0.0839 - accuracy: 0.9933 - val_loss: 0.3304 - val_accuracy: 0.9018\n",
            "Epoch 28/30\n",
            "24/24 [==============================] - ETA: 0s - loss: 0.0766 - accuracy: 0.9947\n",
            "Epoch 28: val_loss did not improve from 0.33043\n",
            "24/24 [==============================] - 2s 89ms/step - loss: 0.0766 - accuracy: 0.9947 - val_loss: 0.3625 - val_accuracy: 0.8884\n",
            "Epoch 29/30\n",
            "23/24 [===========================>..] - ETA: 0s - loss: 0.0706 - accuracy: 0.9973\n",
            "Epoch 29: val_loss did not improve from 0.33043\n",
            "24/24 [==============================] - 3s 92ms/step - loss: 0.0714 - accuracy: 0.9973 - val_loss: 0.3816 - val_accuracy: 0.8750\n",
            "Epoch 30/30\n",
            "23/24 [===========================>..] - ETA: 0s - loss: 0.0731 - accuracy: 0.9946\n",
            "Epoch 30: val_loss did not improve from 0.33043\n",
            "24/24 [==============================] - 2s 86ms/step - loss: 0.0728 - accuracy: 0.9947 - val_loss: 0.3855 - val_accuracy: 0.8795\n"
          ]
        }
      ]
    },
    {
      "cell_type": "code",
      "source": [
        "# Compare the results\n",
        "compare_historys(history_0_fine_1,\n",
        "                 history_0_fine_2,\n",
        "                 initial_epochs=fine_tune_epochs)"
      ],
      "metadata": {
        "colab": {
          "base_uri": "https://localhost:8080/",
          "height": 717
        },
        "id": "pQERFG9vdrJr",
        "outputId": "5f46b24f-95ff-4e52-9b9e-b7d29b05cd32"
      },
      "execution_count": 161,
      "outputs": [
        {
          "output_type": "display_data",
          "data": {
            "text/plain": [
              "<Figure size 800x800 with 2 Axes>"
            ],
            "image/png": "[encoded data removed]"
          },
          "metadata": {}
        }
      ]
    },
    {
      "cell_type": "code",
      "source": [
        "# Load the best weights\n",
        "model_0.load_weights(ckpt_path)"
      ],
      "metadata": {
        "colab": {
          "base_uri": "https://localhost:8080/"
        },
        "id": "lx5nJXa8eaiW",
        "outputId": "87829c40-add0-44ba-a58c-8d8682677229"
      },
      "execution_count": 163,
      "outputs": [
        {
          "output_type": "execute_result",
          "data": {
            "text/plain": [
              "<tensorflow.python.checkpoint.checkpoint.CheckpointLoadStatus at 0x7e394c225150>"
            ]
          },
          "metadata": {},
          "execution_count": 163
        }
      ]
    },
    {
      "cell_type": "code",
      "source": [
        "# Evaluate the model on it's best performing weights\n",
        "model_0.evaluate(test_data)"
      ],
      "metadata": {
        "colab": {
          "base_uri": "https://localhost:8080/"
        },
        "id": "99Fmwg5Xe3KE",
        "outputId": "4e6b0d11-2c1c-4caa-fcf1-ecddb5dd0fe1"
      },
      "execution_count": 164,
      "outputs": [
        {
          "output_type": "stream",
          "name": "stdout",
          "text": [
            "79/79 [==============================] - 5s 60ms/step - loss: 0.3633 - accuracy: 0.8856\n"
          ]
        },
        {
          "output_type": "execute_result",
          "data": {
            "text/plain": [
              "[0.36325061321258545, 0.8855999708175659]"
            ]
          },
          "metadata": {},
          "execution_count": 164
        }
      ]
    },
    {
      "cell_type": "markdown",
      "source": [
        "Although the performance in pure accuracy did not increase lot, the validation loss is the metric we've managed to reduce (from 0.443 to 0.363).\n",
        "\n",
        "What was also very visible is model overfitting on the data a bit. There may be various reasons of this:\n",
        "- too little data (can download the bigger dataset)\n",
        "- too repetitive pictures (data augmentation could help)\n",
        "- wrong number of layers being unfrozen/fine-tuned\n",
        "\n",
        "All this could possibly lead to even better results."
      ],
      "metadata": {
        "id": "hAEBrbp_fIV6"
      }
    }
  ]
}