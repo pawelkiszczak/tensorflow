{
  "cells": [
    {
      "cell_type": "markdown",
      "metadata": {
        "id": "07e1yv8klife"
      },
      "source": [
        "## Milestone Project 1: Food Vision Big"
      ]
    },
    {
      "cell_type": "markdown",
      "metadata": {
        "id": "JAZFVfYqmadS"
      },
      "source": [
        "## Check GPU\n",
        "\n",
        "Google Colab offers free GPUs! However, not all of the are compatibile with mixed precision training. \n",
        "\n",
        "Colab offers:\n",
        "* K80 (not compatible)\n",
        "* P100 (not compatibile)\n",
        "* T4 (compatibile)\n",
        "\n",
        "Knowing this, in order to use mixed precision training we need acccess to a Tesla T4 unit. If you're using your own hardware, it needs the score of +7.0 from NVidia site."
      ]
    },
    {
      "cell_type": "code",
      "execution_count": 1,
      "metadata": {
        "colab": {
          "base_uri": "https://localhost:8080/"
        },
        "id": "6QRHTuR7m4V8",
        "outputId": "ca84a8e5-f67e-4ee1-dde8-f0a5bb3a3c99"
      },
      "outputs": [
        {
          "output_type": "stream",
          "name": "stdout",
          "text": [
            "GPU 0: Tesla T4 (UUID: GPU-11d61643-2903-23bf-ece2-3838be7c8b08)\n"
          ]
        }
      ],
      "source": [
        "!nvidia-smi -L"
      ]
    },
    {
      "cell_type": "markdown",
      "metadata": {
        "id": "STyxM4z_m5jk"
      },
      "source": [
        "## Get helper functions\n",
        "\n",
        "A pack of functions from earlier notebooks:\n",
        "https://raw.githubusercontent.com/mrdbourke/tensorflow-deep-learning/main/extras/helper_functions.py"
      ]
    },
    {
      "cell_type": "code",
      "execution_count": 2,
      "metadata": {
        "colab": {
          "base_uri": "https://localhost:8080/"
        },
        "id": "i-IUralEpYXH",
        "outputId": "da08a89d-a416-4a58-81e8-4db13ef109a6"
      },
      "outputs": [
        {
          "output_type": "stream",
          "name": "stdout",
          "text": [
            "--2023-03-06 18:23:08--  https://raw.githubusercontent.com/mrdbourke/tensorflow-deep-learning/main/extras/helper_functions.py\n",
            "Resolving raw.githubusercontent.com (raw.githubusercontent.com)... 185.199.108.133, 185.199.109.133, 185.199.110.133, ...\n",
            "Connecting to raw.githubusercontent.com (raw.githubusercontent.com)|185.199.108.133|:443... connected.\n",
            "HTTP request sent, awaiting response... 200 OK\n",
            "Length: 10246 (10K) [text/plain]\n",
            "Saving to: ‘helper_functions.py’\n",
            "\n",
            "helper_functions.py 100%[===================>]  10.01K  --.-KB/s    in 0s      \n",
            "\n",
            "2023-03-06 18:23:09 (79.4 MB/s) - ‘helper_functions.py’ saved [10246/10246]\n",
            "\n"
          ]
        }
      ],
      "source": [
        "# Download .py file\n",
        "!wget https://raw.githubusercontent.com/mrdbourke/tensorflow-deep-learning/main/extras/helper_functions.py"
      ]
    },
    {
      "cell_type": "code",
      "execution_count": 3,
      "metadata": {
        "id": "FBUEskUjpiuc"
      },
      "outputs": [],
      "source": [
        "# Import series of functions\n",
        "from helper_functions import create_tensorboard_callback, plot_loss_curves, compare_historys"
      ]
    },
    {
      "cell_type": "markdown",
      "metadata": {
        "id": "-jyca5ow-PoD"
      },
      "source": []
    },
    {
      "cell_type": "markdown",
      "metadata": {
        "id": "ZLbojDZTp83O"
      },
      "source": [
        "## Use TensorFlow Datasets to download data\n",
        "\n",
        "An overview of TFDS: \n",
        "https://www.tensorflow.org/datasets/overview?hl=en"
      ]
    },
    {
      "cell_type": "code",
      "execution_count": 4,
      "metadata": {
        "id": "q-JHm-_mqW53"
      },
      "outputs": [],
      "source": [
        "# Get TensorFlow Datasets\n",
        "import tensorflow_datasets as tfds"
      ]
    },
    {
      "cell_type": "code",
      "execution_count": 5,
      "metadata": {
        "colab": {
          "base_uri": "https://localhost:8080/"
        },
        "id": "tv8AAw25tUUz",
        "outputId": "9b0900e6-2821-4799-c598-0fb5be46b706"
      },
      "outputs": [
        {
          "output_type": "stream",
          "name": "stdout",
          "text": [
            "True\n"
          ]
        }
      ],
      "source": [
        "# List all avaliable datasets\n",
        "datasets_list = tfds.list_builders() # get all avaliable datasets\n",
        "print('food101' in datasets_list) # is our dataset there?"
      ]
    },
    {
      "cell_type": "code",
      "execution_count": 6,
      "metadata": {
        "colab": {
          "base_uri": "https://localhost:8080/",
          "height": 145,
          "referenced_widgets": [
            "3b14533c73ff4e1a9a124b9e4808e193",
            "bf538597fb2e40649c62cee7b33a6d6b",
            "fcb8a444c0b94925a3dc9b0efbec0cd9",
            "d52d27fb30394cecbbdec4c8425dd205",
            "2610d7dff7c9469dba94517810fa3dc1",
            "0520c7caa6f04ae39ecc045bff4b6ddc",
            "fb2e76bfce41478a9fbacbc33660c99b",
            "ac2a66bc15aa4ce49d149443e9ba35e1",
            "4b327216b5c94a8c9ccc61034cdc0f8e",
            "fc785e3507d24415ba047976d5286d9f",
            "6098cddbb44f48b18c4e1f32ca4bd758",
            "00003077b10c4387a7765a2c255c5c46",
            "0589f739e2bb4c989b4caa7c1e889c05",
            "de6a6bc26b584c0e83821f2acd11da27",
            "c081d34f469e47d7b0e0334793420fbd",
            "e78724a635f54b99a9a047d7a53b0c7b",
            "fff8b6fe3bdd440aa8b212a33cf9d634",
            "d05b0b139998426ebea3ce8782e95d65",
            "ab361f8f94174b2b82299305e3f91e56",
            "7fe55c1ebc7a476082f2952ca006da2c",
            "8ec964a45893428aa7e900e526397938",
            "c92e5c2baa504f24bf8d050d148cba00",
            "a86db37ff5e1495d8541f971b182d915",
            "d86bc9405a444dcca07f0d8a9b450fb4",
            "e42b4c94bed843a8a95a888f313d4ec1",
            "d2c3797b19704421ae593716670ce110",
            "4d1756247c014104920f5118996b522d",
            "3fcb881e8b264df5a43d96e5007b7030",
            "f523277cc5d743c7ae0adcdaa5995ece",
            "ee495f462ae844ff8885f79bd8b37b04",
            "c327bfc92aeb47d4921307d83a32122c",
            "1ed5fa9f2c42404c952d59ebd2b9bbb4",
            "e9041dba45354b8fb9398be834cdc550",
            "8b8129d14774483088653866a08d4b67",
            "bc23e4605bb045b4aa83fe676474c6a2",
            "900725e2a0b141798cdbb232eb9ba17a",
            "1cec9bd6a20a443c9f0d4ba868f634cc",
            "0fa2f6b7df1a44c9bd49de99ca9d90a0",
            "7e3abc89dcf7471db899861d1abdcf9e",
            "a6bae7143e11436291c8f45d350b777c",
            "0c4d98b1e6674f3cb0d01b115635352b",
            "b494635e8c064c57873500d66a880cb4",
            "3c62dfb8cffe476c87aaf394ae1ba727",
            "0dd0491eeadf4d68bf0146c12ff1a3fe",
            "75c769d451f64a96858d9daf224fc89c",
            "618d2c4c2074430f9e6c93a51aaeb7f0",
            "19f8d0576bc34d20a888682a8e8b6d38",
            "dd447c90be85457fafbcf08a8cb67c66",
            "2239a07193c14c399521722a544346c0",
            "fc49ef3406544a9fbcafbae03dfe0840",
            "4b2b94e2334a40caa9a449e06b3c8eb2",
            "b8c1e0cd9b444ef39bf163e64b944bd5",
            "3fb16662e91b42c7b00475ab4ac5b8f1",
            "9a360a4edbbe44198f71b90b8c8fb186",
            "fb3bf3e738074e3295be6198636753c3",
            "c5e4ea2bb1bf4a16802184c131c1a20b",
            "e929a62917cf47f1b26cb0abced956a2",
            "8eb6288f7d704cdcb6021ac941bd55e4",
            "87d43f020928492bab8a7a8c53c10fc2",
            "a2a8adab46ac4a4d8c9324842fbe4f5a",
            "18863011cc0141679545511bf867fbeb",
            "0c090574b2b2419a9a3b04fb10c493c0",
            "9e1720fe43414621bc748e15d90efa9c",
            "dd0716bdef724c27afe7e0456a60ae22",
            "796915330e544140b55f7309c84c8b8e",
            "2313e764b52b480b9aa23478fde3b7ab",
            "cfd03f5f318145788be85974dd478d15",
            "fb9c4c0447ef43a9bed6b4a9faef34ab",
            "db77b7504b6a4bf4bc3f0a3425619c0a",
            "2a4cbb33d5f6420caa79636606a1e4c4",
            "b4742e72cc6b448e8f1ada29c3988434",
            "9665074550d9433193e310c4bf12a440",
            "4c76d900dcab468d8dd33f30eb316876",
            "1d5739083ccd49138157a341de1d7df0",
            "afc94b4e9ce54976ad08063c144a72d2",
            "aa74f241da4344c8b43f5c1d5ac1e519",
            "a15d2833de8c4c2b897179430173d720",
            "c37c1efa62f647c09222411cfedbe381",
            "a8c918b6e2a44b7eafc7c92596040af1",
            "2593f6b99b8248939d6c252dcac42bdd",
            "1c0198e0f4fe4d4f95076e43342bd4f2",
            "b60aa95db7a14afab1d399880fe64fd7",
            "63eeef290aae479285b1586c0a70944d",
            "a55e6e0adb3844c69bdc60afebff802f",
            "fcec2732d86e467d8a40a7e5db432b6f",
            "f04358978d864e2395fb750ef5ab34d7",
            "67f67ff699914e5a84c77d417c71acc5",
            "722b5fbbcad34790abdc832060702316"
          ]
        },
        "id": "-nqCShmstgug",
        "outputId": "0a12333b-d93f-4ac0-e849-0b200d57a978"
      },
      "outputs": [
        {
          "output_type": "stream",
          "name": "stdout",
          "text": [
            "Downloading and preparing dataset Unknown size (download: Unknown size, generated: Unknown size, total: Unknown size) to /root/tensorflow_datasets/food101/2.0.0...\n"
          ]
        },
        {
          "output_type": "display_data",
          "data": {
            "text/plain": [
              "Dl Completed...: 0 url [00:00, ? url/s]"
            ],
            "application/vnd.jupyter.widget-view+json": {
              "version_major": 2,
              "version_minor": 0,
              "model_id": "3b14533c73ff4e1a9a124b9e4808e193"
            }
          },
          "metadata": {}
        },
        {
          "output_type": "display_data",
          "data": {
            "text/plain": [
              "Dl Size...: 0 MiB [00:00, ? MiB/s]"
            ],
            "application/vnd.jupyter.widget-view+json": {
              "version_major": 2,
              "version_minor": 0,
              "model_id": "00003077b10c4387a7765a2c255c5c46"
            }
          },
          "metadata": {}
        },
        {
          "output_type": "display_data",
          "data": {
            "text/plain": [
              "Extraction completed...: 0 file [00:00, ? file/s]"
            ],
            "application/vnd.jupyter.widget-view+json": {
              "version_major": 2,
              "version_minor": 0,
              "model_id": "a86db37ff5e1495d8541f971b182d915"
            }
          },
          "metadata": {}
        },
        {
          "output_type": "display_data",
          "data": {
            "text/plain": [
              "Generating splits...:   0%|          | 0/2 [00:00<?, ? splits/s]"
            ],
            "application/vnd.jupyter.widget-view+json": {
              "version_major": 2,
              "version_minor": 0,
              "model_id": "8b8129d14774483088653866a08d4b67"
            }
          },
          "metadata": {}
        },
        {
          "output_type": "display_data",
          "data": {
            "text/plain": [
              "Generating train examples...: 0 examples [00:00, ? examples/s]"
            ],
            "application/vnd.jupyter.widget-view+json": {
              "version_major": 2,
              "version_minor": 0,
              "model_id": "75c769d451f64a96858d9daf224fc89c"
            }
          },
          "metadata": {}
        },
        {
          "output_type": "display_data",
          "data": {
            "text/plain": [
              "Shuffling /root/tensorflow_datasets/food101/2.0.0.incompleteFX1E1M/food101-train.tfrecord*...:   0%|          …"
            ],
            "application/vnd.jupyter.widget-view+json": {
              "version_major": 2,
              "version_minor": 0,
              "model_id": "c5e4ea2bb1bf4a16802184c131c1a20b"
            }
          },
          "metadata": {}
        },
        {
          "output_type": "display_data",
          "data": {
            "text/plain": [
              "Generating validation examples...: 0 examples [00:00, ? examples/s]"
            ],
            "application/vnd.jupyter.widget-view+json": {
              "version_major": 2,
              "version_minor": 0,
              "model_id": "cfd03f5f318145788be85974dd478d15"
            }
          },
          "metadata": {}
        },
        {
          "output_type": "display_data",
          "data": {
            "text/plain": [
              "Shuffling /root/tensorflow_datasets/food101/2.0.0.incompleteFX1E1M/food101-validation.tfrecord*...:   0%|     …"
            ],
            "application/vnd.jupyter.widget-view+json": {
              "version_major": 2,
              "version_minor": 0,
              "model_id": "c37c1efa62f647c09222411cfedbe381"
            }
          },
          "metadata": {}
        },
        {
          "output_type": "stream",
          "name": "stdout",
          "text": [
            "Dataset food101 downloaded and prepared to /root/tensorflow_datasets/food101/2.0.0. Subsequent calls will reuse this data.\n"
          ]
        }
      ],
      "source": [
        "# Download the data (approx. 5GB of images), may take 5-6 minutes in Colab\n",
        "(train_data, test_data), ds_info = tfds.load(name='food101',\n",
        "                                             split=['train', 'validation'],\n",
        "                                             shuffle_files=True,\n",
        "                                             as_supervised=True, # data gets returned in tuple (data, label)\n",
        "                                             with_info=True)"
      ]
    },
    {
      "cell_type": "code",
      "execution_count": 7,
      "metadata": {
        "colab": {
          "base_uri": "https://localhost:8080/"
        },
        "id": "8WFnxNQ_uj2R",
        "outputId": "aef12952-1e3f-4d0c-fba8-d4976b3461f6"
      },
      "outputs": [
        {
          "output_type": "execute_result",
          "data": {
            "text/plain": [
              "FeaturesDict({\n",
              "    'image': Image(shape=(None, None, 3), dtype=uint8),\n",
              "    'label': ClassLabel(shape=(), dtype=int64, num_classes=101),\n",
              "})"
            ]
          },
          "metadata": {},
          "execution_count": 7
        }
      ],
      "source": [
        "# Features of Food101 from TFDS\n",
        "ds_info.features"
      ]
    },
    {
      "cell_type": "code",
      "execution_count": 8,
      "metadata": {
        "colab": {
          "base_uri": "https://localhost:8080/"
        },
        "id": "C-mipHsIHFqf",
        "outputId": "49261c81-b9a9-4548-bbf1-e6332d8d8660"
      },
      "outputs": [
        {
          "output_type": "execute_result",
          "data": {
            "text/plain": [
              "['apple_pie',\n",
              " 'baby_back_ribs',\n",
              " 'baklava',\n",
              " 'beef_carpaccio',\n",
              " 'beef_tartare',\n",
              " 'beet_salad',\n",
              " 'beignets',\n",
              " 'bibimbap',\n",
              " 'bread_pudding',\n",
              " 'breakfast_burrito']"
            ]
          },
          "metadata": {},
          "execution_count": 8
        }
      ],
      "source": [
        "# Get the class names\n",
        "class_names = ds_info.features['label'].names\n",
        "class_names[:10]"
      ]
    },
    {
      "cell_type": "markdown",
      "metadata": {
        "id": "hiZvlXH-Hf3S"
      },
      "source": [
        "## Exploring the Food101 data from TensorFlow Datasets\n",
        "\n",
        "To become one with our data we want to find:\n",
        "* class names\n",
        "* shape of input data (image tensors)\n",
        "* the datatype of our input data (are the one-hot encoded or are they label encoded)\n",
        "* do the labels match our class names"
      ]
    },
    {
      "cell_type": "code",
      "execution_count": 9,
      "metadata": {
        "colab": {
          "base_uri": "https://localhost:8080/"
        },
        "id": "KpuEFEdPIQK_",
        "outputId": "3ac88079-ba97-4c09-c917-99e6fdb2dd54"
      },
      "outputs": [
        {
          "output_type": "execute_result",
          "data": {
            "text/plain": [
              "<PrefetchDataset element_spec=(TensorSpec(shape=(None, None, 3), dtype=tf.uint8, name=None), TensorSpec(shape=(), dtype=tf.int64, name=None))>"
            ]
          },
          "metadata": {},
          "execution_count": 9
        }
      ],
      "source": [
        "# Take one sample of the train data\n",
        "train_data"
      ]
    },
    {
      "cell_type": "code",
      "execution_count": 10,
      "metadata": {
        "colab": {
          "base_uri": "https://localhost:8080/"
        },
        "id": "5L_M89oEIXK5",
        "outputId": "efc19de7-a95c-4d0b-9543-3c7449e4cc9a"
      },
      "outputs": [
        {
          "output_type": "execute_result",
          "data": {
            "text/plain": [
              "<TakeDataset element_spec=(TensorSpec(shape=(None, None, 3), dtype=tf.uint8, name=None), TensorSpec(shape=(), dtype=tf.int64, name=None))>"
            ]
          },
          "metadata": {},
          "execution_count": 10
        }
      ],
      "source": [
        "train_one_sample = train_data.take(1) # are in format (image_tensor, label)\n",
        "train_one_sample"
      ]
    },
    {
      "cell_type": "code",
      "execution_count": 11,
      "metadata": {
        "colab": {
          "base_uri": "https://localhost:8080/"
        },
        "id": "_AxrTXwlIcGU",
        "outputId": "eba5cea2-f3c1-458f-ccef-4d63be240daa"
      },
      "outputs": [
        {
          "output_type": "stream",
          "name": "stdout",
          "text": [
            "\n",
            "  Image shape: (512, 512, 3)\n",
            "  Image datatype: <dtype: 'uint8'>\n",
            "  Target class from Food101 (tenosr form): 65\n",
            "  Class name (str form): mussels\n",
            "  \n"
          ]
        }
      ],
      "source": [
        "# Output info about our training sample\n",
        "for image, label in train_one_sample:\n",
        "  print(f\"\"\"\n",
        "  Image shape: {image.shape}\n",
        "  Image datatype: {image.dtype}\n",
        "  Target class from Food101 (tenosr form): {label}\n",
        "  Class name (str form): {class_names[label.numpy()]}\n",
        "  \"\"\")"
      ]
    },
    {
      "cell_type": "code",
      "execution_count": 12,
      "metadata": {
        "colab": {
          "base_uri": "https://localhost:8080/"
        },
        "id": "e-DPqdHnKb74",
        "outputId": "cc3e4c2b-1a43-499f-86b9-96c93741eeb1"
      },
      "outputs": [
        {
          "output_type": "execute_result",
          "data": {
            "text/plain": [
              "<tf.Tensor: shape=(512, 512, 3), dtype=uint8, numpy=\n",
              "array([[[ 19,   6,   0],\n",
              "        [ 29,  16,   8],\n",
              "        [ 34,  21,  13],\n",
              "        ...,\n",
              "        [ 36,  19,   3],\n",
              "        [ 35,  19,   3],\n",
              "        [ 36,  20,   4]],\n",
              "\n",
              "       [[ 20,   7,   0],\n",
              "        [ 28,  15,   7],\n",
              "        [ 34,  21,  13],\n",
              "        ...,\n",
              "        [ 37,  20,   4],\n",
              "        [ 37,  20,   4],\n",
              "        [ 37,  21,   5]],\n",
              "\n",
              "       [[ 20,   7,   0],\n",
              "        [ 25,  12,   4],\n",
              "        [ 31,  18,  10],\n",
              "        ...,\n",
              "        [ 40,  21,   4],\n",
              "        [ 40,  21,   4],\n",
              "        [ 39,  22,   4]],\n",
              "\n",
              "       ...,\n",
              "\n",
              "       [[208, 206, 194],\n",
              "        [209, 207, 195],\n",
              "        [211, 209, 197],\n",
              "        ...,\n",
              "        [192, 196, 179],\n",
              "        [190, 194, 177],\n",
              "        [203, 207, 190]],\n",
              "\n",
              "       [[208, 206, 194],\n",
              "        [209, 207, 195],\n",
              "        [210, 208, 196],\n",
              "        ...,\n",
              "        [203, 207, 190],\n",
              "        [211, 214, 197],\n",
              "        [202, 205, 186]],\n",
              "\n",
              "       [[208, 206, 194],\n",
              "        [209, 207, 195],\n",
              "        [210, 208, 196],\n",
              "        ...,\n",
              "        [200, 204, 187],\n",
              "        [201, 204, 185],\n",
              "        [198, 201, 182]]], dtype=uint8)>"
            ]
          },
          "metadata": {},
          "execution_count": 12
        }
      ],
      "source": [
        "# What does our image tensor look like?\n",
        "image"
      ]
    },
    {
      "cell_type": "code",
      "execution_count": 13,
      "metadata": {
        "colab": {
          "base_uri": "https://localhost:8080/"
        },
        "id": "cKJR8qmALyYM",
        "outputId": "63d89a78-1ff0-4ac1-9f42-25a67ccc03ee"
      },
      "outputs": [
        {
          "output_type": "execute_result",
          "data": {
            "text/plain": [
              "(<tf.Tensor: shape=(), dtype=uint8, numpy=0>,\n",
              " <tf.Tensor: shape=(), dtype=uint8, numpy=255>)"
            ]
          },
          "metadata": {},
          "execution_count": 13
        }
      ],
      "source": [
        "import tensorflow as tf\n",
        "tf.reduce_min(image), tf.reduce_max(image)"
      ]
    },
    {
      "cell_type": "markdown",
      "metadata": {
        "id": "Z0Rxkcn5L97Z"
      },
      "source": [
        "### Plot an image from TFDS"
      ]
    },
    {
      "cell_type": "code",
      "execution_count": 14,
      "metadata": {
        "colab": {
          "base_uri": "https://localhost:8080/",
          "height": 280
        },
        "id": "9r94cEM3MdCT",
        "outputId": "284c5c72-7fef-4385-f84c-920e557ba02c"
      },
      "outputs": [
        {
          "output_type": "execute_result",
          "data": {
            "text/plain": [
              "(-0.5, 511.5, 511.5, -0.5)"
            ]
          },
          "metadata": {},
          "execution_count": 14
        },
        {
          "output_type": "display_data",
          "data": {
            "text/plain": [
              "<Figure size 432x288 with 1 Axes>"
            ],
            "image/png": "[encoded data removed]"
          },
          "metadata": {
            "needs_background": "light"
          }
        }
      ],
      "source": [
        "# Plot an image tensor\n",
        "import matplotlib.pyplot as plt\n",
        "plt.imshow(image)\n",
        "plt.title(class_names[label.numpy()])\n",
        "plt.axis(False)"
      ]
    },
    {
      "cell_type": "markdown",
      "metadata": {
        "id": "Jco6V72CMprZ"
      },
      "source": [
        "## Create preprocessing functions for our data\n",
        "\n",
        "Neural networks perform best when data is in a certain way (batched, normalized, etc.).\n",
        "\n",
        "However, not all data (indluding the one from TensorFlow Datasets) comes like this.\n",
        "\n",
        "So in order to get it ready for our neural network, you'll often have to write preprocessing functions and map it to your data.\n",
        "\n",
        "What we know about our data:\n",
        "* In `uint8` datatype\n",
        "* Comprised of all different size tensors (different size images)\n",
        "* Not normalized (values between 0 and 255)\n",
        "\n",
        "What we know models like:\n",
        "* data in `float32` dtype (or `float16` and `float32` for mixed precision operation)\n",
        "* for batches, TensorFlow likes all of the tensors within a batch to be of the same size\n",
        "* scaled (values between 0 and 1) also called normalized tensors, generally perform better\n",
        "\n",
        "With these points in mind, we've got a few things we can tackle with a preprocessing function.\n",
        "\n",
        "Sice we'll be using and EfficientNetBX pretrained model from `tf.keras.applications` we don't need to rescale our data. These architecture have rescaling built-in.\n",
        "\n",
        "This means our functions needs to:\n",
        "1. Reshape our image to all the same size\n",
        "2. Convert the dtype of our images from `uint8` to `float32`."
      ]
    },
    {
      "cell_type": "code",
      "execution_count": 15,
      "metadata": {
        "id": "dl5XEw37ReMa"
      },
      "outputs": [],
      "source": [
        "# Make a function for preprocessing images\n",
        "def preprocessing_img(image, label, img_shape=224):\n",
        "  \"\"\"\n",
        "  Converts image datatype fron 'uint8' -> 'float32' \n",
        "  and reshapes image to [img_shape, img_shape, color_channels].\n",
        "  \"\"\"\n",
        "  # Reshape target image\n",
        "  image = tf.image.resize(image, [img_shape, img_shape])\n",
        "\n",
        "  # Scale image values\n",
        "  # image = image/225. - NOT REQUIRED WITH EFFICIENTNET BX ARCHITECTURE\n",
        "\n",
        "  # Return (float32, label) tuple\n",
        "  return tf.cast(image, tf.float32), label"
      ]
    },
    {
      "cell_type": "code",
      "execution_count": 16,
      "metadata": {
        "id": "wlRL6jrUZRLa"
      },
      "outputs": [],
      "source": [
        "# Preprocess a single sample image and check the output\n",
        "preprocessed_img = preprocessing_img(image, label)[0]"
      ]
    },
    {
      "cell_type": "code",
      "execution_count": 17,
      "metadata": {
        "colab": {
          "base_uri": "https://localhost:8080/"
        },
        "id": "KFReG5xmZZ-l",
        "outputId": "d8a67bbd-8f88-47cd-e3b1-3cb754fe6f12"
      },
      "outputs": [
        {
          "output_type": "stream",
          "name": "stdout",
          "text": [
            "Image before preprocessing:\n",
            " [[[19  6  0]\n",
            "  [29 16  8]\n",
            "  [34 21 13]\n",
            "  ...\n",
            "  [36 19  3]\n",
            "  [35 19  3]\n",
            "  [36 20  4]]\n",
            "\n",
            " [[20  7  0]\n",
            "  [28 15  7]\n",
            "  [34 21 13]\n",
            "  ...\n",
            "  [37 20  4]\n",
            "  [37 20  4]\n",
            "  [37 21  5]]]... \n",
            "Shape: (512, 512, 3) \n",
            "Datatype: <dtype: 'uint8'>\n",
            "Image after preprocessing: \n",
            " [[[25.244898   12.244898    4.7295923 ]\n",
            "  [32.40816    19.408163   11.408163  ]\n",
            "  [32.719387   19.719387   10.719387  ]\n",
            "  ...\n",
            "  [39.005093   20.994862    3.4999783 ]\n",
            "  [36.31123    19.31123     2.1173685 ]\n",
            "  [36.413277   20.000034    4.000035  ]]\n",
            "\n",
            " [[19.897957    6.897958    0.18367267]\n",
            "  [28.943878   15.943878    7.9438777 ]\n",
            "  [22.112244    9.112244    1.1122437 ]\n",
            "  ...\n",
            "  [48.89794    27.015284    6.1428356 ]\n",
            "  [44.642845   23.852028    3.0714417 ]\n",
            "  [42.7602     21.954084    3.0714283 ]]]... \n",
            "Shape: (224, 224, 3) \n",
            "Datatype: <dtype: 'float32'>\n"
          ]
        }
      ],
      "source": [
        "print(f\"Image before preprocessing:\\n {image[:2]}... \\nShape: {image.shape} \\nDatatype: {image.dtype}\")\n",
        "print(f\"Image after preprocessing: \\n {preprocessed_img[:2]}... \\nShape: {preprocessed_img.shape} \\nDatatype: {preprocessed_img.dtype}\")"
      ]
    },
    {
      "cell_type": "markdown",
      "metadata": {
        "id": "bM00etd-ZwTN"
      },
      "source": [
        "## Batch & prepare datasets\n",
        "\n",
        "We're going to make pur data input pipeline run really fast.\n",
        "\n",
        "For more resources on this, I'd higly recommend going through the guide:\n",
        "https://www.tensorflow.org/guide/data?hl=en"
      ]
    },
    {
      "cell_type": "code",
      "execution_count": 18,
      "metadata": {
        "id": "QgDeMBomtiqI"
      },
      "outputs": [],
      "source": [
        "# Map preprocessing function to training (and parallelize)\n",
        "train_data = train_data.map(map_func=preprocessing_img, num_parallel_calls=tf.data.AUTOTUNE)\n",
        "\n",
        "# Shuffle train data and turn it into batches and prefetch it (load it faster)\n",
        "train_data = train_data.shuffle(buffer_size=1000).batch(batch_size=32).prefetch(buffer_size=tf.data.AUTOTUNE)\n",
        "\n",
        "# Map preprocessing function to test data\n",
        "test_data = test_data.map(preprocessing_img, num_parallel_calls=tf.data.AUTOTUNE).batch(batch_size=32).prefetch(tf.data.AUTOTUNE)"
      ]
    },
    {
      "cell_type": "code",
      "execution_count": 19,
      "metadata": {
        "colab": {
          "base_uri": "https://localhost:8080/"
        },
        "id": "VZ9dly9VuikA",
        "outputId": "e8b2b6f9-23ae-4ef7-f8e1-2ee1360a9cf8"
      },
      "outputs": [
        {
          "output_type": "execute_result",
          "data": {
            "text/plain": [
              "(<PrefetchDataset element_spec=(TensorSpec(shape=(None, 224, 224, 3), dtype=tf.float32, name=None), TensorSpec(shape=(None,), dtype=tf.int64, name=None))>,\n",
              " <PrefetchDataset element_spec=(TensorSpec(shape=(None, 224, 224, 3), dtype=tf.float32, name=None), TensorSpec(shape=(None,), dtype=tf.int64, name=None))>)"
            ]
          },
          "metadata": {},
          "execution_count": 19
        }
      ],
      "source": [
        "train_data, test_data"
      ]
    },
    {
      "cell_type": "markdown",
      "metadata": {
        "id": "eMyXTEUG0XKL"
      },
      "source": [
        "> 'Hey, TensorFlow, map this preprocessing function (`preprocessing_img`) across our training dataset, then shuffle a number of elements adn then batch them together and finally make sure you prepare new batches (prefetch) whilst the model is looking through (finding patterns) the current batch.'"
      ]
    },
    {
      "cell_type": "markdown",
      "metadata": {
        "id": "rlPeUpiW1aTD"
      },
      "source": [
        "## Create modelling callbacks\n",
        "\n",
        "We're going to create a couple of callbacks to help us while our model trains:\n",
        "* TensorBoard callback t o log training results (so we can visualize them later if needed)\n",
        "* ModelCheckpoint callback to save our model's peogress after feature extraction"
      ]
    },
    {
      "cell_type": "code",
      "execution_count": 78,
      "metadata": {
        "id": "Qy2sw5PL2jyE"
      },
      "outputs": [],
      "source": [
        "# Create TensorBoard callback\n",
        "from helper_functions import create_tensorboard_callback\n",
        "\n",
        "# Create ModelCheckpoint callback to save model's progress during training\n",
        "checkpoint_path = 'model_checkpoints/cp.ckpt'\n",
        "model_checkpoint=tf.keras.callbacks.ModelCheckpoint(checkpoint_path, \n",
        "                                                    monitor='val_accuracy',\n",
        "                                                    save_best_only=True,\n",
        "                                                    save_weights_only=True,\n",
        "                                                    verbose=1)                                              "
      ]
    },
    {
      "cell_type": "markdown",
      "metadata": {
        "id": "FS6TXVrZ5lrD"
      },
      "source": [
        "## Setup mixed precision training\n",
        "\n",
        "First and foremost, for a deeper undestanding of mixed presicion training, check out TensorFlow guide for mixed precision training.\n",
        "\n",
        "Guide: https://www.tensorflow.org/guide/mixed_precision?hl=en\n",
        "\n",
        "Mixed precision utilizes a combination of float16 and float32 dtypes to speed up model's performance."
      ]
    },
    {
      "cell_type": "code",
      "execution_count": 21,
      "metadata": {
        "colab": {
          "base_uri": "https://localhost:8080/"
        },
        "id": "iMgiZvaz_-q_",
        "outputId": "ac464a91-d0d4-4c89-adbb-07363bd71583"
      },
      "outputs": [
        {
          "output_type": "execute_result",
          "data": {
            "text/plain": [
              "<Policy \"mixed_float16\">"
            ]
          },
          "metadata": {},
          "execution_count": 21
        }
      ],
      "source": [
        "# Turn on mixed precision training \n",
        "from tensorflow.keras import mixed_precision\n",
        "\n",
        "# Set global data policy to mixed precision with float16\n",
        "mixed_precision.set_global_policy('mixed_float16') \n",
        "\n",
        "mixed_precision.global_policy()"
      ]
    },
    {
      "cell_type": "code",
      "execution_count": 22,
      "metadata": {
        "colab": {
          "base_uri": "https://localhost:8080/"
        },
        "id": "X1bDrtByBWjx",
        "outputId": "6e985d07-cf94-43d9-d686-3d0a03f634e4"
      },
      "outputs": [
        {
          "output_type": "stream",
          "name": "stdout",
          "text": [
            "Mon Mar  6 18:39:29 2023       \n",
            "+-----------------------------------------------------------------------------+\n",
            "| NVIDIA-SMI 525.85.12    Driver Version: 525.85.12    CUDA Version: 12.0     |\n",
            "|-------------------------------+----------------------+----------------------+\n",
            "| GPU  Name        Persistence-M| Bus-Id        Disp.A | Volatile Uncorr. ECC |\n",
            "| Fan  Temp  Perf  Pwr:Usage/Cap|         Memory-Usage | GPU-Util  Compute M. |\n",
            "|                               |                      |               MIG M. |\n",
            "|===============================+======================+======================|\n",
            "|   0  Tesla T4            Off  | 00000000:00:04.0 Off |                    0 |\n",
            "| N/A   46C    P0    26W /  70W |    335MiB / 15360MiB |      0%      Default |\n",
            "|                               |                      |                  N/A |\n",
            "+-------------------------------+----------------------+----------------------+\n",
            "                                                                               \n",
            "+-----------------------------------------------------------------------------+\n",
            "| Processes:                                                                  |\n",
            "|  GPU   GI   CI        PID   Type   Process name                  GPU Memory |\n",
            "|        ID   ID                                                   Usage      |\n",
            "|=============================================================================|\n",
            "+-----------------------------------------------------------------------------+\n"
          ]
        }
      ],
      "source": [
        "!nvidia-smi"
      ]
    },
    {
      "cell_type": "markdown",
      "metadata": {
        "id": "7D-BKomOChJ9"
      },
      "source": [
        "## Build feature extraction model"
      ]
    },
    {
      "cell_type": "code",
      "execution_count": 79,
      "metadata": {
        "id": "Cg2maDXoEeDW"
      },
      "outputs": [],
      "source": [
        "#from tensorflow.keras import Layers\n",
        "from tensorflow.keras.layers.experimental import preprocessing\n",
        "\n",
        "# Fixing the serialization error?\n",
        "#IMAGENET_STDDEV_RGB = [0.229, 0.224, 0.225]\n",
        "#IMAGENET_STDDEV_RGB = [1/math.sqrt(i) for i in IMAGENET_STDDEV_RGB]\n",
        "\n",
        "# Create base model\n",
        "input_shape = (224, 224, 3)\n",
        "base_model = tf.keras.applications.EfficientNetB0(include_top=False)\n",
        "base_model.trainable = False\n",
        "\n",
        "# Create functional model\n",
        "inputs = tf.keras.layers.Input(shape=input_shape, name='input_layer')\n",
        "\n",
        "# Note: EfficientNetBX have resaling built in but if your model does not, you can use as below\n",
        "# Fixing the serialization error?\n",
        "#x = tf.keras.layers.Rescaling(IMAGENET_STDDEV_RGB)(inputs)\n",
        "\n",
        "x = base_model(inputs, training=False) # makes sure layers which should be in inference stay frozen\n",
        "x = tf.keras.layers.GlobalAveragePooling2D()(x)\n",
        "x = tf.keras.layers.Dense(len(class_names))(x)\n",
        "outputs = tf.keras.layers.Activation('softmax', dtype=tf.float32, name='softmanx_float32')(x)\n",
        "\n",
        "model = tf.keras.Model(inputs, outputs)\n",
        "\n",
        "# Compile the model\n",
        "model.compile(loss=tf.keras.losses.SparseCategoricalCrossentropy(),\n",
        "              optimizer=tf.keras.optimizers.Adam(),\n",
        "              metrics=['accuracy'])"
      ]
    },
    {
      "cell_type": "code",
      "execution_count": 71,
      "metadata": {
        "colab": {
          "base_uri": "https://localhost:8080/"
        },
        "id": "BZpRW7fvGD5v",
        "outputId": "ea998adb-46c0-43e6-fbee-7186e2ea279a"
      },
      "outputs": [
        {
          "output_type": "stream",
          "name": "stdout",
          "text": [
            "Model: \"model_3\"\n",
            "_________________________________________________________________\n",
            " Layer (type)                Output Shape              Param #   \n",
            "=================================================================\n",
            " input_layer (InputLayer)    [(None, 224, 224, 3)]     0         \n",
            "                                                                 \n",
            " efficientnetb0 (Functional)  (None, None, None, 1280)  4049571  \n",
            "                                                                 \n",
            " global_average_pooling2d_3   (None, 1280)             0         \n",
            " (GlobalAveragePooling2D)                                        \n",
            "                                                                 \n",
            " dense_3 (Dense)             (None, 101)               129381    \n",
            "                                                                 \n",
            " softmanx_float32 (Activatio  (None, 101)              0         \n",
            " n)                                                              \n",
            "                                                                 \n",
            "=================================================================\n",
            "Total params: 4,178,952\n",
            "Trainable params: 129,381\n",
            "Non-trainable params: 4,049,571\n",
            "_________________________________________________________________\n"
          ]
        }
      ],
      "source": [
        "model.summary()"
      ]
    },
    {
      "cell_type": "markdown",
      "metadata": {
        "id": "55aC--Bz4JrW"
      },
      "source": [
        "## Checking layer dtype policies (are we using mixed precision)?"
      ]
    },
    {
      "cell_type": "code",
      "execution_count": 72,
      "metadata": {
        "colab": {
          "base_uri": "https://localhost:8080/"
        },
        "id": "KuJ5G767GPtF",
        "outputId": "7f309f50-14d2-4881-b321-9c63e3cb255c"
      },
      "outputs": [
        {
          "output_type": "stream",
          "name": "stdout",
          "text": [
            "float32 <Policy \"float32\"> input_layer True\n",
            "float32 <Policy \"mixed_float16\"> efficientnetb0 False\n",
            "float32 <Policy \"mixed_float16\"> global_average_pooling2d_3 True\n",
            "float32 <Policy \"mixed_float16\"> dense_3 True\n",
            "float32 <Policy \"float32\"> softmanx_float32 True\n"
          ]
        }
      ],
      "source": [
        "# Check the dtype_policy attributes of layers in our model\n",
        "for layer in model.layers:\n",
        "  print(layer.dtype, layer.dtype_policy, layer.name, layer.trainable)"
      ]
    },
    {
      "cell_type": "markdown",
      "metadata": {
        "id": "J_CNPxn-4iFL"
      },
      "source": [
        "Going through the above we can see:\n",
        "* `layer.name`: is the human trainable name of a particular layer\n",
        "* `layer.trainable`: is the layer trainable or not (if `False`, the weights are frozen)\n",
        "* `layer.dtype`: the datatype on which the layer stores its variables\n",
        "* `layer.dtype_policy`: is the datatype policy a layer computes on its variables with"
      ]
    },
    {
      "cell_type": "code",
      "execution_count": 73,
      "metadata": {
        "colab": {
          "base_uri": "https://localhost:8080/"
        },
        "id": "aPknRar_4A9c",
        "outputId": "d221ed5b-6676-41bf-bcb3-0ce280cd2b67"
      },
      "outputs": [
        {
          "output_type": "stream",
          "name": "stdout",
          "text": [
            "float32 <Policy \"float32\"> input_4 False\n",
            "float32 <Policy \"mixed_float16\"> rescaling_7 False\n",
            "float32 <Policy \"mixed_float16\"> normalization_3 False\n",
            "float32 <Policy \"mixed_float16\"> rescaling_8 False\n",
            "float32 <Policy \"mixed_float16\"> stem_conv_pad False\n",
            "float32 <Policy \"mixed_float16\"> stem_conv False\n",
            "float32 <Policy \"mixed_float16\"> stem_bn False\n",
            "float32 <Policy \"mixed_float16\"> stem_activation False\n",
            "float32 <Policy \"mixed_float16\"> block1a_dwconv False\n",
            "float32 <Policy \"mixed_float16\"> block1a_bn False\n",
            "float32 <Policy \"mixed_float16\"> block1a_activation False\n",
            "float32 <Policy \"mixed_float16\"> block1a_se_squeeze False\n",
            "float32 <Policy \"mixed_float16\"> block1a_se_reshape False\n",
            "float32 <Policy \"mixed_float16\"> block1a_se_reduce False\n",
            "float32 <Policy \"mixed_float16\"> block1a_se_expand False\n",
            "float32 <Policy \"mixed_float16\"> block1a_se_excite False\n",
            "float32 <Policy \"mixed_float16\"> block1a_project_conv False\n",
            "float32 <Policy \"mixed_float16\"> block1a_project_bn False\n",
            "float32 <Policy \"mixed_float16\"> block2a_expand_conv False\n",
            "float32 <Policy \"mixed_float16\"> block2a_expand_bn False\n",
            "float32 <Policy \"mixed_float16\"> block2a_expand_activation False\n",
            "float32 <Policy \"mixed_float16\"> block2a_dwconv_pad False\n",
            "float32 <Policy \"mixed_float16\"> block2a_dwconv False\n",
            "float32 <Policy \"mixed_float16\"> block2a_bn False\n",
            "float32 <Policy \"mixed_float16\"> block2a_activation False\n",
            "float32 <Policy \"mixed_float16\"> block2a_se_squeeze False\n",
            "float32 <Policy \"mixed_float16\"> block2a_se_reshape False\n",
            "float32 <Policy \"mixed_float16\"> block2a_se_reduce False\n",
            "float32 <Policy \"mixed_float16\"> block2a_se_expand False\n",
            "float32 <Policy \"mixed_float16\"> block2a_se_excite False\n",
            "float32 <Policy \"mixed_float16\"> block2a_project_conv False\n",
            "float32 <Policy \"mixed_float16\"> block2a_project_bn False\n",
            "float32 <Policy \"mixed_float16\"> block2b_expand_conv False\n",
            "float32 <Policy \"mixed_float16\"> block2b_expand_bn False\n",
            "float32 <Policy \"mixed_float16\"> block2b_expand_activation False\n",
            "float32 <Policy \"mixed_float16\"> block2b_dwconv False\n",
            "float32 <Policy \"mixed_float16\"> block2b_bn False\n",
            "float32 <Policy \"mixed_float16\"> block2b_activation False\n",
            "float32 <Policy \"mixed_float16\"> block2b_se_squeeze False\n",
            "float32 <Policy \"mixed_float16\"> block2b_se_reshape False\n",
            "float32 <Policy \"mixed_float16\"> block2b_se_reduce False\n",
            "float32 <Policy \"mixed_float16\"> block2b_se_expand False\n",
            "float32 <Policy \"mixed_float16\"> block2b_se_excite False\n",
            "float32 <Policy \"mixed_float16\"> block2b_project_conv False\n",
            "float32 <Policy \"mixed_float16\"> block2b_project_bn False\n",
            "float32 <Policy \"mixed_float16\"> block2b_drop False\n",
            "float32 <Policy \"mixed_float16\"> block2b_add False\n",
            "float32 <Policy \"mixed_float16\"> block3a_expand_conv False\n",
            "float32 <Policy \"mixed_float16\"> block3a_expand_bn False\n",
            "float32 <Policy \"mixed_float16\"> block3a_expand_activation False\n",
            "float32 <Policy \"mixed_float16\"> block3a_dwconv_pad False\n",
            "float32 <Policy \"mixed_float16\"> block3a_dwconv False\n",
            "float32 <Policy \"mixed_float16\"> block3a_bn False\n",
            "float32 <Policy \"mixed_float16\"> block3a_activation False\n",
            "float32 <Policy \"mixed_float16\"> block3a_se_squeeze False\n",
            "float32 <Policy \"mixed_float16\"> block3a_se_reshape False\n",
            "float32 <Policy \"mixed_float16\"> block3a_se_reduce False\n",
            "float32 <Policy \"mixed_float16\"> block3a_se_expand False\n",
            "float32 <Policy \"mixed_float16\"> block3a_se_excite False\n",
            "float32 <Policy \"mixed_float16\"> block3a_project_conv False\n",
            "float32 <Policy \"mixed_float16\"> block3a_project_bn False\n",
            "float32 <Policy \"mixed_float16\"> block3b_expand_conv False\n",
            "float32 <Policy \"mixed_float16\"> block3b_expand_bn False\n",
            "float32 <Policy \"mixed_float16\"> block3b_expand_activation False\n",
            "float32 <Policy \"mixed_float16\"> block3b_dwconv False\n",
            "float32 <Policy \"mixed_float16\"> block3b_bn False\n",
            "float32 <Policy \"mixed_float16\"> block3b_activation False\n",
            "float32 <Policy \"mixed_float16\"> block3b_se_squeeze False\n",
            "float32 <Policy \"mixed_float16\"> block3b_se_reshape False\n",
            "float32 <Policy \"mixed_float16\"> block3b_se_reduce False\n",
            "float32 <Policy \"mixed_float16\"> block3b_se_expand False\n",
            "float32 <Policy \"mixed_float16\"> block3b_se_excite False\n",
            "float32 <Policy \"mixed_float16\"> block3b_project_conv False\n",
            "float32 <Policy \"mixed_float16\"> block3b_project_bn False\n",
            "float32 <Policy \"mixed_float16\"> block3b_drop False\n",
            "float32 <Policy \"mixed_float16\"> block3b_add False\n",
            "float32 <Policy \"mixed_float16\"> block4a_expand_conv False\n",
            "float32 <Policy \"mixed_float16\"> block4a_expand_bn False\n",
            "float32 <Policy \"mixed_float16\"> block4a_expand_activation False\n",
            "float32 <Policy \"mixed_float16\"> block4a_dwconv_pad False\n",
            "float32 <Policy \"mixed_float16\"> block4a_dwconv False\n",
            "float32 <Policy \"mixed_float16\"> block4a_bn False\n",
            "float32 <Policy \"mixed_float16\"> block4a_activation False\n",
            "float32 <Policy \"mixed_float16\"> block4a_se_squeeze False\n",
            "float32 <Policy \"mixed_float16\"> block4a_se_reshape False\n",
            "float32 <Policy \"mixed_float16\"> block4a_se_reduce False\n",
            "float32 <Policy \"mixed_float16\"> block4a_se_expand False\n",
            "float32 <Policy \"mixed_float16\"> block4a_se_excite False\n",
            "float32 <Policy \"mixed_float16\"> block4a_project_conv False\n",
            "float32 <Policy \"mixed_float16\"> block4a_project_bn False\n",
            "float32 <Policy \"mixed_float16\"> block4b_expand_conv False\n",
            "float32 <Policy \"mixed_float16\"> block4b_expand_bn False\n",
            "float32 <Policy \"mixed_float16\"> block4b_expand_activation False\n",
            "float32 <Policy \"mixed_float16\"> block4b_dwconv False\n",
            "float32 <Policy \"mixed_float16\"> block4b_bn False\n",
            "float32 <Policy \"mixed_float16\"> block4b_activation False\n",
            "float32 <Policy \"mixed_float16\"> block4b_se_squeeze False\n",
            "float32 <Policy \"mixed_float16\"> block4b_se_reshape False\n",
            "float32 <Policy \"mixed_float16\"> block4b_se_reduce False\n",
            "float32 <Policy \"mixed_float16\"> block4b_se_expand False\n",
            "float32 <Policy \"mixed_float16\"> block4b_se_excite False\n",
            "float32 <Policy \"mixed_float16\"> block4b_project_conv False\n",
            "float32 <Policy \"mixed_float16\"> block4b_project_bn False\n",
            "float32 <Policy \"mixed_float16\"> block4b_drop False\n",
            "float32 <Policy \"mixed_float16\"> block4b_add False\n",
            "float32 <Policy \"mixed_float16\"> block4c_expand_conv False\n",
            "float32 <Policy \"mixed_float16\"> block4c_expand_bn False\n",
            "float32 <Policy \"mixed_float16\"> block4c_expand_activation False\n",
            "float32 <Policy \"mixed_float16\"> block4c_dwconv False\n",
            "float32 <Policy \"mixed_float16\"> block4c_bn False\n",
            "float32 <Policy \"mixed_float16\"> block4c_activation False\n",
            "float32 <Policy \"mixed_float16\"> block4c_se_squeeze False\n",
            "float32 <Policy \"mixed_float16\"> block4c_se_reshape False\n",
            "float32 <Policy \"mixed_float16\"> block4c_se_reduce False\n",
            "float32 <Policy \"mixed_float16\"> block4c_se_expand False\n",
            "float32 <Policy \"mixed_float16\"> block4c_se_excite False\n",
            "float32 <Policy \"mixed_float16\"> block4c_project_conv False\n",
            "float32 <Policy \"mixed_float16\"> block4c_project_bn False\n",
            "float32 <Policy \"mixed_float16\"> block4c_drop False\n",
            "float32 <Policy \"mixed_float16\"> block4c_add False\n",
            "float32 <Policy \"mixed_float16\"> block5a_expand_conv False\n",
            "float32 <Policy \"mixed_float16\"> block5a_expand_bn False\n",
            "float32 <Policy \"mixed_float16\"> block5a_expand_activation False\n",
            "float32 <Policy \"mixed_float16\"> block5a_dwconv False\n",
            "float32 <Policy \"mixed_float16\"> block5a_bn False\n",
            "float32 <Policy \"mixed_float16\"> block5a_activation False\n",
            "float32 <Policy \"mixed_float16\"> block5a_se_squeeze False\n",
            "float32 <Policy \"mixed_float16\"> block5a_se_reshape False\n",
            "float32 <Policy \"mixed_float16\"> block5a_se_reduce False\n",
            "float32 <Policy \"mixed_float16\"> block5a_se_expand False\n",
            "float32 <Policy \"mixed_float16\"> block5a_se_excite False\n",
            "float32 <Policy \"mixed_float16\"> block5a_project_conv False\n",
            "float32 <Policy \"mixed_float16\"> block5a_project_bn False\n",
            "float32 <Policy \"mixed_float16\"> block5b_expand_conv False\n",
            "float32 <Policy \"mixed_float16\"> block5b_expand_bn False\n",
            "float32 <Policy \"mixed_float16\"> block5b_expand_activation False\n",
            "float32 <Policy \"mixed_float16\"> block5b_dwconv False\n",
            "float32 <Policy \"mixed_float16\"> block5b_bn False\n",
            "float32 <Policy \"mixed_float16\"> block5b_activation False\n",
            "float32 <Policy \"mixed_float16\"> block5b_se_squeeze False\n",
            "float32 <Policy \"mixed_float16\"> block5b_se_reshape False\n",
            "float32 <Policy \"mixed_float16\"> block5b_se_reduce False\n",
            "float32 <Policy \"mixed_float16\"> block5b_se_expand False\n",
            "float32 <Policy \"mixed_float16\"> block5b_se_excite False\n",
            "float32 <Policy \"mixed_float16\"> block5b_project_conv False\n",
            "float32 <Policy \"mixed_float16\"> block5b_project_bn False\n",
            "float32 <Policy \"mixed_float16\"> block5b_drop False\n",
            "float32 <Policy \"mixed_float16\"> block5b_add False\n",
            "float32 <Policy \"mixed_float16\"> block5c_expand_conv False\n",
            "float32 <Policy \"mixed_float16\"> block5c_expand_bn False\n",
            "float32 <Policy \"mixed_float16\"> block5c_expand_activation False\n",
            "float32 <Policy \"mixed_float16\"> block5c_dwconv False\n",
            "float32 <Policy \"mixed_float16\"> block5c_bn False\n",
            "float32 <Policy \"mixed_float16\"> block5c_activation False\n",
            "float32 <Policy \"mixed_float16\"> block5c_se_squeeze False\n",
            "float32 <Policy \"mixed_float16\"> block5c_se_reshape False\n",
            "float32 <Policy \"mixed_float16\"> block5c_se_reduce False\n",
            "float32 <Policy \"mixed_float16\"> block5c_se_expand False\n",
            "float32 <Policy \"mixed_float16\"> block5c_se_excite False\n",
            "float32 <Policy \"mixed_float16\"> block5c_project_conv False\n",
            "float32 <Policy \"mixed_float16\"> block5c_project_bn False\n",
            "float32 <Policy \"mixed_float16\"> block5c_drop False\n",
            "float32 <Policy \"mixed_float16\"> block5c_add False\n",
            "float32 <Policy \"mixed_float16\"> block6a_expand_conv False\n",
            "float32 <Policy \"mixed_float16\"> block6a_expand_bn False\n",
            "float32 <Policy \"mixed_float16\"> block6a_expand_activation False\n",
            "float32 <Policy \"mixed_float16\"> block6a_dwconv_pad False\n",
            "float32 <Policy \"mixed_float16\"> block6a_dwconv False\n",
            "float32 <Policy \"mixed_float16\"> block6a_bn False\n",
            "float32 <Policy \"mixed_float16\"> block6a_activation False\n",
            "float32 <Policy \"mixed_float16\"> block6a_se_squeeze False\n",
            "float32 <Policy \"mixed_float16\"> block6a_se_reshape False\n",
            "float32 <Policy \"mixed_float16\"> block6a_se_reduce False\n",
            "float32 <Policy \"mixed_float16\"> block6a_se_expand False\n",
            "float32 <Policy \"mixed_float16\"> block6a_se_excite False\n",
            "float32 <Policy \"mixed_float16\"> block6a_project_conv False\n",
            "float32 <Policy \"mixed_float16\"> block6a_project_bn False\n",
            "float32 <Policy \"mixed_float16\"> block6b_expand_conv False\n",
            "float32 <Policy \"mixed_float16\"> block6b_expand_bn False\n",
            "float32 <Policy \"mixed_float16\"> block6b_expand_activation False\n",
            "float32 <Policy \"mixed_float16\"> block6b_dwconv False\n",
            "float32 <Policy \"mixed_float16\"> block6b_bn False\n",
            "float32 <Policy \"mixed_float16\"> block6b_activation False\n",
            "float32 <Policy \"mixed_float16\"> block6b_se_squeeze False\n",
            "float32 <Policy \"mixed_float16\"> block6b_se_reshape False\n",
            "float32 <Policy \"mixed_float16\"> block6b_se_reduce False\n",
            "float32 <Policy \"mixed_float16\"> block6b_se_expand False\n",
            "float32 <Policy \"mixed_float16\"> block6b_se_excite False\n",
            "float32 <Policy \"mixed_float16\"> block6b_project_conv False\n",
            "float32 <Policy \"mixed_float16\"> block6b_project_bn False\n",
            "float32 <Policy \"mixed_float16\"> block6b_drop False\n",
            "float32 <Policy \"mixed_float16\"> block6b_add False\n",
            "float32 <Policy \"mixed_float16\"> block6c_expand_conv False\n",
            "float32 <Policy \"mixed_float16\"> block6c_expand_bn False\n",
            "float32 <Policy \"mixed_float16\"> block6c_expand_activation False\n",
            "float32 <Policy \"mixed_float16\"> block6c_dwconv False\n",
            "float32 <Policy \"mixed_float16\"> block6c_bn False\n",
            "float32 <Policy \"mixed_float16\"> block6c_activation False\n",
            "float32 <Policy \"mixed_float16\"> block6c_se_squeeze False\n",
            "float32 <Policy \"mixed_float16\"> block6c_se_reshape False\n",
            "float32 <Policy \"mixed_float16\"> block6c_se_reduce False\n",
            "float32 <Policy \"mixed_float16\"> block6c_se_expand False\n",
            "float32 <Policy \"mixed_float16\"> block6c_se_excite False\n",
            "float32 <Policy \"mixed_float16\"> block6c_project_conv False\n",
            "float32 <Policy \"mixed_float16\"> block6c_project_bn False\n",
            "float32 <Policy \"mixed_float16\"> block6c_drop False\n",
            "float32 <Policy \"mixed_float16\"> block6c_add False\n",
            "float32 <Policy \"mixed_float16\"> block6d_expand_conv False\n",
            "float32 <Policy \"mixed_float16\"> block6d_expand_bn False\n",
            "float32 <Policy \"mixed_float16\"> block6d_expand_activation False\n",
            "float32 <Policy \"mixed_float16\"> block6d_dwconv False\n",
            "float32 <Policy \"mixed_float16\"> block6d_bn False\n",
            "float32 <Policy \"mixed_float16\"> block6d_activation False\n",
            "float32 <Policy \"mixed_float16\"> block6d_se_squeeze False\n",
            "float32 <Policy \"mixed_float16\"> block6d_se_reshape False\n",
            "float32 <Policy \"mixed_float16\"> block6d_se_reduce False\n",
            "float32 <Policy \"mixed_float16\"> block6d_se_expand False\n",
            "float32 <Policy \"mixed_float16\"> block6d_se_excite False\n",
            "float32 <Policy \"mixed_float16\"> block6d_project_conv False\n",
            "float32 <Policy \"mixed_float16\"> block6d_project_bn False\n",
            "float32 <Policy \"mixed_float16\"> block6d_drop False\n",
            "float32 <Policy \"mixed_float16\"> block6d_add False\n",
            "float32 <Policy \"mixed_float16\"> block7a_expand_conv False\n",
            "float32 <Policy \"mixed_float16\"> block7a_expand_bn False\n",
            "float32 <Policy \"mixed_float16\"> block7a_expand_activation False\n",
            "float32 <Policy \"mixed_float16\"> block7a_dwconv False\n",
            "float32 <Policy \"mixed_float16\"> block7a_bn False\n",
            "float32 <Policy \"mixed_float16\"> block7a_activation False\n",
            "float32 <Policy \"mixed_float16\"> block7a_se_squeeze False\n",
            "float32 <Policy \"mixed_float16\"> block7a_se_reshape False\n",
            "float32 <Policy \"mixed_float16\"> block7a_se_reduce False\n",
            "float32 <Policy \"mixed_float16\"> block7a_se_expand False\n",
            "float32 <Policy \"mixed_float16\"> block7a_se_excite False\n",
            "float32 <Policy \"mixed_float16\"> block7a_project_conv False\n",
            "float32 <Policy \"mixed_float16\"> block7a_project_bn False\n",
            "float32 <Policy \"mixed_float16\"> top_conv False\n",
            "float32 <Policy \"mixed_float16\"> top_bn False\n",
            "float32 <Policy \"mixed_float16\"> top_activation False\n"
          ]
        }
      ],
      "source": [
        "# Check the layers in base_model being EfficientNetB0\n",
        "#for layers in model.layers[1].layers:\n",
        "for layer in base_model.layers:\n",
        "  print(layer.dtype, layer.dtype_policy, layer.name, layer.trainable)"
      ]
    },
    {
      "cell_type": "code",
      "execution_count": 74,
      "metadata": {
        "colab": {
          "base_uri": "https://localhost:8080/"
        },
        "id": "8GnCr4cO5rbr",
        "outputId": "7254d231-4c51-464a-cbe5-4b8063cfc782"
      },
      "outputs": [
        {
          "output_type": "execute_result",
          "data": {
            "text/plain": [
              "<Policy \"mixed_float16\">"
            ]
          },
          "metadata": {},
          "execution_count": 74
        }
      ],
      "source": [
        "mixed_precision.global_policy()"
      ]
    },
    {
      "cell_type": "code",
      "execution_count": 75,
      "metadata": {
        "colab": {
          "base_uri": "https://localhost:8080/"
        },
        "id": "WNbEVC3c7cvo",
        "outputId": "60285dc8-a81d-4458-b6cc-470661e99492"
      },
      "outputs": [
        {
          "output_type": "execute_result",
          "data": {
            "text/plain": [
              "<PrefetchDataset element_spec=(TensorSpec(shape=(None, 224, 224, 3), dtype=tf.float32, name=None), TensorSpec(shape=(None,), dtype=tf.int64, name=None))>"
            ]
          },
          "metadata": {},
          "execution_count": 75
        }
      ],
      "source": [
        "train_data"
      ]
    },
    {
      "cell_type": "markdown",
      "metadata": {
        "id": "nrELy51r7qdE"
      },
      "source": [
        "## Fit the feature extraction model\n",
        "\n",
        "If our model is to fine-tune a pretrained model, the general order of doing things is:\n",
        "1. Build a feature extraction model (train a couple output layers with base layers frozen)\n",
        "2. Fine-tune some of the frozen layers"
      ]
    },
    {
      "cell_type": "code",
      "execution_count": 80,
      "metadata": {
        "colab": {
          "base_uri": "https://localhost:8080/"
        },
        "id": "yvCmnMwC6gcs",
        "outputId": "aef2b177-f547-40e4-feb3-9a626406727d"
      },
      "outputs": [
        {
          "output_type": "stream",
          "name": "stderr",
          "text": [
            "WARNING:tensorflow:Model failed to serialize as JSON. Ignoring... Unable to serialize [2.0896919 2.1128857 2.1081853] to JSON. Unrecognized type <class 'tensorflow.python.framework.ops.EagerTensor'>.\n"
          ]
        },
        {
          "output_type": "stream",
          "name": "stdout",
          "text": [
            "Saving TensorBoard log files to: tensorboard_callback/food_vision_big/20230306-200449\n",
            "Epoch 1/3\n",
            "2368/2368 [==============================] - ETA: 0s - loss: 1.7166 - accuracy: 0.5828\n",
            "Epoch 1: val_accuracy improved from -inf to 0.69836, saving model to model_checkpoints/cp.ckpt\n",
            "2368/2368 [==============================] - 202s 81ms/step - loss: 1.7166 - accuracy: 0.5828 - val_loss: 1.1211 - val_accuracy: 0.6984\n",
            "Epoch 2/3\n",
            "2367/2368 [============================>.] - ETA: 0s - loss: 1.1990 - accuracy: 0.6884\n",
            "Epoch 2: val_accuracy improved from 0.69836 to 0.72219, saving model to model_checkpoints/cp.ckpt\n",
            "2368/2368 [==============================] - 192s 80ms/step - loss: 1.1989 - accuracy: 0.6884 - val_loss: 1.0232 - val_accuracy: 0.7222\n",
            "Epoch 3/3\n",
            "2368/2368 [==============================] - ETA: 0s - loss: 1.0534 - accuracy: 0.7236\n",
            "Epoch 3: val_accuracy improved from 0.72219 to 0.72696, saving model to model_checkpoints/cp.ckpt\n",
            "2368/2368 [==============================] - 186s 78ms/step - loss: 1.0534 - accuracy: 0.7236 - val_loss: 0.9876 - val_accuracy: 0.7270\n"
          ]
        }
      ],
      "source": [
        "# Fitting the model for 3 epochs with ModelCheckpoint and TensorBoard callbacks\n",
        "history_101_food_classes = model.fit(x=train_data, \n",
        "                                     epochs=3,\n",
        "                                     steps_per_epoch=len(train_data),\n",
        "                                     validation_data=test_data,\n",
        "                                     validation_steps=int(0.15*len(test_data)),\n",
        "                                     callbacks=[create_tensorboard_callback(dir_name='tensorboard_callback', \n",
        "                                                                            experiment_name='food_vision_big'),\n",
        "                                                model_checkpoint])"
      ]
    },
    {
      "cell_type": "code",
      "execution_count": 81,
      "metadata": {
        "colab": {
          "base_uri": "https://localhost:8080/"
        },
        "id": "x9HgTn_67e0J",
        "outputId": "106f52d6-5cbb-4168-8ade-04fbe150abd7"
      },
      "outputs": [
        {
          "output_type": "stream",
          "name": "stdout",
          "text": [
            "790/790 [==============================] - 55s 70ms/step - loss: 0.9919 - accuracy: 0.7293\n"
          ]
        },
        {
          "output_type": "execute_result",
          "data": {
            "text/plain": [
              "[0.9919065833091736, 0.729346513748169]"
            ]
          },
          "metadata": {},
          "execution_count": 81
        }
      ],
      "source": [
        "# Evaluate model on whole test dataset\n",
        "result_feature_extraction = model.evaluate(test_data)\n",
        "result_feature_extraction"
      ]
    },
    {
      "cell_type": "markdown",
      "source": [
        "## Off to you...\n",
        "\n",
        "We've covered a lot of ground so far but since this is a milestone project it's time for you to takeover. \n",
        "\n",
        "More specifically, the challenge is to complete the TEMPLATE version of 07 notebook to obtain a computer vision model (builidng off ther one we've built in this notebook) to beat DeepFood paper.\n",
        "\n",
        "In other words, you're going to create Food Vision Big!\n"
      ],
      "metadata": {
        "id": "vz7YweKuNi8A"
      }
    },
    {
      "cell_type": "markdown",
      "source": [
        "### TODO: Save the whole model to file\n",
        "> **NOTE:** As there's some serialization error, model cannot be saved directly as neither H5 or SavedModel format. Therefore this step will be left untouched for now."
      ],
      "metadata": {
        "id": "YXZB9KDBS9yN"
      }
    },
    {
      "cell_type": "code",
      "source": [
        "# Cloning a model and loading previously saved model weights from ModelCheckpoint\n",
        "loaded_model = tf.keras.models.clone_model(model=model)\n",
        "loaded_model.load_weights(checkpoint_path)"
      ],
      "metadata": {
        "colab": {
          "base_uri": "https://localhost:8080/"
        },
        "id": "Oz9fe4PmVDZ9",
        "outputId": "55290450-d08b-4b3a-fc6d-3f8686b43c58"
      },
      "execution_count": 82,
      "outputs": [
        {
          "output_type": "execute_result",
          "data": {
            "text/plain": [
              "<tensorflow.python.checkpoint.checkpoint.CheckpointLoadStatus at 0x7ffa302fda30>"
            ]
          },
          "metadata": {},
          "execution_count": 82
        }
      ]
    },
    {
      "cell_type": "code",
      "source": [
        "# Check the loaded model performance\n",
        "loaded_model.compile(loss=tf.keras.losses.SparseCategoricalCrossentropy(),\n",
        "                     optimizer=tf.keras.optimizers.Adam(),\n",
        "                     metrics=['accuracy'])\n",
        "\n",
        "results_loaded_model = loaded_model.evaluate(test_data)"
      ],
      "metadata": {
        "colab": {
          "base_uri": "https://localhost:8080/"
        },
        "id": "yGA3dJU4XWeq",
        "outputId": "9ed82ebe-54e6-4bed-8a88-20353bac95cc"
      },
      "execution_count": 83,
      "outputs": [
        {
          "output_type": "stream",
          "name": "stdout",
          "text": [
            "790/790 [==============================] - 59s 70ms/step - loss: 1.3586 - accuracy: 0.6363\n"
          ]
        }
      ]
    },
    {
      "cell_type": "code",
      "source": [
        "# Check the layer in loaded model\n",
        "loaded_model.layers[1].layers[:20]"
      ],
      "metadata": {
        "colab": {
          "base_uri": "https://localhost:8080/"
        },
        "id": "kYvpKjZXleR6",
        "outputId": "a4d9f248-b132-4968-c4ec-bef20f6730f5"
      },
      "execution_count": 88,
      "outputs": [
        {
          "output_type": "execute_result",
          "data": {
            "text/plain": [
              "[<keras.engine.input_layer.InputLayer at 0x7ffa34e71910>,\n",
              " <keras.layers.preprocessing.image_preprocessing.Rescaling at 0x7ffa34e71d00>,\n",
              " <keras.layers.preprocessing.normalization.Normalization at 0x7ffa3b286100>,\n",
              " <keras.layers.preprocessing.image_preprocessing.Rescaling at 0x7ffa34e71220>,\n",
              " <keras.layers.reshaping.zero_padding2d.ZeroPadding2D at 0x7ff99127a6a0>,\n",
              " <keras.layers.convolutional.conv2d.Conv2D at 0x7ffa34e71130>,\n",
              " <keras.layers.normalization.batch_normalization.BatchNormalization at 0x7ffa34ee5c70>,\n",
              " <keras.layers.core.activation.Activation at 0x7ffa34ee5ee0>,\n",
              " <keras.layers.convolutional.depthwise_conv2d.DepthwiseConv2D at 0x7ffa34ee5ac0>,\n",
              " <keras.layers.normalization.batch_normalization.BatchNormalization at 0x7ffad4d69730>,\n",
              " <keras.layers.core.activation.Activation at 0x7ffad4d694f0>,\n",
              " <keras.layers.pooling.global_average_pooling2d.GlobalAveragePooling2D at 0x7ffad4c5e940>,\n",
              " <keras.layers.reshaping.reshape.Reshape at 0x7ffad4c5e970>,\n",
              " <keras.layers.convolutional.conv2d.Conv2D at 0x7ffad4d699d0>,\n",
              " <keras.layers.convolutional.conv2d.Conv2D at 0x7ffad4c5e550>,\n",
              " <keras.layers.merging.multiply.Multiply at 0x7ffad4ceac70>,\n",
              " <keras.layers.convolutional.conv2d.Conv2D at 0x7ffad4cea100>,\n",
              " <keras.layers.normalization.batch_normalization.BatchNormalization at 0x7ffad4cea520>,\n",
              " <keras.layers.convolutional.conv2d.Conv2D at 0x7ffad4ceae50>,\n",
              " <keras.layers.normalization.batch_normalization.BatchNormalization at 0x7ff98a7e8b20>]"
            ]
          },
          "metadata": {},
          "execution_count": 88
        }
      ]
    },
    {
      "cell_type": "code",
      "source": [
        "for layer in loaded_model.layers[1].layers:\n",
        "  print(layer.name, layer.dtype, layer.dtype_policy, layer.trainable)"
      ],
      "metadata": {
        "id": "W1n2OhFploA2"
      },
      "execution_count": null,
      "outputs": []
    },
    {
      "cell_type": "code",
      "source": [
        "# Checking if the results are close\n",
        "import numpy as np\n",
        "assert np.isclose(result_feature_extraction, results_loaded_model).all(), 'Weights are not close!'"
      ],
      "metadata": {
        "colab": {
          "base_uri": "https://localhost:8080/",
          "height": 191
        },
        "id": "dujshXKQX72W",
        "outputId": "6c381c3c-30c2-4e98-a66e-38ccd37e1dab"
      },
      "execution_count": 91,
      "outputs": [
        {
          "output_type": "error",
          "ename": "AssertionError",
          "evalue": "ignored",
          "traceback": [
            "\u001b[0;31m---------------------------------------------------------------------------\u001b[0m",
            "\u001b[0;31mAssertionError\u001b[0m                            Traceback (most recent call last)",
            "\u001b[0;32m<ipython-input-91-bdffee582a25>\u001b[0m in \u001b[0;36m<module>\u001b[0;34m\u001b[0m\n\u001b[1;32m      1\u001b[0m \u001b[0;31m# Checking if the results are close\u001b[0m\u001b[0;34m\u001b[0m\u001b[0;34m\u001b[0m\u001b[0;34m\u001b[0m\u001b[0m\n\u001b[1;32m      2\u001b[0m \u001b[0;32mimport\u001b[0m \u001b[0mnumpy\u001b[0m \u001b[0;32mas\u001b[0m \u001b[0mnp\u001b[0m\u001b[0;34m\u001b[0m\u001b[0;34m\u001b[0m\u001b[0m\n\u001b[0;32m----> 3\u001b[0;31m \u001b[0;32massert\u001b[0m \u001b[0mnp\u001b[0m\u001b[0;34m.\u001b[0m\u001b[0misclose\u001b[0m\u001b[0;34m(\u001b[0m\u001b[0mresult_feature_extraction\u001b[0m\u001b[0;34m,\u001b[0m \u001b[0mresults_loaded_model\u001b[0m\u001b[0;34m)\u001b[0m\u001b[0;34m.\u001b[0m\u001b[0mall\u001b[0m\u001b[0;34m(\u001b[0m\u001b[0;34m)\u001b[0m\u001b[0;34m,\u001b[0m \u001b[0;34m'Weights are not close!'\u001b[0m\u001b[0;34m\u001b[0m\u001b[0;34m\u001b[0m\u001b[0m\n\u001b[0m",
            "\u001b[0;31mAssertionError\u001b[0m: Weights are not close!"
          ]
        }
      ]
    },
    {
      "cell_type": "markdown",
      "source": [
        "Looks alike earlier created and trained `model` does not perform exactly the same as copied fed with its weights `loaded_model`. The *dtype_policy* was carried on, however it's still possible to continue and fine-tune this particular model (`loaded_model`)."
      ],
      "metadata": {
        "id": "SVgUwf6IlK0r"
      }
    },
    {
      "cell_type": "code",
      "source": [
        "# Download the saved model from Google Storage\n",
        "!wget https://storage.googleapis.com/ztm_tf_course/food_vision/07_efficientnetb0_feature_extract_model_mixed_precision.zip \n",
        "\n",
        "# Unzip the SavedModel downloaded from Google Stroage\n",
        "!mkdir downloaded_gs_model # create new dir to store downloaded feature extraction model\n",
        "!unzip 07_efficientnetb0_feature_extract_model_mixed_precision.zip -d downloaded_gs_model"
      ],
      "metadata": {
        "colab": {
          "base_uri": "https://localhost:8080/"
        },
        "id": "BsDkEGdjoXc9",
        "outputId": "f6629b09-2fa6-4ad6-e4c9-b2e5925ccb3d"
      },
      "execution_count": 101,
      "outputs": [
        {
          "output_type": "stream",
          "name": "stdout",
          "text": [
            "--2023-03-06 20:37:58--  https://storage.googleapis.com/ztm_tf_course/food_vision/07_efficientnetb0_feature_extract_model_mixed_precision.zip\n",
            "Resolving storage.googleapis.com (storage.googleapis.com)... 142.250.4.128, 142.251.10.128, 142.251.12.128, ...\n",
            "Connecting to storage.googleapis.com (storage.googleapis.com)|142.250.4.128|:443... connected.\n",
            "HTTP request sent, awaiting response... 200 OK\n",
            "Length: 16976857 (16M) [application/zip]\n",
            "Saving to: ‘07_efficientnetb0_feature_extract_model_mixed_precision.zip’\n",
            "\n",
            "07_efficientnetb0_f 100%[===================>]  16.19M  9.29MB/s    in 1.7s    \n",
            "\n",
            "2023-03-06 20:38:00 (9.29 MB/s) - ‘07_efficientnetb0_feature_extract_model_mixed_precision.zip’ saved [16976857/16976857]\n",
            "\n",
            "Archive:  07_efficientnetb0_feature_extract_model_mixed_precision.zip\n",
            "   creating: downloaded_gs_model/07_efficientnetb0_feature_extract_model_mixed_precision/\n",
            "   creating: downloaded_gs_model/07_efficientnetb0_feature_extract_model_mixed_precision/variables/\n",
            "  inflating: downloaded_gs_model/07_efficientnetb0_feature_extract_model_mixed_precision/variables/variables.data-00000-of-00001  \n",
            "  inflating: downloaded_gs_model/07_efficientnetb0_feature_extract_model_mixed_precision/variables/variables.index  \n",
            "  inflating: downloaded_gs_model/07_efficientnetb0_feature_extract_model_mixed_precision/saved_model.pb  \n",
            "   creating: downloaded_gs_model/07_efficientnetb0_feature_extract_model_mixed_precision/assets/\n"
          ]
        }
      ]
    },
    {
      "cell_type": "code",
      "source": [
        "# Load and evaluate the GS model\n",
        "model_gs = tf.keras.models.load_model('downloaded_gs_model/07_efficientnetb0_feature_extract_model_mixed_precision/')\n",
        "\n",
        "model_gs.evaluate(test_data)"
      ],
      "metadata": {
        "id": "YpJz5YKmpSnO"
      },
      "execution_count": null,
      "outputs": []
    },
    {
      "cell_type": "code",
      "source": [
        "# Get the summary of the model\n",
        "model_gs.summary()"
      ],
      "metadata": {
        "id": "4Ibfezwmpf4J"
      },
      "execution_count": null,
      "outputs": []
    },
    {
      "cell_type": "markdown",
      "source": [
        "### TODO: Preparing the model for fine-tuning"
      ],
      "metadata": {
        "id": "-gQRfZBmqVvh"
      }
    },
    {
      "cell_type": "code",
      "source": [
        "# Set all of the layers to 'trainable'\n",
        "for layer in model.layers:\n",
        "  layer.trainable = True\n",
        "  print(layer.name, layer.trainable, layer.dtype_policy)\n"
      ],
      "metadata": {
        "colab": {
          "base_uri": "https://localhost:8080/"
        },
        "id": "qPCvChuyp_PI",
        "outputId": "dcae61b7-9782-455f-c97d-3b5f827e2bd9"
      },
      "execution_count": 109,
      "outputs": [
        {
          "output_type": "stream",
          "name": "stdout",
          "text": [
            "input_layer True <Policy \"float32\">\n",
            "efficientnetb0 True <Policy \"mixed_float16\">\n",
            "global_average_pooling2d_4 True <Policy \"mixed_float16\">\n",
            "dense_4 True <Policy \"mixed_float16\">\n",
            "softmanx_float32 True <Policy \"float32\">\n"
          ]
        }
      ]
    },
    {
      "cell_type": "code",
      "source": [
        "# Check the dtype_policy for base_model\n",
        "for layer in model.layers[1].layers:\n",
        "  print(layer.trainable, layer.dtype, layer.dtype_policy)"
      ],
      "metadata": {
        "id": "07EMzxA-qfde"
      },
      "execution_count": null,
      "outputs": []
    },
    {
      "cell_type": "code",
      "source": [
        "# Setup the EarlyStopping callback to stop training if model's val_loss doesn't improve for 3 epochs\n",
        "early_stop = tf.keras.callbacks.EarlyStopping(monitor='val_loss',\n",
        "                                              patience=3,\n",
        "                                              verbose=1,\n",
        "                                              restore_best_weights=True)"
      ],
      "metadata": {
        "id": "JaptAMpOq8qo"
      },
      "execution_count": 111,
      "outputs": []
    },
    {
      "cell_type": "code",
      "source": [
        "# Create ModelCheckpoint callback to save best model during fine-tuning\n",
        "checkpoint_path = 'fine-tuning-checkpoint/'\n",
        "\n",
        "model_checkpoint = tf.keras.callbacks.ModelCheckpoint(checkpoint_path, \n",
        "                                                      verbose=1,\n",
        "                                                      save_weights_only=True,\n",
        "                                                      monitor='val_loss')"
      ],
      "metadata": {
        "id": "8EP_v_7or5Gj"
      },
      "execution_count": 118,
      "outputs": []
    },
    {
      "cell_type": "code",
      "source": [
        "# Compile the model ready for fine-tuning\n",
        "initial_epochs = 3\n",
        "fine_tune_epochs = initial_epochs + 100\n",
        "\n",
        "model.compile(loss=tf.keras.losses.SparseCategoricalCrossentropy(),\n",
        "              optimizer=tf.keras.optimizers.Adam(learning_rate=1e-4),\n",
        "              metrics=['accuracy'])"
      ],
      "metadata": {
        "id": "3GsV2zhCsZXF"
      },
      "execution_count": 119,
      "outputs": []
    },
    {
      "cell_type": "code",
      "source": [
        "# Start to fine-tune the model\n",
        "fine_tune_history = model.fit(train_data,\n",
        "                              epochs=fine_tune_epochs,\n",
        "                              steps_per_epoch=len(train_data),\n",
        "                              validation_data=test_data,\n",
        "                              validation_steps=int(0.15*len(test_data)),\n",
        "                              initial_epoch=history_101_food_classes.epoch[-1],\n",
        "                              callbacks=[create_tensorboard_callback(dir_name='tensorboard_callback',\n",
        "                                                                     experiment_name='fine_tune_model'),\n",
        "                                         model_checkpoint, \n",
        "                                         early_stop])"
      ],
      "metadata": {
        "colab": {
          "base_uri": "https://localhost:8080/"
        },
        "id": "8oSCtDyitF-c",
        "outputId": "c0fd144d-6bff-4f3b-c48b-9151b4b188cf"
      },
      "execution_count": null,
      "outputs": [
        {
          "output_type": "stream",
          "name": "stderr",
          "text": [
            "WARNING:tensorflow:Model failed to serialize as JSON. Ignoring... Unable to serialize [2.0896919 2.1128857 2.1081853] to JSON. Unrecognized type <class 'tensorflow.python.framework.ops.EagerTensor'>.\n"
          ]
        },
        {
          "output_type": "stream",
          "name": "stdout",
          "text": [
            "Saving TensorBoard log files to: tensorboard_callback/fine_tune_model/20230306-211835\n",
            "Epoch 3/103\n",
            "2368/2368 [==============================] - ETA: 0s - loss: 0.5432 - accuracy: 0.8480\n",
            "Epoch 3: saving model to fine-tuning-checkpoint/\n",
            "2368/2368 [==============================] - 440s 164ms/step - loss: 0.5432 - accuracy: 0.8480 - val_loss: 0.7515 - val_accuracy: 0.7913\n",
            "Epoch 4/103\n",
            " 229/2368 [=>............................] - ETA: 5:33 - loss: 0.2968 - accuracy: 0.9189"
          ]
        }
      ]
    },
    {
      "cell_type": "code",
      "source": [
        "tf.__version__"
      ],
      "metadata": {
        "colab": {
          "base_uri": "https://localhost:8080/",
          "height": 34
        },
        "id": "em-XZrnnurPZ",
        "outputId": "2e0a9342-fd16-4d39-a5b3-0e0dd45560a0"
      },
      "execution_count": 117,
      "outputs": [
        {
          "output_type": "execute_result",
          "data": {
            "text/plain": [
              "'2.11.0'"
            ],
            "application/vnd.google.colaboratory.intrinsic+json": {
              "type": "string"
            }
          },
          "metadata": {},
          "execution_count": 117
        }
      ]
    },
    {
      "cell_type": "code",
      "source": [
        "# Workaround for TF 2.10 & 2.11 issue: https://github.com/keras-team/keras/issues/17199: \"efficientnetBx model.save() fails due to serialization problem with tf2.10.0\"\n",
        "!RUN sudo sed -i 's/IMAGENET_STDDEV_RGB = \\[0.229, 0.224, 0.225\\]/IMAGENET_STDDEV_RGB = \\[1 \\/ math.sqrt(i) for i in \\[0.229, 0.224, 0.225\\]\\]/g' \\\n",
        "    /usr/local/lib/python3.8/dist-packages/keras/applications/efficientnet.py && \\\n",
        "    sudo sed -i 's/x = layers.Rescaling(1.0 \\/ tf.math.sqrt(IMAGENET_STDDEV_RGB))(x)/x = layers.Rescaling(IMAGENET_STDDEV_RGB)(x)/g' \\\n",
        "    /usr/local/lib/python3.8/dist-packages/keras/applications/efficientnet.py"
      ],
      "metadata": {
        "id": "_-0y-_ZPyT1S"
      },
      "execution_count": null,
      "outputs": []
    }
  ],
  "metadata": {
    "accelerator": "GPU",
    "colab": {
      "provenance": [],
      "collapsed_sections": [
        "JAZFVfYqmadS",
        "STyxM4z_m5jk",
        "ZLbojDZTp83O",
        "hiZvlXH-Hf3S",
        "Jco6V72CMprZ",
        "bM00etd-ZwTN",
        "FS6TXVrZ5lrD"
      ]
    },
    "gpuClass": "standard",
    "kernelspec": {
      "display_name": "Python 3",
      "name": "python3"
    },
    "language_info": {
      "name": "python"
    },
    "widgets": {
      "application/vnd.jupyter.widget-state+json": {
        "3b14533c73ff4e1a9a124b9e4808e193": {
          "model_module": "@jupyter-widgets/controls",
          "model_name": "HBoxModel",
          "model_module_version": "1.5.0",
          "state": {
            "_dom_classes": [],
            "_model_module": "@jupyter-widgets/controls",
            "_model_module_version": "1.5.0",
            "_model_name": "HBoxModel",
            "_view_count": null,
            "_view_module": "@jupyter-widgets/controls",
            "_view_module_version": "1.5.0",
            "_view_name": "HBoxView",
            "box_style": "",
            "children": [
              "IPY_MODEL_bf538597fb2e40649c62cee7b33a6d6b",
              "IPY_MODEL_fcb8a444c0b94925a3dc9b0efbec0cd9",
              "IPY_MODEL_d52d27fb30394cecbbdec4c8425dd205"
            ],
            "layout": "IPY_MODEL_2610d7dff7c9469dba94517810fa3dc1"
          }
        },
        "bf538597fb2e40649c62cee7b33a6d6b": {
          "model_module": "@jupyter-widgets/controls",
          "model_name": "HTMLModel",
          "model_module_version": "1.5.0",
          "state": {
            "_dom_classes": [],
            "_model_module": "@jupyter-widgets/controls",
            "_model_module_version": "1.5.0",
            "_model_name": "HTMLModel",
            "_view_count": null,
            "_view_module": "@jupyter-widgets/controls",
            "_view_module_version": "1.5.0",
            "_view_name": "HTMLView",
            "description": "",
            "description_tooltip": null,
            "layout": "IPY_MODEL_0520c7caa6f04ae39ecc045bff4b6ddc",
            "placeholder": "​",
            "style": "IPY_MODEL_fb2e76bfce41478a9fbacbc33660c99b",
            "value": "Dl Completed...: 100%"
          }
        },
        "fcb8a444c0b94925a3dc9b0efbec0cd9": {
          "model_module": "@jupyter-widgets/controls",
          "model_name": "FloatProgressModel",
          "model_module_version": "1.5.0",
          "state": {
            "_dom_classes": [],
            "_model_module": "@jupyter-widgets/controls",
            "_model_module_version": "1.5.0",
            "_model_name": "FloatProgressModel",
            "_view_count": null,
            "_view_module": "@jupyter-widgets/controls",
            "_view_module_version": "1.5.0",
            "_view_name": "ProgressView",
            "bar_style": "success",
            "description": "",
            "description_tooltip": null,
            "layout": "IPY_MODEL_ac2a66bc15aa4ce49d149443e9ba35e1",
            "max": 1,
            "min": 0,
            "orientation": "horizontal",
            "style": "IPY_MODEL_4b327216b5c94a8c9ccc61034cdc0f8e",
            "value": 1
          }
        },
        "d52d27fb30394cecbbdec4c8425dd205": {
          "model_module": "@jupyter-widgets/controls",
          "model_name": "HTMLModel",
          "model_module_version": "1.5.0",
          "state": {
            "_dom_classes": [],
            "_model_module": "@jupyter-widgets/controls",
            "_model_module_version": "1.5.0",
            "_model_name": "HTMLModel",
            "_view_count": null,
            "_view_module": "@jupyter-widgets/controls",
            "_view_module_version": "1.5.0",
            "_view_name": "HTMLView",
            "description": "",
            "description_tooltip": null,
            "layout": "IPY_MODEL_fc785e3507d24415ba047976d5286d9f",
            "placeholder": "​",
            "style": "IPY_MODEL_6098cddbb44f48b18c4e1f32ca4bd758",
            "value": " 1/1 [12:30&lt;00:00, 365.33s/ url]"
          }
        },
        "2610d7dff7c9469dba94517810fa3dc1": {
          "model_module": "@jupyter-widgets/base",
          "model_name": "LayoutModel",
          "model_module_version": "1.2.0",
          "state": {
            "_model_module": "@jupyter-widgets/base",
            "_model_module_version": "1.2.0",
            "_model_name": "LayoutModel",
            "_view_count": null,
            "_view_module": "@jupyter-widgets/base",
            "_view_module_version": "1.2.0",
            "_view_name": "LayoutView",
            "align_content": null,
            "align_items": null,
            "align_self": null,
            "border": null,
            "bottom": null,
            "display": null,
            "flex": null,
            "flex_flow": null,
            "grid_area": null,
            "grid_auto_columns": null,
            "grid_auto_flow": null,
            "grid_auto_rows": null,
            "grid_column": null,
            "grid_gap": null,
            "grid_row": null,
            "grid_template_areas": null,
            "grid_template_columns": null,
            "grid_template_rows": null,
            "height": null,
            "justify_content": null,
            "justify_items": null,
            "left": null,
            "margin": null,
            "max_height": null,
            "max_width": null,
            "min_height": null,
            "min_width": null,
            "object_fit": null,
            "object_position": null,
            "order": null,
            "overflow": null,
            "overflow_x": null,
            "overflow_y": null,
            "padding": null,
            "right": null,
            "top": null,
            "visibility": null,
            "width": null
          }
        },
        "0520c7caa6f04ae39ecc045bff4b6ddc": {
          "model_module": "@jupyter-widgets/base",
          "model_name": "LayoutModel",
          "model_module_version": "1.2.0",
          "state": {
            "_model_module": "@jupyter-widgets/base",
            "_model_module_version": "1.2.0",
            "_model_name": "LayoutModel",
            "_view_count": null,
            "_view_module": "@jupyter-widgets/base",
            "_view_module_version": "1.2.0",
            "_view_name": "LayoutView",
            "align_content": null,
            "align_items": null,
            "align_self": null,
            "border": null,
            "bottom": null,
            "display": null,
            "flex": null,
            "flex_flow": null,
            "grid_area": null,
            "grid_auto_columns": null,
            "grid_auto_flow": null,
            "grid_auto_rows": null,
            "grid_column": null,
            "grid_gap": null,
            "grid_row": null,
            "grid_template_areas": null,
            "grid_template_columns": null,
            "grid_template_rows": null,
            "height": null,
            "justify_content": null,
            "justify_items": null,
            "left": null,
            "margin": null,
            "max_height": null,
            "max_width": null,
            "min_height": null,
            "min_width": null,
            "object_fit": null,
            "object_position": null,
            "order": null,
            "overflow": null,
            "overflow_x": null,
            "overflow_y": null,
            "padding": null,
            "right": null,
            "top": null,
            "visibility": null,
            "width": null
          }
        },
        "fb2e76bfce41478a9fbacbc33660c99b": {
          "model_module": "@jupyter-widgets/controls",
          "model_name": "DescriptionStyleModel",
          "model_module_version": "1.5.0",
          "state": {
            "_model_module": "@jupyter-widgets/controls",
            "_model_module_version": "1.5.0",
            "_model_name": "DescriptionStyleModel",
            "_view_count": null,
            "_view_module": "@jupyter-widgets/base",
            "_view_module_version": "1.2.0",
            "_view_name": "StyleView",
            "description_width": ""
          }
        },
        "ac2a66bc15aa4ce49d149443e9ba35e1": {
          "model_module": "@jupyter-widgets/base",
          "model_name": "LayoutModel",
          "model_module_version": "1.2.0",
          "state": {
            "_model_module": "@jupyter-widgets/base",
            "_model_module_version": "1.2.0",
            "_model_name": "LayoutModel",
            "_view_count": null,
            "_view_module": "@jupyter-widgets/base",
            "_view_module_version": "1.2.0",
            "_view_name": "LayoutView",
            "align_content": null,
            "align_items": null,
            "align_self": null,
            "border": null,
            "bottom": null,
            "display": null,
            "flex": null,
            "flex_flow": null,
            "grid_area": null,
            "grid_auto_columns": null,
            "grid_auto_flow": null,
            "grid_auto_rows": null,
            "grid_column": null,
            "grid_gap": null,
            "grid_row": null,
            "grid_template_areas": null,
            "grid_template_columns": null,
            "grid_template_rows": null,
            "height": null,
            "justify_content": null,
            "justify_items": null,
            "left": null,
            "margin": null,
            "max_height": null,
            "max_width": null,
            "min_height": null,
            "min_width": null,
            "object_fit": null,
            "object_position": null,
            "order": null,
            "overflow": null,
            "overflow_x": null,
            "overflow_y": null,
            "padding": null,
            "right": null,
            "top": null,
            "visibility": null,
            "width": "20px"
          }
        },
        "4b327216b5c94a8c9ccc61034cdc0f8e": {
          "model_module": "@jupyter-widgets/controls",
          "model_name": "ProgressStyleModel",
          "model_module_version": "1.5.0",
          "state": {
            "_model_module": "@jupyter-widgets/controls",
            "_model_module_version": "1.5.0",
            "_model_name": "ProgressStyleModel",
            "_view_count": null,
            "_view_module": "@jupyter-widgets/base",
            "_view_module_version": "1.2.0",
            "_view_name": "StyleView",
            "bar_color": null,
            "description_width": ""
          }
        },
        "fc785e3507d24415ba047976d5286d9f": {
          "model_module": "@jupyter-widgets/base",
          "model_name": "LayoutModel",
          "model_module_version": "1.2.0",
          "state": {
            "_model_module": "@jupyter-widgets/base",
            "_model_module_version": "1.2.0",
            "_model_name": "LayoutModel",
            "_view_count": null,
            "_view_module": "@jupyter-widgets/base",
            "_view_module_version": "1.2.0",
            "_view_name": "LayoutView",
            "align_content": null,
            "align_items": null,
            "align_self": null,
            "border": null,
            "bottom": null,
            "display": null,
            "flex": null,
            "flex_flow": null,
            "grid_area": null,
            "grid_auto_columns": null,
            "grid_auto_flow": null,
            "grid_auto_rows": null,
            "grid_column": null,
            "grid_gap": null,
            "grid_row": null,
            "grid_template_areas": null,
            "grid_template_columns": null,
            "grid_template_rows": null,
            "height": null,
            "justify_content": null,
            "justify_items": null,
            "left": null,
            "margin": null,
            "max_height": null,
            "max_width": null,
            "min_height": null,
            "min_width": null,
            "object_fit": null,
            "object_position": null,
            "order": null,
            "overflow": null,
            "overflow_x": null,
            "overflow_y": null,
            "padding": null,
            "right": null,
            "top": null,
            "visibility": null,
            "width": null
          }
        },
        "6098cddbb44f48b18c4e1f32ca4bd758": {
          "model_module": "@jupyter-widgets/controls",
          "model_name": "DescriptionStyleModel",
          "model_module_version": "1.5.0",
          "state": {
            "_model_module": "@jupyter-widgets/controls",
            "_model_module_version": "1.5.0",
            "_model_name": "DescriptionStyleModel",
            "_view_count": null,
            "_view_module": "@jupyter-widgets/base",
            "_view_module_version": "1.2.0",
            "_view_name": "StyleView",
            "description_width": ""
          }
        },
        "00003077b10c4387a7765a2c255c5c46": {
          "model_module": "@jupyter-widgets/controls",
          "model_name": "HBoxModel",
          "model_module_version": "1.5.0",
          "state": {
            "_dom_classes": [],
            "_model_module": "@jupyter-widgets/controls",
            "_model_module_version": "1.5.0",
            "_model_name": "HBoxModel",
            "_view_count": null,
            "_view_module": "@jupyter-widgets/controls",
            "_view_module_version": "1.5.0",
            "_view_name": "HBoxView",
            "box_style": "",
            "children": [
              "IPY_MODEL_0589f739e2bb4c989b4caa7c1e889c05",
              "IPY_MODEL_de6a6bc26b584c0e83821f2acd11da27",
              "IPY_MODEL_c081d34f469e47d7b0e0334793420fbd"
            ],
            "layout": "IPY_MODEL_e78724a635f54b99a9a047d7a53b0c7b"
          }
        },
        "0589f739e2bb4c989b4caa7c1e889c05": {
          "model_module": "@jupyter-widgets/controls",
          "model_name": "HTMLModel",
          "model_module_version": "1.5.0",
          "state": {
            "_dom_classes": [],
            "_model_module": "@jupyter-widgets/controls",
            "_model_module_version": "1.5.0",
            "_model_name": "HTMLModel",
            "_view_count": null,
            "_view_module": "@jupyter-widgets/controls",
            "_view_module_version": "1.5.0",
            "_view_name": "HTMLView",
            "description": "",
            "description_tooltip": null,
            "layout": "IPY_MODEL_fff8b6fe3bdd440aa8b212a33cf9d634",
            "placeholder": "​",
            "style": "IPY_MODEL_d05b0b139998426ebea3ce8782e95d65",
            "value": "Dl Size...: 100%"
          }
        },
        "de6a6bc26b584c0e83821f2acd11da27": {
          "model_module": "@jupyter-widgets/controls",
          "model_name": "FloatProgressModel",
          "model_module_version": "1.5.0",
          "state": {
            "_dom_classes": [],
            "_model_module": "@jupyter-widgets/controls",
            "_model_module_version": "1.5.0",
            "_model_name": "FloatProgressModel",
            "_view_count": null,
            "_view_module": "@jupyter-widgets/controls",
            "_view_module_version": "1.5.0",
            "_view_name": "ProgressView",
            "bar_style": "success",
            "description": "",
            "description_tooltip": null,
            "layout": "IPY_MODEL_ab361f8f94174b2b82299305e3f91e56",
            "max": 1,
            "min": 0,
            "orientation": "horizontal",
            "style": "IPY_MODEL_7fe55c1ebc7a476082f2952ca006da2c",
            "value": 1
          }
        },
        "c081d34f469e47d7b0e0334793420fbd": {
          "model_module": "@jupyter-widgets/controls",
          "model_name": "HTMLModel",
          "model_module_version": "1.5.0",
          "state": {
            "_dom_classes": [],
            "_model_module": "@jupyter-widgets/controls",
            "_model_module_version": "1.5.0",
            "_model_name": "HTMLModel",
            "_view_count": null,
            "_view_module": "@jupyter-widgets/controls",
            "_view_module_version": "1.5.0",
            "_view_name": "HTMLView",
            "description": "",
            "description_tooltip": null,
            "layout": "IPY_MODEL_8ec964a45893428aa7e900e526397938",
            "placeholder": "​",
            "style": "IPY_MODEL_c92e5c2baa504f24bf8d050d148cba00",
            "value": " 4764/4764 [12:30&lt;00:00, 10.39 MiB/s]"
          }
        },
        "e78724a635f54b99a9a047d7a53b0c7b": {
          "model_module": "@jupyter-widgets/base",
          "model_name": "LayoutModel",
          "model_module_version": "1.2.0",
          "state": {
            "_model_module": "@jupyter-widgets/base",
            "_model_module_version": "1.2.0",
            "_model_name": "LayoutModel",
            "_view_count": null,
            "_view_module": "@jupyter-widgets/base",
            "_view_module_version": "1.2.0",
            "_view_name": "LayoutView",
            "align_content": null,
            "align_items": null,
            "align_self": null,
            "border": null,
            "bottom": null,
            "display": null,
            "flex": null,
            "flex_flow": null,
            "grid_area": null,
            "grid_auto_columns": null,
            "grid_auto_flow": null,
            "grid_auto_rows": null,
            "grid_column": null,
            "grid_gap": null,
            "grid_row": null,
            "grid_template_areas": null,
            "grid_template_columns": null,
            "grid_template_rows": null,
            "height": null,
            "justify_content": null,
            "justify_items": null,
            "left": null,
            "margin": null,
            "max_height": null,
            "max_width": null,
            "min_height": null,
            "min_width": null,
            "object_fit": null,
            "object_position": null,
            "order": null,
            "overflow": null,
            "overflow_x": null,
            "overflow_y": null,
            "padding": null,
            "right": null,
            "top": null,
            "visibility": null,
            "width": null
          }
        },
        "fff8b6fe3bdd440aa8b212a33cf9d634": {
          "model_module": "@jupyter-widgets/base",
          "model_name": "LayoutModel",
          "model_module_version": "1.2.0",
          "state": {
            "_model_module": "@jupyter-widgets/base",
            "_model_module_version": "1.2.0",
            "_model_name": "LayoutModel",
            "_view_count": null,
            "_view_module": "@jupyter-widgets/base",
            "_view_module_version": "1.2.0",
            "_view_name": "LayoutView",
            "align_content": null,
            "align_items": null,
            "align_self": null,
            "border": null,
            "bottom": null,
            "display": null,
            "flex": null,
            "flex_flow": null,
            "grid_area": null,
            "grid_auto_columns": null,
            "grid_auto_flow": null,
            "grid_auto_rows": null,
            "grid_column": null,
            "grid_gap": null,
            "grid_row": null,
            "grid_template_areas": null,
            "grid_template_columns": null,
            "grid_template_rows": null,
            "height": null,
            "justify_content": null,
            "justify_items": null,
            "left": null,
            "margin": null,
            "max_height": null,
            "max_width": null,
            "min_height": null,
            "min_width": null,
            "object_fit": null,
            "object_position": null,
            "order": null,
            "overflow": null,
            "overflow_x": null,
            "overflow_y": null,
            "padding": null,
            "right": null,
            "top": null,
            "visibility": null,
            "width": null
          }
        },
        "d05b0b139998426ebea3ce8782e95d65": {
          "model_module": "@jupyter-widgets/controls",
          "model_name": "DescriptionStyleModel",
          "model_module_version": "1.5.0",
          "state": {
            "_model_module": "@jupyter-widgets/controls",
            "_model_module_version": "1.5.0",
            "_model_name": "DescriptionStyleModel",
            "_view_count": null,
            "_view_module": "@jupyter-widgets/base",
            "_view_module_version": "1.2.0",
            "_view_name": "StyleView",
            "description_width": ""
          }
        },
        "ab361f8f94174b2b82299305e3f91e56": {
          "model_module": "@jupyter-widgets/base",
          "model_name": "LayoutModel",
          "model_module_version": "1.2.0",
          "state": {
            "_model_module": "@jupyter-widgets/base",
            "_model_module_version": "1.2.0",
            "_model_name": "LayoutModel",
            "_view_count": null,
            "_view_module": "@jupyter-widgets/base",
            "_view_module_version": "1.2.0",
            "_view_name": "LayoutView",
            "align_content": null,
            "align_items": null,
            "align_self": null,
            "border": null,
            "bottom": null,
            "display": null,
            "flex": null,
            "flex_flow": null,
            "grid_area": null,
            "grid_auto_columns": null,
            "grid_auto_flow": null,
            "grid_auto_rows": null,
            "grid_column": null,
            "grid_gap": null,
            "grid_row": null,
            "grid_template_areas": null,
            "grid_template_columns": null,
            "grid_template_rows": null,
            "height": null,
            "justify_content": null,
            "justify_items": null,
            "left": null,
            "margin": null,
            "max_height": null,
            "max_width": null,
            "min_height": null,
            "min_width": null,
            "object_fit": null,
            "object_position": null,
            "order": null,
            "overflow": null,
            "overflow_x": null,
            "overflow_y": null,
            "padding": null,
            "right": null,
            "top": null,
            "visibility": null,
            "width": "20px"
          }
        },
        "7fe55c1ebc7a476082f2952ca006da2c": {
          "model_module": "@jupyter-widgets/controls",
          "model_name": "ProgressStyleModel",
          "model_module_version": "1.5.0",
          "state": {
            "_model_module": "@jupyter-widgets/controls",
            "_model_module_version": "1.5.0",
            "_model_name": "ProgressStyleModel",
            "_view_count": null,
            "_view_module": "@jupyter-widgets/base",
            "_view_module_version": "1.2.0",
            "_view_name": "StyleView",
            "bar_color": null,
            "description_width": ""
          }
        },
        "8ec964a45893428aa7e900e526397938": {
          "model_module": "@jupyter-widgets/base",
          "model_name": "LayoutModel",
          "model_module_version": "1.2.0",
          "state": {
            "_model_module": "@jupyter-widgets/base",
            "_model_module_version": "1.2.0",
            "_model_name": "LayoutModel",
            "_view_count": null,
            "_view_module": "@jupyter-widgets/base",
            "_view_module_version": "1.2.0",
            "_view_name": "LayoutView",
            "align_content": null,
            "align_items": null,
            "align_self": null,
            "border": null,
            "bottom": null,
            "display": null,
            "flex": null,
            "flex_flow": null,
            "grid_area": null,
            "grid_auto_columns": null,
            "grid_auto_flow": null,
            "grid_auto_rows": null,
            "grid_column": null,
            "grid_gap": null,
            "grid_row": null,
            "grid_template_areas": null,
            "grid_template_columns": null,
            "grid_template_rows": null,
            "height": null,
            "justify_content": null,
            "justify_items": null,
            "left": null,
            "margin": null,
            "max_height": null,
            "max_width": null,
            "min_height": null,
            "min_width": null,
            "object_fit": null,
            "object_position": null,
            "order": null,
            "overflow": null,
            "overflow_x": null,
            "overflow_y": null,
            "padding": null,
            "right": null,
            "top": null,
            "visibility": null,
            "width": null
          }
        },
        "c92e5c2baa504f24bf8d050d148cba00": {
          "model_module": "@jupyter-widgets/controls",
          "model_name": "DescriptionStyleModel",
          "model_module_version": "1.5.0",
          "state": {
            "_model_module": "@jupyter-widgets/controls",
            "_model_module_version": "1.5.0",
            "_model_name": "DescriptionStyleModel",
            "_view_count": null,
            "_view_module": "@jupyter-widgets/base",
            "_view_module_version": "1.2.0",
            "_view_name": "StyleView",
            "description_width": ""
          }
        },
        "a86db37ff5e1495d8541f971b182d915": {
          "model_module": "@jupyter-widgets/controls",
          "model_name": "HBoxModel",
          "model_module_version": "1.5.0",
          "state": {
            "_dom_classes": [],
            "_model_module": "@jupyter-widgets/controls",
            "_model_module_version": "1.5.0",
            "_model_name": "HBoxModel",
            "_view_count": null,
            "_view_module": "@jupyter-widgets/controls",
            "_view_module_version": "1.5.0",
            "_view_name": "HBoxView",
            "box_style": "",
            "children": [
              "IPY_MODEL_d86bc9405a444dcca07f0d8a9b450fb4",
              "IPY_MODEL_e42b4c94bed843a8a95a888f313d4ec1",
              "IPY_MODEL_d2c3797b19704421ae593716670ce110"
            ],
            "layout": "IPY_MODEL_4d1756247c014104920f5118996b522d"
          }
        },
        "d86bc9405a444dcca07f0d8a9b450fb4": {
          "model_module": "@jupyter-widgets/controls",
          "model_name": "HTMLModel",
          "model_module_version": "1.5.0",
          "state": {
            "_dom_classes": [],
            "_model_module": "@jupyter-widgets/controls",
            "_model_module_version": "1.5.0",
            "_model_name": "HTMLModel",
            "_view_count": null,
            "_view_module": "@jupyter-widgets/controls",
            "_view_module_version": "1.5.0",
            "_view_name": "HTMLView",
            "description": "",
            "description_tooltip": null,
            "layout": "IPY_MODEL_3fcb881e8b264df5a43d96e5007b7030",
            "placeholder": "​",
            "style": "IPY_MODEL_f523277cc5d743c7ae0adcdaa5995ece",
            "value": "Extraction completed...:  99%"
          }
        },
        "e42b4c94bed843a8a95a888f313d4ec1": {
          "model_module": "@jupyter-widgets/controls",
          "model_name": "FloatProgressModel",
          "model_module_version": "1.5.0",
          "state": {
            "_dom_classes": [],
            "_model_module": "@jupyter-widgets/controls",
            "_model_module_version": "1.5.0",
            "_model_name": "FloatProgressModel",
            "_view_count": null,
            "_view_module": "@jupyter-widgets/controls",
            "_view_module_version": "1.5.0",
            "_view_name": "ProgressView",
            "bar_style": "success",
            "description": "",
            "description_tooltip": null,
            "layout": "IPY_MODEL_ee495f462ae844ff8885f79bd8b37b04",
            "max": 1,
            "min": 0,
            "orientation": "horizontal",
            "style": "IPY_MODEL_c327bfc92aeb47d4921307d83a32122c",
            "value": 1
          }
        },
        "d2c3797b19704421ae593716670ce110": {
          "model_module": "@jupyter-widgets/controls",
          "model_name": "HTMLModel",
          "model_module_version": "1.5.0",
          "state": {
            "_dom_classes": [],
            "_model_module": "@jupyter-widgets/controls",
            "_model_module_version": "1.5.0",
            "_model_name": "HTMLModel",
            "_view_count": null,
            "_view_module": "@jupyter-widgets/controls",
            "_view_module_version": "1.5.0",
            "_view_name": "HTMLView",
            "description": "",
            "description_tooltip": null,
            "layout": "IPY_MODEL_1ed5fa9f2c42404c952d59ebd2b9bbb4",
            "placeholder": "​",
            "style": "IPY_MODEL_e9041dba45354b8fb9398be834cdc550",
            "value": " 101008/101008 [12:31&lt;00:00, 905.11 file/s]"
          }
        },
        "4d1756247c014104920f5118996b522d": {
          "model_module": "@jupyter-widgets/base",
          "model_name": "LayoutModel",
          "model_module_version": "1.2.0",
          "state": {
            "_model_module": "@jupyter-widgets/base",
            "_model_module_version": "1.2.0",
            "_model_name": "LayoutModel",
            "_view_count": null,
            "_view_module": "@jupyter-widgets/base",
            "_view_module_version": "1.2.0",
            "_view_name": "LayoutView",
            "align_content": null,
            "align_items": null,
            "align_self": null,
            "border": null,
            "bottom": null,
            "display": null,
            "flex": null,
            "flex_flow": null,
            "grid_area": null,
            "grid_auto_columns": null,
            "grid_auto_flow": null,
            "grid_auto_rows": null,
            "grid_column": null,
            "grid_gap": null,
            "grid_row": null,
            "grid_template_areas": null,
            "grid_template_columns": null,
            "grid_template_rows": null,
            "height": null,
            "justify_content": null,
            "justify_items": null,
            "left": null,
            "margin": null,
            "max_height": null,
            "max_width": null,
            "min_height": null,
            "min_width": null,
            "object_fit": null,
            "object_position": null,
            "order": null,
            "overflow": null,
            "overflow_x": null,
            "overflow_y": null,
            "padding": null,
            "right": null,
            "top": null,
            "visibility": null,
            "width": null
          }
        },
        "3fcb881e8b264df5a43d96e5007b7030": {
          "model_module": "@jupyter-widgets/base",
          "model_name": "LayoutModel",
          "model_module_version": "1.2.0",
          "state": {
            "_model_module": "@jupyter-widgets/base",
            "_model_module_version": "1.2.0",
            "_model_name": "LayoutModel",
            "_view_count": null,
            "_view_module": "@jupyter-widgets/base",
            "_view_module_version": "1.2.0",
            "_view_name": "LayoutView",
            "align_content": null,
            "align_items": null,
            "align_self": null,
            "border": null,
            "bottom": null,
            "display": null,
            "flex": null,
            "flex_flow": null,
            "grid_area": null,
            "grid_auto_columns": null,
            "grid_auto_flow": null,
            "grid_auto_rows": null,
            "grid_column": null,
            "grid_gap": null,
            "grid_row": null,
            "grid_template_areas": null,
            "grid_template_columns": null,
            "grid_template_rows": null,
            "height": null,
            "justify_content": null,
            "justify_items": null,
            "left": null,
            "margin": null,
            "max_height": null,
            "max_width": null,
            "min_height": null,
            "min_width": null,
            "object_fit": null,
            "object_position": null,
            "order": null,
            "overflow": null,
            "overflow_x": null,
            "overflow_y": null,
            "padding": null,
            "right": null,
            "top": null,
            "visibility": null,
            "width": null
          }
        },
        "f523277cc5d743c7ae0adcdaa5995ece": {
          "model_module": "@jupyter-widgets/controls",
          "model_name": "DescriptionStyleModel",
          "model_module_version": "1.5.0",
          "state": {
            "_model_module": "@jupyter-widgets/controls",
            "_model_module_version": "1.5.0",
            "_model_name": "DescriptionStyleModel",
            "_view_count": null,
            "_view_module": "@jupyter-widgets/base",
            "_view_module_version": "1.2.0",
            "_view_name": "StyleView",
            "description_width": ""
          }
        },
        "ee495f462ae844ff8885f79bd8b37b04": {
          "model_module": "@jupyter-widgets/base",
          "model_name": "LayoutModel",
          "model_module_version": "1.2.0",
          "state": {
            "_model_module": "@jupyter-widgets/base",
            "_model_module_version": "1.2.0",
            "_model_name": "LayoutModel",
            "_view_count": null,
            "_view_module": "@jupyter-widgets/base",
            "_view_module_version": "1.2.0",
            "_view_name": "LayoutView",
            "align_content": null,
            "align_items": null,
            "align_self": null,
            "border": null,
            "bottom": null,
            "display": null,
            "flex": null,
            "flex_flow": null,
            "grid_area": null,
            "grid_auto_columns": null,
            "grid_auto_flow": null,
            "grid_auto_rows": null,
            "grid_column": null,
            "grid_gap": null,
            "grid_row": null,
            "grid_template_areas": null,
            "grid_template_columns": null,
            "grid_template_rows": null,
            "height": null,
            "justify_content": null,
            "justify_items": null,
            "left": null,
            "margin": null,
            "max_height": null,
            "max_width": null,
            "min_height": null,
            "min_width": null,
            "object_fit": null,
            "object_position": null,
            "order": null,
            "overflow": null,
            "overflow_x": null,
            "overflow_y": null,
            "padding": null,
            "right": null,
            "top": null,
            "visibility": null,
            "width": "20px"
          }
        },
        "c327bfc92aeb47d4921307d83a32122c": {
          "model_module": "@jupyter-widgets/controls",
          "model_name": "ProgressStyleModel",
          "model_module_version": "1.5.0",
          "state": {
            "_model_module": "@jupyter-widgets/controls",
            "_model_module_version": "1.5.0",
            "_model_name": "ProgressStyleModel",
            "_view_count": null,
            "_view_module": "@jupyter-widgets/base",
            "_view_module_version": "1.2.0",
            "_view_name": "StyleView",
            "bar_color": null,
            "description_width": ""
          }
        },
        "1ed5fa9f2c42404c952d59ebd2b9bbb4": {
          "model_module": "@jupyter-widgets/base",
          "model_name": "LayoutModel",
          "model_module_version": "1.2.0",
          "state": {
            "_model_module": "@jupyter-widgets/base",
            "_model_module_version": "1.2.0",
            "_model_name": "LayoutModel",
            "_view_count": null,
            "_view_module": "@jupyter-widgets/base",
            "_view_module_version": "1.2.0",
            "_view_name": "LayoutView",
            "align_content": null,
            "align_items": null,
            "align_self": null,
            "border": null,
            "bottom": null,
            "display": null,
            "flex": null,
            "flex_flow": null,
            "grid_area": null,
            "grid_auto_columns": null,
            "grid_auto_flow": null,
            "grid_auto_rows": null,
            "grid_column": null,
            "grid_gap": null,
            "grid_row": null,
            "grid_template_areas": null,
            "grid_template_columns": null,
            "grid_template_rows": null,
            "height": null,
            "justify_content": null,
            "justify_items": null,
            "left": null,
            "margin": null,
            "max_height": null,
            "max_width": null,
            "min_height": null,
            "min_width": null,
            "object_fit": null,
            "object_position": null,
            "order": null,
            "overflow": null,
            "overflow_x": null,
            "overflow_y": null,
            "padding": null,
            "right": null,
            "top": null,
            "visibility": null,
            "width": null
          }
        },
        "e9041dba45354b8fb9398be834cdc550": {
          "model_module": "@jupyter-widgets/controls",
          "model_name": "DescriptionStyleModel",
          "model_module_version": "1.5.0",
          "state": {
            "_model_module": "@jupyter-widgets/controls",
            "_model_module_version": "1.5.0",
            "_model_name": "DescriptionStyleModel",
            "_view_count": null,
            "_view_module": "@jupyter-widgets/base",
            "_view_module_version": "1.2.0",
            "_view_name": "StyleView",
            "description_width": ""
          }
        },
        "8b8129d14774483088653866a08d4b67": {
          "model_module": "@jupyter-widgets/controls",
          "model_name": "HBoxModel",
          "model_module_version": "1.5.0",
          "state": {
            "_dom_classes": [],
            "_model_module": "@jupyter-widgets/controls",
            "_model_module_version": "1.5.0",
            "_model_name": "HBoxModel",
            "_view_count": null,
            "_view_module": "@jupyter-widgets/controls",
            "_view_module_version": "1.5.0",
            "_view_name": "HBoxView",
            "box_style": "",
            "children": [
              "IPY_MODEL_bc23e4605bb045b4aa83fe676474c6a2",
              "IPY_MODEL_900725e2a0b141798cdbb232eb9ba17a",
              "IPY_MODEL_1cec9bd6a20a443c9f0d4ba868f634cc"
            ],
            "layout": "IPY_MODEL_0fa2f6b7df1a44c9bd49de99ca9d90a0"
          }
        },
        "bc23e4605bb045b4aa83fe676474c6a2": {
          "model_module": "@jupyter-widgets/controls",
          "model_name": "HTMLModel",
          "model_module_version": "1.5.0",
          "state": {
            "_dom_classes": [],
            "_model_module": "@jupyter-widgets/controls",
            "_model_module_version": "1.5.0",
            "_model_name": "HTMLModel",
            "_view_count": null,
            "_view_module": "@jupyter-widgets/controls",
            "_view_module_version": "1.5.0",
            "_view_name": "HTMLView",
            "description": "",
            "description_tooltip": null,
            "layout": "IPY_MODEL_7e3abc89dcf7471db899861d1abdcf9e",
            "placeholder": "​",
            "style": "IPY_MODEL_a6bae7143e11436291c8f45d350b777c",
            "value": "Generating splits...: 100%"
          }
        },
        "900725e2a0b141798cdbb232eb9ba17a": {
          "model_module": "@jupyter-widgets/controls",
          "model_name": "FloatProgressModel",
          "model_module_version": "1.5.0",
          "state": {
            "_dom_classes": [],
            "_model_module": "@jupyter-widgets/controls",
            "_model_module_version": "1.5.0",
            "_model_name": "FloatProgressModel",
            "_view_count": null,
            "_view_module": "@jupyter-widgets/controls",
            "_view_module_version": "1.5.0",
            "_view_name": "ProgressView",
            "bar_style": "",
            "description": "",
            "description_tooltip": null,
            "layout": "IPY_MODEL_0c4d98b1e6674f3cb0d01b115635352b",
            "max": 2,
            "min": 0,
            "orientation": "horizontal",
            "style": "IPY_MODEL_b494635e8c064c57873500d66a880cb4",
            "value": 2
          }
        },
        "1cec9bd6a20a443c9f0d4ba868f634cc": {
          "model_module": "@jupyter-widgets/controls",
          "model_name": "HTMLModel",
          "model_module_version": "1.5.0",
          "state": {
            "_dom_classes": [],
            "_model_module": "@jupyter-widgets/controls",
            "_model_module_version": "1.5.0",
            "_model_name": "HTMLModel",
            "_view_count": null,
            "_view_module": "@jupyter-widgets/controls",
            "_view_module_version": "1.5.0",
            "_view_name": "HTMLView",
            "description": "",
            "description_tooltip": null,
            "layout": "IPY_MODEL_3c62dfb8cffe476c87aaf394ae1ba727",
            "placeholder": "​",
            "style": "IPY_MODEL_0dd0491eeadf4d68bf0146c12ff1a3fe",
            "value": " 2/2 [03:28&lt;00:00, 97.43s/ splits]"
          }
        },
        "0fa2f6b7df1a44c9bd49de99ca9d90a0": {
          "model_module": "@jupyter-widgets/base",
          "model_name": "LayoutModel",
          "model_module_version": "1.2.0",
          "state": {
            "_model_module": "@jupyter-widgets/base",
            "_model_module_version": "1.2.0",
            "_model_name": "LayoutModel",
            "_view_count": null,
            "_view_module": "@jupyter-widgets/base",
            "_view_module_version": "1.2.0",
            "_view_name": "LayoutView",
            "align_content": null,
            "align_items": null,
            "align_self": null,
            "border": null,
            "bottom": null,
            "display": null,
            "flex": null,
            "flex_flow": null,
            "grid_area": null,
            "grid_auto_columns": null,
            "grid_auto_flow": null,
            "grid_auto_rows": null,
            "grid_column": null,
            "grid_gap": null,
            "grid_row": null,
            "grid_template_areas": null,
            "grid_template_columns": null,
            "grid_template_rows": null,
            "height": null,
            "justify_content": null,
            "justify_items": null,
            "left": null,
            "margin": null,
            "max_height": null,
            "max_width": null,
            "min_height": null,
            "min_width": null,
            "object_fit": null,
            "object_position": null,
            "order": null,
            "overflow": null,
            "overflow_x": null,
            "overflow_y": null,
            "padding": null,
            "right": null,
            "top": null,
            "visibility": "hidden",
            "width": null
          }
        },
        "7e3abc89dcf7471db899861d1abdcf9e": {
          "model_module": "@jupyter-widgets/base",
          "model_name": "LayoutModel",
          "model_module_version": "1.2.0",
          "state": {
            "_model_module": "@jupyter-widgets/base",
            "_model_module_version": "1.2.0",
            "_model_name": "LayoutModel",
            "_view_count": null,
            "_view_module": "@jupyter-widgets/base",
            "_view_module_version": "1.2.0",
            "_view_name": "LayoutView",
            "align_content": null,
            "align_items": null,
            "align_self": null,
            "border": null,
            "bottom": null,
            "display": null,
            "flex": null,
            "flex_flow": null,
            "grid_area": null,
            "grid_auto_columns": null,
            "grid_auto_flow": null,
            "grid_auto_rows": null,
            "grid_column": null,
            "grid_gap": null,
            "grid_row": null,
            "grid_template_areas": null,
            "grid_template_columns": null,
            "grid_template_rows": null,
            "height": null,
            "justify_content": null,
            "justify_items": null,
            "left": null,
            "margin": null,
            "max_height": null,
            "max_width": null,
            "min_height": null,
            "min_width": null,
            "object_fit": null,
            "object_position": null,
            "order": null,
            "overflow": null,
            "overflow_x": null,
            "overflow_y": null,
            "padding": null,
            "right": null,
            "top": null,
            "visibility": null,
            "width": null
          }
        },
        "a6bae7143e11436291c8f45d350b777c": {
          "model_module": "@jupyter-widgets/controls",
          "model_name": "DescriptionStyleModel",
          "model_module_version": "1.5.0",
          "state": {
            "_model_module": "@jupyter-widgets/controls",
            "_model_module_version": "1.5.0",
            "_model_name": "DescriptionStyleModel",
            "_view_count": null,
            "_view_module": "@jupyter-widgets/base",
            "_view_module_version": "1.2.0",
            "_view_name": "StyleView",
            "description_width": ""
          }
        },
        "0c4d98b1e6674f3cb0d01b115635352b": {
          "model_module": "@jupyter-widgets/base",
          "model_name": "LayoutModel",
          "model_module_version": "1.2.0",
          "state": {
            "_model_module": "@jupyter-widgets/base",
            "_model_module_version": "1.2.0",
            "_model_name": "LayoutModel",
            "_view_count": null,
            "_view_module": "@jupyter-widgets/base",
            "_view_module_version": "1.2.0",
            "_view_name": "LayoutView",
            "align_content": null,
            "align_items": null,
            "align_self": null,
            "border": null,
            "bottom": null,
            "display": null,
            "flex": null,
            "flex_flow": null,
            "grid_area": null,
            "grid_auto_columns": null,
            "grid_auto_flow": null,
            "grid_auto_rows": null,
            "grid_column": null,
            "grid_gap": null,
            "grid_row": null,
            "grid_template_areas": null,
            "grid_template_columns": null,
            "grid_template_rows": null,
            "height": null,
            "justify_content": null,
            "justify_items": null,
            "left": null,
            "margin": null,
            "max_height": null,
            "max_width": null,
            "min_height": null,
            "min_width": null,
            "object_fit": null,
            "object_position": null,
            "order": null,
            "overflow": null,
            "overflow_x": null,
            "overflow_y": null,
            "padding": null,
            "right": null,
            "top": null,
            "visibility": null,
            "width": null
          }
        },
        "b494635e8c064c57873500d66a880cb4": {
          "model_module": "@jupyter-widgets/controls",
          "model_name": "ProgressStyleModel",
          "model_module_version": "1.5.0",
          "state": {
            "_model_module": "@jupyter-widgets/controls",
            "_model_module_version": "1.5.0",
            "_model_name": "ProgressStyleModel",
            "_view_count": null,
            "_view_module": "@jupyter-widgets/base",
            "_view_module_version": "1.2.0",
            "_view_name": "StyleView",
            "bar_color": null,
            "description_width": ""
          }
        },
        "3c62dfb8cffe476c87aaf394ae1ba727": {
          "model_module": "@jupyter-widgets/base",
          "model_name": "LayoutModel",
          "model_module_version": "1.2.0",
          "state": {
            "_model_module": "@jupyter-widgets/base",
            "_model_module_version": "1.2.0",
            "_model_name": "LayoutModel",
            "_view_count": null,
            "_view_module": "@jupyter-widgets/base",
            "_view_module_version": "1.2.0",
            "_view_name": "LayoutView",
            "align_content": null,
            "align_items": null,
            "align_self": null,
            "border": null,
            "bottom": null,
            "display": null,
            "flex": null,
            "flex_flow": null,
            "grid_area": null,
            "grid_auto_columns": null,
            "grid_auto_flow": null,
            "grid_auto_rows": null,
            "grid_column": null,
            "grid_gap": null,
            "grid_row": null,
            "grid_template_areas": null,
            "grid_template_columns": null,
            "grid_template_rows": null,
            "height": null,
            "justify_content": null,
            "justify_items": null,
            "left": null,
            "margin": null,
            "max_height": null,
            "max_width": null,
            "min_height": null,
            "min_width": null,
            "object_fit": null,
            "object_position": null,
            "order": null,
            "overflow": null,
            "overflow_x": null,
            "overflow_y": null,
            "padding": null,
            "right": null,
            "top": null,
            "visibility": null,
            "width": null
          }
        },
        "0dd0491eeadf4d68bf0146c12ff1a3fe": {
          "model_module": "@jupyter-widgets/controls",
          "model_name": "DescriptionStyleModel",
          "model_module_version": "1.5.0",
          "state": {
            "_model_module": "@jupyter-widgets/controls",
            "_model_module_version": "1.5.0",
            "_model_name": "DescriptionStyleModel",
            "_view_count": null,
            "_view_module": "@jupyter-widgets/base",
            "_view_module_version": "1.2.0",
            "_view_name": "StyleView",
            "description_width": ""
          }
        },
        "75c769d451f64a96858d9daf224fc89c": {
          "model_module": "@jupyter-widgets/controls",
          "model_name": "HBoxModel",
          "model_module_version": "1.5.0",
          "state": {
            "_dom_classes": [],
            "_model_module": "@jupyter-widgets/controls",
            "_model_module_version": "1.5.0",
            "_model_name": "HBoxModel",
            "_view_count": null,
            "_view_module": "@jupyter-widgets/controls",
            "_view_module_version": "1.5.0",
            "_view_name": "HBoxView",
            "box_style": "",
            "children": [
              "IPY_MODEL_618d2c4c2074430f9e6c93a51aaeb7f0",
              "IPY_MODEL_19f8d0576bc34d20a888682a8e8b6d38",
              "IPY_MODEL_dd447c90be85457fafbcf08a8cb67c66"
            ],
            "layout": "IPY_MODEL_2239a07193c14c399521722a544346c0"
          }
        },
        "618d2c4c2074430f9e6c93a51aaeb7f0": {
          "model_module": "@jupyter-widgets/controls",
          "model_name": "HTMLModel",
          "model_module_version": "1.5.0",
          "state": {
            "_dom_classes": [],
            "_model_module": "@jupyter-widgets/controls",
            "_model_module_version": "1.5.0",
            "_model_name": "HTMLModel",
            "_view_count": null,
            "_view_module": "@jupyter-widgets/controls",
            "_view_module_version": "1.5.0",
            "_view_name": "HTMLView",
            "description": "",
            "description_tooltip": null,
            "layout": "IPY_MODEL_fc49ef3406544a9fbcafbae03dfe0840",
            "placeholder": "​",
            "style": "IPY_MODEL_4b2b94e2334a40caa9a449e06b3c8eb2",
            "value": "Generating train examples...: "
          }
        },
        "19f8d0576bc34d20a888682a8e8b6d38": {
          "model_module": "@jupyter-widgets/controls",
          "model_name": "FloatProgressModel",
          "model_module_version": "1.5.0",
          "state": {
            "_dom_classes": [],
            "_model_module": "@jupyter-widgets/controls",
            "_model_module_version": "1.5.0",
            "_model_name": "FloatProgressModel",
            "_view_count": null,
            "_view_module": "@jupyter-widgets/controls",
            "_view_module_version": "1.5.0",
            "_view_name": "ProgressView",
            "bar_style": "info",
            "description": "",
            "description_tooltip": null,
            "layout": "IPY_MODEL_b8c1e0cd9b444ef39bf163e64b944bd5",
            "max": 1,
            "min": 0,
            "orientation": "horizontal",
            "style": "IPY_MODEL_3fb16662e91b42c7b00475ab4ac5b8f1",
            "value": 1
          }
        },
        "dd447c90be85457fafbcf08a8cb67c66": {
          "model_module": "@jupyter-widgets/controls",
          "model_name": "HTMLModel",
          "model_module_version": "1.5.0",
          "state": {
            "_dom_classes": [],
            "_model_module": "@jupyter-widgets/controls",
            "_model_module_version": "1.5.0",
            "_model_name": "HTMLModel",
            "_view_count": null,
            "_view_module": "@jupyter-widgets/controls",
            "_view_module_version": "1.5.0",
            "_view_name": "HTMLView",
            "description": "",
            "description_tooltip": null,
            "layout": "IPY_MODEL_9a360a4edbbe44198f71b90b8c8fb186",
            "placeholder": "​",
            "style": "IPY_MODEL_fb3bf3e738074e3295be6198636753c3",
            "value": " 75679/? [01:52&lt;00:00, 685.80 examples/s]"
          }
        },
        "2239a07193c14c399521722a544346c0": {
          "model_module": "@jupyter-widgets/base",
          "model_name": "LayoutModel",
          "model_module_version": "1.2.0",
          "state": {
            "_model_module": "@jupyter-widgets/base",
            "_model_module_version": "1.2.0",
            "_model_name": "LayoutModel",
            "_view_count": null,
            "_view_module": "@jupyter-widgets/base",
            "_view_module_version": "1.2.0",
            "_view_name": "LayoutView",
            "align_content": null,
            "align_items": null,
            "align_self": null,
            "border": null,
            "bottom": null,
            "display": null,
            "flex": null,
            "flex_flow": null,
            "grid_area": null,
            "grid_auto_columns": null,
            "grid_auto_flow": null,
            "grid_auto_rows": null,
            "grid_column": null,
            "grid_gap": null,
            "grid_row": null,
            "grid_template_areas": null,
            "grid_template_columns": null,
            "grid_template_rows": null,
            "height": null,
            "justify_content": null,
            "justify_items": null,
            "left": null,
            "margin": null,
            "max_height": null,
            "max_width": null,
            "min_height": null,
            "min_width": null,
            "object_fit": null,
            "object_position": null,
            "order": null,
            "overflow": null,
            "overflow_x": null,
            "overflow_y": null,
            "padding": null,
            "right": null,
            "top": null,
            "visibility": "hidden",
            "width": null
          }
        },
        "fc49ef3406544a9fbcafbae03dfe0840": {
          "model_module": "@jupyter-widgets/base",
          "model_name": "LayoutModel",
          "model_module_version": "1.2.0",
          "state": {
            "_model_module": "@jupyter-widgets/base",
            "_model_module_version": "1.2.0",
            "_model_name": "LayoutModel",
            "_view_count": null,
            "_view_module": "@jupyter-widgets/base",
            "_view_module_version": "1.2.0",
            "_view_name": "LayoutView",
            "align_content": null,
            "align_items": null,
            "align_self": null,
            "border": null,
            "bottom": null,
            "display": null,
            "flex": null,
            "flex_flow": null,
            "grid_area": null,
            "grid_auto_columns": null,
            "grid_auto_flow": null,
            "grid_auto_rows": null,
            "grid_column": null,
            "grid_gap": null,
            "grid_row": null,
            "grid_template_areas": null,
            "grid_template_columns": null,
            "grid_template_rows": null,
            "height": null,
            "justify_content": null,
            "justify_items": null,
            "left": null,
            "margin": null,
            "max_height": null,
            "max_width": null,
            "min_height": null,
            "min_width": null,
            "object_fit": null,
            "object_position": null,
            "order": null,
            "overflow": null,
            "overflow_x": null,
            "overflow_y": null,
            "padding": null,
            "right": null,
            "top": null,
            "visibility": null,
            "width": null
          }
        },
        "4b2b94e2334a40caa9a449e06b3c8eb2": {
          "model_module": "@jupyter-widgets/controls",
          "model_name": "DescriptionStyleModel",
          "model_module_version": "1.5.0",
          "state": {
            "_model_module": "@jupyter-widgets/controls",
            "_model_module_version": "1.5.0",
            "_model_name": "DescriptionStyleModel",
            "_view_count": null,
            "_view_module": "@jupyter-widgets/base",
            "_view_module_version": "1.2.0",
            "_view_name": "StyleView",
            "description_width": ""
          }
        },
        "b8c1e0cd9b444ef39bf163e64b944bd5": {
          "model_module": "@jupyter-widgets/base",
          "model_name": "LayoutModel",
          "model_module_version": "1.2.0",
          "state": {
            "_model_module": "@jupyter-widgets/base",
            "_model_module_version": "1.2.0",
            "_model_name": "LayoutModel",
            "_view_count": null,
            "_view_module": "@jupyter-widgets/base",
            "_view_module_version": "1.2.0",
            "_view_name": "LayoutView",
            "align_content": null,
            "align_items": null,
            "align_self": null,
            "border": null,
            "bottom": null,
            "display": null,
            "flex": null,
            "flex_flow": null,
            "grid_area": null,
            "grid_auto_columns": null,
            "grid_auto_flow": null,
            "grid_auto_rows": null,
            "grid_column": null,
            "grid_gap": null,
            "grid_row": null,
            "grid_template_areas": null,
            "grid_template_columns": null,
            "grid_template_rows": null,
            "height": null,
            "justify_content": null,
            "justify_items": null,
            "left": null,
            "margin": null,
            "max_height": null,
            "max_width": null,
            "min_height": null,
            "min_width": null,
            "object_fit": null,
            "object_position": null,
            "order": null,
            "overflow": null,
            "overflow_x": null,
            "overflow_y": null,
            "padding": null,
            "right": null,
            "top": null,
            "visibility": null,
            "width": "20px"
          }
        },
        "3fb16662e91b42c7b00475ab4ac5b8f1": {
          "model_module": "@jupyter-widgets/controls",
          "model_name": "ProgressStyleModel",
          "model_module_version": "1.5.0",
          "state": {
            "_model_module": "@jupyter-widgets/controls",
            "_model_module_version": "1.5.0",
            "_model_name": "ProgressStyleModel",
            "_view_count": null,
            "_view_module": "@jupyter-widgets/base",
            "_view_module_version": "1.2.0",
            "_view_name": "StyleView",
            "bar_color": null,
            "description_width": ""
          }
        },
        "9a360a4edbbe44198f71b90b8c8fb186": {
          "model_module": "@jupyter-widgets/base",
          "model_name": "LayoutModel",
          "model_module_version": "1.2.0",
          "state": {
            "_model_module": "@jupyter-widgets/base",
            "_model_module_version": "1.2.0",
            "_model_name": "LayoutModel",
            "_view_count": null,
            "_view_module": "@jupyter-widgets/base",
            "_view_module_version": "1.2.0",
            "_view_name": "LayoutView",
            "align_content": null,
            "align_items": null,
            "align_self": null,
            "border": null,
            "bottom": null,
            "display": null,
            "flex": null,
            "flex_flow": null,
            "grid_area": null,
            "grid_auto_columns": null,
            "grid_auto_flow": null,
            "grid_auto_rows": null,
            "grid_column": null,
            "grid_gap": null,
            "grid_row": null,
            "grid_template_areas": null,
            "grid_template_columns": null,
            "grid_template_rows": null,
            "height": null,
            "justify_content": null,
            "justify_items": null,
            "left": null,
            "margin": null,
            "max_height": null,
            "max_width": null,
            "min_height": null,
            "min_width": null,
            "object_fit": null,
            "object_position": null,
            "order": null,
            "overflow": null,
            "overflow_x": null,
            "overflow_y": null,
            "padding": null,
            "right": null,
            "top": null,
            "visibility": null,
            "width": null
          }
        },
        "fb3bf3e738074e3295be6198636753c3": {
          "model_module": "@jupyter-widgets/controls",
          "model_name": "DescriptionStyleModel",
          "model_module_version": "1.5.0",
          "state": {
            "_model_module": "@jupyter-widgets/controls",
            "_model_module_version": "1.5.0",
            "_model_name": "DescriptionStyleModel",
            "_view_count": null,
            "_view_module": "@jupyter-widgets/base",
            "_view_module_version": "1.2.0",
            "_view_name": "StyleView",
            "description_width": ""
          }
        },
        "c5e4ea2bb1bf4a16802184c131c1a20b": {
          "model_module": "@jupyter-widgets/controls",
          "model_name": "HBoxModel",
          "model_module_version": "1.5.0",
          "state": {
            "_dom_classes": [],
            "_model_module": "@jupyter-widgets/controls",
            "_model_module_version": "1.5.0",
            "_model_name": "HBoxModel",
            "_view_count": null,
            "_view_module": "@jupyter-widgets/controls",
            "_view_module_version": "1.5.0",
            "_view_name": "HBoxView",
            "box_style": "",
            "children": [
              "IPY_MODEL_e929a62917cf47f1b26cb0abced956a2",
              "IPY_MODEL_8eb6288f7d704cdcb6021ac941bd55e4",
              "IPY_MODEL_87d43f020928492bab8a7a8c53c10fc2"
            ],
            "layout": "IPY_MODEL_a2a8adab46ac4a4d8c9324842fbe4f5a"
          }
        },
        "e929a62917cf47f1b26cb0abced956a2": {
          "model_module": "@jupyter-widgets/controls",
          "model_name": "HTMLModel",
          "model_module_version": "1.5.0",
          "state": {
            "_dom_classes": [],
            "_model_module": "@jupyter-widgets/controls",
            "_model_module_version": "1.5.0",
            "_model_name": "HTMLModel",
            "_view_count": null,
            "_view_module": "@jupyter-widgets/controls",
            "_view_module_version": "1.5.0",
            "_view_name": "HTMLView",
            "description": "",
            "description_tooltip": null,
            "layout": "IPY_MODEL_18863011cc0141679545511bf867fbeb",
            "placeholder": "​",
            "style": "IPY_MODEL_0c090574b2b2419a9a3b04fb10c493c0",
            "value": "Shuffling /root/tensorflow_datasets/food101/2.0.0.incompleteFX1E1M/food101-train.tfrecord*...: 100%"
          }
        },
        "8eb6288f7d704cdcb6021ac941bd55e4": {
          "model_module": "@jupyter-widgets/controls",
          "model_name": "FloatProgressModel",
          "model_module_version": "1.5.0",
          "state": {
            "_dom_classes": [],
            "_model_module": "@jupyter-widgets/controls",
            "_model_module_version": "1.5.0",
            "_model_name": "FloatProgressModel",
            "_view_count": null,
            "_view_module": "@jupyter-widgets/controls",
            "_view_module_version": "1.5.0",
            "_view_name": "ProgressView",
            "bar_style": "",
            "description": "",
            "description_tooltip": null,
            "layout": "IPY_MODEL_9e1720fe43414621bc748e15d90efa9c",
            "max": 75750,
            "min": 0,
            "orientation": "horizontal",
            "style": "IPY_MODEL_dd0716bdef724c27afe7e0456a60ae22",
            "value": 75750
          }
        },
        "87d43f020928492bab8a7a8c53c10fc2": {
          "model_module": "@jupyter-widgets/controls",
          "model_name": "HTMLModel",
          "model_module_version": "1.5.0",
          "state": {
            "_dom_classes": [],
            "_model_module": "@jupyter-widgets/controls",
            "_model_module_version": "1.5.0",
            "_model_name": "HTMLModel",
            "_view_count": null,
            "_view_module": "@jupyter-widgets/controls",
            "_view_module_version": "1.5.0",
            "_view_name": "HTMLView",
            "description": "",
            "description_tooltip": null,
            "layout": "IPY_MODEL_796915330e544140b55f7309c84c8b8e",
            "placeholder": "​",
            "style": "IPY_MODEL_2313e764b52b480b9aa23478fde3b7ab",
            "value": " 75636/75750 [00:31&lt;00:00, 2346.73 examples/s]"
          }
        },
        "a2a8adab46ac4a4d8c9324842fbe4f5a": {
          "model_module": "@jupyter-widgets/base",
          "model_name": "LayoutModel",
          "model_module_version": "1.2.0",
          "state": {
            "_model_module": "@jupyter-widgets/base",
            "_model_module_version": "1.2.0",
            "_model_name": "LayoutModel",
            "_view_count": null,
            "_view_module": "@jupyter-widgets/base",
            "_view_module_version": "1.2.0",
            "_view_name": "LayoutView",
            "align_content": null,
            "align_items": null,
            "align_self": null,
            "border": null,
            "bottom": null,
            "display": null,
            "flex": null,
            "flex_flow": null,
            "grid_area": null,
            "grid_auto_columns": null,
            "grid_auto_flow": null,
            "grid_auto_rows": null,
            "grid_column": null,
            "grid_gap": null,
            "grid_row": null,
            "grid_template_areas": null,
            "grid_template_columns": null,
            "grid_template_rows": null,
            "height": null,
            "justify_content": null,
            "justify_items": null,
            "left": null,
            "margin": null,
            "max_height": null,
            "max_width": null,
            "min_height": null,
            "min_width": null,
            "object_fit": null,
            "object_position": null,
            "order": null,
            "overflow": null,
            "overflow_x": null,
            "overflow_y": null,
            "padding": null,
            "right": null,
            "top": null,
            "visibility": "hidden",
            "width": null
          }
        },
        "18863011cc0141679545511bf867fbeb": {
          "model_module": "@jupyter-widgets/base",
          "model_name": "LayoutModel",
          "model_module_version": "1.2.0",
          "state": {
            "_model_module": "@jupyter-widgets/base",
            "_model_module_version": "1.2.0",
            "_model_name": "LayoutModel",
            "_view_count": null,
            "_view_module": "@jupyter-widgets/base",
            "_view_module_version": "1.2.0",
            "_view_name": "LayoutView",
            "align_content": null,
            "align_items": null,
            "align_self": null,
            "border": null,
            "bottom": null,
            "display": null,
            "flex": null,
            "flex_flow": null,
            "grid_area": null,
            "grid_auto_columns": null,
            "grid_auto_flow": null,
            "grid_auto_rows": null,
            "grid_column": null,
            "grid_gap": null,
            "grid_row": null,
            "grid_template_areas": null,
            "grid_template_columns": null,
            "grid_template_rows": null,
            "height": null,
            "justify_content": null,
            "justify_items": null,
            "left": null,
            "margin": null,
            "max_height": null,
            "max_width": null,
            "min_height": null,
            "min_width": null,
            "object_fit": null,
            "object_position": null,
            "order": null,
            "overflow": null,
            "overflow_x": null,
            "overflow_y": null,
            "padding": null,
            "right": null,
            "top": null,
            "visibility": null,
            "width": null
          }
        },
        "0c090574b2b2419a9a3b04fb10c493c0": {
          "model_module": "@jupyter-widgets/controls",
          "model_name": "DescriptionStyleModel",
          "model_module_version": "1.5.0",
          "state": {
            "_model_module": "@jupyter-widgets/controls",
            "_model_module_version": "1.5.0",
            "_model_name": "DescriptionStyleModel",
            "_view_count": null,
            "_view_module": "@jupyter-widgets/base",
            "_view_module_version": "1.2.0",
            "_view_name": "StyleView",
            "description_width": ""
          }
        },
        "9e1720fe43414621bc748e15d90efa9c": {
          "model_module": "@jupyter-widgets/base",
          "model_name": "LayoutModel",
          "model_module_version": "1.2.0",
          "state": {
            "_model_module": "@jupyter-widgets/base",
            "_model_module_version": "1.2.0",
            "_model_name": "LayoutModel",
            "_view_count": null,
            "_view_module": "@jupyter-widgets/base",
            "_view_module_version": "1.2.0",
            "_view_name": "LayoutView",
            "align_content": null,
            "align_items": null,
            "align_self": null,
            "border": null,
            "bottom": null,
            "display": null,
            "flex": null,
            "flex_flow": null,
            "grid_area": null,
            "grid_auto_columns": null,
            "grid_auto_flow": null,
            "grid_auto_rows": null,
            "grid_column": null,
            "grid_gap": null,
            "grid_row": null,
            "grid_template_areas": null,
            "grid_template_columns": null,
            "grid_template_rows": null,
            "height": null,
            "justify_content": null,
            "justify_items": null,
            "left": null,
            "margin": null,
            "max_height": null,
            "max_width": null,
            "min_height": null,
            "min_width": null,
            "object_fit": null,
            "object_position": null,
            "order": null,
            "overflow": null,
            "overflow_x": null,
            "overflow_y": null,
            "padding": null,
            "right": null,
            "top": null,
            "visibility": null,
            "width": null
          }
        },
        "dd0716bdef724c27afe7e0456a60ae22": {
          "model_module": "@jupyter-widgets/controls",
          "model_name": "ProgressStyleModel",
          "model_module_version": "1.5.0",
          "state": {
            "_model_module": "@jupyter-widgets/controls",
            "_model_module_version": "1.5.0",
            "_model_name": "ProgressStyleModel",
            "_view_count": null,
            "_view_module": "@jupyter-widgets/base",
            "_view_module_version": "1.2.0",
            "_view_name": "StyleView",
            "bar_color": null,
            "description_width": ""
          }
        },
        "796915330e544140b55f7309c84c8b8e": {
          "model_module": "@jupyter-widgets/base",
          "model_name": "LayoutModel",
          "model_module_version": "1.2.0",
          "state": {
            "_model_module": "@jupyter-widgets/base",
            "_model_module_version": "1.2.0",
            "_model_name": "LayoutModel",
            "_view_count": null,
            "_view_module": "@jupyter-widgets/base",
            "_view_module_version": "1.2.0",
            "_view_name": "LayoutView",
            "align_content": null,
            "align_items": null,
            "align_self": null,
            "border": null,
            "bottom": null,
            "display": null,
            "flex": null,
            "flex_flow": null,
            "grid_area": null,
            "grid_auto_columns": null,
            "grid_auto_flow": null,
            "grid_auto_rows": null,
            "grid_column": null,
            "grid_gap": null,
            "grid_row": null,
            "grid_template_areas": null,
            "grid_template_columns": null,
            "grid_template_rows": null,
            "height": null,
            "justify_content": null,
            "justify_items": null,
            "left": null,
            "margin": null,
            "max_height": null,
            "max_width": null,
            "min_height": null,
            "min_width": null,
            "object_fit": null,
            "object_position": null,
            "order": null,
            "overflow": null,
            "overflow_x": null,
            "overflow_y": null,
            "padding": null,
            "right": null,
            "top": null,
            "visibility": null,
            "width": null
          }
        },
        "2313e764b52b480b9aa23478fde3b7ab": {
          "model_module": "@jupyter-widgets/controls",
          "model_name": "DescriptionStyleModel",
          "model_module_version": "1.5.0",
          "state": {
            "_model_module": "@jupyter-widgets/controls",
            "_model_module_version": "1.5.0",
            "_model_name": "DescriptionStyleModel",
            "_view_count": null,
            "_view_module": "@jupyter-widgets/base",
            "_view_module_version": "1.2.0",
            "_view_name": "StyleView",
            "description_width": ""
          }
        },
        "cfd03f5f318145788be85974dd478d15": {
          "model_module": "@jupyter-widgets/controls",
          "model_name": "HBoxModel",
          "model_module_version": "1.5.0",
          "state": {
            "_dom_classes": [],
            "_model_module": "@jupyter-widgets/controls",
            "_model_module_version": "1.5.0",
            "_model_name": "HBoxModel",
            "_view_count": null,
            "_view_module": "@jupyter-widgets/controls",
            "_view_module_version": "1.5.0",
            "_view_name": "HBoxView",
            "box_style": "",
            "children": [
              "IPY_MODEL_fb9c4c0447ef43a9bed6b4a9faef34ab",
              "IPY_MODEL_db77b7504b6a4bf4bc3f0a3425619c0a",
              "IPY_MODEL_2a4cbb33d5f6420caa79636606a1e4c4"
            ],
            "layout": "IPY_MODEL_b4742e72cc6b448e8f1ada29c3988434"
          }
        },
        "fb9c4c0447ef43a9bed6b4a9faef34ab": {
          "model_module": "@jupyter-widgets/controls",
          "model_name": "HTMLModel",
          "model_module_version": "1.5.0",
          "state": {
            "_dom_classes": [],
            "_model_module": "@jupyter-widgets/controls",
            "_model_module_version": "1.5.0",
            "_model_name": "HTMLModel",
            "_view_count": null,
            "_view_module": "@jupyter-widgets/controls",
            "_view_module_version": "1.5.0",
            "_view_name": "HTMLView",
            "description": "",
            "description_tooltip": null,
            "layout": "IPY_MODEL_9665074550d9433193e310c4bf12a440",
            "placeholder": "​",
            "style": "IPY_MODEL_4c76d900dcab468d8dd33f30eb316876",
            "value": "Generating validation examples...: "
          }
        },
        "db77b7504b6a4bf4bc3f0a3425619c0a": {
          "model_module": "@jupyter-widgets/controls",
          "model_name": "FloatProgressModel",
          "model_module_version": "1.5.0",
          "state": {
            "_dom_classes": [],
            "_model_module": "@jupyter-widgets/controls",
            "_model_module_version": "1.5.0",
            "_model_name": "FloatProgressModel",
            "_view_count": null,
            "_view_module": "@jupyter-widgets/controls",
            "_view_module_version": "1.5.0",
            "_view_name": "ProgressView",
            "bar_style": "info",
            "description": "",
            "description_tooltip": null,
            "layout": "IPY_MODEL_1d5739083ccd49138157a341de1d7df0",
            "max": 1,
            "min": 0,
            "orientation": "horizontal",
            "style": "IPY_MODEL_afc94b4e9ce54976ad08063c144a72d2",
            "value": 1
          }
        },
        "2a4cbb33d5f6420caa79636606a1e4c4": {
          "model_module": "@jupyter-widgets/controls",
          "model_name": "HTMLModel",
          "model_module_version": "1.5.0",
          "state": {
            "_dom_classes": [],
            "_model_module": "@jupyter-widgets/controls",
            "_model_module_version": "1.5.0",
            "_model_name": "HTMLModel",
            "_view_count": null,
            "_view_module": "@jupyter-widgets/controls",
            "_view_module_version": "1.5.0",
            "_view_name": "HTMLView",
            "description": "",
            "description_tooltip": null,
            "layout": "IPY_MODEL_aa74f241da4344c8b43f5c1d5ac1e519",
            "placeholder": "​",
            "style": "IPY_MODEL_a15d2833de8c4c2b897179430173d720",
            "value": " 25248/? [00:59&lt;00:00, 474.23 examples/s]"
          }
        },
        "b4742e72cc6b448e8f1ada29c3988434": {
          "model_module": "@jupyter-widgets/base",
          "model_name": "LayoutModel",
          "model_module_version": "1.2.0",
          "state": {
            "_model_module": "@jupyter-widgets/base",
            "_model_module_version": "1.2.0",
            "_model_name": "LayoutModel",
            "_view_count": null,
            "_view_module": "@jupyter-widgets/base",
            "_view_module_version": "1.2.0",
            "_view_name": "LayoutView",
            "align_content": null,
            "align_items": null,
            "align_self": null,
            "border": null,
            "bottom": null,
            "display": null,
            "flex": null,
            "flex_flow": null,
            "grid_area": null,
            "grid_auto_columns": null,
            "grid_auto_flow": null,
            "grid_auto_rows": null,
            "grid_column": null,
            "grid_gap": null,
            "grid_row": null,
            "grid_template_areas": null,
            "grid_template_columns": null,
            "grid_template_rows": null,
            "height": null,
            "justify_content": null,
            "justify_items": null,
            "left": null,
            "margin": null,
            "max_height": null,
            "max_width": null,
            "min_height": null,
            "min_width": null,
            "object_fit": null,
            "object_position": null,
            "order": null,
            "overflow": null,
            "overflow_x": null,
            "overflow_y": null,
            "padding": null,
            "right": null,
            "top": null,
            "visibility": "hidden",
            "width": null
          }
        },
        "9665074550d9433193e310c4bf12a440": {
          "model_module": "@jupyter-widgets/base",
          "model_name": "LayoutModel",
          "model_module_version": "1.2.0",
          "state": {
            "_model_module": "@jupyter-widgets/base",
            "_model_module_version": "1.2.0",
            "_model_name": "LayoutModel",
            "_view_count": null,
            "_view_module": "@jupyter-widgets/base",
            "_view_module_version": "1.2.0",
            "_view_name": "LayoutView",
            "align_content": null,
            "align_items": null,
            "align_self": null,
            "border": null,
            "bottom": null,
            "display": null,
            "flex": null,
            "flex_flow": null,
            "grid_area": null,
            "grid_auto_columns": null,
            "grid_auto_flow": null,
            "grid_auto_rows": null,
            "grid_column": null,
            "grid_gap": null,
            "grid_row": null,
            "grid_template_areas": null,
            "grid_template_columns": null,
            "grid_template_rows": null,
            "height": null,
            "justify_content": null,
            "justify_items": null,
            "left": null,
            "margin": null,
            "max_height": null,
            "max_width": null,
            "min_height": null,
            "min_width": null,
            "object_fit": null,
            "object_position": null,
            "order": null,
            "overflow": null,
            "overflow_x": null,
            "overflow_y": null,
            "padding": null,
            "right": null,
            "top": null,
            "visibility": null,
            "width": null
          }
        },
        "4c76d900dcab468d8dd33f30eb316876": {
          "model_module": "@jupyter-widgets/controls",
          "model_name": "DescriptionStyleModel",
          "model_module_version": "1.5.0",
          "state": {
            "_model_module": "@jupyter-widgets/controls",
            "_model_module_version": "1.5.0",
            "_model_name": "DescriptionStyleModel",
            "_view_count": null,
            "_view_module": "@jupyter-widgets/base",
            "_view_module_version": "1.2.0",
            "_view_name": "StyleView",
            "description_width": ""
          }
        },
        "1d5739083ccd49138157a341de1d7df0": {
          "model_module": "@jupyter-widgets/base",
          "model_name": "LayoutModel",
          "model_module_version": "1.2.0",
          "state": {
            "_model_module": "@jupyter-widgets/base",
            "_model_module_version": "1.2.0",
            "_model_name": "LayoutModel",
            "_view_count": null,
            "_view_module": "@jupyter-widgets/base",
            "_view_module_version": "1.2.0",
            "_view_name": "LayoutView",
            "align_content": null,
            "align_items": null,
            "align_self": null,
            "border": null,
            "bottom": null,
            "display": null,
            "flex": null,
            "flex_flow": null,
            "grid_area": null,
            "grid_auto_columns": null,
            "grid_auto_flow": null,
            "grid_auto_rows": null,
            "grid_column": null,
            "grid_gap": null,
            "grid_row": null,
            "grid_template_areas": null,
            "grid_template_columns": null,
            "grid_template_rows": null,
            "height": null,
            "justify_content": null,
            "justify_items": null,
            "left": null,
            "margin": null,
            "max_height": null,
            "max_width": null,
            "min_height": null,
            "min_width": null,
            "object_fit": null,
            "object_position": null,
            "order": null,
            "overflow": null,
            "overflow_x": null,
            "overflow_y": null,
            "padding": null,
            "right": null,
            "top": null,
            "visibility": null,
            "width": "20px"
          }
        },
        "afc94b4e9ce54976ad08063c144a72d2": {
          "model_module": "@jupyter-widgets/controls",
          "model_name": "ProgressStyleModel",
          "model_module_version": "1.5.0",
          "state": {
            "_model_module": "@jupyter-widgets/controls",
            "_model_module_version": "1.5.0",
            "_model_name": "ProgressStyleModel",
            "_view_count": null,
            "_view_module": "@jupyter-widgets/base",
            "_view_module_version": "1.2.0",
            "_view_name": "StyleView",
            "bar_color": null,
            "description_width": ""
          }
        },
        "aa74f241da4344c8b43f5c1d5ac1e519": {
          "model_module": "@jupyter-widgets/base",
          "model_name": "LayoutModel",
          "model_module_version": "1.2.0",
          "state": {
            "_model_module": "@jupyter-widgets/base",
            "_model_module_version": "1.2.0",
            "_model_name": "LayoutModel",
            "_view_count": null,
            "_view_module": "@jupyter-widgets/base",
            "_view_module_version": "1.2.0",
            "_view_name": "LayoutView",
            "align_content": null,
            "align_items": null,
            "align_self": null,
            "border": null,
            "bottom": null,
            "display": null,
            "flex": null,
            "flex_flow": null,
            "grid_area": null,
            "grid_auto_columns": null,
            "grid_auto_flow": null,
            "grid_auto_rows": null,
            "grid_column": null,
            "grid_gap": null,
            "grid_row": null,
            "grid_template_areas": null,
            "grid_template_columns": null,
            "grid_template_rows": null,
            "height": null,
            "justify_content": null,
            "justify_items": null,
            "left": null,
            "margin": null,
            "max_height": null,
            "max_width": null,
            "min_height": null,
            "min_width": null,
            "object_fit": null,
            "object_position": null,
            "order": null,
            "overflow": null,
            "overflow_x": null,
            "overflow_y": null,
            "padding": null,
            "right": null,
            "top": null,
            "visibility": null,
            "width": null
          }
        },
        "a15d2833de8c4c2b897179430173d720": {
          "model_module": "@jupyter-widgets/controls",
          "model_name": "DescriptionStyleModel",
          "model_module_version": "1.5.0",
          "state": {
            "_model_module": "@jupyter-widgets/controls",
            "_model_module_version": "1.5.0",
            "_model_name": "DescriptionStyleModel",
            "_view_count": null,
            "_view_module": "@jupyter-widgets/base",
            "_view_module_version": "1.2.0",
            "_view_name": "StyleView",
            "description_width": ""
          }
        },
        "c37c1efa62f647c09222411cfedbe381": {
          "model_module": "@jupyter-widgets/controls",
          "model_name": "HBoxModel",
          "model_module_version": "1.5.0",
          "state": {
            "_dom_classes": [],
            "_model_module": "@jupyter-widgets/controls",
            "_model_module_version": "1.5.0",
            "_model_name": "HBoxModel",
            "_view_count": null,
            "_view_module": "@jupyter-widgets/controls",
            "_view_module_version": "1.5.0",
            "_view_name": "HBoxView",
            "box_style": "",
            "children": [
              "IPY_MODEL_a8c918b6e2a44b7eafc7c92596040af1",
              "IPY_MODEL_2593f6b99b8248939d6c252dcac42bdd",
              "IPY_MODEL_1c0198e0f4fe4d4f95076e43342bd4f2"
            ],
            "layout": "IPY_MODEL_b60aa95db7a14afab1d399880fe64fd7"
          }
        },
        "a8c918b6e2a44b7eafc7c92596040af1": {
          "model_module": "@jupyter-widgets/controls",
          "model_name": "HTMLModel",
          "model_module_version": "1.5.0",
          "state": {
            "_dom_classes": [],
            "_model_module": "@jupyter-widgets/controls",
            "_model_module_version": "1.5.0",
            "_model_name": "HTMLModel",
            "_view_count": null,
            "_view_module": "@jupyter-widgets/controls",
            "_view_module_version": "1.5.0",
            "_view_name": "HTMLView",
            "description": "",
            "description_tooltip": null,
            "layout": "IPY_MODEL_63eeef290aae479285b1586c0a70944d",
            "placeholder": "​",
            "style": "IPY_MODEL_a55e6e0adb3844c69bdc60afebff802f",
            "value": "Shuffling /root/tensorflow_datasets/food101/2.0.0.incompleteFX1E1M/food101-validation.tfrecord*...:  99%"
          }
        },
        "2593f6b99b8248939d6c252dcac42bdd": {
          "model_module": "@jupyter-widgets/controls",
          "model_name": "FloatProgressModel",
          "model_module_version": "1.5.0",
          "state": {
            "_dom_classes": [],
            "_model_module": "@jupyter-widgets/controls",
            "_model_module_version": "1.5.0",
            "_model_name": "FloatProgressModel",
            "_view_count": null,
            "_view_module": "@jupyter-widgets/controls",
            "_view_module_version": "1.5.0",
            "_view_name": "ProgressView",
            "bar_style": "",
            "description": "",
            "description_tooltip": null,
            "layout": "IPY_MODEL_fcec2732d86e467d8a40a7e5db432b6f",
            "max": 25250,
            "min": 0,
            "orientation": "horizontal",
            "style": "IPY_MODEL_f04358978d864e2395fb750ef5ab34d7",
            "value": 25250
          }
        },
        "1c0198e0f4fe4d4f95076e43342bd4f2": {
          "model_module": "@jupyter-widgets/controls",
          "model_name": "HTMLModel",
          "model_module_version": "1.5.0",
          "state": {
            "_dom_classes": [],
            "_model_module": "@jupyter-widgets/controls",
            "_model_module_version": "1.5.0",
            "_model_name": "HTMLModel",
            "_view_count": null,
            "_view_module": "@jupyter-widgets/controls",
            "_view_module_version": "1.5.0",
            "_view_name": "HTMLView",
            "description": "",
            "description_tooltip": null,
            "layout": "IPY_MODEL_67f67ff699914e5a84c77d417c71acc5",
            "placeholder": "​",
            "style": "IPY_MODEL_722b5fbbcad34790abdc832060702316",
            "value": " 25051/25250 [00:05&lt;00:00, 5336.58 examples/s]"
          }
        },
        "b60aa95db7a14afab1d399880fe64fd7": {
          "model_module": "@jupyter-widgets/base",
          "model_name": "LayoutModel",
          "model_module_version": "1.2.0",
          "state": {
            "_model_module": "@jupyter-widgets/base",
            "_model_module_version": "1.2.0",
            "_model_name": "LayoutModel",
            "_view_count": null,
            "_view_module": "@jupyter-widgets/base",
            "_view_module_version": "1.2.0",
            "_view_name": "LayoutView",
            "align_content": null,
            "align_items": null,
            "align_self": null,
            "border": null,
            "bottom": null,
            "display": null,
            "flex": null,
            "flex_flow": null,
            "grid_area": null,
            "grid_auto_columns": null,
            "grid_auto_flow": null,
            "grid_auto_rows": null,
            "grid_column": null,
            "grid_gap": null,
            "grid_row": null,
            "grid_template_areas": null,
            "grid_template_columns": null,
            "grid_template_rows": null,
            "height": null,
            "justify_content": null,
            "justify_items": null,
            "left": null,
            "margin": null,
            "max_height": null,
            "max_width": null,
            "min_height": null,
            "min_width": null,
            "object_fit": null,
            "object_position": null,
            "order": null,
            "overflow": null,
            "overflow_x": null,
            "overflow_y": null,
            "padding": null,
            "right": null,
            "top": null,
            "visibility": "hidden",
            "width": null
          }
        },
        "63eeef290aae479285b1586c0a70944d": {
          "model_module": "@jupyter-widgets/base",
          "model_name": "LayoutModel",
          "model_module_version": "1.2.0",
          "state": {
            "_model_module": "@jupyter-widgets/base",
            "_model_module_version": "1.2.0",
            "_model_name": "LayoutModel",
            "_view_count": null,
            "_view_module": "@jupyter-widgets/base",
            "_view_module_version": "1.2.0",
            "_view_name": "LayoutView",
            "align_content": null,
            "align_items": null,
            "align_self": null,
            "border": null,
            "bottom": null,
            "display": null,
            "flex": null,
            "flex_flow": null,
            "grid_area": null,
            "grid_auto_columns": null,
            "grid_auto_flow": null,
            "grid_auto_rows": null,
            "grid_column": null,
            "grid_gap": null,
            "grid_row": null,
            "grid_template_areas": null,
            "grid_template_columns": null,
            "grid_template_rows": null,
            "height": null,
            "justify_content": null,
            "justify_items": null,
            "left": null,
            "margin": null,
            "max_height": null,
            "max_width": null,
            "min_height": null,
            "min_width": null,
            "object_fit": null,
            "object_position": null,
            "order": null,
            "overflow": null,
            "overflow_x": null,
            "overflow_y": null,
            "padding": null,
            "right": null,
            "top": null,
            "visibility": null,
            "width": null
          }
        },
        "a55e6e0adb3844c69bdc60afebff802f": {
          "model_module": "@jupyter-widgets/controls",
          "model_name": "DescriptionStyleModel",
          "model_module_version": "1.5.0",
          "state": {
            "_model_module": "@jupyter-widgets/controls",
            "_model_module_version": "1.5.0",
            "_model_name": "DescriptionStyleModel",
            "_view_count": null,
            "_view_module": "@jupyter-widgets/base",
            "_view_module_version": "1.2.0",
            "_view_name": "StyleView",
            "description_width": ""
          }
        },
        "fcec2732d86e467d8a40a7e5db432b6f": {
          "model_module": "@jupyter-widgets/base",
          "model_name": "LayoutModel",
          "model_module_version": "1.2.0",
          "state": {
            "_model_module": "@jupyter-widgets/base",
            "_model_module_version": "1.2.0",
            "_model_name": "LayoutModel",
            "_view_count": null,
            "_view_module": "@jupyter-widgets/base",
            "_view_module_version": "1.2.0",
            "_view_name": "LayoutView",
            "align_content": null,
            "align_items": null,
            "align_self": null,
            "border": null,
            "bottom": null,
            "display": null,
            "flex": null,
            "flex_flow": null,
            "grid_area": null,
            "grid_auto_columns": null,
            "grid_auto_flow": null,
            "grid_auto_rows": null,
            "grid_column": null,
            "grid_gap": null,
            "grid_row": null,
            "grid_template_areas": null,
            "grid_template_columns": null,
            "grid_template_rows": null,
            "height": null,
            "justify_content": null,
            "justify_items": null,
            "left": null,
            "margin": null,
            "max_height": null,
            "max_width": null,
            "min_height": null,
            "min_width": null,
            "object_fit": null,
            "object_position": null,
            "order": null,
            "overflow": null,
            "overflow_x": null,
            "overflow_y": null,
            "padding": null,
            "right": null,
            "top": null,
            "visibility": null,
            "width": null
          }
        },
        "f04358978d864e2395fb750ef5ab34d7": {
          "model_module": "@jupyter-widgets/controls",
          "model_name": "ProgressStyleModel",
          "model_module_version": "1.5.0",
          "state": {
            "_model_module": "@jupyter-widgets/controls",
            "_model_module_version": "1.5.0",
            "_model_name": "ProgressStyleModel",
            "_view_count": null,
            "_view_module": "@jupyter-widgets/base",
            "_view_module_version": "1.2.0",
            "_view_name": "StyleView",
            "bar_color": null,
            "description_width": ""
          }
        },
        "67f67ff699914e5a84c77d417c71acc5": {
          "model_module": "@jupyter-widgets/base",
          "model_name": "LayoutModel",
          "model_module_version": "1.2.0",
          "state": {
            "_model_module": "@jupyter-widgets/base",
            "_model_module_version": "1.2.0",
            "_model_name": "LayoutModel",
            "_view_count": null,
            "_view_module": "@jupyter-widgets/base",
            "_view_module_version": "1.2.0",
            "_view_name": "LayoutView",
            "align_content": null,
            "align_items": null,
            "align_self": null,
            "border": null,
            "bottom": null,
            "display": null,
            "flex": null,
            "flex_flow": null,
            "grid_area": null,
            "grid_auto_columns": null,
            "grid_auto_flow": null,
            "grid_auto_rows": null,
            "grid_column": null,
            "grid_gap": null,
            "grid_row": null,
            "grid_template_areas": null,
            "grid_template_columns": null,
            "grid_template_rows": null,
            "height": null,
            "justify_content": null,
            "justify_items": null,
            "left": null,
            "margin": null,
            "max_height": null,
            "max_width": null,
            "min_height": null,
            "min_width": null,
            "object_fit": null,
            "object_position": null,
            "order": null,
            "overflow": null,
            "overflow_x": null,
            "overflow_y": null,
            "padding": null,
            "right": null,
            "top": null,
            "visibility": null,
            "width": null
          }
        },
        "722b5fbbcad34790abdc832060702316": {
          "model_module": "@jupyter-widgets/controls",
          "model_name": "DescriptionStyleModel",
          "model_module_version": "1.5.0",
          "state": {
            "_model_module": "@jupyter-widgets/controls",
            "_model_module_version": "1.5.0",
            "_model_name": "DescriptionStyleModel",
            "_view_count": null,
            "_view_module": "@jupyter-widgets/base",
            "_view_module_version": "1.2.0",
            "_view_name": "StyleView",
            "description_width": ""
          }
        }
      }
    }
  },
  "nbformat": 4,
  "nbformat_minor": 0
}