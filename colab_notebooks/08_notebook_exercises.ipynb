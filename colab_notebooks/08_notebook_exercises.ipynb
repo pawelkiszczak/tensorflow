{
  "cells": [
    {
      "cell_type": "markdown",
      "metadata": {
        "id": "p3Wd9F5_mAKH"
      },
      "source": [
        "# Exercise 1\n",
        "Rebuild , compile and train `model_1`, `model_2` and `model_5` using the `Keras Sequential API` instead of `Functional API`."
      ]
    },
    {
      "cell_type": "markdown",
      "metadata": {
        "id": "CPB-jO1qnq4Z"
      },
      "source": [
        "## Check the GPU"
      ]
    },
    {
      "cell_type": "code",
      "execution_count": 1,
      "metadata": {
        "colab": {
          "base_uri": "https://localhost:8080/"
        },
        "id": "KRIdOp0asnd4",
        "outputId": "1a2da061-fdc7-4523-f73b-fb2bab93aec8"
      },
      "outputs": [
        {
          "output_type": "stream",
          "name": "stdout",
          "text": [
            "Thu Mar 30 16:26:49 2023       \n",
            "+-----------------------------------------------------------------------------+\n",
            "| NVIDIA-SMI 525.85.12    Driver Version: 525.85.12    CUDA Version: 12.0     |\n",
            "|-------------------------------+----------------------+----------------------+\n",
            "| GPU  Name        Persistence-M| Bus-Id        Disp.A | Volatile Uncorr. ECC |\n",
            "| Fan  Temp  Perf  Pwr:Usage/Cap|         Memory-Usage | GPU-Util  Compute M. |\n",
            "|                               |                      |               MIG M. |\n",
            "|===============================+======================+======================|\n",
            "|   0  Tesla T4            Off  | 00000000:00:04.0 Off |                    0 |\n",
            "| N/A   68C    P8    10W /  70W |      0MiB / 15360MiB |      0%      Default |\n",
            "|                               |                      |                  N/A |\n",
            "+-------------------------------+----------------------+----------------------+\n",
            "                                                                               \n",
            "+-----------------------------------------------------------------------------+\n",
            "| Processes:                                                                  |\n",
            "|  GPU   GI   CI        PID   Type   Process name                  GPU Memory |\n",
            "|        ID   ID                                                   Usage      |\n",
            "|=============================================================================|\n",
            "|  No running processes found                                                 |\n",
            "+-----------------------------------------------------------------------------+\n"
          ]
        }
      ],
      "source": [
        "# Check for the GPU\n",
        "!nvidia-smi"
      ]
    },
    {
      "cell_type": "markdown",
      "metadata": {
        "id": "nVqGR_rBssW-"
      },
      "source": [
        "## Get the helper functions"
      ]
    },
    {
      "cell_type": "code",
      "execution_count": 2,
      "metadata": {
        "colab": {
          "base_uri": "https://localhost:8080/"
        },
        "id": "cRx_xrTGszcJ",
        "outputId": "8d617eee-940a-48f4-fd8f-b24fed509694"
      },
      "outputs": [
        {
          "output_type": "stream",
          "name": "stdout",
          "text": [
            "--2023-03-30 16:26:49--  https://raw.githubusercontent.com/mrdbourke/tensorflow-deep-learning/main/extras/helper_functions.py\n",
            "Resolving raw.githubusercontent.com (raw.githubusercontent.com)... 185.199.110.133, 185.199.108.133, 185.199.109.133, ...\n",
            "Connecting to raw.githubusercontent.com (raw.githubusercontent.com)|185.199.110.133|:443... connected.\n",
            "HTTP request sent, awaiting response... 200 OK\n",
            "Length: 10246 (10K) [text/plain]\n",
            "Saving to: ‘helper_functions.py.1’\n",
            "\n",
            "\rhelper_functions.py   0%[                    ]       0  --.-KB/s               \rhelper_functions.py 100%[===================>]  10.01K  --.-KB/s    in 0s      \n",
            "\n",
            "2023-03-30 16:26:49 (79.1 MB/s) - ‘helper_functions.py.1’ saved [10246/10246]\n",
            "\n"
          ]
        }
      ],
      "source": [
        "# Download the helper functions\n",
        "!wget https://raw.githubusercontent.com/mrdbourke/tensorflow-deep-learning/main/extras/helper_functions.py\n",
        "\n",
        "# Import series of helper functions for the notebook\n",
        "from helper_functions import unzip_data, create_tensorboard_callback"
      ]
    },
    {
      "cell_type": "markdown",
      "metadata": {
        "id": "-Qam418Xs3zu"
      },
      "source": [
        "## Get a text dataset"
      ]
    },
    {
      "cell_type": "code",
      "execution_count": 3,
      "metadata": {
        "colab": {
          "base_uri": "https://localhost:8080/"
        },
        "id": "UonJH4N0s7ai",
        "outputId": "b43c5398-311b-4ab4-c131-0bdf98c7b55c"
      },
      "outputs": [
        {
          "output_type": "stream",
          "name": "stdout",
          "text": [
            "--2023-03-30 16:27:03--  https://storage.googleapis.com/ztm_tf_course/nlp_getting_started.zip\n",
            "Resolving storage.googleapis.com (storage.googleapis.com)... 173.194.74.128, 173.194.192.128, 209.85.145.128, ...\n",
            "Connecting to storage.googleapis.com (storage.googleapis.com)|173.194.74.128|:443... connected.\n",
            "HTTP request sent, awaiting response... 200 OK\n",
            "Length: 607343 (593K) [application/zip]\n",
            "Saving to: ‘nlp_getting_started.zip.1’\n",
            "\n",
            "\r          nlp_getti   0%[                    ]       0  --.-KB/s               \rnlp_getting_started 100%[===================>] 593.11K  --.-KB/s    in 0.005s  \n",
            "\n",
            "2023-03-30 16:27:03 (112 MB/s) - ‘nlp_getting_started.zip.1’ saved [607343/607343]\n",
            "\n"
          ]
        }
      ],
      "source": [
        "# Download the data\n",
        "!wget https://storage.googleapis.com/ztm_tf_course/nlp_getting_started.zip\n",
        "\n",
        "# Unzip data\n",
        "unzip_data('nlp_getting_started.zip')"
      ]
    },
    {
      "cell_type": "code",
      "execution_count": 4,
      "metadata": {
        "id": "957zb8Mitr6O"
      },
      "outputs": [],
      "source": [
        "import pandas as pd\n",
        "\n",
        "train_data = pd.read_csv('train.csv')\n",
        "test_data = pd.read_csv('test.csv')"
      ]
    },
    {
      "cell_type": "code",
      "execution_count": 5,
      "metadata": {
        "colab": {
          "base_uri": "https://localhost:8080/",
          "height": 201
        },
        "id": "YY-gBWsVt5a5",
        "outputId": "2afe9536-7e0b-4f52-c401-84800856f4c8"
      },
      "outputs": [
        {
          "output_type": "execute_result",
          "data": {
            "text/plain": [
              "        id      keyword               location  \\\n",
              "2644  3796  destruction                    NaN   \n",
              "2227  3185       deluge                    NaN   \n",
              "5448  7769       police                     UK   \n",
              "132    191   aftershock                    NaN   \n",
              "6845  9810       trauma  Montgomery County, MD   \n",
              "\n",
              "                                                   text  target  \n",
              "2644  So you have a new weapon that can cause un-ima...       1  \n",
              "2227  The f$&amp;@ing things I do for #GISHWHES Just...       0  \n",
              "5448  DT @georgegalloway: RT @Galloway4Mayor: ÛÏThe...       1  \n",
              "132   Aftershock back to school kick off was great. ...       0  \n",
              "6845  in response to trauma Children of Addicts deve...       0  "
            ],
            "text/html": [
              "\n",
              "  <div id=\"df-74269b5d-ca3c-4649-b75a-d774f23ee744\">\n",
              "    <div class=\"colab-df-container\">\n",
              "      <div>\n",
              "<style scoped>\n",
              "    .dataframe tbody tr th:only-of-type {\n",
              "        vertical-align: middle;\n",
              "    }\n",
              "\n",
              "    .dataframe tbody tr th {\n",
              "        vertical-align: top;\n",
              "    }\n",
              "\n",
              "    .dataframe thead th {\n",
              "        text-align: right;\n",
              "    }\n",
              "</style>\n",
              "<table border=\"1\" class=\"dataframe\">\n",
              "  <thead>\n",
              "    <tr style=\"text-align: right;\">\n",
              "      <th></th>\n",
              "      <th>id</th>\n",
              "      <th>keyword</th>\n",
              "      <th>location</th>\n",
              "      <th>text</th>\n",
              "      <th>target</th>\n",
              "    </tr>\n",
              "  </thead>\n",
              "  <tbody>\n",
              "    <tr>\n",
              "      <th>2644</th>\n",
              "      <td>3796</td>\n",
              "      <td>destruction</td>\n",
              "      <td>NaN</td>\n",
              "      <td>So you have a new weapon that can cause un-ima...</td>\n",
              "      <td>1</td>\n",
              "    </tr>\n",
              "    <tr>\n",
              "      <th>2227</th>\n",
              "      <td>3185</td>\n",
              "      <td>deluge</td>\n",
              "      <td>NaN</td>\n",
              "      <td>The f$&amp;amp;@ing things I do for #GISHWHES Just...</td>\n",
              "      <td>0</td>\n",
              "    </tr>\n",
              "    <tr>\n",
              "      <th>5448</th>\n",
              "      <td>7769</td>\n",
              "      <td>police</td>\n",
              "      <td>UK</td>\n",
              "      <td>DT @georgegalloway: RT @Galloway4Mayor: ÛÏThe...</td>\n",
              "      <td>1</td>\n",
              "    </tr>\n",
              "    <tr>\n",
              "      <th>132</th>\n",
              "      <td>191</td>\n",
              "      <td>aftershock</td>\n",
              "      <td>NaN</td>\n",
              "      <td>Aftershock back to school kick off was great. ...</td>\n",
              "      <td>0</td>\n",
              "    </tr>\n",
              "    <tr>\n",
              "      <th>6845</th>\n",
              "      <td>9810</td>\n",
              "      <td>trauma</td>\n",
              "      <td>Montgomery County, MD</td>\n",
              "      <td>in response to trauma Children of Addicts deve...</td>\n",
              "      <td>0</td>\n",
              "    </tr>\n",
              "  </tbody>\n",
              "</table>\n",
              "</div>\n",
              "      <button class=\"colab-df-convert\" onclick=\"convertToInteractive('df-74269b5d-ca3c-4649-b75a-d774f23ee744')\"\n",
              "              title=\"Convert this dataframe to an interactive table.\"\n",
              "              style=\"display:none;\">\n",
              "        \n",
              "  <svg xmlns=\"http://www.w3.org/2000/svg\" height=\"24px\"viewBox=\"0 0 24 24\"\n",
              "       width=\"24px\">\n",
              "    <path d=\"M0 0h24v24H0V0z\" fill=\"none\"/>\n",
              "    <path d=\"M18.56 5.44l.94 2.06.94-2.06 2.06-.94-2.06-.94-.94-2.06-.94 2.06-2.06.94zm-11 1L8.5 8.5l.94-2.06 2.06-.94-2.06-.94L8.5 2.5l-.94 2.06-2.06.94zm10 10l.94 2.06.94-2.06 2.06-.94-2.06-.94-.94-2.06-.94 2.06-2.06.94z\"/><path d=\"M17.41 7.96l-1.37-1.37c-.4-.4-.92-.59-1.43-.59-.52 0-1.04.2-1.43.59L10.3 9.45l-7.72 7.72c-.78.78-.78 2.05 0 2.83L4 21.41c.39.39.9.59 1.41.59.51 0 1.02-.2 1.41-.59l7.78-7.78 2.81-2.81c.8-.78.8-2.07 0-2.86zM5.41 20L4 18.59l7.72-7.72 1.47 1.35L5.41 20z\"/>\n",
              "  </svg>\n",
              "      </button>\n",
              "      \n",
              "  <style>\n",
              "    .colab-df-container {\n",
              "      display:flex;\n",
              "      flex-wrap:wrap;\n",
              "      gap: 12px;\n",
              "    }\n",
              "\n",
              "    .colab-df-convert {\n",
              "      background-color: #E8F0FE;\n",
              "      border: none;\n",
              "      border-radius: 50%;\n",
              "      cursor: pointer;\n",
              "      display: none;\n",
              "      fill: #1967D2;\n",
              "      height: 32px;\n",
              "      padding: 0 0 0 0;\n",
              "      width: 32px;\n",
              "    }\n",
              "\n",
              "    .colab-df-convert:hover {\n",
              "      background-color: #E2EBFA;\n",
              "      box-shadow: 0px 1px 2px rgba(60, 64, 67, 0.3), 0px 1px 3px 1px rgba(60, 64, 67, 0.15);\n",
              "      fill: #174EA6;\n",
              "    }\n",
              "\n",
              "    [theme=dark] .colab-df-convert {\n",
              "      background-color: #3B4455;\n",
              "      fill: #D2E3FC;\n",
              "    }\n",
              "\n",
              "    [theme=dark] .colab-df-convert:hover {\n",
              "      background-color: #434B5C;\n",
              "      box-shadow: 0px 1px 3px 1px rgba(0, 0, 0, 0.15);\n",
              "      filter: drop-shadow(0px 1px 2px rgba(0, 0, 0, 0.3));\n",
              "      fill: #FFFFFF;\n",
              "    }\n",
              "  </style>\n",
              "\n",
              "      <script>\n",
              "        const buttonEl =\n",
              "          document.querySelector('#df-74269b5d-ca3c-4649-b75a-d774f23ee744 button.colab-df-convert');\n",
              "        buttonEl.style.display =\n",
              "          google.colab.kernel.accessAllowed ? 'block' : 'none';\n",
              "\n",
              "        async function convertToInteractive(key) {\n",
              "          const element = document.querySelector('#df-74269b5d-ca3c-4649-b75a-d774f23ee744');\n",
              "          const dataTable =\n",
              "            await google.colab.kernel.invokeFunction('convertToInteractive',\n",
              "                                                     [key], {});\n",
              "          if (!dataTable) return;\n",
              "\n",
              "          const docLinkHtml = 'Like what you see? Visit the ' +\n",
              "            '<a target=\"_blank\" href=https://colab.research.google.com/notebooks/data_table.ipynb>data table notebook</a>'\n",
              "            + ' to learn more about interactive tables.';\n",
              "          element.innerHTML = '';\n",
              "          dataTable['output_type'] = 'display_data';\n",
              "          await google.colab.output.renderOutput(dataTable, element);\n",
              "          const docLink = document.createElement('div');\n",
              "          docLink.innerHTML = docLinkHtml;\n",
              "          element.appendChild(docLink);\n",
              "        }\n",
              "      </script>\n",
              "    </div>\n",
              "  </div>\n",
              "  "
            ]
          },
          "metadata": {},
          "execution_count": 5
        }
      ],
      "source": [
        "# Shuffling the test dataset\n",
        "train_data_shuffled = train_data.sample(frac=1, random_state=42)\n",
        "train_data_shuffled.head()"
      ]
    },
    {
      "cell_type": "markdown",
      "metadata": {
        "id": "pIeZNtMPs82U"
      },
      "source": [
        "### Split the data into training/validations sets"
      ]
    },
    {
      "cell_type": "code",
      "execution_count": 6,
      "metadata": {
        "id": "TtfYyIS2tHeS"
      },
      "outputs": [],
      "source": [
        "from sklearn.model_selection import train_test_split\n",
        "\n",
        "train_sentences, val_sentences, train_labels, val_labels = train_test_split(train_data_shuffled['text'],\n",
        "                                                                            train_data_shuffled['target'],\n",
        "                                                                            test_size=0.1,\n",
        "                                                                            random_state=42)"
      ]
    },
    {
      "cell_type": "code",
      "execution_count": 7,
      "metadata": {
        "colab": {
          "base_uri": "https://localhost:8080/"
        },
        "id": "7mZaHf41uOwl",
        "outputId": "31e220ad-20d2-459a-dfeb-e4fffe7abd1e"
      },
      "outputs": [
        {
          "output_type": "execute_result",
          "data": {
            "text/plain": [
              "(True, True)"
            ]
          },
          "metadata": {},
          "execution_count": 7
        }
      ],
      "source": [
        "# Check the lengths\n",
        "len(train_sentences) == len(train_labels), len(val_sentences) == len(val_labels)"
      ]
    },
    {
      "cell_type": "markdown",
      "metadata": {
        "id": "RtkzkAR3vNK3"
      },
      "source": [
        "## Converting text data into numerical data"
      ]
    },
    {
      "cell_type": "markdown",
      "metadata": {
        "id": "tg3sVKLtvXvq"
      },
      "source": [
        "### Tokenization"
      ]
    },
    {
      "cell_type": "code",
      "execution_count": 8,
      "metadata": {
        "id": "_pyhUhjJvZD6"
      },
      "outputs": [],
      "source": [
        "import tensorflow as tf\n",
        "from tensorflow.keras.layers.experimental.preprocessing import TextVectorization"
      ]
    },
    {
      "cell_type": "code",
      "execution_count": 9,
      "metadata": {
        "id": "k4y3P3YP0Y6F"
      },
      "outputs": [],
      "source": [
        "# Setup the vectorization variables\n",
        "max_vocab_length = 10000\n",
        "max_length = 15"
      ]
    },
    {
      "cell_type": "code",
      "execution_count": 10,
      "metadata": {
        "id": "Tu4f3-Ft0r85"
      },
      "outputs": [],
      "source": [
        "# Setup the TextVectorization \n",
        "text_vectorizer = TextVectorization(max_tokens=max_vocab_length,\n",
        "                                    output_mode='int', \n",
        "                                    output_sequence_length=max_length)"
      ]
    },
    {
      "cell_type": "code",
      "execution_count": 11,
      "metadata": {
        "id": "z5NdUQD324Gz"
      },
      "outputs": [],
      "source": [
        "# Fit the text vectorizer to the training set\n",
        "text_vectorizer.adapt(train_sentences)"
      ]
    },
    {
      "cell_type": "code",
      "execution_count": 12,
      "metadata": {
        "colab": {
          "base_uri": "https://localhost:8080/"
        },
        "id": "WzHBnHW7393B",
        "outputId": "13d87d6f-cc81-43de-96aa-281b3e36f482"
      },
      "outputs": [
        {
          "output_type": "execute_result",
          "data": {
            "text/plain": [
              "<tf.Tensor: shape=(1, 15), dtype=int64, numpy=\n",
              "array([[1924,  110,    2, 6238,    5, 1742,   69,    0,    0,    0,    0,\n",
              "           0,    0,    0,    0]])>"
            ]
          },
          "metadata": {},
          "execution_count": 12
        }
      ],
      "source": [
        "# Create a sample set and vectorize it\n",
        "sample_sentence = \"We'd love the aliens to visit us!\"\n",
        "text_vectorizer([sample_sentence])"
      ]
    },
    {
      "cell_type": "code",
      "execution_count": 13,
      "metadata": {
        "colab": {
          "base_uri": "https://localhost:8080/"
        },
        "id": "t665D87r4enf",
        "outputId": "9c38eab7-a29e-416d-ed95-517f4eda1b43"
      },
      "outputs": [
        {
          "output_type": "stream",
          "name": "stdout",
          "text": [
            "Top 5 most used words: ['', '[UNK]', 'the', 'a', 'in']\n",
            "Top 5 least used words: ['pages', 'paeds', 'pads', 'padres', 'paddytomlinson1']\n"
          ]
        }
      ],
      "source": [
        "# Checking the vocabulary\n",
        "vocab = text_vectorizer.get_vocabulary()\n",
        "print(f\"Top 5 most used words: {vocab[:5]}\")\n",
        "print(f\"Top 5 least used words: {vocab[-5:]}\")"
      ]
    },
    {
      "cell_type": "markdown",
      "metadata": {
        "id": "3UnRIttt46k-"
      },
      "source": [
        "### Embedding"
      ]
    },
    {
      "cell_type": "code",
      "execution_count": 14,
      "metadata": {
        "colab": {
          "base_uri": "https://localhost:8080/"
        },
        "id": "rqpdmfTR5OmP",
        "outputId": "4d0cb1bd-e37e-46a6-84f0-a42a2b318166"
      },
      "outputs": [
        {
          "output_type": "execute_result",
          "data": {
            "text/plain": [
              "<keras.layers.core.embedding.Embedding at 0x7f1988653220>"
            ]
          },
          "metadata": {},
          "execution_count": 14
        }
      ],
      "source": [
        "from tensorflow.keras import layers\n",
        "\n",
        "# Create embedding layer\n",
        "embedding = layers.Embedding(input_dim=max_vocab_length, # input shape\n",
        "                             output_dim=128, # output shape\n",
        "                             input_length=max_length) # input length\n",
        "\n",
        "embedding"
      ]
    },
    {
      "cell_type": "code",
      "execution_count": 15,
      "metadata": {
        "colab": {
          "base_uri": "https://localhost:8080/"
        },
        "id": "pfR0VeYF6ANc",
        "outputId": "a203adab-2d81-4f45-f7a5-3d3298163144"
      },
      "outputs": [
        {
          "output_type": "stream",
          "name": "stdout",
          "text": [
            "Sample sentence: \n",
            "We'd love the aliens to visit us!\n",
            "\n",
            "Sample sentence vectorized: \n",
            "[[1924  110    2 6238    5 1742   69    0    0    0    0    0    0    0\n",
            "     0]]\n",
            "\n",
            "Sample sentence embedded: \n",
            "[[[ 0.04024145  0.02826763 -0.01733495 ... -0.00817807 -0.03772618\n",
            "    0.00909243]\n",
            "  [-0.01254985 -0.0183527   0.02229034 ... -0.02459335  0.00236881\n",
            "   -0.02766861]\n",
            "  [-0.02200384 -0.00678872  0.0171239  ... -0.01047204  0.04456098\n",
            "   -0.0227617 ]\n",
            "  ...\n",
            "  [-0.01326926  0.01977272 -0.00883738 ...  0.02691862  0.00315139\n",
            "    0.0124912 ]\n",
            "  [-0.01326926  0.01977272 -0.00883738 ...  0.02691862  0.00315139\n",
            "    0.0124912 ]\n",
            "  [-0.01326926  0.01977272 -0.00883738 ...  0.02691862  0.00315139\n",
            "    0.0124912 ]]]\n"
          ]
        }
      ],
      "source": [
        "# Check if it works\n",
        "print(f\"Sample sentence: \\n{sample_sentence}\")\n",
        "print(f\"\\nSample sentence vectorized: \\n{text_vectorizer([sample_sentence])}\")\n",
        "print(f\"\\nSample sentence embedded: \\n{embedding(text_vectorizer([sample_sentence]))}\")"
      ]
    },
    {
      "cell_type": "markdown",
      "metadata": {
        "id": "57ZxoBB97Nv7"
      },
      "source": [
        "## Helper function to evaluate the models"
      ]
    },
    {
      "cell_type": "code",
      "execution_count": 16,
      "metadata": {
        "id": "psuHGEWd7dy0"
      },
      "outputs": [],
      "source": [
        "from sklearn.metrics import accuracy_score, precision_recall_fscore_support\n",
        "\n",
        "def calculate_results(y_true, y_pred):\n",
        "  # Calculate model accuracy\n",
        "  accuracy = accuracy_score(y_true, y_pred)\n",
        "\n",
        "  # Calculate precision, recall and f1-score (in 'weighted' mode)\n",
        "  precision, recall, f1, _ = precision_recall_fscore_support(y_true,\n",
        "                                                             y_pred,\n",
        "                                                             average='weighted')\n",
        "  \n",
        "  results = {'accuracy': accuracy,\n",
        "             'precision': precision,\n",
        "             'recall': recall,\n",
        "             'f1-score': f1}\n",
        "\n",
        "  return results"
      ]
    },
    {
      "cell_type": "code",
      "execution_count": 17,
      "metadata": {
        "id": "JrlU0XVPANjZ"
      },
      "outputs": [],
      "source": [
        "# Create TensorBoard callback\n",
        "from helper_functions import create_tensorboard_callback\n",
        "\n",
        "SAVE_DIR = 'exercise_model_logs'"
      ]
    },
    {
      "cell_type": "markdown",
      "metadata": {
        "id": "Te2aZ5P48o89"
      },
      "source": [
        "## Model 1 reproduction - simple dense model\n",
        "\n",
        "\n",
        "\n"
      ]
    },
    {
      "cell_type": "code",
      "execution_count": 18,
      "metadata": {
        "colab": {
          "base_uri": "https://localhost:8080/"
        },
        "id": "7FkG1uLe88d5",
        "outputId": "0cf5dc36-0454-4b1a-f9bc-ae31246d3b5e"
      },
      "outputs": [
        {
          "output_type": "stream",
          "name": "stdout",
          "text": [
            "Model: \"model_1_dense\"\n",
            "_________________________________________________________________\n",
            " Layer (type)                Output Shape              Param #   \n",
            "=================================================================\n",
            " text_vectorization (TextVec  (None, 15)               0         \n",
            " torization)                                                     \n",
            "                                                                 \n",
            " embedding (Embedding)       (None, 15, 128)           1280000   \n",
            "                                                                 \n",
            " global_average_pooling1d (G  (None, 128)              0         \n",
            " lobalAveragePooling1D)                                          \n",
            "                                                                 \n",
            " dense (Dense)               (None, 1)                 129       \n",
            "                                                                 \n",
            "=================================================================\n",
            "Total params: 1,280,129\n",
            "Trainable params: 1,280,129\n",
            "Non-trainable params: 0\n",
            "_________________________________________________________________\n"
          ]
        }
      ],
      "source": [
        "# Create the model with Sequential API\n",
        "model_1 = tf.keras.Sequential([\n",
        "    layers.Input(shape=(1,), dtype=tf.string),\n",
        "    text_vectorizer,\n",
        "    embedding,\n",
        "    layers.GlobalAveragePooling1D(),\n",
        "    layers.Dense(1, activation='sigmoid')\n",
        "], name='model_1_dense')\n",
        "\n",
        "model_1.summary()\n",
        "\n",
        "# Compile the model\n",
        "model_1.compile(loss=tf.keras.losses.BinaryCrossentropy(),\n",
        "                optimizer=tf.keras.optimizers.Adam(),\n",
        "                metrics=['accuracy'])"
      ]
    },
    {
      "cell_type": "code",
      "execution_count": 19,
      "metadata": {
        "colab": {
          "base_uri": "https://localhost:8080/"
        },
        "id": "rLXG6Vvm-UJ1",
        "outputId": "4b344215-97d1-4352-c7cb-9c76a6938d1f"
      },
      "outputs": [
        {
          "output_type": "stream",
          "name": "stdout",
          "text": [
            "Saving TensorBoard log files to: exercise_model_logs/model_1_dense_Sequential/20230330-153318\n",
            "Epoch 1/5\n",
            "215/215 - 24s - loss: 0.6146 - accuracy: 0.6859 - val_loss: 0.5370 - val_accuracy: 0.7546 - 24s/epoch - 112ms/step\n",
            "Epoch 2/5\n",
            "215/215 - 3s - loss: 0.4439 - accuracy: 0.8168 - val_loss: 0.4725 - val_accuracy: 0.7861 - 3s/epoch - 12ms/step\n",
            "Epoch 3/5\n",
            "215/215 - 2s - loss: 0.3481 - accuracy: 0.8596 - val_loss: 0.4568 - val_accuracy: 0.7900 - 2s/epoch - 8ms/step\n",
            "Epoch 4/5\n",
            "215/215 - 1s - loss: 0.2860 - accuracy: 0.8907 - val_loss: 0.4636 - val_accuracy: 0.7822 - 1s/epoch - 6ms/step\n",
            "Epoch 5/5\n",
            "215/215 - 1s - loss: 0.2391 - accuracy: 0.9101 - val_loss: 0.4812 - val_accuracy: 0.7769 - 1s/epoch - 7ms/step\n"
          ]
        }
      ],
      "source": [
        "# Fit the model \n",
        "model_1_history = model_1.fit(x=train_sentences,\n",
        "                              y=train_labels,\n",
        "                              epochs=5,\n",
        "                              validation_data=(val_sentences, val_labels),\n",
        "                              callbacks=[create_tensorboard_callback(SAVE_DIR,\n",
        "                                                                    'model_1_dense_Sequential')],\n",
        "                              verbose=2)"
      ]
    },
    {
      "cell_type": "code",
      "execution_count": 26,
      "metadata": {
        "id": "iRTF0JCPGb21"
      },
      "outputs": [],
      "source": [
        "# Function to evaluate and predict\n",
        "def evaluate_and_pred(model, data_to_predict, labels_to_predict):\n",
        "  \"\"\"\n",
        "  Evaluates on data_to_predict and returns predictions as 1 or 0.\n",
        "  \"\"\"\n",
        "\n",
        "  # Evaluate the model\n",
        "  eval = model.evaluate(data_to_predict, labels_to_predict)\n",
        "  print(f\"Evaluation metrics: {eval}\\n\")\n",
        "\n",
        "  # Get the predictions \n",
        "  pred_probs = model.predict(data_to_predict)\n",
        "  preds = tf.squeeze(tf.round(pred_probs))\n",
        "\n",
        "  print(f\"Preds overview: {preds[:10]}\")\n",
        "\n",
        "  return preds"
      ]
    },
    {
      "cell_type": "code",
      "execution_count": 21,
      "metadata": {
        "colab": {
          "base_uri": "https://localhost:8080/"
        },
        "id": "KW9jv6z5wREK",
        "outputId": "1b698225-c5c8-4539-d723-f94b6b8e7bbe"
      },
      "outputs": [
        {
          "output_type": "stream",
          "name": "stdout",
          "text": [
            "24/24 [==============================] - 0s 3ms/step - loss: 0.4812 - accuracy: 0.7769\n",
            "Evaluation metrics: [0.4812396168708801, 0.7769029140472412]\n",
            "\n",
            "24/24 [==============================] - 0s 2ms/step\n",
            "Preds overview: [0. 1. 1. 0. 0. 1. 1. 1. 1. 0.]\n"
          ]
        }
      ],
      "source": [
        "# Evaluation and preds\n",
        "model_1_preds = evaluate_and_pred(model_1, val_sentences, val_labels)"
      ]
    },
    {
      "cell_type": "code",
      "execution_count": 22,
      "metadata": {
        "colab": {
          "base_uri": "https://localhost:8080/"
        },
        "id": "sfknwHCRwbvg",
        "outputId": "68b78c1a-e16a-4d46-9c2b-6d90b925c1f4"
      },
      "outputs": [
        {
          "output_type": "execute_result",
          "data": {
            "text/plain": [
              "{'accuracy': 0.7769028871391076,\n",
              " 'precision': 0.7775711689884918,\n",
              " 'recall': 0.7769028871391076,\n",
              " 'f1-score': 0.7754662769426549}"
            ]
          },
          "metadata": {},
          "execution_count": 22
        }
      ],
      "source": [
        "# Calculate the results\n",
        "model_1_results = calculate_results(val_labels, model_1_preds)\n",
        "model_1_results\n"
      ]
    },
    {
      "cell_type": "markdown",
      "metadata": {
        "id": "fsthelTlcWWB"
      },
      "source": [
        "## Model 2 - LSTM"
      ]
    },
    {
      "cell_type": "code",
      "execution_count": 23,
      "metadata": {
        "colab": {
          "base_uri": "https://localhost:8080/"
        },
        "id": "G9XOUCG4cvgH",
        "outputId": "476d1892-fbc4-4cfc-a189-8af6d5851819"
      },
      "outputs": [
        {
          "output_type": "stream",
          "name": "stdout",
          "text": [
            "Model: \"model_2_lstm\"\n",
            "_________________________________________________________________\n",
            " Layer (type)                Output Shape              Param #   \n",
            "=================================================================\n",
            " text_vectorization (TextVec  (None, 15)               0         \n",
            " torization)                                                     \n",
            "                                                                 \n",
            " embedding (Embedding)       (None, 15, 128)           1280000   \n",
            "                                                                 \n",
            " lstm (LSTM)                 (None, 64)                49408     \n",
            "                                                                 \n",
            " dense_1 (Dense)             (None, 1)                 65        \n",
            "                                                                 \n",
            "=================================================================\n",
            "Total params: 1,329,473\n",
            "Trainable params: 1,329,473\n",
            "Non-trainable params: 0\n",
            "_________________________________________________________________\n"
          ]
        }
      ],
      "source": [
        "from tensorflow.keras import layers\n",
        "\n",
        "# Create the model\n",
        "model_2 = tf.keras.Sequential([\n",
        "    layers.Input(shape=(1,), dtype=tf.string),\n",
        "    text_vectorizer,\n",
        "    embedding,\n",
        "    layers.LSTM(units=64),\n",
        "    layers.Dense(1, activation='sigmoid')\n",
        "], name='model_2_lstm')\n",
        "\n",
        "# Compile the model\n",
        "model_2.compile(loss='binary_crossentropy',\n",
        "                optimizer='Adam',\n",
        "                metrics=['accuracy'])\n",
        "\n",
        "# Check the summary\n",
        "model_2.summary()"
      ]
    },
    {
      "cell_type": "code",
      "execution_count": 24,
      "metadata": {
        "colab": {
          "base_uri": "https://localhost:8080/"
        },
        "id": "0UPhS3BodaFI",
        "outputId": "b7ae7dc1-40b3-42c2-dde8-c43f201744eb"
      },
      "outputs": [
        {
          "output_type": "stream",
          "name": "stdout",
          "text": [
            "Saving TensorBoard log files to: exercise_model_logs/model_2_lstm/20230330-153350\n",
            "Epoch 1/5\n",
            "215/215 - 12s - loss: 0.2272 - accuracy: 0.9177 - val_loss: 0.5635 - val_accuracy: 0.7822 - 12s/epoch - 58ms/step\n",
            "Epoch 2/5\n",
            "215/215 - 2s - loss: 0.1551 - accuracy: 0.9415 - val_loss: 0.6192 - val_accuracy: 0.7822 - 2s/epoch - 10ms/step\n",
            "Epoch 3/5\n",
            "215/215 - 2s - loss: 0.1281 - accuracy: 0.9514 - val_loss: 0.7678 - val_accuracy: 0.7861 - 2s/epoch - 11ms/step\n",
            "Epoch 4/5\n",
            "215/215 - 2s - loss: 0.1058 - accuracy: 0.9609 - val_loss: 0.7198 - val_accuracy: 0.7769 - 2s/epoch - 9ms/step\n",
            "Epoch 5/5\n",
            "215/215 - 2s - loss: 0.0839 - accuracy: 0.9672 - val_loss: 0.8596 - val_accuracy: 0.7743 - 2s/epoch - 9ms/step\n"
          ]
        }
      ],
      "source": [
        "# Fit the model\n",
        "model_2_history = model_2.fit(train_sentences,\n",
        "                              train_labels,\n",
        "                              epochs=5,\n",
        "                              validation_data=(val_sentences, val_labels),\n",
        "                              callbacks=[create_tensorboard_callback(SAVE_DIR,\n",
        "                                                                     'model_2_lstm')],\n",
        "                              verbose=2)"
      ]
    },
    {
      "cell_type": "code",
      "execution_count": 25,
      "metadata": {
        "colab": {
          "base_uri": "https://localhost:8080/"
        },
        "id": "tJ5fpvMcdycF",
        "outputId": "672597e6-5df5-4e53-92f7-45b1039da64f"
      },
      "outputs": [
        {
          "output_type": "stream",
          "name": "stdout",
          "text": [
            "24/24 [==============================] - 0s 3ms/step - loss: 0.8596 - accuracy: 0.7743\n",
            "Evaluation metrics: [0.8596174716949463, 0.7742782235145569]\n",
            "\n",
            "24/24 [==============================] - 0s 3ms/step\n",
            "Preds overview: [0. 1. 1. 0. 0. 1. 1. 1. 1. 1.]\n"
          ]
        }
      ],
      "source": [
        "# Evaluate and predict\n",
        "model_2_preds = evaluate_and_pred(model_2, val_sentences, val_labels)"
      ]
    },
    {
      "cell_type": "code",
      "execution_count": 26,
      "metadata": {
        "colab": {
          "base_uri": "https://localhost:8080/"
        },
        "id": "rM3C55tFeLWA",
        "outputId": "cda53fd5-40fd-4342-ae36-042d8b1347ce"
      },
      "outputs": [
        {
          "output_type": "execute_result",
          "data": {
            "text/plain": [
              "{'accuracy': 0.7742782152230971,\n",
              " 'precision': 0.7757380419380466,\n",
              " 'recall': 0.7742782152230971,\n",
              " 'f1-score': 0.7723566516531356}"
            ]
          },
          "metadata": {},
          "execution_count": 26
        }
      ],
      "source": [
        "# Calculate results\n",
        "model_2_results = calculate_results(val_labels, model_2_preds)\n",
        "model_2_results"
      ]
    },
    {
      "cell_type": "markdown",
      "metadata": {
        "id": "O1M2k_X1eUT9"
      },
      "source": [
        "## Model 5 - 1D Convolutional NN"
      ]
    },
    {
      "cell_type": "code",
      "execution_count": 27,
      "metadata": {
        "colab": {
          "base_uri": "https://localhost:8080/"
        },
        "id": "GTbMRMe5e0ct",
        "outputId": "7d6056b3-f92d-4b8f-a6f9-e94b91831465"
      },
      "outputs": [
        {
          "output_type": "stream",
          "name": "stdout",
          "text": [
            "Model: \"model_5_conv1d\"\n",
            "_________________________________________________________________\n",
            " Layer (type)                Output Shape              Param #   \n",
            "=================================================================\n",
            " text_vectorization (TextVec  (None, 15)               0         \n",
            " torization)                                                     \n",
            "                                                                 \n",
            " embedding (Embedding)       (None, 15, 128)           1280000   \n",
            "                                                                 \n",
            " conv1d (Conv1D)             (None, 15, 64)            41024     \n",
            "                                                                 \n",
            " global_max_pooling1d (Globa  (None, 64)               0         \n",
            " lMaxPooling1D)                                                  \n",
            "                                                                 \n",
            " dense_2 (Dense)             (None, 1)                 65        \n",
            "                                                                 \n",
            "=================================================================\n",
            "Total params: 1,321,089\n",
            "Trainable params: 1,321,089\n",
            "Non-trainable params: 0\n",
            "_________________________________________________________________\n"
          ]
        }
      ],
      "source": [
        "# Create the model\n",
        "model_5 = tf.keras.Sequential([\n",
        "    layers.Input(shape=(1,), dtype=tf.string),\n",
        "    text_vectorizer,\n",
        "    embedding,\n",
        "    layers.Conv1D(filters=64, \n",
        "                  kernel_size=5,\n",
        "                  strides=1,\n",
        "                  activation='relu',\n",
        "                  padding='same'),\n",
        "    layers.GlobalMaxPool1D(),\n",
        "    layers.Dense(1, activation='sigmoid')\n",
        "], name='model_5_conv1d')\n",
        "\n",
        "# Compile the model\n",
        "model_5.compile(loss='binary_crossentropy',\n",
        "                optimizer='Adam',\n",
        "                metrics=['accuracy'])\n",
        "\n",
        "# Check the summary\n",
        "model_5.summary()"
      ]
    },
    {
      "cell_type": "code",
      "execution_count": 28,
      "metadata": {
        "colab": {
          "base_uri": "https://localhost:8080/"
        },
        "id": "p_vMVPwPfnxT",
        "outputId": "870fbf3a-2168-444a-83c3-52988d6fc78b"
      },
      "outputs": [
        {
          "output_type": "stream",
          "name": "stdout",
          "text": [
            "Saving TensorBoard log files to: exercise_model_logs/model_5_conv1d/20230330-153413\n",
            "Epoch 1/5\n",
            "215/215 [==============================] - 15s 40ms/step - loss: 0.1454 - accuracy: 0.9514 - val_loss: 0.7996 - val_accuracy: 0.7874\n",
            "Epoch 2/5\n",
            "215/215 [==============================] - 3s 12ms/step - loss: 0.0970 - accuracy: 0.9657 - val_loss: 0.8668 - val_accuracy: 0.7887\n",
            "Epoch 3/5\n",
            "215/215 [==============================] - 2s 7ms/step - loss: 0.0763 - accuracy: 0.9699 - val_loss: 0.9698 - val_accuracy: 0.7835\n",
            "Epoch 4/5\n",
            "215/215 [==============================] - 1s 7ms/step - loss: 0.0658 - accuracy: 0.9742 - val_loss: 1.0390 - val_accuracy: 0.7848\n",
            "Epoch 5/5\n",
            "215/215 [==============================] - 2s 11ms/step - loss: 0.0602 - accuracy: 0.9756 - val_loss: 1.0562 - val_accuracy: 0.7822\n"
          ]
        }
      ],
      "source": [
        "# Fit the model\n",
        "model_5_history = model_5.fit(train_sentences,\n",
        "                              train_labels,\n",
        "                              epochs=5,\n",
        "                              validation_data=(val_sentences, val_labels),\n",
        "                              callbacks=[create_tensorboard_callback(SAVE_DIR,\n",
        "                                                                     'model_5_conv1d')])"
      ]
    },
    {
      "cell_type": "code",
      "execution_count": 29,
      "metadata": {
        "colab": {
          "base_uri": "https://localhost:8080/"
        },
        "id": "g6EYPV6PgDEy",
        "outputId": "3b8efce0-e375-401f-9d5e-3e09c600b589"
      },
      "outputs": [
        {
          "output_type": "stream",
          "name": "stdout",
          "text": [
            "24/24 [==============================] - 0s 5ms/step - loss: 1.0562 - accuracy: 0.7822\n",
            "Evaluation metrics: [1.0561649799346924, 0.7821522355079651]\n",
            "\n",
            "24/24 [==============================] - 0s 4ms/step\n",
            "Preds overview: [0. 1. 1. 0. 0. 1. 1. 1. 1. 1.]\n"
          ]
        }
      ],
      "source": [
        "# Evaluate and predict\n",
        "model_5_preds = evaluate_and_pred(model_5, val_sentences, val_labels)"
      ]
    },
    {
      "cell_type": "code",
      "execution_count": 30,
      "metadata": {
        "colab": {
          "base_uri": "https://localhost:8080/"
        },
        "id": "grg39bvMgS5e",
        "outputId": "2389c150-e293-419c-cc34-8b567394e9e9"
      },
      "outputs": [
        {
          "output_type": "execute_result",
          "data": {
            "text/plain": [
              "{'accuracy': 0.7821522309711286,\n",
              " 'precision': 0.7829133858267716,\n",
              " 'recall': 0.7821522309711286,\n",
              " 'f1-score': 0.7807494233675335}"
            ]
          },
          "metadata": {},
          "execution_count": 30
        }
      ],
      "source": [
        "# Calculate results\n",
        "model_5_results = calculate_results(val_labels, model_5_preds)\n",
        "model_5_results"
      ]
    },
    {
      "cell_type": "markdown",
      "metadata": {
        "id": "Pa_jIgpsgbCL"
      },
      "source": [
        "# Exercise 2\n",
        "Retrain the baseline model with 10% of the training data. How does it perform to the Universal Sentence Encoder model with 10% of the training data?"
      ]
    },
    {
      "cell_type": "code",
      "execution_count": 31,
      "metadata": {
        "colab": {
          "base_uri": "https://localhost:8080/"
        },
        "id": "rLJz0ot1hJ3V",
        "outputId": "1eb12f2c-89e0-4e6b-986d-7622f5661f3e"
      },
      "outputs": [
        {
          "output_type": "stream",
          "name": "stdout",
          "text": [
            "Length of base set: 6851\n",
            "Length of 10 percent set: 685\n"
          ]
        }
      ],
      "source": [
        "# Getting the right amount of data for the split\n",
        "train_10_percent_split = int(0.1 * len(train_sentences))\n",
        "\n",
        "# Recreate the 10% training data split\n",
        "train_sentences_10_percent = train_sentences[:train_10_percent_split]\n",
        "train_labels_10_percent = train_labels[:train_10_percent_split]\n",
        "\n",
        "# Check the split\n",
        "print(f\"Length of base set: {len(train_sentences)}\")\n",
        "print(f\"Length of 10 percent set: {len(train_sentences_10_percent)}\")"
      ]
    },
    {
      "cell_type": "code",
      "execution_count": 32,
      "metadata": {
        "colab": {
          "base_uri": "https://localhost:8080/",
          "height": 124
        },
        "id": "Uk-dJe7KiXGo",
        "outputId": "09e69ca7-02d7-40b3-9d79-68758ec5d579"
      },
      "outputs": [
        {
          "output_type": "execute_result",
          "data": {
            "text/plain": [
              "Pipeline(steps=[('tfidf', TfidfVectorizer()), ('clf', MultinomialNB())])"
            ],
            "text/html": [
              "<style>#sk-container-id-1 {color: black;background-color: white;}#sk-container-id-1 pre{padding: 0;}#sk-container-id-1 div.sk-toggleable {background-color: white;}#sk-container-id-1 label.sk-toggleable__label {cursor: pointer;display: block;width: 100%;margin-bottom: 0;padding: 0.3em;box-sizing: border-box;text-align: center;}#sk-container-id-1 label.sk-toggleable__label-arrow:before {content: \"▸\";float: left;margin-right: 0.25em;color: #696969;}#sk-container-id-1 label.sk-toggleable__label-arrow:hover:before {color: black;}#sk-container-id-1 div.sk-estimator:hover label.sk-toggleable__label-arrow:before {color: black;}#sk-container-id-1 div.sk-toggleable__content {max-height: 0;max-width: 0;overflow: hidden;text-align: left;background-color: #f0f8ff;}#sk-container-id-1 div.sk-toggleable__content pre {margin: 0.2em;color: black;border-radius: 0.25em;background-color: #f0f8ff;}#sk-container-id-1 input.sk-toggleable__control:checked~div.sk-toggleable__content {max-height: 200px;max-width: 100%;overflow: auto;}#sk-container-id-1 input.sk-toggleable__control:checked~label.sk-toggleable__label-arrow:before {content: \"▾\";}#sk-container-id-1 div.sk-estimator input.sk-toggleable__control:checked~label.sk-toggleable__label {background-color: #d4ebff;}#sk-container-id-1 div.sk-label input.sk-toggleable__control:checked~label.sk-toggleable__label {background-color: #d4ebff;}#sk-container-id-1 input.sk-hidden--visually {border: 0;clip: rect(1px 1px 1px 1px);clip: rect(1px, 1px, 1px, 1px);height: 1px;margin: -1px;overflow: hidden;padding: 0;position: absolute;width: 1px;}#sk-container-id-1 div.sk-estimator {font-family: monospace;background-color: #f0f8ff;border: 1px dotted black;border-radius: 0.25em;box-sizing: border-box;margin-bottom: 0.5em;}#sk-container-id-1 div.sk-estimator:hover {background-color: #d4ebff;}#sk-container-id-1 div.sk-parallel-item::after {content: \"\";width: 100%;border-bottom: 1px solid gray;flex-grow: 1;}#sk-container-id-1 div.sk-label:hover label.sk-toggleable__label {background-color: #d4ebff;}#sk-container-id-1 div.sk-serial::before {content: \"\";position: absolute;border-left: 1px solid gray;box-sizing: border-box;top: 0;bottom: 0;left: 50%;z-index: 0;}#sk-container-id-1 div.sk-serial {display: flex;flex-direction: column;align-items: center;background-color: white;padding-right: 0.2em;padding-left: 0.2em;position: relative;}#sk-container-id-1 div.sk-item {position: relative;z-index: 1;}#sk-container-id-1 div.sk-parallel {display: flex;align-items: stretch;justify-content: center;background-color: white;position: relative;}#sk-container-id-1 div.sk-item::before, #sk-container-id-1 div.sk-parallel-item::before {content: \"\";position: absolute;border-left: 1px solid gray;box-sizing: border-box;top: 0;bottom: 0;left: 50%;z-index: -1;}#sk-container-id-1 div.sk-parallel-item {display: flex;flex-direction: column;z-index: 1;position: relative;background-color: white;}#sk-container-id-1 div.sk-parallel-item:first-child::after {align-self: flex-end;width: 50%;}#sk-container-id-1 div.sk-parallel-item:last-child::after {align-self: flex-start;width: 50%;}#sk-container-id-1 div.sk-parallel-item:only-child::after {width: 0;}#sk-container-id-1 div.sk-dashed-wrapped {border: 1px dashed gray;margin: 0 0.4em 0.5em 0.4em;box-sizing: border-box;padding-bottom: 0.4em;background-color: white;}#sk-container-id-1 div.sk-label label {font-family: monospace;font-weight: bold;display: inline-block;line-height: 1.2em;}#sk-container-id-1 div.sk-label-container {text-align: center;}#sk-container-id-1 div.sk-container {/* jupyter's `normalize.less` sets `[hidden] { display: none; }` but bootstrap.min.css set `[hidden] { display: none !important; }` so we also need the `!important` here to be able to override the default hidden behavior on the sphinx rendered scikit-learn.org. See: https://github.com/scikit-learn/scikit-learn/issues/21755 */display: inline-block !important;position: relative;}#sk-container-id-1 div.sk-text-repr-fallback {display: none;}</style><div id=\"sk-container-id-1\" class=\"sk-top-container\"><div class=\"sk-text-repr-fallback\"><pre>Pipeline(steps=[(&#x27;tfidf&#x27;, TfidfVectorizer()), (&#x27;clf&#x27;, MultinomialNB())])</pre><b>In a Jupyter environment, please rerun this cell to show the HTML representation or trust the notebook. <br />On GitHub, the HTML representation is unable to render, please try loading this page with nbviewer.org.</b></div><div class=\"sk-container\" hidden><div class=\"sk-item sk-dashed-wrapped\"><div class=\"sk-label-container\"><div class=\"sk-label sk-toggleable\"><input class=\"sk-toggleable__control sk-hidden--visually\" id=\"sk-estimator-id-1\" type=\"checkbox\" ><label for=\"sk-estimator-id-1\" class=\"sk-toggleable__label sk-toggleable__label-arrow\">Pipeline</label><div class=\"sk-toggleable__content\"><pre>Pipeline(steps=[(&#x27;tfidf&#x27;, TfidfVectorizer()), (&#x27;clf&#x27;, MultinomialNB())])</pre></div></div></div><div class=\"sk-serial\"><div class=\"sk-item\"><div class=\"sk-estimator sk-toggleable\"><input class=\"sk-toggleable__control sk-hidden--visually\" id=\"sk-estimator-id-2\" type=\"checkbox\" ><label for=\"sk-estimator-id-2\" class=\"sk-toggleable__label sk-toggleable__label-arrow\">TfidfVectorizer</label><div class=\"sk-toggleable__content\"><pre>TfidfVectorizer()</pre></div></div></div><div class=\"sk-item\"><div class=\"sk-estimator sk-toggleable\"><input class=\"sk-toggleable__control sk-hidden--visually\" id=\"sk-estimator-id-3\" type=\"checkbox\" ><label for=\"sk-estimator-id-3\" class=\"sk-toggleable__label sk-toggleable__label-arrow\">MultinomialNB</label><div class=\"sk-toggleable__content\"><pre>MultinomialNB()</pre></div></div></div></div></div></div></div>"
            ]
          },
          "metadata": {},
          "execution_count": 32
        }
      ],
      "source": [
        "# Recreating the baseline model\n",
        "from sklearn.feature_extraction.text import TfidfVectorizer\n",
        "from sklearn.naive_bayes import MultinomialNB\n",
        "from sklearn.pipeline import Pipeline\n",
        "\n",
        "# Create pipeline with tokenization\n",
        "model_0 = Pipeline([\n",
        "    ('tfidf', TfidfVectorizer()),\n",
        "    ('clf', MultinomialNB())\n",
        "])\n",
        "\n",
        "# Fit the pipeline to 10% dataset\n",
        "model_0.fit(train_sentences_10_percent, train_labels_10_percent)"
      ]
    },
    {
      "cell_type": "code",
      "execution_count": 33,
      "metadata": {
        "colab": {
          "base_uri": "https://localhost:8080/"
        },
        "id": "MGAazKUajNmh",
        "outputId": "e7319908-fa65-4c88-f015-eecf9ed1076b"
      },
      "outputs": [
        {
          "output_type": "stream",
          "name": "stdout",
          "text": [
            "Baseline model score: 0.7020997375328084\n"
          ]
        },
        {
          "output_type": "execute_result",
          "data": {
            "text/plain": [
              "array([1, 0, 1, 0, 0, 1, 0, 0, 1, 0])"
            ]
          },
          "metadata": {},
          "execution_count": 33
        }
      ],
      "source": [
        "# Evaluate and pred\n",
        "model_0_score = model_0.score(val_sentences, val_labels)\n",
        "print(f\"Baseline model score: {model_0_score}\")\n",
        "\n",
        "model_0_preds = model_0.predict(val_sentences)\n",
        "model_0_preds[:10]"
      ]
    },
    {
      "cell_type": "code",
      "execution_count": 34,
      "metadata": {
        "colab": {
          "base_uri": "https://localhost:8080/"
        },
        "id": "8pZBPB5Pjg8o",
        "outputId": "9494a273-1892-4844-b9c6-41f06911df31"
      },
      "outputs": [
        {
          "output_type": "execute_result",
          "data": {
            "text/plain": [
              "{'accuracy': 0.7020997375328084,\n",
              " 'precision': 0.7599524002753854,\n",
              " 'recall': 0.7020997375328084,\n",
              " 'f1-score': 0.6736831571468213}"
            ]
          },
          "metadata": {},
          "execution_count": 34
        }
      ],
      "source": [
        "# Calculate results\n",
        "model_0_results = calculate_results(val_labels, model_0_preds)\n",
        "model_0_results"
      ]
    },
    {
      "cell_type": "markdown",
      "metadata": {
        "id": "V7QfcqjHk2vh"
      },
      "source": [
        "## Answer\n",
        "How did the model perform compared to USE model from `08` notebook?\n",
        "* The USE model trained on 10% of the data did get about 77,5%.\n",
        "* The retrained baseline model from `sklearn` with `MultinomialNB` classifier, also trained on about 70,2% accuracy.\n",
        "\n",
        "**This shows that the smaller the dataset, maybe using the pretrained model from TF Hub is a good idea to include in the experiment workflow.**\n"
      ]
    },
    {
      "cell_type": "markdown",
      "metadata": {
        "id": "eEbJYJ99kEDN"
      },
      "source": [
        "# Exercise 3\n",
        "Try fine-tuning the TF Hub USE (`model_6`) by setting `training=True` when instentiating it as a Keras layer."
      ]
    },
    {
      "cell_type": "code",
      "execution_count": 35,
      "metadata": {
        "colab": {
          "base_uri": "https://localhost:8080/"
        },
        "id": "klj5M_kfl-Pq",
        "outputId": "f0ef74e3-a6ab-4d9f-db56-80744d60cd5c"
      },
      "outputs": [
        {
          "output_type": "stream",
          "name": "stdout",
          "text": [
            "tf.Tensor(\n",
            "[ 0.00910182 -0.01275036 -0.02675992 -0.06155284  0.00590177 -0.06304007\n",
            " -0.04478857 -0.06164155 -0.0416155  -0.05248841  0.06968987  0.02778338\n",
            " -0.03118138  0.0318342  -0.01928731 -0.08036631  0.00304866 -0.05874979\n",
            " -0.02073362  0.04330571], shape=(20,), dtype=float32)\n"
          ]
        }
      ],
      "source": [
        "# Importing the USE \n",
        "import tensorflow_hub as hub\n",
        "USE_URL = \"https://tfhub.dev/google/universal-sentence-encoder/4\"\n",
        "embed = hub.load(USE_URL)\n",
        "\n",
        "# Try out the USE\n",
        "embed_sample = embed([sample_sentence])\n",
        "print(embed_sample[0][:20])"
      ]
    },
    {
      "cell_type": "code",
      "execution_count": 22,
      "metadata": {
        "id": "1eIJPOuPImy9"
      },
      "outputs": [],
      "source": [
        "# Create a Keras Layer using the USE pretrained layer from TensorFlow Hub\n",
        "sentence_encoder_layer = hub.KerasLayer(handle=USE_URL,\n",
        "                                        input_shape=[],\n",
        "                                        dtype=tf.string,\n",
        "                                        trainable=False,\n",
        "                                        name='USE_fine_tuned')"
      ]
    },
    {
      "cell_type": "code",
      "execution_count": 23,
      "metadata": {
        "colab": {
          "base_uri": "https://localhost:8080/"
        },
        "id": "1WcHoYeXJ0tb",
        "outputId": "a31fecb0-822b-4111-cf53-a19dea6539f0"
      },
      "outputs": [
        {
          "output_type": "stream",
          "name": "stdout",
          "text": [
            "Model: \"model_6_USE\"\n",
            "_________________________________________________________________\n",
            " Layer (type)                Output Shape              Param #   \n",
            "=================================================================\n",
            " USE_fine_tuned (KerasLayer)  (None, 512)              256797824 \n",
            "                                                                 \n",
            " dense_1 (Dense)             (None, 32)                16416     \n",
            "                                                                 \n",
            " dropout_1 (Dropout)         (None, 32)                0         \n",
            "                                                                 \n",
            " output_layer (Dense)        (None, 1)                 33        \n",
            "                                                                 \n",
            "=================================================================\n",
            "Total params: 256,814,273\n",
            "Trainable params: 16,449\n",
            "Non-trainable params: 256,797,824\n",
            "_________________________________________________________________\n",
            "False USE_fine_tuned\n",
            "True dense_1\n",
            "True dropout_1\n",
            "True output_layer\n"
          ]
        }
      ],
      "source": [
        "# Create the model\n",
        "model_6 = tf.keras.Sequential([\n",
        "    sentence_encoder_layer,\n",
        "    layers.Dense(32, activation='relu'),\n",
        "    layers.Dropout(0.2),\n",
        "    #layers.Dense(32, activation='relu'),\n",
        "    #layers.Dropout(0.2),\n",
        "    layers.Dense(1, activation='sigmoid', name='output_layer')\n",
        "], name='model_6_USE')\n",
        "\n",
        "# Compile the model\n",
        "model_6.compile(loss=tf.keras.losses.BinaryCrossentropy(),\n",
        "                optimizer=tf.keras.optimizers.Adam(),\n",
        "                metrics=['accuracy'])\n",
        "\n",
        "# Summary\n",
        "model_6.summary()\n",
        "\n",
        "# Layer status\n",
        "for layer in model_6.layers:\n",
        "  print(layer.trainable, layer.name)"
      ]
    },
    {
      "cell_type": "code",
      "execution_count": 24,
      "metadata": {
        "colab": {
          "base_uri": "https://localhost:8080/"
        },
        "id": "PsHLRtiQK2Jk",
        "outputId": "b2012804-59c9-4d91-a538-d47d54b4426b"
      },
      "outputs": [
        {
          "output_type": "stream",
          "name": "stdout",
          "text": [
            "Saving TensorBoard log files to: exercise_model_logs/model_6_USE/20230330-164213\n",
            "Epoch 1/5\n",
            "215/215 [==============================] - 7s 14ms/step - loss: 0.5368 - accuracy: 0.7825 - val_loss: 0.4661 - val_accuracy: 0.7940\n",
            "Epoch 2/5\n",
            "215/215 [==============================] - 3s 12ms/step - loss: 0.4356 - accuracy: 0.8085 - val_loss: 0.4476 - val_accuracy: 0.8071\n",
            "Epoch 3/5\n",
            "215/215 [==============================] - 3s 14ms/step - loss: 0.4184 - accuracy: 0.8155 - val_loss: 0.4404 - val_accuracy: 0.8097\n",
            "Epoch 4/5\n",
            "215/215 [==============================] - 4s 19ms/step - loss: 0.4097 - accuracy: 0.8216 - val_loss: 0.4399 - val_accuracy: 0.8071\n",
            "Epoch 5/5\n",
            "215/215 [==============================] - 4s 20ms/step - loss: 0.4035 - accuracy: 0.8243 - val_loss: 0.4356 - val_accuracy: 0.8136\n"
          ]
        }
      ],
      "source": [
        "# Fit the model\n",
        "tf.random.set_seed(42)\n",
        "\n",
        "initial_epochs = 5\n",
        "\n",
        "model_6_history = model_6.fit(train_sentences,\n",
        "                              train_labels,\n",
        "                              epochs=initial_epochs,\n",
        "                              validation_data=(val_sentences, val_labels),\n",
        "                              callbacks=[create_tensorboard_callback(SAVE_DIR,\n",
        "                                                                     'model_6_USE')]\n",
        "                              )"
      ]
    },
    {
      "cell_type": "code",
      "execution_count": 27,
      "metadata": {
        "colab": {
          "base_uri": "https://localhost:8080/"
        },
        "id": "yBywF_3h3Q7I",
        "outputId": "e63ef625-9514-4ba6-a23b-02a11f2fddd5"
      },
      "outputs": [
        {
          "output_type": "stream",
          "name": "stdout",
          "text": [
            "24/24 [==============================] - 0s 10ms/step - loss: 0.4356 - accuracy: 0.8136\n",
            "Evaluation metrics: [0.43556272983551025, 0.8136482834815979]\n",
            "\n",
            "24/24 [==============================] - 1s 9ms/step\n",
            "Preds overview: [0. 1. 1. 0. 1. 1. 1. 1. 1. 0.]\n"
          ]
        }
      ],
      "source": [
        "# Check the results\n",
        "model_6_preds = evaluate_and_pred(model_6, val_sentences, val_labels)\n",
        "model_6_results = calculate_results(val_labels, model_6_preds)"
      ]
    },
    {
      "cell_type": "code",
      "execution_count": 28,
      "metadata": {
        "colab": {
          "base_uri": "https://localhost:8080/"
        },
        "id": "yJ3m5K22Nxhd",
        "outputId": "524d1f9b-1fec-4835-eebd-281b23b814ef"
      },
      "outputs": [
        {
          "output_type": "stream",
          "name": "stdout",
          "text": [
            "USE_fine_tuned True\n",
            "dense_1 True\n",
            "dropout_1 True\n",
            "output_layer True\n"
          ]
        }
      ],
      "source": [
        "for layer in model_6.layers:\n",
        "  layer.trainable=True\n",
        "  print(layer.name, layer.trainable)"
      ]
    },
    {
      "cell_type": "code",
      "execution_count": 29,
      "metadata": {
        "id": "_JgpMSP1N7Pr"
      },
      "outputs": [],
      "source": [
        "# Recompile the model for fine-tuning\n",
        "model_6.compile(loss=tf.keras.losses.BinaryCrossentropy(),\n",
        "                optimizer=tf.keras.optimizers.Adam(learning_rate=1.5e-5),\n",
        "                metrics=['accuracy'])"
      ]
    },
    {
      "cell_type": "code",
      "source": [
        "# Create ModelCheckpoint to save the best model trained\n",
        "from tensorflow.keras.callbacks import ModelCheckpoint\n",
        "\n",
        "CKPT_SAVE_DIR = \"/content/drive/MyDrive/tensorflow/models/08_exercise_model_6_fine_tuned/checkpoint_model_6\"\n",
        "\n",
        "model_checkpoint_callback = ModelCheckpoint(filepath=CKPT_SAVE_DIR,\n",
        "                                            monitor='val_loss',\n",
        "                                            verbose=1,\n",
        "                                            save_best_only=True,\n",
        "                                            save_freq='epoch')"
      ],
      "metadata": {
        "id": "D0crZGjOKwvx"
      },
      "execution_count": 30,
      "outputs": []
    },
    {
      "cell_type": "code",
      "execution_count": 31,
      "metadata": {
        "colab": {
          "base_uri": "https://localhost:8080/"
        },
        "id": "mx4RGm7oOQ1N",
        "outputId": "b106b6c9-0355-462d-8de4-e384d06e88dc"
      },
      "outputs": [
        {
          "output_type": "stream",
          "name": "stdout",
          "text": [
            "Saving TensorBoard log files to: exercise_model_logs/model_6_USE_fine_tuned/20230330-164414\n",
            "Epoch 5/10\n",
            "215/215 [==============================] - ETA: 0s - loss: 0.3919 - accuracy: 0.8300\n",
            "Epoch 5: val_loss improved from inf to 0.43132, saving model to /content/drive/MyDrive/tensorflow/models/08_exercise_model_6_fine_tuned/checkpoint_model_6\n"
          ]
        },
        {
          "output_type": "stream",
          "name": "stderr",
          "text": [
            "WARNING:absl:Function `_wrapped_model` contains input name(s) USE_fine_tuned_input with unsupported characters which will be renamed to use_fine_tuned_input in the SavedModel.\n"
          ]
        },
        {
          "output_type": "stream",
          "name": "stdout",
          "text": [
            "\b\b\b\b\b\b\b\b\b\b\b\b\b\b\b\b\b\b\b\b\b\b\b\b\b\b\b\b\b\b\b\b\b\b\b\b\b\b\b\b\b\b\b\b\b\b\b\b\b\b\b\b\b\b\b\b\b\b\b\b\b\b\b\b\b\b\b\b\b\b\b\b\b\b\b\b\b\b\b\b\b\b\b\b\r215/215 [==============================] - 162s 610ms/step - loss: 0.3919 - accuracy: 0.8300 - val_loss: 0.4313 - val_accuracy: 0.8176\n",
            "Epoch 6/10\n",
            "215/215 [==============================] - ETA: 0s - loss: 0.3864 - accuracy: 0.8326\n",
            "Epoch 6: val_loss improved from 0.43132 to 0.43066, saving model to /content/drive/MyDrive/tensorflow/models/08_exercise_model_6_fine_tuned/checkpoint_model_6\n"
          ]
        },
        {
          "output_type": "stream",
          "name": "stderr",
          "text": [
            "WARNING:absl:Function `_wrapped_model` contains input name(s) USE_fine_tuned_input with unsupported characters which will be renamed to use_fine_tuned_input in the SavedModel.\n"
          ]
        },
        {
          "output_type": "stream",
          "name": "stdout",
          "text": [
            "\b\b\b\b\b\b\b\b\b\b\b\b\b\b\b\b\b\b\b\b\b\b\b\b\b\b\b\b\b\b\b\b\b\b\b\b\b\b\b\b\b\b\b\b\b\b\b\b\b\b\b\b\b\b\b\b\b\b\b\b\b\b\b\b\b\b\b\b\b\b\b\b\b\b\b\b\b\b\b\b\b\b\b\b\r215/215 [==============================] - 82s 381ms/step - loss: 0.3864 - accuracy: 0.8326 - val_loss: 0.4307 - val_accuracy: 0.8176\n",
            "Epoch 7/10\n",
            "215/215 [==============================] - ETA: 0s - loss: 0.3837 - accuracy: 0.8318\n",
            "Epoch 7: val_loss improved from 0.43066 to 0.42779, saving model to /content/drive/MyDrive/tensorflow/models/08_exercise_model_6_fine_tuned/checkpoint_model_6\n"
          ]
        },
        {
          "output_type": "stream",
          "name": "stderr",
          "text": [
            "WARNING:absl:Function `_wrapped_model` contains input name(s) USE_fine_tuned_input with unsupported characters which will be renamed to use_fine_tuned_input in the SavedModel.\n"
          ]
        },
        {
          "output_type": "stream",
          "name": "stdout",
          "text": [
            "\b\b\b\b\b\b\b\b\b\b\b\b\b\b\b\b\b\b\b\b\b\b\b\b\b\b\b\b\b\b\b\b\b\b\b\b\b\b\b\b\b\b\b\b\b\b\b\b\b\b\b\b\b\b\b\b\b\b\b\b\b\b\b\b\b\b\b\b\b\b\b\b\b\b\b\b\b\b\b\b\b\b\b\b\r215/215 [==============================] - 62s 288ms/step - loss: 0.3837 - accuracy: 0.8318 - val_loss: 0.4278 - val_accuracy: 0.8163\n",
            "Epoch 8/10\n",
            "215/215 [==============================] - ETA: 0s - loss: 0.3813 - accuracy: 0.8386\n",
            "Epoch 8: val_loss did not improve from 0.42779\n",
            "215/215 [==============================] - 14s 66ms/step - loss: 0.3813 - accuracy: 0.8386 - val_loss: 0.4287 - val_accuracy: 0.8215\n",
            "Epoch 9/10\n",
            "215/215 [==============================] - ETA: 0s - loss: 0.3786 - accuracy: 0.8381\n",
            "Epoch 9: val_loss did not improve from 0.42779\n",
            "215/215 [==============================] - 13s 59ms/step - loss: 0.3786 - accuracy: 0.8381 - val_loss: 0.4282 - val_accuracy: 0.8215\n",
            "Epoch 10/10\n",
            "215/215 [==============================] - ETA: 0s - loss: 0.3804 - accuracy: 0.8364\n",
            "Epoch 10: val_loss improved from 0.42779 to 0.42616, saving model to /content/drive/MyDrive/tensorflow/models/08_exercise_model_6_fine_tuned/checkpoint_model_6\n"
          ]
        },
        {
          "output_type": "stream",
          "name": "stderr",
          "text": [
            "WARNING:absl:Function `_wrapped_model` contains input name(s) USE_fine_tuned_input with unsupported characters which will be renamed to use_fine_tuned_input in the SavedModel.\n"
          ]
        },
        {
          "output_type": "stream",
          "name": "stdout",
          "text": [
            "\b\b\b\b\b\b\b\b\b\b\b\b\b\b\b\b\b\b\b\b\b\b\b\b\b\b\b\b\b\b\b\b\b\b\b\b\b\b\b\b\b\b\b\b\b\b\b\b\b\b\b\b\b\b\b\b\b\b\b\b\b\b\b\b\b\b\b\b\b\b\b\b\b\b\b\b\b\b\b\b\b\b\b\b\r215/215 [==============================] - 28s 132ms/step - loss: 0.3804 - accuracy: 0.8364 - val_loss: 0.4262 - val_accuracy: 0.8202\n"
          ]
        }
      ],
      "source": [
        "# Fine-tune the model\n",
        "tf.random.set_seed(42)\n",
        "\n",
        "fine_tuning_epochs = 5\n",
        "total_epochs = initial_epochs + fine_tuning_epochs\n",
        "\n",
        "model_6_fine_tuned_history = model_6.fit(train_sentences,\n",
        "                                         train_labels,\n",
        "                                         epochs=total_epochs,\n",
        "                                         initial_epoch=model_6_history.epoch[-1],\n",
        "                                         validation_data=(val_sentences, val_labels),\n",
        "                                         callbacks=[create_tensorboard_callback(SAVE_DIR,\n",
        "                                                                                'model_6_USE_fine_tuned'),\n",
        "                                                    model_checkpoint_callback]\n",
        "                                         )"
      ]
    },
    {
      "cell_type": "markdown",
      "source": [
        "### Best model so far\n",
        "\n",
        "{'accuracy': 0.8254593175853019,\n",
        " 'precision': 0.8257387867002456,\n",
        " 'recall': 0.8254593175853019,\n",
        " 'f1-score': 0.8248354823684468}"
      ],
      "metadata": {
        "id": "qx_FKe0URham"
      }
    },
    {
      "cell_type": "code",
      "execution_count": 55,
      "metadata": {
        "colab": {
          "base_uri": "https://localhost:8080/",
          "height": 717
        },
        "id": "NxjZmldZZPL1",
        "outputId": "68612b16-cc50-491c-8dec-98fe4e075dc8"
      },
      "outputs": [
        {
          "output_type": "display_data",
          "data": {
            "text/plain": [
              "<Figure size 800x800 with 2 Axes>"
            ],
            "image/png": "[encoded data removed]"
          },
          "metadata": {}
        }
      ],
      "source": [
        "from helper_functions import compare_historys\n",
        "\n",
        "compare_historys(model_6_history, model_6_fine_tuned_history, initial_epochs)"
      ]
    },
    {
      "cell_type": "code",
      "source": [
        "from helper_functions import compare_historys\n",
        "\n",
        "compare_historys(model_6_history, model_6_fine_tuned_history, initial_epochs)"
      ],
      "metadata": {
        "colab": {
          "base_uri": "https://localhost:8080/",
          "height": 717
        },
        "id": "oiOnfj_UReR6",
        "outputId": "c999058f-f10e-4d9e-ee73-788a04ecf9d1"
      },
      "execution_count": 32,
      "outputs": [
        {
          "output_type": "display_data",
          "data": {
            "text/plain": [
              "<Figure size 800x800 with 2 Axes>"
            ],
            "image/png": "[encoded data removed]"
          },
          "metadata": {}
        }
      ]
    },
    {
      "cell_type": "code",
      "execution_count": 33,
      "metadata": {
        "colab": {
          "base_uri": "https://localhost:8080/"
        },
        "id": "MNX7tgNFLOkn",
        "outputId": "a90abec7-bba1-49f5-8ddb-56e26ce506b9"
      },
      "outputs": [
        {
          "output_type": "stream",
          "name": "stdout",
          "text": [
            "24/24 [==============================] - 0s 12ms/step - loss: 0.4262 - accuracy: 0.8202\n",
            "Evaluation metrics: [0.4261607825756073, 0.8202099800109863]\n",
            "\n",
            "24/24 [==============================] - 1s 10ms/step\n",
            "Preds overview: [0. 1. 1. 0. 1. 1. 1. 1. 1. 0.]\n"
          ]
        },
        {
          "output_type": "execute_result",
          "data": {
            "text/plain": [
              "<tf.Tensor: shape=(10,), dtype=float32, numpy=array([0., 1., 1., 0., 1., 1., 1., 1., 1., 0.], dtype=float32)>"
            ]
          },
          "metadata": {},
          "execution_count": 33
        }
      ],
      "source": [
        "# Evaluate and pred\n",
        "model_6_fine_tuning_preds = evaluate_and_pred(model_6, val_sentences, val_labels)\n",
        "model_6_fine_tuning_preds[:10]"
      ]
    },
    {
      "cell_type": "code",
      "execution_count": 34,
      "metadata": {
        "colab": {
          "base_uri": "https://localhost:8080/"
        },
        "id": "7Qz4tr23MQib",
        "outputId": "974f17f2-06b4-422e-dcb4-c3fd68f5afb7"
      },
      "outputs": [
        {
          "output_type": "execute_result",
          "data": {
            "text/plain": [
              "{'accuracy': 0.8202099737532809,\n",
              " 'precision': 0.8220363424159842,\n",
              " 'recall': 0.8202099737532809,\n",
              " 'f1-score': 0.8189174604110638}"
            ]
          },
          "metadata": {},
          "execution_count": 34
        }
      ],
      "source": [
        "# Calculate the results after fine tuning\n",
        "model_6_fine_tuning_results = calculate_results(val_labels, model_6_fine_tuning_preds)\n",
        "model_6_fine_tuning_results"
      ]
    },
    {
      "cell_type": "code",
      "execution_count": 35,
      "metadata": {
        "colab": {
          "base_uri": "https://localhost:8080/"
        },
        "id": "T5bKt7S1NPyO",
        "outputId": "e849172f-5ea0-4623-f918-6ef52d1bebee"
      },
      "outputs": [
        {
          "output_type": "execute_result",
          "data": {
            "text/plain": [
              "{'accuracy': 0.8136482939632546,\n",
              " 'precision': 0.8149666868564506,\n",
              " 'recall': 0.8136482939632546,\n",
              " 'f1-score': 0.8124483019168057}"
            ]
          },
          "metadata": {},
          "execution_count": 35
        }
      ],
      "source": [
        "# Compare the results\n",
        "model_6_results"
      ]
    },
    {
      "cell_type": "code",
      "execution_count": 19,
      "metadata": {
        "id": "XJKjGgjY0Cg_"
      },
      "outputs": [],
      "source": [
        "# Saving directory\n",
        "MODEL_SAVE_DIR = \"/content/drive/MyDrive/tensorflow/models/08_exercise_model_6_fine_tuned\""
      ]
    },
    {
      "cell_type": "code",
      "execution_count": 78,
      "metadata": {
        "colab": {
          "base_uri": "https://localhost:8080/"
        },
        "id": "YLHZCSwWznmP",
        "outputId": "14e572b9-74e2-4433-eb38-776bbabf4ad9"
      },
      "outputs": [
        {
          "output_type": "stream",
          "name": "stderr",
          "text": [
            "WARNING:absl:Function `_wrapped_model` contains input name(s) USE_fine_tuned_input with unsupported characters which will be renamed to use_fine_tuned_input in the SavedModel.\n"
          ]
        }
      ],
      "source": [
        "# Save the model\n",
        "#model_6.save(MODEL_SAVE_DIR)"
      ]
    },
    {
      "cell_type": "code",
      "execution_count": 20,
      "metadata": {
        "colab": {
          "base_uri": "https://localhost:8080/"
        },
        "id": "EBzdktU80b1p",
        "outputId": "b68596af-8fd6-49df-e464-5b71ddcba387"
      },
      "outputs": [
        {
          "output_type": "stream",
          "name": "stdout",
          "text": [
            "24/24 [==============================] - 7s 10ms/step - loss: 0.4177 - accuracy: 0.8255\n"
          ]
        },
        {
          "output_type": "execute_result",
          "data": {
            "text/plain": [
              "[0.4176674485206604, 0.8254593014717102]"
            ]
          },
          "metadata": {},
          "execution_count": 20
        }
      ],
      "source": [
        "# Loading a model\n",
        "loaded_model_6 = tf.keras.models.load_model(MODEL_SAVE_DIR)\n",
        "loaded_model_6.evaluate(val_sentences, val_labels)"
      ]
    },
    {
      "cell_type": "markdown",
      "source": [
        "Looks that after a good chunk of experiments (slightly over 30) we've managed to get a model with `val_loss` under 0.42 which seemed a Holy Grail teritory at some point in time. However it was possible to do so and it's now saved, ready to be used again."
      ],
      "metadata": {
        "id": "ko20did7QRSo"
      }
    },
    {
      "cell_type": "markdown",
      "source": [
        "# Exercise 4\n",
        "Retrain the best model you've got so far on the whole training set without the validation split. Then use this model to make predicions on the test dataset to use it on Kaggle Competition to see how you've performed."
      ],
      "metadata": {
        "id": "y4hXDXU38t48"
      }
    },
    {
      "cell_type": "code",
      "source": [
        "# Remind ourselves of the data\n",
        "train_data_shuffled.head()"
      ],
      "metadata": {
        "colab": {
          "base_uri": "https://localhost:8080/",
          "height": 201
        },
        "id": "o-ItiGuEb3aN",
        "outputId": "f4b88e19-320a-4be2-a3a3-9d3a301bf07f"
      },
      "execution_count": 36,
      "outputs": [
        {
          "output_type": "execute_result",
          "data": {
            "text/plain": [
              "        id      keyword               location  \\\n",
              "2644  3796  destruction                    NaN   \n",
              "2227  3185       deluge                    NaN   \n",
              "5448  7769       police                     UK   \n",
              "132    191   aftershock                    NaN   \n",
              "6845  9810       trauma  Montgomery County, MD   \n",
              "\n",
              "                                                   text  target  \n",
              "2644  So you have a new weapon that can cause un-ima...       1  \n",
              "2227  The f$&amp;@ing things I do for #GISHWHES Just...       0  \n",
              "5448  DT @georgegalloway: RT @Galloway4Mayor: ÛÏThe...       1  \n",
              "132   Aftershock back to school kick off was great. ...       0  \n",
              "6845  in response to trauma Children of Addicts deve...       0  "
            ],
            "text/html": [
              "\n",
              "  <div id=\"df-c680d0c2-8a44-4b1c-b031-77f636021ee3\">\n",
              "    <div class=\"colab-df-container\">\n",
              "      <div>\n",
              "<style scoped>\n",
              "    .dataframe tbody tr th:only-of-type {\n",
              "        vertical-align: middle;\n",
              "    }\n",
              "\n",
              "    .dataframe tbody tr th {\n",
              "        vertical-align: top;\n",
              "    }\n",
              "\n",
              "    .dataframe thead th {\n",
              "        text-align: right;\n",
              "    }\n",
              "</style>\n",
              "<table border=\"1\" class=\"dataframe\">\n",
              "  <thead>\n",
              "    <tr style=\"text-align: right;\">\n",
              "      <th></th>\n",
              "      <th>id</th>\n",
              "      <th>keyword</th>\n",
              "      <th>location</th>\n",
              "      <th>text</th>\n",
              "      <th>target</th>\n",
              "    </tr>\n",
              "  </thead>\n",
              "  <tbody>\n",
              "    <tr>\n",
              "      <th>2644</th>\n",
              "      <td>3796</td>\n",
              "      <td>destruction</td>\n",
              "      <td>NaN</td>\n",
              "      <td>So you have a new weapon that can cause un-ima...</td>\n",
              "      <td>1</td>\n",
              "    </tr>\n",
              "    <tr>\n",
              "      <th>2227</th>\n",
              "      <td>3185</td>\n",
              "      <td>deluge</td>\n",
              "      <td>NaN</td>\n",
              "      <td>The f$&amp;amp;@ing things I do for #GISHWHES Just...</td>\n",
              "      <td>0</td>\n",
              "    </tr>\n",
              "    <tr>\n",
              "      <th>5448</th>\n",
              "      <td>7769</td>\n",
              "      <td>police</td>\n",
              "      <td>UK</td>\n",
              "      <td>DT @georgegalloway: RT @Galloway4Mayor: ÛÏThe...</td>\n",
              "      <td>1</td>\n",
              "    </tr>\n",
              "    <tr>\n",
              "      <th>132</th>\n",
              "      <td>191</td>\n",
              "      <td>aftershock</td>\n",
              "      <td>NaN</td>\n",
              "      <td>Aftershock back to school kick off was great. ...</td>\n",
              "      <td>0</td>\n",
              "    </tr>\n",
              "    <tr>\n",
              "      <th>6845</th>\n",
              "      <td>9810</td>\n",
              "      <td>trauma</td>\n",
              "      <td>Montgomery County, MD</td>\n",
              "      <td>in response to trauma Children of Addicts deve...</td>\n",
              "      <td>0</td>\n",
              "    </tr>\n",
              "  </tbody>\n",
              "</table>\n",
              "</div>\n",
              "      <button class=\"colab-df-convert\" onclick=\"convertToInteractive('df-c680d0c2-8a44-4b1c-b031-77f636021ee3')\"\n",
              "              title=\"Convert this dataframe to an interactive table.\"\n",
              "              style=\"display:none;\">\n",
              "        \n",
              "  <svg xmlns=\"http://www.w3.org/2000/svg\" height=\"24px\"viewBox=\"0 0 24 24\"\n",
              "       width=\"24px\">\n",
              "    <path d=\"M0 0h24v24H0V0z\" fill=\"none\"/>\n",
              "    <path d=\"M18.56 5.44l.94 2.06.94-2.06 2.06-.94-2.06-.94-.94-2.06-.94 2.06-2.06.94zm-11 1L8.5 8.5l.94-2.06 2.06-.94-2.06-.94L8.5 2.5l-.94 2.06-2.06.94zm10 10l.94 2.06.94-2.06 2.06-.94-2.06-.94-.94-2.06-.94 2.06-2.06.94z\"/><path d=\"M17.41 7.96l-1.37-1.37c-.4-.4-.92-.59-1.43-.59-.52 0-1.04.2-1.43.59L10.3 9.45l-7.72 7.72c-.78.78-.78 2.05 0 2.83L4 21.41c.39.39.9.59 1.41.59.51 0 1.02-.2 1.41-.59l7.78-7.78 2.81-2.81c.8-.78.8-2.07 0-2.86zM5.41 20L4 18.59l7.72-7.72 1.47 1.35L5.41 20z\"/>\n",
              "  </svg>\n",
              "      </button>\n",
              "      \n",
              "  <style>\n",
              "    .colab-df-container {\n",
              "      display:flex;\n",
              "      flex-wrap:wrap;\n",
              "      gap: 12px;\n",
              "    }\n",
              "\n",
              "    .colab-df-convert {\n",
              "      background-color: #E8F0FE;\n",
              "      border: none;\n",
              "      border-radius: 50%;\n",
              "      cursor: pointer;\n",
              "      display: none;\n",
              "      fill: #1967D2;\n",
              "      height: 32px;\n",
              "      padding: 0 0 0 0;\n",
              "      width: 32px;\n",
              "    }\n",
              "\n",
              "    .colab-df-convert:hover {\n",
              "      background-color: #E2EBFA;\n",
              "      box-shadow: 0px 1px 2px rgba(60, 64, 67, 0.3), 0px 1px 3px 1px rgba(60, 64, 67, 0.15);\n",
              "      fill: #174EA6;\n",
              "    }\n",
              "\n",
              "    [theme=dark] .colab-df-convert {\n",
              "      background-color: #3B4455;\n",
              "      fill: #D2E3FC;\n",
              "    }\n",
              "\n",
              "    [theme=dark] .colab-df-convert:hover {\n",
              "      background-color: #434B5C;\n",
              "      box-shadow: 0px 1px 3px 1px rgba(0, 0, 0, 0.15);\n",
              "      filter: drop-shadow(0px 1px 2px rgba(0, 0, 0, 0.3));\n",
              "      fill: #FFFFFF;\n",
              "    }\n",
              "  </style>\n",
              "\n",
              "      <script>\n",
              "        const buttonEl =\n",
              "          document.querySelector('#df-c680d0c2-8a44-4b1c-b031-77f636021ee3 button.colab-df-convert');\n",
              "        buttonEl.style.display =\n",
              "          google.colab.kernel.accessAllowed ? 'block' : 'none';\n",
              "\n",
              "        async function convertToInteractive(key) {\n",
              "          const element = document.querySelector('#df-c680d0c2-8a44-4b1c-b031-77f636021ee3');\n",
              "          const dataTable =\n",
              "            await google.colab.kernel.invokeFunction('convertToInteractive',\n",
              "                                                     [key], {});\n",
              "          if (!dataTable) return;\n",
              "\n",
              "          const docLinkHtml = 'Like what you see? Visit the ' +\n",
              "            '<a target=\"_blank\" href=https://colab.research.google.com/notebooks/data_table.ipynb>data table notebook</a>'\n",
              "            + ' to learn more about interactive tables.';\n",
              "          element.innerHTML = '';\n",
              "          dataTable['output_type'] = 'display_data';\n",
              "          await google.colab.output.renderOutput(dataTable, element);\n",
              "          const docLink = document.createElement('div');\n",
              "          docLink.innerHTML = docLinkHtml;\n",
              "          element.appendChild(docLink);\n",
              "        }\n",
              "      </script>\n",
              "    </div>\n",
              "  </div>\n",
              "  "
            ]
          },
          "metadata": {},
          "execution_count": 36
        }
      ]
    },
    {
      "cell_type": "code",
      "source": [
        "## Recreating the most successful training loop\n",
        "tf.random.set_seed(42)\n",
        "\n",
        "# TF Hub model - USE\n",
        "import tensorflow_hub as hub\n",
        "USE_URL = \"https://tfhub.dev/google/universal-sentence-encoder/4\"\n",
        "embed = hub.load(USE_URL)\n",
        "\n",
        "# Load USE into KerasLayer\n",
        "sentence_encoder_layer = hub.KerasLayer(handle=USE_URL,\n",
        "                                        input_shape=[],\n",
        "                                        dtype=tf.string,\n",
        "                                        trainable=False, # USE layers frozen for feature extraction\n",
        "                                        name='USE_fine_tuned')\n",
        "\n",
        "# Create a base model_6 to fit on the data\n",
        "model_final = tf.keras.Sequential([\n",
        "    #layers.Input(shape=(1,), dtype=tf.string),\n",
        "    sentence_encoder_layer,\n",
        "    layers.Dense(32, activation='relu'),\n",
        "    layers.Dropout(0.2),\n",
        "    layers.Dense(1, activation='sigmoid', name='output_layer'),\n",
        "], name='model_USE_final')\n",
        "\n",
        "# Compile\n",
        "model_final.compile(loss=tf.keras.losses.BinaryCrossentropy(),\n",
        "                    optimizer=tf.keras.optimizers.Adam(),\n",
        "                    metrics=['accuracy'])\n",
        "\n",
        "# Base fit\n",
        "initial_epochs = 5\n",
        "\n",
        "history_model_final = model_final.fit(train_data_shuffled['text'],\n",
        "                                      train_data_shuffled['target'],\n",
        "                                      epochs=initial_epochs,\n",
        "                                      callbacks=[create_tensorboard_callback(SAVE_DIR,\n",
        "                                                                             'model_final_USE')],\n",
        "                                      )\n",
        "\n",
        "# Unfreezing the USE layers for fine-tuning\n",
        "for layer in model_final.layers:\n",
        "  layer.trainable = True\n",
        "  \n",
        "# Recompiling the model for fine-tuning\n",
        "model_final.compile(loss=tf.keras.losses.BinaryCrossentropy(),\n",
        "                    optimizer=tf.keras.optimizers.Adam(learning_rate=1.5e-5),\n",
        "                    metrics=['accuracy'])\n",
        "\n",
        "# Fine-tuning\n",
        "fine_tuning_epochs = 5\n",
        "total_epochs = initial_epochs + fine_tuning_epochs\n",
        "\n",
        "history_model_final_fine_tuning = model_final.fit(train_data_shuffled['text'],\n",
        "                                                  train_data_shuffled['target'],\n",
        "                                                  epochs=total_epochs,\n",
        "                                                  initial_epoch=history_model_final.epoch[-1],\n",
        "                                                  callbacks=[create_tensorboard_callback(SAVE_DIR,\n",
        "                                                                                         'model_final_USE_fine_tuned')]\n",
        "                                                  )"
      ],
      "metadata": {
        "colab": {
          "base_uri": "https://localhost:8080/"
        },
        "id": "wmiXKTVwQ4vx",
        "outputId": "df9bb12d-e3ba-40a0-e2b0-5e6d261ef9f0"
      },
      "execution_count": 38,
      "outputs": [
        {
          "output_type": "stream",
          "name": "stdout",
          "text": [
            "Saving TensorBoard log files to: exercise_model_logs/model_final_USE/20230330-165744\n",
            "Epoch 1/5\n",
            "238/238 [==============================] - 6s 12ms/step - loss: 0.5340 - accuracy: 0.7745\n",
            "Epoch 2/5\n",
            "238/238 [==============================] - 4s 17ms/step - loss: 0.4337 - accuracy: 0.8091\n",
            "Epoch 3/5\n",
            "238/238 [==============================] - 3s 13ms/step - loss: 0.4158 - accuracy: 0.8157\n",
            "Epoch 4/5\n",
            "238/238 [==============================] - 3s 11ms/step - loss: 0.4063 - accuracy: 0.8229\n",
            "Epoch 5/5\n",
            "238/238 [==============================] - 3s 12ms/step - loss: 0.3985 - accuracy: 0.8249\n",
            "Saving TensorBoard log files to: exercise_model_logs/model_final_USE_fine_tuned/20230330-165807\n",
            "Epoch 5/10\n",
            "238/238 [==============================] - 139s 464ms/step - loss: 0.3875 - accuracy: 0.8320\n",
            "Epoch 6/10\n",
            "238/238 [==============================] - 27s 112ms/step - loss: 0.3792 - accuracy: 0.8361\n",
            "Epoch 7/10\n",
            "238/238 [==============================] - 24s 101ms/step - loss: 0.3702 - accuracy: 0.8412\n",
            "Epoch 8/10\n",
            "238/238 [==============================] - 22s 94ms/step - loss: 0.3612 - accuracy: 0.8468\n",
            "Epoch 9/10\n",
            "238/238 [==============================] - 23s 95ms/step - loss: 0.3518 - accuracy: 0.8507\n",
            "Epoch 10/10\n",
            "238/238 [==============================] - 27s 112ms/step - loss: 0.3489 - accuracy: 0.8529\n"
          ]
        }
      ]
    },
    {
      "cell_type": "code",
      "source": [
        "# Make predictions on test Kaggle dataset\n",
        "test_df = pd.read_csv('test.csv')\n",
        "test_df.head()\n",
        "\n",
        "test_pred_probs = model_final.predict(test_df['text'].to_list())\n",
        "test_preds = tf.squeeze(tf.round(test_pred_probs))\n",
        "test_preds[:10]"
      ],
      "metadata": {
        "colab": {
          "base_uri": "https://localhost:8080/"
        },
        "id": "ai2hrllVZGGd",
        "outputId": "fa69f63b-8f4d-4645-ab1b-9c23494f687a"
      },
      "execution_count": 41,
      "outputs": [
        {
          "output_type": "stream",
          "name": "stdout",
          "text": [
            "102/102 [==============================] - 2s 10ms/step\n"
          ]
        },
        {
          "output_type": "execute_result",
          "data": {
            "text/plain": [
              "<tf.Tensor: shape=(10,), dtype=float32, numpy=array([1., 1., 1., 1., 1., 1., 0., 0., 0., 0.], dtype=float32)>"
            ]
          },
          "metadata": {},
          "execution_count": 41
        }
      ]
    },
    {
      "cell_type": "code",
      "source": [
        "submission = pd.DataFrame()\n",
        "submission['id'] = test_df['id']\n",
        "submission['target'] = tf.cast(test_preds, dtype=tf.int64)\n",
        "submission.head()"
      ],
      "metadata": {
        "colab": {
          "base_uri": "https://localhost:8080/",
          "height": 201
        },
        "id": "uVpxsbLAeehz",
        "outputId": "2294432e-1603-4ddc-a61f-856587e72b61"
      },
      "execution_count": 46,
      "outputs": [
        {
          "output_type": "execute_result",
          "data": {
            "text/plain": [
              "   id  target\n",
              "0   0       1\n",
              "1   2       1\n",
              "2   3       1\n",
              "3   9       1\n",
              "4  11       1"
            ],
            "text/html": [
              "\n",
              "  <div id=\"df-b5bec086-6901-49e4-834d-3b7c67f10af8\">\n",
              "    <div class=\"colab-df-container\">\n",
              "      <div>\n",
              "<style scoped>\n",
              "    .dataframe tbody tr th:only-of-type {\n",
              "        vertical-align: middle;\n",
              "    }\n",
              "\n",
              "    .dataframe tbody tr th {\n",
              "        vertical-align: top;\n",
              "    }\n",
              "\n",
              "    .dataframe thead th {\n",
              "        text-align: right;\n",
              "    }\n",
              "</style>\n",
              "<table border=\"1\" class=\"dataframe\">\n",
              "  <thead>\n",
              "    <tr style=\"text-align: right;\">\n",
              "      <th></th>\n",
              "      <th>id</th>\n",
              "      <th>target</th>\n",
              "    </tr>\n",
              "  </thead>\n",
              "  <tbody>\n",
              "    <tr>\n",
              "      <th>0</th>\n",
              "      <td>0</td>\n",
              "      <td>1</td>\n",
              "    </tr>\n",
              "    <tr>\n",
              "      <th>1</th>\n",
              "      <td>2</td>\n",
              "      <td>1</td>\n",
              "    </tr>\n",
              "    <tr>\n",
              "      <th>2</th>\n",
              "      <td>3</td>\n",
              "      <td>1</td>\n",
              "    </tr>\n",
              "    <tr>\n",
              "      <th>3</th>\n",
              "      <td>9</td>\n",
              "      <td>1</td>\n",
              "    </tr>\n",
              "    <tr>\n",
              "      <th>4</th>\n",
              "      <td>11</td>\n",
              "      <td>1</td>\n",
              "    </tr>\n",
              "  </tbody>\n",
              "</table>\n",
              "</div>\n",
              "      <button class=\"colab-df-convert\" onclick=\"convertToInteractive('df-b5bec086-6901-49e4-834d-3b7c67f10af8')\"\n",
              "              title=\"Convert this dataframe to an interactive table.\"\n",
              "              style=\"display:none;\">\n",
              "        \n",
              "  <svg xmlns=\"http://www.w3.org/2000/svg\" height=\"24px\"viewBox=\"0 0 24 24\"\n",
              "       width=\"24px\">\n",
              "    <path d=\"M0 0h24v24H0V0z\" fill=\"none\"/>\n",
              "    <path d=\"M18.56 5.44l.94 2.06.94-2.06 2.06-.94-2.06-.94-.94-2.06-.94 2.06-2.06.94zm-11 1L8.5 8.5l.94-2.06 2.06-.94-2.06-.94L8.5 2.5l-.94 2.06-2.06.94zm10 10l.94 2.06.94-2.06 2.06-.94-2.06-.94-.94-2.06-.94 2.06-2.06.94z\"/><path d=\"M17.41 7.96l-1.37-1.37c-.4-.4-.92-.59-1.43-.59-.52 0-1.04.2-1.43.59L10.3 9.45l-7.72 7.72c-.78.78-.78 2.05 0 2.83L4 21.41c.39.39.9.59 1.41.59.51 0 1.02-.2 1.41-.59l7.78-7.78 2.81-2.81c.8-.78.8-2.07 0-2.86zM5.41 20L4 18.59l7.72-7.72 1.47 1.35L5.41 20z\"/>\n",
              "  </svg>\n",
              "      </button>\n",
              "      \n",
              "  <style>\n",
              "    .colab-df-container {\n",
              "      display:flex;\n",
              "      flex-wrap:wrap;\n",
              "      gap: 12px;\n",
              "    }\n",
              "\n",
              "    .colab-df-convert {\n",
              "      background-color: #E8F0FE;\n",
              "      border: none;\n",
              "      border-radius: 50%;\n",
              "      cursor: pointer;\n",
              "      display: none;\n",
              "      fill: #1967D2;\n",
              "      height: 32px;\n",
              "      padding: 0 0 0 0;\n",
              "      width: 32px;\n",
              "    }\n",
              "\n",
              "    .colab-df-convert:hover {\n",
              "      background-color: #E2EBFA;\n",
              "      box-shadow: 0px 1px 2px rgba(60, 64, 67, 0.3), 0px 1px 3px 1px rgba(60, 64, 67, 0.15);\n",
              "      fill: #174EA6;\n",
              "    }\n",
              "\n",
              "    [theme=dark] .colab-df-convert {\n",
              "      background-color: #3B4455;\n",
              "      fill: #D2E3FC;\n",
              "    }\n",
              "\n",
              "    [theme=dark] .colab-df-convert:hover {\n",
              "      background-color: #434B5C;\n",
              "      box-shadow: 0px 1px 3px 1px rgba(0, 0, 0, 0.15);\n",
              "      filter: drop-shadow(0px 1px 2px rgba(0, 0, 0, 0.3));\n",
              "      fill: #FFFFFF;\n",
              "    }\n",
              "  </style>\n",
              "\n",
              "      <script>\n",
              "        const buttonEl =\n",
              "          document.querySelector('#df-b5bec086-6901-49e4-834d-3b7c67f10af8 button.colab-df-convert');\n",
              "        buttonEl.style.display =\n",
              "          google.colab.kernel.accessAllowed ? 'block' : 'none';\n",
              "\n",
              "        async function convertToInteractive(key) {\n",
              "          const element = document.querySelector('#df-b5bec086-6901-49e4-834d-3b7c67f10af8');\n",
              "          const dataTable =\n",
              "            await google.colab.kernel.invokeFunction('convertToInteractive',\n",
              "                                                     [key], {});\n",
              "          if (!dataTable) return;\n",
              "\n",
              "          const docLinkHtml = 'Like what you see? Visit the ' +\n",
              "            '<a target=\"_blank\" href=https://colab.research.google.com/notebooks/data_table.ipynb>data table notebook</a>'\n",
              "            + ' to learn more about interactive tables.';\n",
              "          element.innerHTML = '';\n",
              "          dataTable['output_type'] = 'display_data';\n",
              "          await google.colab.output.renderOutput(dataTable, element);\n",
              "          const docLink = document.createElement('div');\n",
              "          docLink.innerHTML = docLinkHtml;\n",
              "          element.appendChild(docLink);\n",
              "        }\n",
              "      </script>\n",
              "    </div>\n",
              "  </div>\n",
              "  "
            ]
          },
          "metadata": {},
          "execution_count": 46
        }
      ]
    },
    {
      "cell_type": "code",
      "source": [
        "submission.to_csv('submission_30032023.csv', index=False)"
      ],
      "metadata": {
        "id": "YDbDhCEXfpOC"
      },
      "execution_count": 47,
      "outputs": []
    },
    {
      "cell_type": "markdown",
      "source": [
        "Kaggle results is 0.81642 which at the time of submission is rank 225 out of 1151 competitors."
      ],
      "metadata": {
        "id": "inWEF32Cg4UC"
      }
    }
  ],
  "metadata": {
    "accelerator": "GPU",
    "colab": {
      "collapsed_sections": [
        "fsthelTlcWWB",
        "O1M2k_X1eUT9",
        "Pa_jIgpsgbCL"
      ],
      "provenance": []
    },
    "gpuClass": "standard",
    "kernelspec": {
      "display_name": "Python 3",
      "name": "python3"
    },
    "language_info": {
      "name": "python"
    }
  },
  "nbformat": 4,
  "nbformat_minor": 0
}