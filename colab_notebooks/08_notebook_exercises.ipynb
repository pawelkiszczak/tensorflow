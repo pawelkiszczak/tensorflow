{
  "cells": [
    {
      "cell_type": "markdown",
      "metadata": {
        "id": "p3Wd9F5_mAKH"
      },
      "source": [
        "# Exercise 1\n",
        "Rebuild , compile and train `model_1`, `model_2` and `model_5` using the `Keras Sequential API` instead of `Functional API`."
      ]
    },
    {
      "cell_type": "markdown",
      "metadata": {
        "id": "CPB-jO1qnq4Z"
      },
      "source": [
        "## Check the GPU"
      ]
    },
    {
      "cell_type": "code",
      "execution_count": 5,
      "metadata": {
        "colab": {
          "base_uri": "https://localhost:8080/"
        },
        "id": "KRIdOp0asnd4",
        "outputId": "3c2e83b4-2455-4c5c-cf4a-555ba1949838"
      },
      "outputs": [
        {
          "output_type": "stream",
          "name": "stdout",
          "text": [
            "Sun Apr  2 09:26:36 2023       \n",
            "+-----------------------------------------------------------------------------+\n",
            "| NVIDIA-SMI 525.85.12    Driver Version: 525.85.12    CUDA Version: 12.0     |\n",
            "|-------------------------------+----------------------+----------------------+\n",
            "| GPU  Name        Persistence-M| Bus-Id        Disp.A | Volatile Uncorr. ECC |\n",
            "| Fan  Temp  Perf  Pwr:Usage/Cap|         Memory-Usage | GPU-Util  Compute M. |\n",
            "|                               |                      |               MIG M. |\n",
            "|===============================+======================+======================|\n",
            "|   0  Tesla T4            Off  | 00000000:00:04.0 Off |                    0 |\n",
            "| N/A   45C    P8     9W /  70W |      0MiB / 15360MiB |      0%      Default |\n",
            "|                               |                      |                  N/A |\n",
            "+-------------------------------+----------------------+----------------------+\n",
            "                                                                               \n",
            "+-----------------------------------------------------------------------------+\n",
            "| Processes:                                                                  |\n",
            "|  GPU   GI   CI        PID   Type   Process name                  GPU Memory |\n",
            "|        ID   ID                                                   Usage      |\n",
            "|=============================================================================|\n",
            "|  No running processes found                                                 |\n",
            "+-----------------------------------------------------------------------------+\n"
          ]
        }
      ],
      "source": [
        "# Check for the GPU\n",
        "!nvidia-smi"
      ]
    },
    {
      "cell_type": "markdown",
      "metadata": {
        "id": "nVqGR_rBssW-"
      },
      "source": [
        "## Get the helper functions"
      ]
    },
    {
      "cell_type": "code",
      "execution_count": 6,
      "metadata": {
        "colab": {
          "base_uri": "https://localhost:8080/"
        },
        "id": "cRx_xrTGszcJ",
        "outputId": "d0e46bdb-cd25-4b6c-dfb4-3aa0e07491a0"
      },
      "outputs": [
        {
          "output_type": "stream",
          "name": "stdout",
          "text": [
            "--2023-04-02 09:26:36--  https://raw.githubusercontent.com/mrdbourke/tensorflow-deep-learning/main/extras/helper_functions.py\n",
            "Resolving raw.githubusercontent.com (raw.githubusercontent.com)... 185.199.109.133, 185.199.111.133, 185.199.108.133, ...\n",
            "Connecting to raw.githubusercontent.com (raw.githubusercontent.com)|185.199.109.133|:443... connected.\n",
            "HTTP request sent, awaiting response... 200 OK\n",
            "Length: 10246 (10K) [text/plain]\n",
            "Saving to: ‘helper_functions.py’\n",
            "\n",
            "\rhelper_functions.py   0%[                    ]       0  --.-KB/s               \rhelper_functions.py 100%[===================>]  10.01K  --.-KB/s    in 0s      \n",
            "\n",
            "2023-04-02 09:26:36 (84.6 MB/s) - ‘helper_functions.py’ saved [10246/10246]\n",
            "\n"
          ]
        }
      ],
      "source": [
        "# Download the helper functions\n",
        "!wget https://raw.githubusercontent.com/mrdbourke/tensorflow-deep-learning/main/extras/helper_functions.py\n",
        "\n",
        "# Import series of helper functions for the notebook\n",
        "from helper_functions import unzip_data, create_tensorboard_callback"
      ]
    },
    {
      "cell_type": "markdown",
      "metadata": {
        "id": "-Qam418Xs3zu"
      },
      "source": [
        "## Get a text dataset"
      ]
    },
    {
      "cell_type": "code",
      "execution_count": 7,
      "metadata": {
        "colab": {
          "base_uri": "https://localhost:8080/"
        },
        "id": "UonJH4N0s7ai",
        "outputId": "4f077f1c-3e7f-4145-ad63-2d8f87ac6a2a"
      },
      "outputs": [
        {
          "output_type": "stream",
          "name": "stdout",
          "text": [
            "--2023-04-02 09:26:42--  https://storage.googleapis.com/ztm_tf_course/nlp_getting_started.zip\n",
            "Resolving storage.googleapis.com (storage.googleapis.com)... 209.85.145.128, 172.217.219.128, 209.85.146.128, ...\n",
            "Connecting to storage.googleapis.com (storage.googleapis.com)|209.85.145.128|:443... connected.\n",
            "HTTP request sent, awaiting response... 200 OK\n",
            "Length: 607343 (593K) [application/zip]\n",
            "Saving to: ‘nlp_getting_started.zip’\n",
            "\n",
            "\rnlp_getting_started   0%[                    ]       0  --.-KB/s               \rnlp_getting_started 100%[===================>] 593.11K  --.-KB/s    in 0.004s  \n",
            "\n",
            "2023-04-02 09:26:42 (133 MB/s) - ‘nlp_getting_started.zip’ saved [607343/607343]\n",
            "\n"
          ]
        }
      ],
      "source": [
        "# Download the data\n",
        "!wget https://storage.googleapis.com/ztm_tf_course/nlp_getting_started.zip\n",
        "\n",
        "# Unzip data\n",
        "unzip_data('nlp_getting_started.zip')"
      ]
    },
    {
      "cell_type": "code",
      "execution_count": 8,
      "metadata": {
        "id": "957zb8Mitr6O"
      },
      "outputs": [],
      "source": [
        "import pandas as pd\n",
        "\n",
        "train_data = pd.read_csv('train.csv')\n",
        "test_data = pd.read_csv('test.csv')"
      ]
    },
    {
      "cell_type": "code",
      "execution_count": 9,
      "metadata": {
        "colab": {
          "base_uri": "https://localhost:8080/",
          "height": 201
        },
        "id": "YY-gBWsVt5a5",
        "outputId": "1da6fe3d-1fb8-4bba-9e5d-0bbb3faf9dd6"
      },
      "outputs": [
        {
          "output_type": "execute_result",
          "data": {
            "text/plain": [
              "        id      keyword               location  \\\n",
              "2644  3796  destruction                    NaN   \n",
              "2227  3185       deluge                    NaN   \n",
              "5448  7769       police                     UK   \n",
              "132    191   aftershock                    NaN   \n",
              "6845  9810       trauma  Montgomery County, MD   \n",
              "\n",
              "                                                   text  target  \n",
              "2644  So you have a new weapon that can cause un-ima...       1  \n",
              "2227  The f$&amp;@ing things I do for #GISHWHES Just...       0  \n",
              "5448  DT @georgegalloway: RT @Galloway4Mayor: ÛÏThe...       1  \n",
              "132   Aftershock back to school kick off was great. ...       0  \n",
              "6845  in response to trauma Children of Addicts deve...       0  "
            ],
            "text/html": [
              "\n",
              "  <div id=\"df-5a0b347e-955b-41b0-a8e3-39b2c46a7bb0\">\n",
              "    <div class=\"colab-df-container\">\n",
              "      <div>\n",
              "<style scoped>\n",
              "    .dataframe tbody tr th:only-of-type {\n",
              "        vertical-align: middle;\n",
              "    }\n",
              "\n",
              "    .dataframe tbody tr th {\n",
              "        vertical-align: top;\n",
              "    }\n",
              "\n",
              "    .dataframe thead th {\n",
              "        text-align: right;\n",
              "    }\n",
              "</style>\n",
              "<table border=\"1\" class=\"dataframe\">\n",
              "  <thead>\n",
              "    <tr style=\"text-align: right;\">\n",
              "      <th></th>\n",
              "      <th>id</th>\n",
              "      <th>keyword</th>\n",
              "      <th>location</th>\n",
              "      <th>text</th>\n",
              "      <th>target</th>\n",
              "    </tr>\n",
              "  </thead>\n",
              "  <tbody>\n",
              "    <tr>\n",
              "      <th>2644</th>\n",
              "      <td>3796</td>\n",
              "      <td>destruction</td>\n",
              "      <td>NaN</td>\n",
              "      <td>So you have a new weapon that can cause un-ima...</td>\n",
              "      <td>1</td>\n",
              "    </tr>\n",
              "    <tr>\n",
              "      <th>2227</th>\n",
              "      <td>3185</td>\n",
              "      <td>deluge</td>\n",
              "      <td>NaN</td>\n",
              "      <td>The f$&amp;amp;@ing things I do for #GISHWHES Just...</td>\n",
              "      <td>0</td>\n",
              "    </tr>\n",
              "    <tr>\n",
              "      <th>5448</th>\n",
              "      <td>7769</td>\n",
              "      <td>police</td>\n",
              "      <td>UK</td>\n",
              "      <td>DT @georgegalloway: RT @Galloway4Mayor: ÛÏThe...</td>\n",
              "      <td>1</td>\n",
              "    </tr>\n",
              "    <tr>\n",
              "      <th>132</th>\n",
              "      <td>191</td>\n",
              "      <td>aftershock</td>\n",
              "      <td>NaN</td>\n",
              "      <td>Aftershock back to school kick off was great. ...</td>\n",
              "      <td>0</td>\n",
              "    </tr>\n",
              "    <tr>\n",
              "      <th>6845</th>\n",
              "      <td>9810</td>\n",
              "      <td>trauma</td>\n",
              "      <td>Montgomery County, MD</td>\n",
              "      <td>in response to trauma Children of Addicts deve...</td>\n",
              "      <td>0</td>\n",
              "    </tr>\n",
              "  </tbody>\n",
              "</table>\n",
              "</div>\n",
              "      <button class=\"colab-df-convert\" onclick=\"convertToInteractive('df-5a0b347e-955b-41b0-a8e3-39b2c46a7bb0')\"\n",
              "              title=\"Convert this dataframe to an interactive table.\"\n",
              "              style=\"display:none;\">\n",
              "        \n",
              "  <svg xmlns=\"http://www.w3.org/2000/svg\" height=\"24px\"viewBox=\"0 0 24 24\"\n",
              "       width=\"24px\">\n",
              "    <path d=\"M0 0h24v24H0V0z\" fill=\"none\"/>\n",
              "    <path d=\"M18.56 5.44l.94 2.06.94-2.06 2.06-.94-2.06-.94-.94-2.06-.94 2.06-2.06.94zm-11 1L8.5 8.5l.94-2.06 2.06-.94-2.06-.94L8.5 2.5l-.94 2.06-2.06.94zm10 10l.94 2.06.94-2.06 2.06-.94-2.06-.94-.94-2.06-.94 2.06-2.06.94z\"/><path d=\"M17.41 7.96l-1.37-1.37c-.4-.4-.92-.59-1.43-.59-.52 0-1.04.2-1.43.59L10.3 9.45l-7.72 7.72c-.78.78-.78 2.05 0 2.83L4 21.41c.39.39.9.59 1.41.59.51 0 1.02-.2 1.41-.59l7.78-7.78 2.81-2.81c.8-.78.8-2.07 0-2.86zM5.41 20L4 18.59l7.72-7.72 1.47 1.35L5.41 20z\"/>\n",
              "  </svg>\n",
              "      </button>\n",
              "      \n",
              "  <style>\n",
              "    .colab-df-container {\n",
              "      display:flex;\n",
              "      flex-wrap:wrap;\n",
              "      gap: 12px;\n",
              "    }\n",
              "\n",
              "    .colab-df-convert {\n",
              "      background-color: #E8F0FE;\n",
              "      border: none;\n",
              "      border-radius: 50%;\n",
              "      cursor: pointer;\n",
              "      display: none;\n",
              "      fill: #1967D2;\n",
              "      height: 32px;\n",
              "      padding: 0 0 0 0;\n",
              "      width: 32px;\n",
              "    }\n",
              "\n",
              "    .colab-df-convert:hover {\n",
              "      background-color: #E2EBFA;\n",
              "      box-shadow: 0px 1px 2px rgba(60, 64, 67, 0.3), 0px 1px 3px 1px rgba(60, 64, 67, 0.15);\n",
              "      fill: #174EA6;\n",
              "    }\n",
              "\n",
              "    [theme=dark] .colab-df-convert {\n",
              "      background-color: #3B4455;\n",
              "      fill: #D2E3FC;\n",
              "    }\n",
              "\n",
              "    [theme=dark] .colab-df-convert:hover {\n",
              "      background-color: #434B5C;\n",
              "      box-shadow: 0px 1px 3px 1px rgba(0, 0, 0, 0.15);\n",
              "      filter: drop-shadow(0px 1px 2px rgba(0, 0, 0, 0.3));\n",
              "      fill: #FFFFFF;\n",
              "    }\n",
              "  </style>\n",
              "\n",
              "      <script>\n",
              "        const buttonEl =\n",
              "          document.querySelector('#df-5a0b347e-955b-41b0-a8e3-39b2c46a7bb0 button.colab-df-convert');\n",
              "        buttonEl.style.display =\n",
              "          google.colab.kernel.accessAllowed ? 'block' : 'none';\n",
              "\n",
              "        async function convertToInteractive(key) {\n",
              "          const element = document.querySelector('#df-5a0b347e-955b-41b0-a8e3-39b2c46a7bb0');\n",
              "          const dataTable =\n",
              "            await google.colab.kernel.invokeFunction('convertToInteractive',\n",
              "                                                     [key], {});\n",
              "          if (!dataTable) return;\n",
              "\n",
              "          const docLinkHtml = 'Like what you see? Visit the ' +\n",
              "            '<a target=\"_blank\" href=https://colab.research.google.com/notebooks/data_table.ipynb>data table notebook</a>'\n",
              "            + ' to learn more about interactive tables.';\n",
              "          element.innerHTML = '';\n",
              "          dataTable['output_type'] = 'display_data';\n",
              "          await google.colab.output.renderOutput(dataTable, element);\n",
              "          const docLink = document.createElement('div');\n",
              "          docLink.innerHTML = docLinkHtml;\n",
              "          element.appendChild(docLink);\n",
              "        }\n",
              "      </script>\n",
              "    </div>\n",
              "  </div>\n",
              "  "
            ]
          },
          "metadata": {},
          "execution_count": 9
        }
      ],
      "source": [
        "# Shuffling the test dataset\n",
        "train_data_shuffled = train_data.sample(frac=1, random_state=42)\n",
        "train_data_shuffled.head()"
      ]
    },
    {
      "cell_type": "markdown",
      "metadata": {
        "id": "pIeZNtMPs82U"
      },
      "source": [
        "### Split the data into training/validations sets"
      ]
    },
    {
      "cell_type": "code",
      "execution_count": 10,
      "metadata": {
        "id": "TtfYyIS2tHeS"
      },
      "outputs": [],
      "source": [
        "from sklearn.model_selection import train_test_split\n",
        "\n",
        "train_sentences, val_sentences, train_labels, val_labels = train_test_split(train_data_shuffled['text'],\n",
        "                                                                            train_data_shuffled['target'],\n",
        "                                                                            test_size=0.1,\n",
        "                                                                            random_state=42)"
      ]
    },
    {
      "cell_type": "code",
      "execution_count": 11,
      "metadata": {
        "colab": {
          "base_uri": "https://localhost:8080/"
        },
        "id": "7mZaHf41uOwl",
        "outputId": "0343f102-c1f6-4087-ffe3-0a86b51baef8"
      },
      "outputs": [
        {
          "output_type": "execute_result",
          "data": {
            "text/plain": [
              "(True, True)"
            ]
          },
          "metadata": {},
          "execution_count": 11
        }
      ],
      "source": [
        "# Check the lengths\n",
        "len(train_sentences) == len(train_labels), len(val_sentences) == len(val_labels)"
      ]
    },
    {
      "cell_type": "markdown",
      "metadata": {
        "id": "RtkzkAR3vNK3"
      },
      "source": [
        "## Converting text data into numerical data"
      ]
    },
    {
      "cell_type": "markdown",
      "metadata": {
        "id": "tg3sVKLtvXvq"
      },
      "source": [
        "### Tokenization"
      ]
    },
    {
      "cell_type": "code",
      "execution_count": 12,
      "metadata": {
        "id": "_pyhUhjJvZD6"
      },
      "outputs": [],
      "source": [
        "import tensorflow as tf\n",
        "from tensorflow.keras.layers.experimental.preprocessing import TextVectorization"
      ]
    },
    {
      "cell_type": "code",
      "execution_count": 13,
      "metadata": {
        "id": "k4y3P3YP0Y6F"
      },
      "outputs": [],
      "source": [
        "# Setup the vectorization variables\n",
        "max_vocab_length = 10000\n",
        "max_length = 15"
      ]
    },
    {
      "cell_type": "code",
      "execution_count": 14,
      "metadata": {
        "id": "Tu4f3-Ft0r85"
      },
      "outputs": [],
      "source": [
        "# Setup the TextVectorization \n",
        "text_vectorizer = TextVectorization(max_tokens=max_vocab_length,\n",
        "                                    output_mode='int', \n",
        "                                    output_sequence_length=max_length)"
      ]
    },
    {
      "cell_type": "code",
      "execution_count": 15,
      "metadata": {
        "id": "z5NdUQD324Gz"
      },
      "outputs": [],
      "source": [
        "# Fit the text vectorizer to the training set\n",
        "text_vectorizer.adapt(train_sentences)"
      ]
    },
    {
      "cell_type": "code",
      "execution_count": 16,
      "metadata": {
        "colab": {
          "base_uri": "https://localhost:8080/"
        },
        "id": "WzHBnHW7393B",
        "outputId": "4f7485a0-49f2-4075-d9fe-4e6c22480e4f"
      },
      "outputs": [
        {
          "output_type": "execute_result",
          "data": {
            "text/plain": [
              "<tf.Tensor: shape=(1, 15), dtype=int64, numpy=\n",
              "array([[1924,  110,    2, 6238,    5, 1742,   69,    0,    0,    0,    0,\n",
              "           0,    0,    0,    0]])>"
            ]
          },
          "metadata": {},
          "execution_count": 16
        }
      ],
      "source": [
        "# Create a sample set and vectorize it\n",
        "sample_sentence = \"We'd love the aliens to visit us!\"\n",
        "text_vectorizer([sample_sentence])"
      ]
    },
    {
      "cell_type": "code",
      "execution_count": 17,
      "metadata": {
        "colab": {
          "base_uri": "https://localhost:8080/"
        },
        "id": "t665D87r4enf",
        "outputId": "b0ed3ba0-0e6a-4be9-f87c-55a5a8cde2d6"
      },
      "outputs": [
        {
          "output_type": "stream",
          "name": "stdout",
          "text": [
            "Top 5 most used words: ['', '[UNK]', 'the', 'a', 'in']\n",
            "Top 5 least used words: ['pages', 'paeds', 'pads', 'padres', 'paddytomlinson1']\n"
          ]
        }
      ],
      "source": [
        "# Checking the vocabulary\n",
        "vocab = text_vectorizer.get_vocabulary()\n",
        "print(f\"Top 5 most used words: {vocab[:5]}\")\n",
        "print(f\"Top 5 least used words: {vocab[-5:]}\")"
      ]
    },
    {
      "cell_type": "markdown",
      "metadata": {
        "id": "3UnRIttt46k-"
      },
      "source": [
        "### Embedding"
      ]
    },
    {
      "cell_type": "code",
      "execution_count": 18,
      "metadata": {
        "colab": {
          "base_uri": "https://localhost:8080/"
        },
        "id": "rqpdmfTR5OmP",
        "outputId": "8d5b1fe9-2e80-4df0-bcfd-9fb1bb65d0d7"
      },
      "outputs": [
        {
          "output_type": "execute_result",
          "data": {
            "text/plain": [
              "<keras.layers.core.embedding.Embedding at 0x7f1a18434cd0>"
            ]
          },
          "metadata": {},
          "execution_count": 18
        }
      ],
      "source": [
        "from tensorflow.keras import layers\n",
        "\n",
        "# Create embedding layer\n",
        "embedding = layers.Embedding(input_dim=max_vocab_length, # input shape\n",
        "                             output_dim=128, # output shape\n",
        "                             input_length=max_length) # input length\n",
        "\n",
        "embedding"
      ]
    },
    {
      "cell_type": "code",
      "execution_count": 19,
      "metadata": {
        "colab": {
          "base_uri": "https://localhost:8080/"
        },
        "id": "pfR0VeYF6ANc",
        "outputId": "adff5cc7-c368-4648-dba2-f3303fb2e8ea"
      },
      "outputs": [
        {
          "output_type": "stream",
          "name": "stdout",
          "text": [
            "Sample sentence: \n",
            "We'd love the aliens to visit us!\n",
            "\n",
            "Sample sentence vectorized: \n",
            "[[1924  110    2 6238    5 1742   69    0    0    0    0    0    0    0\n",
            "     0]]\n",
            "\n",
            "Sample sentence embedded: \n",
            "[[[ 0.03253646 -0.02474561  0.0096749  ... -0.01865226 -0.01686794\n",
            "   -0.01096852]\n",
            "  [ 0.01763327  0.04549273  0.02066935 ... -0.03454332 -0.02489433\n",
            "   -0.02596654]\n",
            "  [ 0.04962273  0.02548821 -0.0003642  ...  0.02688631  0.00779491\n",
            "    0.04697153]\n",
            "  ...\n",
            "  [ 0.02340217 -0.02637414 -0.01749427 ...  0.0408749   0.02055774\n",
            "   -0.01659428]\n",
            "  [ 0.02340217 -0.02637414 -0.01749427 ...  0.0408749   0.02055774\n",
            "   -0.01659428]\n",
            "  [ 0.02340217 -0.02637414 -0.01749427 ...  0.0408749   0.02055774\n",
            "   -0.01659428]]]\n"
          ]
        }
      ],
      "source": [
        "# Check if it works\n",
        "print(f\"Sample sentence: \\n{sample_sentence}\")\n",
        "print(f\"\\nSample sentence vectorized: \\n{text_vectorizer([sample_sentence])}\")\n",
        "print(f\"\\nSample sentence embedded: \\n{embedding(text_vectorizer([sample_sentence]))}\")"
      ]
    },
    {
      "cell_type": "markdown",
      "metadata": {
        "id": "57ZxoBB97Nv7"
      },
      "source": [
        "## Helper function to evaluate the models"
      ]
    },
    {
      "cell_type": "code",
      "execution_count": 20,
      "metadata": {
        "id": "psuHGEWd7dy0"
      },
      "outputs": [],
      "source": [
        "from sklearn.metrics import accuracy_score, precision_recall_fscore_support\n",
        "\n",
        "def calculate_results(y_true, y_pred):\n",
        "  # Calculate model accuracy\n",
        "  accuracy = accuracy_score(y_true, y_pred)\n",
        "\n",
        "  # Calculate precision, recall and f1-score (in 'weighted' mode)\n",
        "  precision, recall, f1, _ = precision_recall_fscore_support(y_true,\n",
        "                                                             y_pred,\n",
        "                                                             average='weighted')\n",
        "  \n",
        "  results = {'accuracy': accuracy,\n",
        "             'precision': precision,\n",
        "             'recall': recall,\n",
        "             'f1-score': f1}\n",
        "\n",
        "  return results"
      ]
    },
    {
      "cell_type": "code",
      "execution_count": 21,
      "metadata": {
        "id": "JrlU0XVPANjZ"
      },
      "outputs": [],
      "source": [
        "# Create TensorBoard callback\n",
        "from helper_functions import create_tensorboard_callback\n",
        "\n",
        "SAVE_DIR = 'exercise_model_logs'"
      ]
    },
    {
      "cell_type": "markdown",
      "metadata": {
        "id": "Te2aZ5P48o89"
      },
      "source": [
        "## Model 1 reproduction - simple dense model\n",
        "\n",
        "\n",
        "\n"
      ]
    },
    {
      "cell_type": "code",
      "execution_count": 22,
      "metadata": {
        "colab": {
          "base_uri": "https://localhost:8080/"
        },
        "id": "7FkG1uLe88d5",
        "outputId": "a3d89c84-3eba-4dcd-fd95-3d365b4e758f"
      },
      "outputs": [
        {
          "output_type": "stream",
          "name": "stdout",
          "text": [
            "Model: \"model_1_dense\"\n",
            "_________________________________________________________________\n",
            " Layer (type)                Output Shape              Param #   \n",
            "=================================================================\n",
            " text_vectorization (TextVec  (None, 15)               0         \n",
            " torization)                                                     \n",
            "                                                                 \n",
            " embedding (Embedding)       (None, 15, 128)           1280000   \n",
            "                                                                 \n",
            " global_average_pooling1d (G  (None, 128)              0         \n",
            " lobalAveragePooling1D)                                          \n",
            "                                                                 \n",
            " dense (Dense)               (None, 1)                 129       \n",
            "                                                                 \n",
            "=================================================================\n",
            "Total params: 1,280,129\n",
            "Trainable params: 1,280,129\n",
            "Non-trainable params: 0\n",
            "_________________________________________________________________\n"
          ]
        }
      ],
      "source": [
        "# Create the model with Sequential API\n",
        "model_1 = tf.keras.Sequential([\n",
        "    layers.Input(shape=(1,), dtype=tf.string),\n",
        "    text_vectorizer,\n",
        "    embedding,\n",
        "    layers.GlobalAveragePooling1D(),\n",
        "    layers.Dense(1, activation='sigmoid')\n",
        "], name='model_1_dense')\n",
        "\n",
        "model_1.summary()\n",
        "\n",
        "# Compile the model\n",
        "model_1.compile(loss=tf.keras.losses.BinaryCrossentropy(),\n",
        "                optimizer=tf.keras.optimizers.Adam(),\n",
        "                metrics=['accuracy'])"
      ]
    },
    {
      "cell_type": "code",
      "execution_count": 23,
      "metadata": {
        "colab": {
          "base_uri": "https://localhost:8080/"
        },
        "id": "rLXG6Vvm-UJ1",
        "outputId": "6797b6c7-a02a-44ed-dd25-7206fb1b1890"
      },
      "outputs": [
        {
          "output_type": "stream",
          "name": "stdout",
          "text": [
            "Saving TensorBoard log files to: exercise_model_logs/model_1_dense_Sequential/20230402-092647\n",
            "Epoch 1/5\n",
            "215/215 - 22s - loss: 0.6117 - accuracy: 0.7037 - val_loss: 0.5400 - val_accuracy: 0.7428 - 22s/epoch - 103ms/step\n",
            "Epoch 2/5\n",
            "215/215 - 2s - loss: 0.4427 - accuracy: 0.8164 - val_loss: 0.4692 - val_accuracy: 0.7822 - 2s/epoch - 11ms/step\n",
            "Epoch 3/5\n",
            "215/215 - 3s - loss: 0.3476 - accuracy: 0.8634 - val_loss: 0.4571 - val_accuracy: 0.7927 - 3s/epoch - 15ms/step\n",
            "Epoch 4/5\n",
            "215/215 - 2s - loss: 0.2848 - accuracy: 0.8889 - val_loss: 0.4634 - val_accuracy: 0.7848 - 2s/epoch - 11ms/step\n",
            "Epoch 5/5\n",
            "215/215 - 1s - loss: 0.2384 - accuracy: 0.9120 - val_loss: 0.4812 - val_accuracy: 0.7848 - 1s/epoch - 5ms/step\n"
          ]
        }
      ],
      "source": [
        "# Fit the model \n",
        "model_1_history = model_1.fit(x=train_sentences,\n",
        "                              y=train_labels,\n",
        "                              epochs=5,\n",
        "                              validation_data=(val_sentences, val_labels),\n",
        "                              callbacks=[create_tensorboard_callback(SAVE_DIR,\n",
        "                                                                    'model_1_dense_Sequential')],\n",
        "                              verbose=2)"
      ]
    },
    {
      "cell_type": "code",
      "execution_count": 24,
      "metadata": {
        "id": "iRTF0JCPGb21"
      },
      "outputs": [],
      "source": [
        "# Function to evaluate and predict\n",
        "def evaluate_and_pred(model, data_to_predict, labels_to_predict):\n",
        "  \"\"\"\n",
        "  Evaluates on data_to_predict and returns predictions as 1 or 0.\n",
        "  \"\"\"\n",
        "\n",
        "  # Evaluate the model\n",
        "  eval = model.evaluate(data_to_predict, labels_to_predict)\n",
        "  print(f\"Evaluation metrics: {eval}\\n\")\n",
        "\n",
        "  # Get the predictions \n",
        "  pred_probs = model.predict(data_to_predict)\n",
        "  preds = tf.squeeze(tf.round(pred_probs))\n",
        "\n",
        "  print(f\"Preds overview: {preds[:10]}\")\n",
        "\n",
        "  return preds"
      ]
    },
    {
      "cell_type": "code",
      "execution_count": 25,
      "metadata": {
        "colab": {
          "base_uri": "https://localhost:8080/"
        },
        "id": "KW9jv6z5wREK",
        "outputId": "cb99a0e9-f0dc-4c9c-d51c-dd2dfb78dfa7"
      },
      "outputs": [
        {
          "output_type": "stream",
          "name": "stdout",
          "text": [
            "24/24 [==============================] - 0s 3ms/step - loss: 0.4812 - accuracy: 0.7848\n",
            "Evaluation metrics: [0.48123079538345337, 0.7847769260406494]\n",
            "\n",
            "24/24 [==============================] - 0s 2ms/step\n",
            "Preds overview: [0. 1. 1. 0. 0. 1. 1. 1. 1. 0.]\n"
          ]
        }
      ],
      "source": [
        "# Evaluation and preds\n",
        "model_1_preds = evaluate_and_pred(model_1, val_sentences, val_labels)"
      ]
    },
    {
      "cell_type": "code",
      "execution_count": 26,
      "metadata": {
        "colab": {
          "base_uri": "https://localhost:8080/"
        },
        "id": "sfknwHCRwbvg",
        "outputId": "9b37a507-5763-4701-a835-154a6bff0e32"
      },
      "outputs": [
        {
          "output_type": "execute_result",
          "data": {
            "text/plain": [
              "{'accuracy': 0.7847769028871391,\n",
              " 'precision': 0.789165199286798,\n",
              " 'recall': 0.7847769028871391,\n",
              " 'f1-score': 0.7818959205825942}"
            ]
          },
          "metadata": {},
          "execution_count": 26
        }
      ],
      "source": [
        "# Calculate the results\n",
        "model_1_results = calculate_results(val_labels, model_1_preds)\n",
        "model_1_results\n"
      ]
    },
    {
      "cell_type": "markdown",
      "metadata": {
        "id": "fsthelTlcWWB"
      },
      "source": [
        "## Model 2 - LSTM"
      ]
    },
    {
      "cell_type": "code",
      "execution_count": 27,
      "metadata": {
        "colab": {
          "base_uri": "https://localhost:8080/"
        },
        "id": "G9XOUCG4cvgH",
        "outputId": "98de274f-88c0-466f-d963-5692b67df12c"
      },
      "outputs": [
        {
          "output_type": "stream",
          "name": "stdout",
          "text": [
            "Model: \"model_2_lstm\"\n",
            "_________________________________________________________________\n",
            " Layer (type)                Output Shape              Param #   \n",
            "=================================================================\n",
            " text_vectorization (TextVec  (None, 15)               0         \n",
            " torization)                                                     \n",
            "                                                                 \n",
            " embedding (Embedding)       (None, 15, 128)           1280000   \n",
            "                                                                 \n",
            " lstm (LSTM)                 (None, 64)                49408     \n",
            "                                                                 \n",
            " dense_1 (Dense)             (None, 1)                 65        \n",
            "                                                                 \n",
            "=================================================================\n",
            "Total params: 1,329,473\n",
            "Trainable params: 1,329,473\n",
            "Non-trainable params: 0\n",
            "_________________________________________________________________\n"
          ]
        }
      ],
      "source": [
        "from tensorflow.keras import layers\n",
        "\n",
        "# Create the model\n",
        "model_2 = tf.keras.Sequential([\n",
        "    layers.Input(shape=(1,), dtype=tf.string),\n",
        "    text_vectorizer,\n",
        "    embedding,\n",
        "    layers.LSTM(units=64),\n",
        "    layers.Dense(1, activation='sigmoid')\n",
        "], name='model_2_lstm')\n",
        "\n",
        "# Compile the model\n",
        "model_2.compile(loss='binary_crossentropy',\n",
        "                optimizer='Adam',\n",
        "                metrics=['accuracy'])\n",
        "\n",
        "# Check the summary\n",
        "model_2.summary()"
      ]
    },
    {
      "cell_type": "code",
      "execution_count": 28,
      "metadata": {
        "colab": {
          "base_uri": "https://localhost:8080/"
        },
        "id": "0UPhS3BodaFI",
        "outputId": "397a3482-c6fc-491c-db78-1215272dcda8"
      },
      "outputs": [
        {
          "output_type": "stream",
          "name": "stdout",
          "text": [
            "Saving TensorBoard log files to: exercise_model_logs/model_2_lstm/20230402-092730\n",
            "Epoch 1/5\n",
            "215/215 - 14s - loss: 0.2199 - accuracy: 0.9178 - val_loss: 0.5425 - val_accuracy: 0.7848 - 14s/epoch - 67ms/step\n",
            "Epoch 2/5\n",
            "215/215 - 4s - loss: 0.1545 - accuracy: 0.9439 - val_loss: 0.7553 - val_accuracy: 0.7808 - 4s/epoch - 19ms/step\n",
            "Epoch 3/5\n",
            "215/215 - 2s - loss: 0.1317 - accuracy: 0.9523 - val_loss: 0.6999 - val_accuracy: 0.7848 - 2s/epoch - 11ms/step\n",
            "Epoch 4/5\n",
            "215/215 - 2s - loss: 0.1034 - accuracy: 0.9603 - val_loss: 0.7878 - val_accuracy: 0.7756 - 2s/epoch - 8ms/step\n",
            "Epoch 5/5\n",
            "215/215 - 3s - loss: 0.0861 - accuracy: 0.9660 - val_loss: 1.0286 - val_accuracy: 0.7743 - 3s/epoch - 14ms/step\n"
          ]
        }
      ],
      "source": [
        "# Fit the model\n",
        "model_2_history = model_2.fit(train_sentences,\n",
        "                              train_labels,\n",
        "                              epochs=5,\n",
        "                              validation_data=(val_sentences, val_labels),\n",
        "                              callbacks=[create_tensorboard_callback(SAVE_DIR,\n",
        "                                                                     'model_2_lstm')],\n",
        "                              verbose=2)"
      ]
    },
    {
      "cell_type": "code",
      "execution_count": 29,
      "metadata": {
        "colab": {
          "base_uri": "https://localhost:8080/"
        },
        "id": "tJ5fpvMcdycF",
        "outputId": "2d030563-63bb-4076-9cac-ff194d3f8411"
      },
      "outputs": [
        {
          "output_type": "stream",
          "name": "stdout",
          "text": [
            "24/24 [==============================] - 0s 3ms/step - loss: 1.0286 - accuracy: 0.7743\n",
            "Evaluation metrics: [1.0286036729812622, 0.7742782235145569]\n",
            "\n",
            "24/24 [==============================] - 0s 3ms/step\n",
            "Preds overview: [0. 1. 1. 0. 0. 1. 1. 1. 1. 0.]\n"
          ]
        }
      ],
      "source": [
        "# Evaluate and predict\n",
        "model_2_preds = evaluate_and_pred(model_2, val_sentences, val_labels)"
      ]
    },
    {
      "cell_type": "code",
      "execution_count": 30,
      "metadata": {
        "colab": {
          "base_uri": "https://localhost:8080/"
        },
        "id": "rM3C55tFeLWA",
        "outputId": "d6903c68-7587-4cbd-a5ca-bd26580541fe"
      },
      "outputs": [
        {
          "output_type": "execute_result",
          "data": {
            "text/plain": [
              "{'accuracy': 0.7742782152230971,\n",
              " 'precision': 0.7757380419380466,\n",
              " 'recall': 0.7742782152230971,\n",
              " 'f1-score': 0.7723566516531356}"
            ]
          },
          "metadata": {},
          "execution_count": 30
        }
      ],
      "source": [
        "# Calculate results\n",
        "model_2_results = calculate_results(val_labels, model_2_preds)\n",
        "model_2_results"
      ]
    },
    {
      "cell_type": "markdown",
      "metadata": {
        "id": "O1M2k_X1eUT9"
      },
      "source": [
        "## Model 5 - 1D Convolutional NN"
      ]
    },
    {
      "cell_type": "code",
      "execution_count": 31,
      "metadata": {
        "colab": {
          "base_uri": "https://localhost:8080/"
        },
        "id": "GTbMRMe5e0ct",
        "outputId": "ffe1d525-9242-4a10-8e6a-28d26f524282"
      },
      "outputs": [
        {
          "output_type": "stream",
          "name": "stdout",
          "text": [
            "Model: \"model_5_conv1d\"\n",
            "_________________________________________________________________\n",
            " Layer (type)                Output Shape              Param #   \n",
            "=================================================================\n",
            " text_vectorization (TextVec  (None, 15)               0         \n",
            " torization)                                                     \n",
            "                                                                 \n",
            " embedding (Embedding)       (None, 15, 128)           1280000   \n",
            "                                                                 \n",
            " conv1d (Conv1D)             (None, 15, 64)            41024     \n",
            "                                                                 \n",
            " global_max_pooling1d (Globa  (None, 64)               0         \n",
            " lMaxPooling1D)                                                  \n",
            "                                                                 \n",
            " dense_2 (Dense)             (None, 1)                 65        \n",
            "                                                                 \n",
            "=================================================================\n",
            "Total params: 1,321,089\n",
            "Trainable params: 1,321,089\n",
            "Non-trainable params: 0\n",
            "_________________________________________________________________\n"
          ]
        }
      ],
      "source": [
        "# Create the model\n",
        "model_5 = tf.keras.Sequential([\n",
        "    layers.Input(shape=(1,), dtype=tf.string),\n",
        "    text_vectorizer,\n",
        "    embedding,\n",
        "    layers.Conv1D(filters=64, \n",
        "                  kernel_size=5,\n",
        "                  strides=1,\n",
        "                  activation='relu',\n",
        "                  padding='same'),\n",
        "    layers.GlobalMaxPool1D(),\n",
        "    layers.Dense(1, activation='sigmoid')\n",
        "], name='model_5_conv1d')\n",
        "\n",
        "# Compile the model\n",
        "model_5.compile(loss='binary_crossentropy',\n",
        "                optimizer='Adam',\n",
        "                metrics=['accuracy'])\n",
        "\n",
        "# Check the summary\n",
        "model_5.summary()"
      ]
    },
    {
      "cell_type": "code",
      "execution_count": 32,
      "metadata": {
        "colab": {
          "base_uri": "https://localhost:8080/"
        },
        "id": "p_vMVPwPfnxT",
        "outputId": "f81e4232-1fa5-437c-ea02-3ef0ebd73eaa"
      },
      "outputs": [
        {
          "output_type": "stream",
          "name": "stdout",
          "text": [
            "Saving TensorBoard log files to: exercise_model_logs/model_5_conv1d/20230402-092813\n",
            "Epoch 1/5\n",
            "215/215 [==============================] - 18s 54ms/step - loss: 0.1465 - accuracy: 0.9499 - val_loss: 0.7711 - val_accuracy: 0.7861\n",
            "Epoch 2/5\n",
            "215/215 [==============================] - 3s 13ms/step - loss: 0.0962 - accuracy: 0.9661 - val_loss: 0.8328 - val_accuracy: 0.7900\n",
            "Epoch 3/5\n",
            "215/215 [==============================] - 2s 11ms/step - loss: 0.0762 - accuracy: 0.9726 - val_loss: 0.9398 - val_accuracy: 0.7795\n",
            "Epoch 4/5\n",
            "215/215 [==============================] - 1s 7ms/step - loss: 0.0658 - accuracy: 0.9734 - val_loss: 0.9962 - val_accuracy: 0.7756\n",
            "Epoch 5/5\n",
            "215/215 [==============================] - 1s 6ms/step - loss: 0.0593 - accuracy: 0.9769 - val_loss: 1.0364 - val_accuracy: 0.7756\n"
          ]
        }
      ],
      "source": [
        "# Fit the model\n",
        "model_5_history = model_5.fit(train_sentences,\n",
        "                              train_labels,\n",
        "                              epochs=5,\n",
        "                              validation_data=(val_sentences, val_labels),\n",
        "                              callbacks=[create_tensorboard_callback(SAVE_DIR,\n",
        "                                                                     'model_5_conv1d')])"
      ]
    },
    {
      "cell_type": "code",
      "execution_count": 33,
      "metadata": {
        "colab": {
          "base_uri": "https://localhost:8080/"
        },
        "id": "g6EYPV6PgDEy",
        "outputId": "33b911a9-3f0f-4ace-fc3f-e50602f064b9"
      },
      "outputs": [
        {
          "output_type": "stream",
          "name": "stdout",
          "text": [
            "24/24 [==============================] - 0s 3ms/step - loss: 1.0364 - accuracy: 0.7756\n",
            "Evaluation metrics: [1.0363507270812988, 0.7755905389785767]\n",
            "\n",
            "24/24 [==============================] - 0s 2ms/step\n",
            "Preds overview: [0. 1. 1. 0. 0. 1. 1. 1. 1. 1.]\n"
          ]
        }
      ],
      "source": [
        "# Evaluate and predict\n",
        "model_5_preds = evaluate_and_pred(model_5, val_sentences, val_labels)"
      ]
    },
    {
      "cell_type": "code",
      "execution_count": 34,
      "metadata": {
        "colab": {
          "base_uri": "https://localhost:8080/"
        },
        "id": "grg39bvMgS5e",
        "outputId": "263cc746-9a13-4b56-b389-12add73933cf"
      },
      "outputs": [
        {
          "output_type": "execute_result",
          "data": {
            "text/plain": [
              "{'accuracy': 0.7755905511811023,\n",
              " 'precision': 0.7753012250305231,\n",
              " 'recall': 0.7755905511811023,\n",
              " 'f1-score': 0.7749585155146131}"
            ]
          },
          "metadata": {},
          "execution_count": 34
        }
      ],
      "source": [
        "# Calculate results\n",
        "model_5_results = calculate_results(val_labels, model_5_preds)\n",
        "model_5_results"
      ]
    },
    {
      "cell_type": "markdown",
      "metadata": {
        "id": "Pa_jIgpsgbCL"
      },
      "source": [
        "# Exercise 2\n",
        "Retrain the baseline model with 10% of the training data. How does it perform to the Universal Sentence Encoder model with 10% of the training data?"
      ]
    },
    {
      "cell_type": "code",
      "execution_count": 35,
      "metadata": {
        "colab": {
          "base_uri": "https://localhost:8080/"
        },
        "id": "rLJz0ot1hJ3V",
        "outputId": "8019c7c8-8779-4ae8-84de-b2e721b6c6e2"
      },
      "outputs": [
        {
          "output_type": "stream",
          "name": "stdout",
          "text": [
            "Length of base set: 6851\n",
            "Length of 10 percent set: 685\n"
          ]
        }
      ],
      "source": [
        "# Getting the right amount of data for the split\n",
        "train_10_percent_split = int(0.1 * len(train_sentences))\n",
        "\n",
        "# Recreate the 10% training data split\n",
        "train_sentences_10_percent = train_sentences[:train_10_percent_split]\n",
        "train_labels_10_percent = train_labels[:train_10_percent_split]\n",
        "\n",
        "# Check the split\n",
        "print(f\"Length of base set: {len(train_sentences)}\")\n",
        "print(f\"Length of 10 percent set: {len(train_sentences_10_percent)}\")"
      ]
    },
    {
      "cell_type": "code",
      "execution_count": 36,
      "metadata": {
        "colab": {
          "base_uri": "https://localhost:8080/",
          "height": 124
        },
        "id": "Uk-dJe7KiXGo",
        "outputId": "82b75f6a-1051-4eb4-a200-63daafe60fcb"
      },
      "outputs": [
        {
          "output_type": "execute_result",
          "data": {
            "text/plain": [
              "Pipeline(steps=[('tfidf', TfidfVectorizer()), ('clf', MultinomialNB())])"
            ],
            "text/html": [
              "<style>#sk-container-id-1 {color: black;background-color: white;}#sk-container-id-1 pre{padding: 0;}#sk-container-id-1 div.sk-toggleable {background-color: white;}#sk-container-id-1 label.sk-toggleable__label {cursor: pointer;display: block;width: 100%;margin-bottom: 0;padding: 0.3em;box-sizing: border-box;text-align: center;}#sk-container-id-1 label.sk-toggleable__label-arrow:before {content: \"▸\";float: left;margin-right: 0.25em;color: #696969;}#sk-container-id-1 label.sk-toggleable__label-arrow:hover:before {color: black;}#sk-container-id-1 div.sk-estimator:hover label.sk-toggleable__label-arrow:before {color: black;}#sk-container-id-1 div.sk-toggleable__content {max-height: 0;max-width: 0;overflow: hidden;text-align: left;background-color: #f0f8ff;}#sk-container-id-1 div.sk-toggleable__content pre {margin: 0.2em;color: black;border-radius: 0.25em;background-color: #f0f8ff;}#sk-container-id-1 input.sk-toggleable__control:checked~div.sk-toggleable__content {max-height: 200px;max-width: 100%;overflow: auto;}#sk-container-id-1 input.sk-toggleable__control:checked~label.sk-toggleable__label-arrow:before {content: \"▾\";}#sk-container-id-1 div.sk-estimator input.sk-toggleable__control:checked~label.sk-toggleable__label {background-color: #d4ebff;}#sk-container-id-1 div.sk-label input.sk-toggleable__control:checked~label.sk-toggleable__label {background-color: #d4ebff;}#sk-container-id-1 input.sk-hidden--visually {border: 0;clip: rect(1px 1px 1px 1px);clip: rect(1px, 1px, 1px, 1px);height: 1px;margin: -1px;overflow: hidden;padding: 0;position: absolute;width: 1px;}#sk-container-id-1 div.sk-estimator {font-family: monospace;background-color: #f0f8ff;border: 1px dotted black;border-radius: 0.25em;box-sizing: border-box;margin-bottom: 0.5em;}#sk-container-id-1 div.sk-estimator:hover {background-color: #d4ebff;}#sk-container-id-1 div.sk-parallel-item::after {content: \"\";width: 100%;border-bottom: 1px solid gray;flex-grow: 1;}#sk-container-id-1 div.sk-label:hover label.sk-toggleable__label {background-color: #d4ebff;}#sk-container-id-1 div.sk-serial::before {content: \"\";position: absolute;border-left: 1px solid gray;box-sizing: border-box;top: 0;bottom: 0;left: 50%;z-index: 0;}#sk-container-id-1 div.sk-serial {display: flex;flex-direction: column;align-items: center;background-color: white;padding-right: 0.2em;padding-left: 0.2em;position: relative;}#sk-container-id-1 div.sk-item {position: relative;z-index: 1;}#sk-container-id-1 div.sk-parallel {display: flex;align-items: stretch;justify-content: center;background-color: white;position: relative;}#sk-container-id-1 div.sk-item::before, #sk-container-id-1 div.sk-parallel-item::before {content: \"\";position: absolute;border-left: 1px solid gray;box-sizing: border-box;top: 0;bottom: 0;left: 50%;z-index: -1;}#sk-container-id-1 div.sk-parallel-item {display: flex;flex-direction: column;z-index: 1;position: relative;background-color: white;}#sk-container-id-1 div.sk-parallel-item:first-child::after {align-self: flex-end;width: 50%;}#sk-container-id-1 div.sk-parallel-item:last-child::after {align-self: flex-start;width: 50%;}#sk-container-id-1 div.sk-parallel-item:only-child::after {width: 0;}#sk-container-id-1 div.sk-dashed-wrapped {border: 1px dashed gray;margin: 0 0.4em 0.5em 0.4em;box-sizing: border-box;padding-bottom: 0.4em;background-color: white;}#sk-container-id-1 div.sk-label label {font-family: monospace;font-weight: bold;display: inline-block;line-height: 1.2em;}#sk-container-id-1 div.sk-label-container {text-align: center;}#sk-container-id-1 div.sk-container {/* jupyter's `normalize.less` sets `[hidden] { display: none; }` but bootstrap.min.css set `[hidden] { display: none !important; }` so we also need the `!important` here to be able to override the default hidden behavior on the sphinx rendered scikit-learn.org. See: https://github.com/scikit-learn/scikit-learn/issues/21755 */display: inline-block !important;position: relative;}#sk-container-id-1 div.sk-text-repr-fallback {display: none;}</style><div id=\"sk-container-id-1\" class=\"sk-top-container\"><div class=\"sk-text-repr-fallback\"><pre>Pipeline(steps=[(&#x27;tfidf&#x27;, TfidfVectorizer()), (&#x27;clf&#x27;, MultinomialNB())])</pre><b>In a Jupyter environment, please rerun this cell to show the HTML representation or trust the notebook. <br />On GitHub, the HTML representation is unable to render, please try loading this page with nbviewer.org.</b></div><div class=\"sk-container\" hidden><div class=\"sk-item sk-dashed-wrapped\"><div class=\"sk-label-container\"><div class=\"sk-label sk-toggleable\"><input class=\"sk-toggleable__control sk-hidden--visually\" id=\"sk-estimator-id-1\" type=\"checkbox\" ><label for=\"sk-estimator-id-1\" class=\"sk-toggleable__label sk-toggleable__label-arrow\">Pipeline</label><div class=\"sk-toggleable__content\"><pre>Pipeline(steps=[(&#x27;tfidf&#x27;, TfidfVectorizer()), (&#x27;clf&#x27;, MultinomialNB())])</pre></div></div></div><div class=\"sk-serial\"><div class=\"sk-item\"><div class=\"sk-estimator sk-toggleable\"><input class=\"sk-toggleable__control sk-hidden--visually\" id=\"sk-estimator-id-2\" type=\"checkbox\" ><label for=\"sk-estimator-id-2\" class=\"sk-toggleable__label sk-toggleable__label-arrow\">TfidfVectorizer</label><div class=\"sk-toggleable__content\"><pre>TfidfVectorizer()</pre></div></div></div><div class=\"sk-item\"><div class=\"sk-estimator sk-toggleable\"><input class=\"sk-toggleable__control sk-hidden--visually\" id=\"sk-estimator-id-3\" type=\"checkbox\" ><label for=\"sk-estimator-id-3\" class=\"sk-toggleable__label sk-toggleable__label-arrow\">MultinomialNB</label><div class=\"sk-toggleable__content\"><pre>MultinomialNB()</pre></div></div></div></div></div></div></div>"
            ]
          },
          "metadata": {},
          "execution_count": 36
        }
      ],
      "source": [
        "# Recreating the baseline model\n",
        "from sklearn.feature_extraction.text import TfidfVectorizer\n",
        "from sklearn.naive_bayes import MultinomialNB\n",
        "from sklearn.pipeline import Pipeline\n",
        "\n",
        "# Create pipeline with tokenization\n",
        "model_0 = Pipeline([\n",
        "    ('tfidf', TfidfVectorizer()),\n",
        "    ('clf', MultinomialNB())\n",
        "])\n",
        "\n",
        "# Fit the pipeline to 10% dataset\n",
        "model_0.fit(train_sentences_10_percent, train_labels_10_percent)"
      ]
    },
    {
      "cell_type": "code",
      "execution_count": 37,
      "metadata": {
        "colab": {
          "base_uri": "https://localhost:8080/"
        },
        "id": "MGAazKUajNmh",
        "outputId": "cb2d2e39-3a9d-4cbd-d788-2fb776ace46a"
      },
      "outputs": [
        {
          "output_type": "stream",
          "name": "stdout",
          "text": [
            "Baseline model score: 0.7020997375328084\n"
          ]
        },
        {
          "output_type": "execute_result",
          "data": {
            "text/plain": [
              "array([1, 0, 1, 0, 0, 1, 0, 0, 1, 0])"
            ]
          },
          "metadata": {},
          "execution_count": 37
        }
      ],
      "source": [
        "# Evaluate and pred\n",
        "model_0_score = model_0.score(val_sentences, val_labels)\n",
        "print(f\"Baseline model score: {model_0_score}\")\n",
        "\n",
        "model_0_preds = model_0.predict(val_sentences)\n",
        "model_0_preds[:10]"
      ]
    },
    {
      "cell_type": "code",
      "execution_count": 38,
      "metadata": {
        "colab": {
          "base_uri": "https://localhost:8080/"
        },
        "id": "8pZBPB5Pjg8o",
        "outputId": "70de4ee7-a360-4c65-f0ff-be36f9b0b94d"
      },
      "outputs": [
        {
          "output_type": "execute_result",
          "data": {
            "text/plain": [
              "{'accuracy': 0.7020997375328084,\n",
              " 'precision': 0.7599524002753854,\n",
              " 'recall': 0.7020997375328084,\n",
              " 'f1-score': 0.6736831571468213}"
            ]
          },
          "metadata": {},
          "execution_count": 38
        }
      ],
      "source": [
        "# Calculate results\n",
        "model_0_results = calculate_results(val_labels, model_0_preds)\n",
        "model_0_results"
      ]
    },
    {
      "cell_type": "markdown",
      "metadata": {
        "id": "V7QfcqjHk2vh"
      },
      "source": [
        "## Answer\n",
        "How did the model perform compared to USE model from `08` notebook?\n",
        "* The USE model trained on 10% of the data did get about 77,5%.\n",
        "* The retrained baseline model from `sklearn` with `MultinomialNB` classifier, also trained on about 70,2% accuracy.\n",
        "\n",
        "**This shows that the smaller the dataset, maybe using the pretrained model from TF Hub is a good idea to include in the experiment workflow.**\n"
      ]
    },
    {
      "cell_type": "markdown",
      "metadata": {
        "id": "eEbJYJ99kEDN"
      },
      "source": [
        "# Exercise 3\n",
        "Try fine-tuning the TF Hub USE (`model_6`) by setting `training=True` when instentiating it as a Keras layer."
      ]
    },
    {
      "cell_type": "code",
      "execution_count": 39,
      "metadata": {
        "colab": {
          "base_uri": "https://localhost:8080/"
        },
        "id": "klj5M_kfl-Pq",
        "outputId": "41be8581-c4d5-4fc2-eb2d-ceb3598d9b9c"
      },
      "outputs": [
        {
          "output_type": "stream",
          "name": "stdout",
          "text": [
            "tf.Tensor(\n",
            "[ 0.00910181 -0.01275036 -0.02675992 -0.06155284  0.00590177 -0.06304008\n",
            " -0.04478858 -0.06164156 -0.04161551 -0.05248842  0.06968987  0.02778336\n",
            " -0.03118137  0.0318342  -0.01928731 -0.08036631  0.00304867 -0.05874978\n",
            " -0.02073361  0.0433057 ], shape=(20,), dtype=float32)\n"
          ]
        }
      ],
      "source": [
        "# Importing the USE \n",
        "import tensorflow_hub as hub\n",
        "USE_URL = \"https://tfhub.dev/google/universal-sentence-encoder/4\"\n",
        "embed = hub.load(USE_URL)\n",
        "\n",
        "# Try out the USE\n",
        "embed_sample = embed([sample_sentence])\n",
        "print(embed_sample[0][:20])"
      ]
    },
    {
      "cell_type": "code",
      "execution_count": 40,
      "metadata": {
        "id": "1eIJPOuPImy9"
      },
      "outputs": [],
      "source": [
        "# Create a Keras Layer using the USE pretrained layer from TensorFlow Hub\n",
        "sentence_encoder_layer = hub.KerasLayer(handle=USE_URL,\n",
        "                                        input_shape=[],\n",
        "                                        dtype=tf.string,\n",
        "                                        trainable=False,\n",
        "                                        name='USE_fine_tuned')"
      ]
    },
    {
      "cell_type": "code",
      "execution_count": 41,
      "metadata": {
        "colab": {
          "base_uri": "https://localhost:8080/"
        },
        "id": "1WcHoYeXJ0tb",
        "outputId": "1a6d013e-ace5-4558-ec88-30f06190615c"
      },
      "outputs": [
        {
          "output_type": "stream",
          "name": "stdout",
          "text": [
            "Model: \"model_6_USE\"\n",
            "_________________________________________________________________\n",
            " Layer (type)                Output Shape              Param #   \n",
            "=================================================================\n",
            " USE_fine_tuned (KerasLayer)  (None, 512)              256797824 \n",
            "                                                                 \n",
            " dense_3 (Dense)             (None, 32)                16416     \n",
            "                                                                 \n",
            " dropout (Dropout)           (None, 32)                0         \n",
            "                                                                 \n",
            " output_layer (Dense)        (None, 1)                 33        \n",
            "                                                                 \n",
            "=================================================================\n",
            "Total params: 256,814,273\n",
            "Trainable params: 16,449\n",
            "Non-trainable params: 256,797,824\n",
            "_________________________________________________________________\n",
            "False USE_fine_tuned\n",
            "True dense_3\n",
            "True dropout\n",
            "True output_layer\n"
          ]
        }
      ],
      "source": [
        "# Create the model\n",
        "model_6 = tf.keras.Sequential([\n",
        "    sentence_encoder_layer,\n",
        "    layers.Dense(32, activation='relu'),\n",
        "    layers.Dropout(0.2),\n",
        "    #layers.Dense(32, activation='relu'),\n",
        "    #layers.Dropout(0.2),\n",
        "    layers.Dense(1, activation='sigmoid', name='output_layer')\n",
        "], name='model_6_USE')\n",
        "\n",
        "# Compile the model\n",
        "model_6.compile(loss=tf.keras.losses.BinaryCrossentropy(),\n",
        "                optimizer=tf.keras.optimizers.Adam(),\n",
        "                metrics=['accuracy'])\n",
        "\n",
        "# Summary\n",
        "model_6.summary()\n",
        "\n",
        "# Layer status\n",
        "for layer in model_6.layers:\n",
        "  print(layer.trainable, layer.name)"
      ]
    },
    {
      "cell_type": "code",
      "execution_count": 42,
      "metadata": {
        "colab": {
          "base_uri": "https://localhost:8080/"
        },
        "id": "PsHLRtiQK2Jk",
        "outputId": "4f82b7f1-9566-4918-a081-894e3a9c4ba6"
      },
      "outputs": [
        {
          "output_type": "stream",
          "name": "stdout",
          "text": [
            "Saving TensorBoard log files to: exercise_model_logs/model_6_USE/20230402-092904\n",
            "Epoch 1/5\n",
            "215/215 [==============================] - 6s 15ms/step - loss: 0.5304 - accuracy: 0.7794 - val_loss: 0.4553 - val_accuracy: 0.7940\n",
            "Epoch 2/5\n",
            "215/215 [==============================] - 4s 21ms/step - loss: 0.4289 - accuracy: 0.8081 - val_loss: 0.4404 - val_accuracy: 0.8045\n",
            "Epoch 3/5\n",
            "215/215 [==============================] - 3s 13ms/step - loss: 0.4108 - accuracy: 0.8192 - val_loss: 0.4350 - val_accuracy: 0.8110\n",
            "Epoch 4/5\n",
            "215/215 [==============================] - 3s 13ms/step - loss: 0.4036 - accuracy: 0.8210 - val_loss: 0.4318 - val_accuracy: 0.8123\n",
            "Epoch 5/5\n",
            "215/215 [==============================] - 3s 13ms/step - loss: 0.3985 - accuracy: 0.8247 - val_loss: 0.4309 - val_accuracy: 0.8123\n"
          ]
        }
      ],
      "source": [
        "# Fit the model\n",
        "tf.random.set_seed(42)\n",
        "\n",
        "initial_epochs = 5\n",
        "\n",
        "model_6_history = model_6.fit(train_sentences,\n",
        "                              train_labels,\n",
        "                              epochs=initial_epochs,\n",
        "                              validation_data=(val_sentences, val_labels),\n",
        "                              callbacks=[create_tensorboard_callback(SAVE_DIR,\n",
        "                                                                     'model_6_USE')]\n",
        "                              )"
      ]
    },
    {
      "cell_type": "code",
      "execution_count": 43,
      "metadata": {
        "colab": {
          "base_uri": "https://localhost:8080/"
        },
        "id": "yBywF_3h3Q7I",
        "outputId": "825b4e08-cf8c-46b9-d69e-64c4fa046aab"
      },
      "outputs": [
        {
          "output_type": "stream",
          "name": "stdout",
          "text": [
            "24/24 [==============================] - 0s 11ms/step - loss: 0.4309 - accuracy: 0.8123\n",
            "Evaluation metrics: [0.43090760707855225, 0.8123359680175781]\n",
            "\n",
            "24/24 [==============================] - 1s 10ms/step\n",
            "Preds overview: [0. 1. 1. 0. 1. 1. 1. 1. 1. 0.]\n"
          ]
        }
      ],
      "source": [
        "# Check the results\n",
        "model_6_preds = evaluate_and_pred(model_6, val_sentences, val_labels)\n",
        "model_6_results = calculate_results(val_labels, model_6_preds)"
      ]
    },
    {
      "cell_type": "code",
      "execution_count": 44,
      "metadata": {
        "colab": {
          "base_uri": "https://localhost:8080/"
        },
        "id": "yJ3m5K22Nxhd",
        "outputId": "99025d01-972a-4dfd-b4fe-7762875f396b"
      },
      "outputs": [
        {
          "output_type": "stream",
          "name": "stdout",
          "text": [
            "USE_fine_tuned True\n",
            "dense_3 True\n",
            "dropout True\n",
            "output_layer True\n"
          ]
        }
      ],
      "source": [
        "for layer in model_6.layers:\n",
        "  layer.trainable=True\n",
        "  print(layer.name, layer.trainable)"
      ]
    },
    {
      "cell_type": "code",
      "execution_count": 45,
      "metadata": {
        "id": "_JgpMSP1N7Pr"
      },
      "outputs": [],
      "source": [
        "# Recompile the model for fine-tuning\n",
        "model_6.compile(loss=tf.keras.losses.BinaryCrossentropy(),\n",
        "                optimizer=tf.keras.optimizers.Adam(learning_rate=1.5e-5),\n",
        "                metrics=['accuracy'])"
      ]
    },
    {
      "cell_type": "code",
      "source": [
        "# Create ModelCheckpoint to save the best model trained\n",
        "from tensorflow.keras.callbacks import ModelCheckpoint\n",
        "\n",
        "CKPT_SAVE_DIR = \"/content/drive/MyDrive/tensorflow/models/08_exercise_model_6_fine_tuned/checkpoint_model_6\"\n",
        "\n",
        "model_checkpoint_callback = ModelCheckpoint(filepath=CKPT_SAVE_DIR,\n",
        "                                            monitor='val_loss',\n",
        "                                            verbose=1,\n",
        "                                            save_best_only=True,\n",
        "                                            save_freq='epoch')"
      ],
      "metadata": {
        "id": "D0crZGjOKwvx"
      },
      "execution_count": 46,
      "outputs": []
    },
    {
      "cell_type": "code",
      "execution_count": 47,
      "metadata": {
        "colab": {
          "base_uri": "https://localhost:8080/"
        },
        "id": "mx4RGm7oOQ1N",
        "outputId": "6170d4ab-e82e-4834-df4a-19408672f090"
      },
      "outputs": [
        {
          "output_type": "stream",
          "name": "stdout",
          "text": [
            "Saving TensorBoard log files to: exercise_model_logs/model_6_USE_fine_tuned/20230402-092924\n",
            "Epoch 5/10\n",
            "215/215 [==============================] - ETA: 0s - loss: 0.3864 - accuracy: 0.8327\n",
            "Epoch 5: val_loss improved from inf to 0.42555, saving model to /content/drive/MyDrive/tensorflow/models/08_exercise_model_6_fine_tuned/checkpoint_model_6\n"
          ]
        },
        {
          "output_type": "stream",
          "name": "stderr",
          "text": [
            "WARNING:absl:Function `_wrapped_model` contains input name(s) USE_fine_tuned_input with unsupported characters which will be renamed to use_fine_tuned_input in the SavedModel.\n"
          ]
        },
        {
          "output_type": "stream",
          "name": "stdout",
          "text": [
            "\b\b\b\b\b\b\b\b\b\b\b\b\b\b\b\b\b\b\b\b\b\b\b\b\b\b\b\b\b\b\b\b\b\b\b\b\b\b\b\b\b\b\b\b\b\b\b\b\b\b\b\b\b\b\b\b\b\b\b\b\b\b\b\b\b\b\b\b\b\b\b\b\b\b\b\b\b\b\b\b\b\b\b\b\r215/215 [==============================] - 209s 814ms/step - loss: 0.3864 - accuracy: 0.8327 - val_loss: 0.4256 - val_accuracy: 0.8215\n",
            "Epoch 6/10\n",
            "215/215 [==============================] - ETA: 0s - loss: 0.3768 - accuracy: 0.8390\n",
            "Epoch 6: val_loss improved from 0.42555 to 0.42331, saving model to /content/drive/MyDrive/tensorflow/models/08_exercise_model_6_fine_tuned/checkpoint_model_6\n"
          ]
        },
        {
          "output_type": "stream",
          "name": "stderr",
          "text": [
            "WARNING:absl:Function `_wrapped_model` contains input name(s) USE_fine_tuned_input with unsupported characters which will be renamed to use_fine_tuned_input in the SavedModel.\n"
          ]
        },
        {
          "output_type": "stream",
          "name": "stdout",
          "text": [
            "\b\b\b\b\b\b\b\b\b\b\b\b\b\b\b\b\b\b\b\b\b\b\b\b\b\b\b\b\b\b\b\b\b\b\b\b\b\b\b\b\b\b\b\b\b\b\b\b\b\b\b\b\b\b\b\b\b\b\b\b\b\b\b\b\b\b\b\b\b\b\b\b\b\b\b\b\b\b\b\b\b\b\b\b\r215/215 [==============================] - 89s 412ms/step - loss: 0.3768 - accuracy: 0.8390 - val_loss: 0.4233 - val_accuracy: 0.8215\n",
            "Epoch 7/10\n",
            "215/215 [==============================] - ETA: 0s - loss: 0.3673 - accuracy: 0.8413\n",
            "Epoch 7: val_loss improved from 0.42331 to 0.42194, saving model to /content/drive/MyDrive/tensorflow/models/08_exercise_model_6_fine_tuned/checkpoint_model_6\n"
          ]
        },
        {
          "output_type": "stream",
          "name": "stderr",
          "text": [
            "WARNING:absl:Function `_wrapped_model` contains input name(s) USE_fine_tuned_input with unsupported characters which will be renamed to use_fine_tuned_input in the SavedModel.\n"
          ]
        },
        {
          "output_type": "stream",
          "name": "stdout",
          "text": [
            "\b\b\b\b\b\b\b\b\b\b\b\b\b\b\b\b\b\b\b\b\b\b\b\b\b\b\b\b\b\b\b\b\b\b\b\b\b\b\b\b\b\b\b\b\b\b\b\b\b\b\b\b\b\b\b\b\b\b\b\b\b\b\b\b\b\b\b\b\b\b\b\b\b\b\b\b\b\b\b\b\b\b\b\b\r215/215 [==============================] - 77s 358ms/step - loss: 0.3673 - accuracy: 0.8413 - val_loss: 0.4219 - val_accuracy: 0.8268\n",
            "Epoch 8/10\n",
            "215/215 [==============================] - ETA: 0s - loss: 0.3603 - accuracy: 0.8482\n",
            "Epoch 8: val_loss improved from 0.42194 to 0.42077, saving model to /content/drive/MyDrive/tensorflow/models/08_exercise_model_6_fine_tuned/checkpoint_model_6\n"
          ]
        },
        {
          "output_type": "stream",
          "name": "stderr",
          "text": [
            "WARNING:absl:Function `_wrapped_model` contains input name(s) USE_fine_tuned_input with unsupported characters which will be renamed to use_fine_tuned_input in the SavedModel.\n"
          ]
        },
        {
          "output_type": "stream",
          "name": "stdout",
          "text": [
            "\b\b\b\b\b\b\b\b\b\b\b\b\b\b\b\b\b\b\b\b\b\b\b\b\b\b\b\b\b\b\b\b\b\b\b\b\b\b\b\b\b\b\b\b\b\b\b\b\b\b\b\b\b\b\b\b\b\b\b\b\b\b\b\b\b\b\b\b\b\b\b\b\b\b\b\b\b\b\b\b\b\b\b\b\r215/215 [==============================] - 77s 356ms/step - loss: 0.3603 - accuracy: 0.8482 - val_loss: 0.4208 - val_accuracy: 0.8241\n",
            "Epoch 9/10\n",
            "215/215 [==============================] - ETA: 0s - loss: 0.3524 - accuracy: 0.8491\n",
            "Epoch 9: val_loss did not improve from 0.42077\n",
            "215/215 [==============================] - 35s 164ms/step - loss: 0.3524 - accuracy: 0.8491 - val_loss: 0.4213 - val_accuracy: 0.8189\n",
            "Epoch 10/10\n",
            "215/215 [==============================] - ETA: 0s - loss: 0.3485 - accuracy: 0.8514\n",
            "Epoch 10: val_loss improved from 0.42077 to 0.41873, saving model to /content/drive/MyDrive/tensorflow/models/08_exercise_model_6_fine_tuned/checkpoint_model_6\n"
          ]
        },
        {
          "output_type": "stream",
          "name": "stderr",
          "text": [
            "WARNING:absl:Function `_wrapped_model` contains input name(s) USE_fine_tuned_input with unsupported characters which will be renamed to use_fine_tuned_input in the SavedModel.\n"
          ]
        },
        {
          "output_type": "stream",
          "name": "stdout",
          "text": [
            "\b\b\b\b\b\b\b\b\b\b\b\b\b\b\b\b\b\b\b\b\b\b\b\b\b\b\b\b\b\b\b\b\b\b\b\b\b\b\b\b\b\b\b\b\b\b\b\b\b\b\b\b\b\b\b\b\b\b\b\b\b\b\b\b\b\b\b\b\b\b\b\b\b\b\b\b\b\b\b\b\b\b\b\b\r215/215 [==============================] - 66s 308ms/step - loss: 0.3485 - accuracy: 0.8514 - val_loss: 0.4187 - val_accuracy: 0.8241\n"
          ]
        }
      ],
      "source": [
        "# Fine-tune the model\n",
        "tf.random.set_seed(42)\n",
        "\n",
        "fine_tuning_epochs = 5\n",
        "total_epochs = initial_epochs + fine_tuning_epochs\n",
        "\n",
        "model_6_fine_tuned_history = model_6.fit(train_sentences,\n",
        "                                         train_labels,\n",
        "                                         epochs=total_epochs,\n",
        "                                         initial_epoch=model_6_history.epoch[-1],\n",
        "                                         validation_data=(val_sentences, val_labels),\n",
        "                                         callbacks=[create_tensorboard_callback(SAVE_DIR,\n",
        "                                                                                'model_6_USE_fine_tuned'),\n",
        "                                                    model_checkpoint_callback]\n",
        "                                         )"
      ]
    },
    {
      "cell_type": "markdown",
      "source": [
        "### Best model so far\n",
        "\n",
        "{'accuracy': 0.8254593175853019,\n",
        " 'precision': 0.8257387867002456,\n",
        " 'recall': 0.8254593175853019,\n",
        " 'f1-score': 0.8248354823684468}"
      ],
      "metadata": {
        "id": "qx_FKe0URham"
      }
    },
    {
      "cell_type": "code",
      "execution_count": 48,
      "metadata": {
        "id": "NxjZmldZZPL1"
      },
      "outputs": [],
      "source": [
        "#from helper_functions import compare_historys\n",
        "#compare_historys(model_6_history, model_6_fine_tuned_history, initial_epochs)"
      ]
    },
    {
      "cell_type": "code",
      "source": [
        "from helper_functions import compare_historys\n",
        "\n",
        "compare_historys(model_6_history, model_6_fine_tuned_history, initial_epochs)"
      ],
      "metadata": {
        "colab": {
          "base_uri": "https://localhost:8080/",
          "height": 717
        },
        "id": "oiOnfj_UReR6",
        "outputId": "87ede951-b184-4ee9-c154-bebe87d69162"
      },
      "execution_count": 49,
      "outputs": [
        {
          "output_type": "display_data",
          "data": {
            "text/plain": [
              "<Figure size 800x800 with 2 Axes>"
            ],
            "image/png": "[encoded data removed]"
          },
          "metadata": {}
        }
      ]
    },
    {
      "cell_type": "code",
      "execution_count": 50,
      "metadata": {
        "colab": {
          "base_uri": "https://localhost:8080/"
        },
        "id": "MNX7tgNFLOkn",
        "outputId": "3a00dbc3-a95e-4663-838d-8f998e29c9cc"
      },
      "outputs": [
        {
          "output_type": "stream",
          "name": "stdout",
          "text": [
            "24/24 [==============================] - 1s 17ms/step - loss: 0.4187 - accuracy: 0.8241\n",
            "Evaluation metrics: [0.4187305271625519, 0.8241469860076904]\n",
            "\n",
            "24/24 [==============================] - 3s 48ms/step\n",
            "Preds overview: [0. 1. 1. 0. 1. 1. 1. 1. 1. 0.]\n"
          ]
        },
        {
          "output_type": "execute_result",
          "data": {
            "text/plain": [
              "<tf.Tensor: shape=(10,), dtype=float32, numpy=array([0., 1., 1., 0., 1., 1., 1., 1., 1., 0.], dtype=float32)>"
            ]
          },
          "metadata": {},
          "execution_count": 50
        }
      ],
      "source": [
        "# Evaluate and pred\n",
        "model_6_fine_tuning_preds = evaluate_and_pred(model_6, val_sentences, val_labels)\n",
        "model_6_fine_tuning_preds[:10]"
      ]
    },
    {
      "cell_type": "code",
      "execution_count": 51,
      "metadata": {
        "colab": {
          "base_uri": "https://localhost:8080/"
        },
        "id": "7Qz4tr23MQib",
        "outputId": "d1348dda-999d-4e37-831d-b92adb35719f"
      },
      "outputs": [
        {
          "output_type": "execute_result",
          "data": {
            "text/plain": [
              "{'accuracy': 0.8241469816272966,\n",
              " 'precision': 0.8259136712963691,\n",
              " 'recall': 0.8241469816272966,\n",
              " 'f1-score': 0.8229273660088838}"
            ]
          },
          "metadata": {},
          "execution_count": 51
        }
      ],
      "source": [
        "# Calculate the results after fine tuning\n",
        "model_6_fine_tuning_results = calculate_results(val_labels, model_6_fine_tuning_preds)\n",
        "model_6_fine_tuning_results"
      ]
    },
    {
      "cell_type": "code",
      "execution_count": 52,
      "metadata": {
        "colab": {
          "base_uri": "https://localhost:8080/"
        },
        "id": "T5bKt7S1NPyO",
        "outputId": "eb23c686-3fb5-48fc-e0e9-28c9ae030bac"
      },
      "outputs": [
        {
          "output_type": "execute_result",
          "data": {
            "text/plain": [
              "{'accuracy': 0.8123359580052494,\n",
              " 'precision': 0.8145687227271431,\n",
              " 'recall': 0.8123359580052494,\n",
              " 'f1-score': 0.81078947666798}"
            ]
          },
          "metadata": {},
          "execution_count": 52
        }
      ],
      "source": [
        "# Compare the results\n",
        "model_6_results"
      ]
    },
    {
      "cell_type": "code",
      "execution_count": 53,
      "metadata": {
        "id": "XJKjGgjY0Cg_"
      },
      "outputs": [],
      "source": [
        "# Saving directory\n",
        "MODEL_SAVE_DIR = \"/content/drive/MyDrive/tensorflow/models/08_exercise_model_6_fine_tuned\""
      ]
    },
    {
      "cell_type": "code",
      "execution_count": 54,
      "metadata": {
        "id": "YLHZCSwWznmP"
      },
      "outputs": [],
      "source": [
        "# Save the model\n",
        "#model_6.save(MODEL_SAVE_DIR)"
      ]
    },
    {
      "cell_type": "code",
      "execution_count": null,
      "metadata": {
        "colab": {
          "base_uri": "https://localhost:8080/"
        },
        "id": "EBzdktU80b1p",
        "outputId": "b53e5b85-204a-4db5-a618-878e58a3556c"
      },
      "outputs": [
        {
          "output_type": "stream",
          "name": "stdout",
          "text": [
            "24/24 [==============================] - 1s 10ms/step - loss: 0.4177 - accuracy: 0.8255\n"
          ]
        },
        {
          "output_type": "execute_result",
          "data": {
            "text/plain": [
              "[0.4176674485206604, 0.8254593014717102]"
            ]
          },
          "metadata": {},
          "execution_count": 51
        }
      ],
      "source": [
        "# Loading a model\n",
        "loaded_model_6 = tf.keras.models.load_model(MODEL_SAVE_DIR)\n",
        "loaded_model_6.evaluate(val_sentences, val_labels)"
      ]
    },
    {
      "cell_type": "markdown",
      "source": [
        "Looks that after a good chunk of experiments (slightly over 30) we've managed to get a model with `val_loss` under 0.42 which seemed a Holy Grail teritory at some point in time. However it was possible to do so and it's now saved, ready to be used again."
      ],
      "metadata": {
        "id": "ko20did7QRSo"
      }
    },
    {
      "cell_type": "markdown",
      "source": [
        "# Exercise 4\n",
        "Retrain the best model you've got so far on the whole training set without the validation split. Then use this model to make predicions on the test dataset to use it on Kaggle Competition to see how you've performed."
      ],
      "metadata": {
        "id": "y4hXDXU38t48"
      }
    },
    {
      "cell_type": "code",
      "source": [
        "# Remind ourselves of the data\n",
        "train_data_shuffled.head()"
      ],
      "metadata": {
        "colab": {
          "base_uri": "https://localhost:8080/",
          "height": 201
        },
        "id": "o-ItiGuEb3aN",
        "outputId": "f4b88e19-320a-4be2-a3a3-9d3a301bf07f"
      },
      "execution_count": null,
      "outputs": [
        {
          "output_type": "execute_result",
          "data": {
            "text/plain": [
              "        id      keyword               location  \\\n",
              "2644  3796  destruction                    NaN   \n",
              "2227  3185       deluge                    NaN   \n",
              "5448  7769       police                     UK   \n",
              "132    191   aftershock                    NaN   \n",
              "6845  9810       trauma  Montgomery County, MD   \n",
              "\n",
              "                                                   text  target  \n",
              "2644  So you have a new weapon that can cause un-ima...       1  \n",
              "2227  The f$&amp;@ing things I do for #GISHWHES Just...       0  \n",
              "5448  DT @georgegalloway: RT @Galloway4Mayor: ÛÏThe...       1  \n",
              "132   Aftershock back to school kick off was great. ...       0  \n",
              "6845  in response to trauma Children of Addicts deve...       0  "
            ],
            "text/html": [
              "\n",
              "  <div id=\"df-c680d0c2-8a44-4b1c-b031-77f636021ee3\">\n",
              "    <div class=\"colab-df-container\">\n",
              "      <div>\n",
              "<style scoped>\n",
              "    .dataframe tbody tr th:only-of-type {\n",
              "        vertical-align: middle;\n",
              "    }\n",
              "\n",
              "    .dataframe tbody tr th {\n",
              "        vertical-align: top;\n",
              "    }\n",
              "\n",
              "    .dataframe thead th {\n",
              "        text-align: right;\n",
              "    }\n",
              "</style>\n",
              "<table border=\"1\" class=\"dataframe\">\n",
              "  <thead>\n",
              "    <tr style=\"text-align: right;\">\n",
              "      <th></th>\n",
              "      <th>id</th>\n",
              "      <th>keyword</th>\n",
              "      <th>location</th>\n",
              "      <th>text</th>\n",
              "      <th>target</th>\n",
              "    </tr>\n",
              "  </thead>\n",
              "  <tbody>\n",
              "    <tr>\n",
              "      <th>2644</th>\n",
              "      <td>3796</td>\n",
              "      <td>destruction</td>\n",
              "      <td>NaN</td>\n",
              "      <td>So you have a new weapon that can cause un-ima...</td>\n",
              "      <td>1</td>\n",
              "    </tr>\n",
              "    <tr>\n",
              "      <th>2227</th>\n",
              "      <td>3185</td>\n",
              "      <td>deluge</td>\n",
              "      <td>NaN</td>\n",
              "      <td>The f$&amp;amp;@ing things I do for #GISHWHES Just...</td>\n",
              "      <td>0</td>\n",
              "    </tr>\n",
              "    <tr>\n",
              "      <th>5448</th>\n",
              "      <td>7769</td>\n",
              "      <td>police</td>\n",
              "      <td>UK</td>\n",
              "      <td>DT @georgegalloway: RT @Galloway4Mayor: ÛÏThe...</td>\n",
              "      <td>1</td>\n",
              "    </tr>\n",
              "    <tr>\n",
              "      <th>132</th>\n",
              "      <td>191</td>\n",
              "      <td>aftershock</td>\n",
              "      <td>NaN</td>\n",
              "      <td>Aftershock back to school kick off was great. ...</td>\n",
              "      <td>0</td>\n",
              "    </tr>\n",
              "    <tr>\n",
              "      <th>6845</th>\n",
              "      <td>9810</td>\n",
              "      <td>trauma</td>\n",
              "      <td>Montgomery County, MD</td>\n",
              "      <td>in response to trauma Children of Addicts deve...</td>\n",
              "      <td>0</td>\n",
              "    </tr>\n",
              "  </tbody>\n",
              "</table>\n",
              "</div>\n",
              "      <button class=\"colab-df-convert\" onclick=\"convertToInteractive('df-c680d0c2-8a44-4b1c-b031-77f636021ee3')\"\n",
              "              title=\"Convert this dataframe to an interactive table.\"\n",
              "              style=\"display:none;\">\n",
              "        \n",
              "  <svg xmlns=\"http://www.w3.org/2000/svg\" height=\"24px\"viewBox=\"0 0 24 24\"\n",
              "       width=\"24px\">\n",
              "    <path d=\"M0 0h24v24H0V0z\" fill=\"none\"/>\n",
              "    <path d=\"M18.56 5.44l.94 2.06.94-2.06 2.06-.94-2.06-.94-.94-2.06-.94 2.06-2.06.94zm-11 1L8.5 8.5l.94-2.06 2.06-.94-2.06-.94L8.5 2.5l-.94 2.06-2.06.94zm10 10l.94 2.06.94-2.06 2.06-.94-2.06-.94-.94-2.06-.94 2.06-2.06.94z\"/><path d=\"M17.41 7.96l-1.37-1.37c-.4-.4-.92-.59-1.43-.59-.52 0-1.04.2-1.43.59L10.3 9.45l-7.72 7.72c-.78.78-.78 2.05 0 2.83L4 21.41c.39.39.9.59 1.41.59.51 0 1.02-.2 1.41-.59l7.78-7.78 2.81-2.81c.8-.78.8-2.07 0-2.86zM5.41 20L4 18.59l7.72-7.72 1.47 1.35L5.41 20z\"/>\n",
              "  </svg>\n",
              "      </button>\n",
              "      \n",
              "  <style>\n",
              "    .colab-df-container {\n",
              "      display:flex;\n",
              "      flex-wrap:wrap;\n",
              "      gap: 12px;\n",
              "    }\n",
              "\n",
              "    .colab-df-convert {\n",
              "      background-color: #E8F0FE;\n",
              "      border: none;\n",
              "      border-radius: 50%;\n",
              "      cursor: pointer;\n",
              "      display: none;\n",
              "      fill: #1967D2;\n",
              "      height: 32px;\n",
              "      padding: 0 0 0 0;\n",
              "      width: 32px;\n",
              "    }\n",
              "\n",
              "    .colab-df-convert:hover {\n",
              "      background-color: #E2EBFA;\n",
              "      box-shadow: 0px 1px 2px rgba(60, 64, 67, 0.3), 0px 1px 3px 1px rgba(60, 64, 67, 0.15);\n",
              "      fill: #174EA6;\n",
              "    }\n",
              "\n",
              "    [theme=dark] .colab-df-convert {\n",
              "      background-color: #3B4455;\n",
              "      fill: #D2E3FC;\n",
              "    }\n",
              "\n",
              "    [theme=dark] .colab-df-convert:hover {\n",
              "      background-color: #434B5C;\n",
              "      box-shadow: 0px 1px 3px 1px rgba(0, 0, 0, 0.15);\n",
              "      filter: drop-shadow(0px 1px 2px rgba(0, 0, 0, 0.3));\n",
              "      fill: #FFFFFF;\n",
              "    }\n",
              "  </style>\n",
              "\n",
              "      <script>\n",
              "        const buttonEl =\n",
              "          document.querySelector('#df-c680d0c2-8a44-4b1c-b031-77f636021ee3 button.colab-df-convert');\n",
              "        buttonEl.style.display =\n",
              "          google.colab.kernel.accessAllowed ? 'block' : 'none';\n",
              "\n",
              "        async function convertToInteractive(key) {\n",
              "          const element = document.querySelector('#df-c680d0c2-8a44-4b1c-b031-77f636021ee3');\n",
              "          const dataTable =\n",
              "            await google.colab.kernel.invokeFunction('convertToInteractive',\n",
              "                                                     [key], {});\n",
              "          if (!dataTable) return;\n",
              "\n",
              "          const docLinkHtml = 'Like what you see? Visit the ' +\n",
              "            '<a target=\"_blank\" href=https://colab.research.google.com/notebooks/data_table.ipynb>data table notebook</a>'\n",
              "            + ' to learn more about interactive tables.';\n",
              "          element.innerHTML = '';\n",
              "          dataTable['output_type'] = 'display_data';\n",
              "          await google.colab.output.renderOutput(dataTable, element);\n",
              "          const docLink = document.createElement('div');\n",
              "          docLink.innerHTML = docLinkHtml;\n",
              "          element.appendChild(docLink);\n",
              "        }\n",
              "      </script>\n",
              "    </div>\n",
              "  </div>\n",
              "  "
            ]
          },
          "metadata": {},
          "execution_count": 36
        }
      ]
    },
    {
      "cell_type": "code",
      "source": [
        "## Recreating the most successful training loop\n",
        "tf.random.set_seed(42)\n",
        "\n",
        "# TF Hub model - USE\n",
        "import tensorflow_hub as hub\n",
        "USE_URL = \"https://tfhub.dev/google/universal-sentence-encoder/4\"\n",
        "embed = hub.load(USE_URL)\n",
        "\n",
        "# Load USE into KerasLayer\n",
        "sentence_encoder_layer = hub.KerasLayer(handle=USE_URL,\n",
        "                                        input_shape=[],\n",
        "                                        dtype=tf.string,\n",
        "                                        trainable=False, # USE layers frozen for feature extraction\n",
        "                                        name='USE_fine_tuned')\n",
        "\n",
        "# Create a base model_6 to fit on the data\n",
        "model_final = tf.keras.Sequential([\n",
        "    #layers.Input(shape=(1,), dtype=tf.string),\n",
        "    sentence_encoder_layer,\n",
        "    layers.Dense(32, activation='relu'),\n",
        "    layers.Dropout(0.2),\n",
        "    layers.Dense(1, activation='sigmoid', name='output_layer'),\n",
        "], name='model_USE_final')\n",
        "\n",
        "# Compile\n",
        "model_final.compile(loss=tf.keras.losses.BinaryCrossentropy(),\n",
        "                    optimizer=tf.keras.optimizers.Adam(),\n",
        "                    metrics=['accuracy'])\n",
        "\n",
        "# Base fit\n",
        "initial_epochs = 5\n",
        "\n",
        "history_model_final = model_final.fit(train_data_shuffled['text'],\n",
        "                                      train_data_shuffled['target'],\n",
        "                                      epochs=initial_epochs,\n",
        "                                      callbacks=[create_tensorboard_callback(SAVE_DIR,\n",
        "                                                                             'model_final_USE')],\n",
        "                                      )\n",
        "\n",
        "# Unfreezing the USE layers for fine-tuning\n",
        "for layer in model_final.layers:\n",
        "  layer.trainable = True\n",
        "  \n",
        "# Recompiling the model for fine-tuning\n",
        "model_final.compile(loss=tf.keras.losses.BinaryCrossentropy(),\n",
        "                    optimizer=tf.keras.optimizers.Adam(learning_rate=1.5e-5),\n",
        "                    metrics=['accuracy'])\n",
        "\n",
        "# Fine-tuning\n",
        "fine_tuning_epochs = 5\n",
        "total_epochs = initial_epochs + fine_tuning_epochs\n",
        "\n",
        "history_model_final_fine_tuning = model_final.fit(train_data_shuffled['text'],\n",
        "                                                  train_data_shuffled['target'],\n",
        "                                                  epochs=total_epochs,\n",
        "                                                  initial_epoch=history_model_final.epoch[-1],\n",
        "                                                  callbacks=[create_tensorboard_callback(SAVE_DIR,\n",
        "                                                                                         'model_final_USE_fine_tuned')]\n",
        "                                                  )"
      ],
      "metadata": {
        "colab": {
          "base_uri": "https://localhost:8080/"
        },
        "id": "wmiXKTVwQ4vx",
        "outputId": "df9bb12d-e3ba-40a0-e2b0-5e6d261ef9f0"
      },
      "execution_count": null,
      "outputs": [
        {
          "output_type": "stream",
          "name": "stdout",
          "text": [
            "Saving TensorBoard log files to: exercise_model_logs/model_final_USE/20230330-165744\n",
            "Epoch 1/5\n",
            "238/238 [==============================] - 6s 12ms/step - loss: 0.5340 - accuracy: 0.7745\n",
            "Epoch 2/5\n",
            "238/238 [==============================] - 4s 17ms/step - loss: 0.4337 - accuracy: 0.8091\n",
            "Epoch 3/5\n",
            "238/238 [==============================] - 3s 13ms/step - loss: 0.4158 - accuracy: 0.8157\n",
            "Epoch 4/5\n",
            "238/238 [==============================] - 3s 11ms/step - loss: 0.4063 - accuracy: 0.8229\n",
            "Epoch 5/5\n",
            "238/238 [==============================] - 3s 12ms/step - loss: 0.3985 - accuracy: 0.8249\n",
            "Saving TensorBoard log files to: exercise_model_logs/model_final_USE_fine_tuned/20230330-165807\n",
            "Epoch 5/10\n",
            "238/238 [==============================] - 139s 464ms/step - loss: 0.3875 - accuracy: 0.8320\n",
            "Epoch 6/10\n",
            "238/238 [==============================] - 27s 112ms/step - loss: 0.3792 - accuracy: 0.8361\n",
            "Epoch 7/10\n",
            "238/238 [==============================] - 24s 101ms/step - loss: 0.3702 - accuracy: 0.8412\n",
            "Epoch 8/10\n",
            "238/238 [==============================] - 22s 94ms/step - loss: 0.3612 - accuracy: 0.8468\n",
            "Epoch 9/10\n",
            "238/238 [==============================] - 23s 95ms/step - loss: 0.3518 - accuracy: 0.8507\n",
            "Epoch 10/10\n",
            "238/238 [==============================] - 27s 112ms/step - loss: 0.3489 - accuracy: 0.8529\n"
          ]
        }
      ]
    },
    {
      "cell_type": "code",
      "source": [
        "# Make predictions on test Kaggle dataset\n",
        "test_df = pd.read_csv('test.csv')\n",
        "test_df.head()\n",
        "\n",
        "test_pred_probs = model_final.predict(test_df['text'].to_list())\n",
        "test_preds = tf.squeeze(tf.round(test_pred_probs))\n",
        "test_preds[:10]"
      ],
      "metadata": {
        "colab": {
          "base_uri": "https://localhost:8080/"
        },
        "id": "ai2hrllVZGGd",
        "outputId": "fa69f63b-8f4d-4645-ab1b-9c23494f687a"
      },
      "execution_count": null,
      "outputs": [
        {
          "output_type": "stream",
          "name": "stdout",
          "text": [
            "102/102 [==============================] - 2s 10ms/step\n"
          ]
        },
        {
          "output_type": "execute_result",
          "data": {
            "text/plain": [
              "<tf.Tensor: shape=(10,), dtype=float32, numpy=array([1., 1., 1., 1., 1., 1., 0., 0., 0., 0.], dtype=float32)>"
            ]
          },
          "metadata": {},
          "execution_count": 41
        }
      ]
    },
    {
      "cell_type": "code",
      "source": [
        "submission = pd.DataFrame()\n",
        "submission['id'] = test_df['id']\n",
        "submission['target'] = tf.cast(test_preds, dtype=tf.int64)\n",
        "submission.head()"
      ],
      "metadata": {
        "colab": {
          "base_uri": "https://localhost:8080/",
          "height": 201
        },
        "id": "uVpxsbLAeehz",
        "outputId": "2294432e-1603-4ddc-a61f-856587e72b61"
      },
      "execution_count": null,
      "outputs": [
        {
          "output_type": "execute_result",
          "data": {
            "text/plain": [
              "   id  target\n",
              "0   0       1\n",
              "1   2       1\n",
              "2   3       1\n",
              "3   9       1\n",
              "4  11       1"
            ],
            "text/html": [
              "\n",
              "  <div id=\"df-b5bec086-6901-49e4-834d-3b7c67f10af8\">\n",
              "    <div class=\"colab-df-container\">\n",
              "      <div>\n",
              "<style scoped>\n",
              "    .dataframe tbody tr th:only-of-type {\n",
              "        vertical-align: middle;\n",
              "    }\n",
              "\n",
              "    .dataframe tbody tr th {\n",
              "        vertical-align: top;\n",
              "    }\n",
              "\n",
              "    .dataframe thead th {\n",
              "        text-align: right;\n",
              "    }\n",
              "</style>\n",
              "<table border=\"1\" class=\"dataframe\">\n",
              "  <thead>\n",
              "    <tr style=\"text-align: right;\">\n",
              "      <th></th>\n",
              "      <th>id</th>\n",
              "      <th>target</th>\n",
              "    </tr>\n",
              "  </thead>\n",
              "  <tbody>\n",
              "    <tr>\n",
              "      <th>0</th>\n",
              "      <td>0</td>\n",
              "      <td>1</td>\n",
              "    </tr>\n",
              "    <tr>\n",
              "      <th>1</th>\n",
              "      <td>2</td>\n",
              "      <td>1</td>\n",
              "    </tr>\n",
              "    <tr>\n",
              "      <th>2</th>\n",
              "      <td>3</td>\n",
              "      <td>1</td>\n",
              "    </tr>\n",
              "    <tr>\n",
              "      <th>3</th>\n",
              "      <td>9</td>\n",
              "      <td>1</td>\n",
              "    </tr>\n",
              "    <tr>\n",
              "      <th>4</th>\n",
              "      <td>11</td>\n",
              "      <td>1</td>\n",
              "    </tr>\n",
              "  </tbody>\n",
              "</table>\n",
              "</div>\n",
              "      <button class=\"colab-df-convert\" onclick=\"convertToInteractive('df-b5bec086-6901-49e4-834d-3b7c67f10af8')\"\n",
              "              title=\"Convert this dataframe to an interactive table.\"\n",
              "              style=\"display:none;\">\n",
              "        \n",
              "  <svg xmlns=\"http://www.w3.org/2000/svg\" height=\"24px\"viewBox=\"0 0 24 24\"\n",
              "       width=\"24px\">\n",
              "    <path d=\"M0 0h24v24H0V0z\" fill=\"none\"/>\n",
              "    <path d=\"M18.56 5.44l.94 2.06.94-2.06 2.06-.94-2.06-.94-.94-2.06-.94 2.06-2.06.94zm-11 1L8.5 8.5l.94-2.06 2.06-.94-2.06-.94L8.5 2.5l-.94 2.06-2.06.94zm10 10l.94 2.06.94-2.06 2.06-.94-2.06-.94-.94-2.06-.94 2.06-2.06.94z\"/><path d=\"M17.41 7.96l-1.37-1.37c-.4-.4-.92-.59-1.43-.59-.52 0-1.04.2-1.43.59L10.3 9.45l-7.72 7.72c-.78.78-.78 2.05 0 2.83L4 21.41c.39.39.9.59 1.41.59.51 0 1.02-.2 1.41-.59l7.78-7.78 2.81-2.81c.8-.78.8-2.07 0-2.86zM5.41 20L4 18.59l7.72-7.72 1.47 1.35L5.41 20z\"/>\n",
              "  </svg>\n",
              "      </button>\n",
              "      \n",
              "  <style>\n",
              "    .colab-df-container {\n",
              "      display:flex;\n",
              "      flex-wrap:wrap;\n",
              "      gap: 12px;\n",
              "    }\n",
              "\n",
              "    .colab-df-convert {\n",
              "      background-color: #E8F0FE;\n",
              "      border: none;\n",
              "      border-radius: 50%;\n",
              "      cursor: pointer;\n",
              "      display: none;\n",
              "      fill: #1967D2;\n",
              "      height: 32px;\n",
              "      padding: 0 0 0 0;\n",
              "      width: 32px;\n",
              "    }\n",
              "\n",
              "    .colab-df-convert:hover {\n",
              "      background-color: #E2EBFA;\n",
              "      box-shadow: 0px 1px 2px rgba(60, 64, 67, 0.3), 0px 1px 3px 1px rgba(60, 64, 67, 0.15);\n",
              "      fill: #174EA6;\n",
              "    }\n",
              "\n",
              "    [theme=dark] .colab-df-convert {\n",
              "      background-color: #3B4455;\n",
              "      fill: #D2E3FC;\n",
              "    }\n",
              "\n",
              "    [theme=dark] .colab-df-convert:hover {\n",
              "      background-color: #434B5C;\n",
              "      box-shadow: 0px 1px 3px 1px rgba(0, 0, 0, 0.15);\n",
              "      filter: drop-shadow(0px 1px 2px rgba(0, 0, 0, 0.3));\n",
              "      fill: #FFFFFF;\n",
              "    }\n",
              "  </style>\n",
              "\n",
              "      <script>\n",
              "        const buttonEl =\n",
              "          document.querySelector('#df-b5bec086-6901-49e4-834d-3b7c67f10af8 button.colab-df-convert');\n",
              "        buttonEl.style.display =\n",
              "          google.colab.kernel.accessAllowed ? 'block' : 'none';\n",
              "\n",
              "        async function convertToInteractive(key) {\n",
              "          const element = document.querySelector('#df-b5bec086-6901-49e4-834d-3b7c67f10af8');\n",
              "          const dataTable =\n",
              "            await google.colab.kernel.invokeFunction('convertToInteractive',\n",
              "                                                     [key], {});\n",
              "          if (!dataTable) return;\n",
              "\n",
              "          const docLinkHtml = 'Like what you see? Visit the ' +\n",
              "            '<a target=\"_blank\" href=https://colab.research.google.com/notebooks/data_table.ipynb>data table notebook</a>'\n",
              "            + ' to learn more about interactive tables.';\n",
              "          element.innerHTML = '';\n",
              "          dataTable['output_type'] = 'display_data';\n",
              "          await google.colab.output.renderOutput(dataTable, element);\n",
              "          const docLink = document.createElement('div');\n",
              "          docLink.innerHTML = docLinkHtml;\n",
              "          element.appendChild(docLink);\n",
              "        }\n",
              "      </script>\n",
              "    </div>\n",
              "  </div>\n",
              "  "
            ]
          },
          "metadata": {},
          "execution_count": 46
        }
      ]
    },
    {
      "cell_type": "code",
      "source": [
        "submission.to_csv('submission_30032023.csv', index=False)"
      ],
      "metadata": {
        "id": "YDbDhCEXfpOC"
      },
      "execution_count": null,
      "outputs": []
    },
    {
      "cell_type": "markdown",
      "source": [
        "Kaggle results is 0.81642 which at the time of submission is rank 225 out of 1151 competitors."
      ],
      "metadata": {
        "id": "inWEF32Cg4UC"
      }
    },
    {
      "cell_type": "markdown",
      "source": [
        "# Exercise 5\n",
        "Combine the ensemble predictions using the majority vote (mode). How does it perform in comparison to averaging the prediction probabiliteis of each model?"
      ],
      "metadata": {
        "id": "gmgWDjv1Knut"
      }
    },
    {
      "cell_type": "markdown",
      "source": [
        "## The dumb way\n",
        "Plain majority voting with already created predictions."
      ],
      "metadata": {
        "id": "oBWIxfnoi4b_"
      }
    },
    {
      "cell_type": "code",
      "source": [
        "# Get the results from the earlier models\n",
        "model_0_results, model_1_results, model_2_results, model_5_results, model_6_results"
      ],
      "metadata": {
        "colab": {
          "base_uri": "https://localhost:8080/"
        },
        "id": "zdhbU7jpU6WM",
        "outputId": "1892ea5f-8eab-4ec7-9758-d6b9ca2da6f1"
      },
      "execution_count": 55,
      "outputs": [
        {
          "output_type": "execute_result",
          "data": {
            "text/plain": [
              "({'accuracy': 0.7020997375328084,\n",
              "  'precision': 0.7599524002753854,\n",
              "  'recall': 0.7020997375328084,\n",
              "  'f1-score': 0.6736831571468213},\n",
              " {'accuracy': 0.7847769028871391,\n",
              "  'precision': 0.789165199286798,\n",
              "  'recall': 0.7847769028871391,\n",
              "  'f1-score': 0.7818959205825942},\n",
              " {'accuracy': 0.7742782152230971,\n",
              "  'precision': 0.7757380419380466,\n",
              "  'recall': 0.7742782152230971,\n",
              "  'f1-score': 0.7723566516531356},\n",
              " {'accuracy': 0.7755905511811023,\n",
              "  'precision': 0.7753012250305231,\n",
              "  'recall': 0.7755905511811023,\n",
              "  'f1-score': 0.7749585155146131},\n",
              " {'accuracy': 0.8123359580052494,\n",
              "  'precision': 0.8145687227271431,\n",
              "  'recall': 0.8123359580052494,\n",
              "  'f1-score': 0.81078947666798})"
            ]
          },
          "metadata": {},
          "execution_count": 55
        }
      ]
    },
    {
      "cell_type": "code",
      "source": [
        "# Create a list of predictions for majority voting\n",
        "preds = [model_0_preds, \n",
        "         model_1_preds, \n",
        "         model_2_preds, \n",
        "         model_5_preds, \n",
        "         model_6_preds]\n",
        "\n",
        "preds = tf.cast(preds, dtype=tf.int32)\n",
        "preds.shape\n",
        "preds[:2][:10]"
      ],
      "metadata": {
        "colab": {
          "base_uri": "https://localhost:8080/"
        },
        "id": "CwMwHsTFVbda",
        "outputId": "5894296c-8e7e-4e51-d7f1-45e9e80856a5"
      },
      "execution_count": 56,
      "outputs": [
        {
          "output_type": "execute_result",
          "data": {
            "text/plain": [
              "<tf.Tensor: shape=(2, 762), dtype=int32, numpy=\n",
              "array([[1, 0, 1, ..., 0, 0, 0],\n",
              "       [0, 1, 1, ..., 1, 0, 0]], dtype=int32)>"
            ]
          },
          "metadata": {},
          "execution_count": 56
        }
      ]
    },
    {
      "cell_type": "code",
      "source": [
        "def majority_vote(model_preds):\n",
        "  # Define empty list as an output\n",
        "  results = []\n",
        "  temp = 0\n",
        "\n",
        "  uniform_0 = 0\n",
        "  uniform_1 = 0\n",
        "\n",
        "  # Get the shape of input\n",
        "  model_no, pred_no = model_preds.shape\n",
        "  \n",
        "  # Majority voting loop\n",
        "  for pred in range(pred_no):\n",
        "\n",
        "    for model in range(model_no):\n",
        "      temp = temp + model_preds[model][pred].numpy()\n",
        "      \n",
        "    results.append(temp/model_no)\n",
        "\n",
        "    if temp == 0: uniform_0 += 1\n",
        "    if temp == 1: uniform_1 += 1\n",
        "    \n",
        "    temp = 0\n",
        "\n",
        "  total_uniform = uniform_0 + uniform_1\n",
        "  print(f\"All zeros: {uniform_0}\")\n",
        "  print(f\"All ones: {uniform_1}\")\n",
        "  print(f\"Total uniform votes: {total_uniform}, which equates to {total_uniform/pred_no*100:.2f}% \")\n",
        "\n",
        "  return tf.round(results)"
      ],
      "metadata": {
        "id": "AF0HaeZcVAF1"
      },
      "execution_count": 57,
      "outputs": []
    },
    {
      "cell_type": "code",
      "source": [
        "# Getting the ensemble predictions\n",
        "ensemble_preds = majority_vote(preds)\n",
        "ensemble_preds[:10], len(ensemble_preds) == len(model_0_preds)"
      ],
      "metadata": {
        "colab": {
          "base_uri": "https://localhost:8080/"
        },
        "id": "OGb_B3oKWQOG",
        "outputId": "53c340a1-cfeb-4a13-b7a1-915e0c09731e"
      },
      "execution_count": 58,
      "outputs": [
        {
          "output_type": "stream",
          "name": "stdout",
          "text": [
            "All zeros: 346\n",
            "All ones: 92\n",
            "Total uniform votes: 438, which equates to 57.48% \n"
          ]
        },
        {
          "output_type": "execute_result",
          "data": {
            "text/plain": [
              "(<tf.Tensor: shape=(10,), dtype=float64, numpy=array([0., 1., 1., 0., 0., 1., 1., 1., 1., 0.])>,\n",
              " True)"
            ]
          },
          "metadata": {},
          "execution_count": 58
        }
      ]
    },
    {
      "cell_type": "code",
      "source": [
        "# Evaluating the ensemble predictions\n",
        "ensemble_results = calculate_results(y_true=val_labels,\n",
        "                                     y_pred=ensemble_preds)\n",
        "ensemble_results"
      ],
      "metadata": {
        "colab": {
          "base_uri": "https://localhost:8080/"
        },
        "id": "PzJbEI0NWPbC",
        "outputId": "25578cad-039d-41b3-92e1-b30497e23f06"
      },
      "execution_count": 59,
      "outputs": [
        {
          "output_type": "execute_result",
          "data": {
            "text/plain": [
              "{'accuracy': 0.7965879265091863,\n",
              " 'precision': 0.8016796937610012,\n",
              " 'recall': 0.7965879265091863,\n",
              " 'f1-score': 0.7937964447357466}"
            ]
          },
          "metadata": {},
          "execution_count": 59
        }
      ]
    },
    {
      "cell_type": "code",
      "source": [
        "average_acc = model_0_results['accuracy'] + model_1_results['accuracy'] + model_2_results['accuracy'] + model_5_results['accuracy'] + model_6_results['accuracy']\n",
        "print(average_acc/5)"
      ],
      "metadata": {
        "colab": {
          "base_uri": "https://localhost:8080/"
        },
        "id": "NuzvOMJhdCAk",
        "outputId": "bf711759-2dc3-4c4b-a14f-e9f3ee41dc54"
      },
      "execution_count": 60,
      "outputs": [
        {
          "output_type": "stream",
          "name": "stdout",
          "text": [
            "0.7698162729658793\n"
          ]
        }
      ]
    },
    {
      "cell_type": "markdown",
      "source": [
        "## The elegant way with a detour\n",
        "Source: https://machinelearningmastery.com/stacking-ensemble-for-deep-learning-neural-networks/"
      ],
      "metadata": {
        "id": "3u4WVhErdl6w"
      }
    },
    {
      "cell_type": "markdown",
      "source": [
        "### The detour - an example of ensemble stacking NN models"
      ],
      "metadata": {
        "id": "to3I_SjAi8op"
      }
    },
    {
      "cell_type": "markdown",
      "source": [
        "**Multiclass classification problem**"
      ],
      "metadata": {
        "id": "O6eSI3UK-zXl"
      }
    },
    {
      "cell_type": "code",
      "source": [
        "# Scatter plot of blobs dataset\n",
        "from sklearn.datasets import make_blobs\n",
        "import matplotlib.pyplot as plt\n",
        "import pandas as pd\n",
        "\n",
        "# Generate 2d classification dataset\n",
        "X, y = make_blobs(n_samples=1000,\n",
        "                  centers=3, \n",
        "                  n_features=2,\n",
        "                  cluster_std=2,\n",
        "                  random_state=2)\n",
        "\n",
        "# Scatter plot, colored by class\n",
        "df = pd.DataFrame(dict(x=X[:,0], y=X[:,1], label=y))\n",
        "\n",
        "colors = {0: 'red', 1:'blue', 2:'green'}\n",
        "fig, ax = plt.subplots()\n",
        "\n",
        "grouped = df.groupby('label')\n",
        "\n",
        "for key, group in grouped:\n",
        "  group.plot(ax=ax, kind='scatter', x='x', y='y', label=key, color=colors[key])\n",
        "\n",
        "plt.show()"
      ],
      "metadata": {
        "id": "2UGaAa_bcFe2"
      },
      "execution_count": null,
      "outputs": []
    },
    {
      "cell_type": "markdown",
      "source": [
        "**Multilayer perceptron model**"
      ],
      "metadata": {
        "id": "2Yw1munF-250"
      }
    },
    {
      "cell_type": "code",
      "source": [
        "# Develop an MLP for blobs dataset\n",
        "from sklearn.datasets import make_blobs\n",
        "from tensorflow.keras.utils import to_categorical\n",
        "from tensorflow.keras.models import Sequential\n",
        "from tensorflow.keras.layers import Dense\n",
        "import matplotlib.pyplot as plt\n",
        "\n",
        "# Generate 2D classification dataset\n",
        "X,y = make_blobs(n_samples=1100,\n",
        "                 centers=3,\n",
        "                 n_features=2,\n",
        "                 cluster_std=2,\n",
        "                 random_state=2)\n",
        "\n",
        "# One-hot encode output variables\n",
        "y = to_categorical(y)\n",
        "\n",
        "# Split into train and test sets\n",
        "n_train = 100\n",
        "trainX, testX = X[:n_train, :], X[n_train:, :]\n",
        "trainy, testy = y[:n_train], y[n_train:]\n",
        "print(trainX.shape, testX.shape)\n",
        "\n",
        "# Define the model\n",
        "model = Sequential([\n",
        "    Dense(32, input_dim=2, activation='relu'),\n",
        "    Dense(3, activation='softmax')\n",
        "])\n",
        "\n",
        "# Compile the model\n",
        "model.compile(loss='categorical_crossentropy',\n",
        "              optimizer='Adam',\n",
        "              metrics=['accuracy'])\n",
        "\n",
        "# Fit the model\n",
        "history = model.fit(trainX,\n",
        "                    trainy,\n",
        "                    epochs=500,\n",
        "                    verbose=0,\n",
        "                    validation_data=(testX, testy))\n",
        "\n",
        "# Evaluate the model\n",
        "_, train_acc = model.evaluate(trainX, trainy, verbose=0)\n",
        "_, test_acc = model.evaluate(testX, testy, verbose=0)\n",
        "print(f\"Train: {train_acc:.3f},\\nTest: {test_acc:.3f}\")\n",
        "\n",
        "# Learning curves\n",
        "plt.plot(history.history['accuracy'], label='train')\n",
        "plt.plot(history.history['val_accuracy'], label='test')\n",
        "plt.legend(bbox_to_anchor=(1,1))\n",
        "plt.show()"
      ],
      "metadata": {
        "id": "CHk4IOwRhv8y"
      },
      "execution_count": null,
      "outputs": []
    },
    {
      "cell_type": "markdown",
      "source": [
        "**Train and save sub-models**"
      ],
      "metadata": {
        "id": "A-kFxB7X-8nP"
      }
    },
    {
      "cell_type": "code",
      "source": [
        " # Example of saving sub-models for later use in a stacking ensemble\n",
        " from sklearn.datasets import make_blobs\n",
        " from tensorflow.keras.utils import to_categorical\n",
        " from tensorflow.keras.models import Sequential\n",
        " from tensorflow.keras.layers import Dense\n",
        " import matplotlib.pyplot as plt\n",
        " import os\n",
        "\n",
        " # Fitting the model on the dataset\n",
        " def fit_model(trainX, trainy):\n",
        "   # Define the model\n",
        "   model = Sequential([\n",
        "       Dense(32, input_dim=2, activation='relu'),\n",
        "       Dense(3, activation='softmax')\n",
        "   ])\n",
        "   model.compile(loss='categorical_crossentropy',\n",
        "                 optimizer='adam',\n",
        "                 metrics=['accuracy'])\n",
        "   \n",
        "   # Fit the model\n",
        "   model.fit(trainX, trainy, epochs=500, verbose=0)\n",
        "\n",
        "   return model\n",
        "\n",
        "# Generate 2D classification dataset\n",
        "X, y = make_blobs(n_samples=1100, \n",
        "                  centers=3, \n",
        "                  n_features=2, \n",
        "                  cluster_std=2, \n",
        "                  random_state=2)\n",
        "\n",
        "# One-hot encode the variables\n",
        "y = to_categorical(y)\n",
        "\n",
        "# Split into train and test datasets\n",
        "n_train = 100\n",
        "trainX, testX = X[:n_train, :], X[n_train:, :]\n",
        "trainy, testy = y[:n_train], y[n_train:]\n",
        "print(trainX.shape, testX.shape)\n",
        "\n",
        "# Create directory for models\n",
        "try: os.makedirs('models')\n",
        "except: print('Folder already created')\n",
        "else: pass\n",
        "\n",
        "# Fit and save models\n",
        "n_members = 5\n",
        "\n",
        "for i in range (n_members):\n",
        "\n",
        "  # Fitting the model\n",
        "  model = fit_model(trainX, trainy)\n",
        "  \n",
        "  # Saving the model\n",
        "  filename = 'models/model_' + str(i + 1) + '.h5'\n",
        "  model.save(filename)\n",
        "  print(f\"Saved {filename}\")"
      ],
      "metadata": {
        "colab": {
          "base_uri": "https://localhost:8080/"
        },
        "id": "P05N_UkbnLZa",
        "outputId": "cfceb424-d45a-4706-ee93-dc4d3651ef6f"
      },
      "execution_count": 1,
      "outputs": [
        {
          "output_type": "stream",
          "name": "stdout",
          "text": [
            "(100, 2) (1000, 2)\n",
            "Saved models/model_1.h5\n",
            "Saved models/model_2.h5\n",
            "Saved models/model_3.h5\n",
            "Saved models/model_4.h5\n",
            "Saved models/model_5.h5\n"
          ]
        }
      ]
    },
    {
      "cell_type": "markdown",
      "source": [
        "**Separate stacking model**"
      ],
      "metadata": {
        "id": "SVPYE08HBRgQ"
      }
    },
    {
      "cell_type": "code",
      "source": [
        "# Stacked generalization with linear meta-model od blobs dataset\n",
        "from sklearn.datasets import make_blobs\n",
        "from sklearn.metrics import accuracy_score\n",
        "from sklearn.linear_model import LogisticRegression\n",
        "from tensorflow.keras.models import load_model\n",
        "from tensorflow.keras.utils import to_categorical\n",
        "import numpy as np\n",
        "\n",
        "# Load models from file\n",
        "def load_all_models(n_models):\n",
        "  all_models = list()\n",
        "\n",
        "  for i in range(n_models):\n",
        "    # Define filename for this ensemble\n",
        "    filename = 'models/model_' + str(i+1) + '.h5'\n",
        "\n",
        "    # Load model from file\n",
        "    model = load_model(filename)\n",
        "\n",
        "    # Add to the list of members\n",
        "    all_models.append(model)\n",
        "    print(f\">Loaded {filename}\")\n",
        "\n",
        "  return all_models\n",
        "\n",
        "# Create stacked model input dataset as outputs from the ensemble\n",
        "def stacked_dataset(members, inputX):\n",
        "  stackX = None\n",
        "\n",
        "  for model in members:\n",
        "\n",
        "    # Make predictions\n",
        "    yhat = model.predict(inputX, verbose=0)\n",
        "\n",
        "    # Stack predictions into [rows, members, probabilities]\n",
        "    if stackX is None: stackX = yhat\n",
        "    else: stackX = np.dstack((stackX, yhat))\n",
        "\n",
        "  # Flatten preditions to [rows, members x probabilities]\n",
        "  stackX = stackX.reshape((stackX.shape[0], stackX.shape[1]*stackX.shape[2]))\n",
        "\n",
        "  return stackX\n",
        "\n",
        "# Fit a model based on the outputs from the ensemble members\n",
        "def fit_stacked_model(members, inputX, inputy):\n",
        "  # Create dataset using ensemble\n",
        "  stackedX = stacked_dataset(members, inputX)\n",
        "\n",
        "  # Fit standalone model (meta-learner)\n",
        "  model = LogisticRegression()\n",
        "  model.fit(stackedX, inputy)\n",
        "\n",
        "  return model\n",
        "\n",
        "# Make a prediction with the stacked model\n",
        "def stacked_prediction(members, model, inputX):\n",
        "  # Create dataset using ensemble\n",
        "  stackedX = stacked_dataset(members, inputX)\n",
        "\n",
        "  # Make a prediction\n",
        "  yhat = model.predict(stackedX)\n",
        "\n",
        "  return yhat\n",
        "\n",
        "# Generate 2D classification dataset\n",
        "X, y = make_blobs(n_samples=1100, \n",
        "                  centers=3, \n",
        "                  n_features=2,\n",
        "                  cluster_std=2,\n",
        "                  random_state=2)\n",
        "\n",
        "# Train/test split\n",
        "n_train = 100\n",
        "trainX, testX = X[:n_train, :], X[n_train:, :]\n",
        "trainy, testy = y[:n_train], y[n_train:]\n",
        "print(trainX.shape, testX.shape)\n",
        "\n",
        "# Load all models\n",
        "n_members = 5\n",
        "members = load_all_models(n_members)\n",
        "print(f\"Loaded {n_members} models...\")\n",
        "\n",
        "# Evaluate standalone models on test dataset\n",
        "for model in members:\n",
        "  testy_enc = to_categorical(testy)\n",
        "  _, acc = model.evaluate(testX, testy_enc, verbose=0)\n",
        "  print(f\"Model {model.name} accuracy: {acc:.4f}\")\n",
        "\n",
        "# Fit stacked model using ensemble\n",
        "model = fit_stacked_model(members, testX, testy)\n",
        "\n",
        "# Evaluate model on test set\n",
        "yhat = stacked_prediction(members, model, testX)\n",
        "acc = accuracy_score(testy, yhat)\n",
        "print(f\"Stacked Test Accuracy: {acc:.4f}\")"
      ],
      "metadata": {
        "colab": {
          "base_uri": "https://localhost:8080/"
        },
        "id": "arwrnzIf9PzP",
        "outputId": "90e82961-6407-4b08-ecc4-95719f593ddf"
      },
      "execution_count": 8,
      "outputs": [
        {
          "output_type": "stream",
          "name": "stdout",
          "text": [
            "(100, 2) (1000, 2)\n",
            ">Loaded models/model_1.h5\n",
            ">Loaded models/model_2.h5\n",
            ">Loaded models/model_3.h5\n",
            ">Loaded models/model_4.h5\n",
            ">Loaded models/model_5.h5\n",
            "Loaded 5 models...\n",
            "Model sequential accuracy: 0.8030\n",
            "Model sequential_1 accuracy: 0.8150\n",
            "Model sequential_2 accuracy: 0.8080\n",
            "Model sequential_3 accuracy: 0.8080\n",
            "Model sequential_4 accuracy: 0.8090\n",
            "Stacked Test Accuracy: 0.8350\n"
          ]
        }
      ]
    },
    {
      "cell_type": "code",
      "source": [],
      "metadata": {
        "id": "_kHEanYbRh29"
      },
      "execution_count": null,
      "outputs": []
    }
  ],
  "metadata": {
    "accelerator": "GPU",
    "colab": {
      "collapsed_sections": [
        "fsthelTlcWWB",
        "O1M2k_X1eUT9",
        "y4hXDXU38t48",
        "oBWIxfnoi4b_"
      ],
      "provenance": []
    },
    "gpuClass": "standard",
    "kernelspec": {
      "display_name": "Python 3",
      "name": "python3"
    },
    "language_info": {
      "name": "python"
    }
  },
  "nbformat": 4,
  "nbformat_minor": 0
}