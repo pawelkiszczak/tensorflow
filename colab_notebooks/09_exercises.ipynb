{
  "cells": [
    {
      "cell_type": "markdown",
      "metadata": {
        "id": "6T5ZBj-OjeI4"
      },
      "source": [
        "# SkimLit exercises\n",
        "Exercises from @mrdbourdke course, all solution are either code-alongs (if already created) or proposed my myself."
      ]
    },
    {
      "cell_type": "markdown",
      "metadata": {
        "id": "z_nu2bCPlCuL"
      },
      "source": [
        "## Exercise 1\n",
        "Train `model_5` from notebook 09 on all of the data in the training dataset as many epochs until it stops improving. Since this might take a while, consider using:\n",
        "* `tf.keras.callbacks.ModelCheckpoint` to save weights of the best model trained\n",
        "* `tf.keras.callbacks.EarlyStopping` to stop the model from training once the validation less has stopped improving for approx. 3 epochs"
      ]
    },
    {
      "cell_type": "markdown",
      "metadata": {
        "id": "7sG82xH4lhNB"
      },
      "source": [
        "### Confirm GPU access"
      ]
    },
    {
      "cell_type": "code",
      "execution_count": 3,
      "metadata": {
        "colab": {
          "base_uri": "https://localhost:8080/"
        },
        "id": "Um0dGSQ4lpHF",
        "outputId": "ea18fc7f-05e6-491a-af2f-f4d7a3406fc7"
      },
      "outputs": [
        {
          "output_type": "stream",
          "name": "stdout",
          "text": [
            "Sun May  7 08:06:10 2023       \n",
            "+-----------------------------------------------------------------------------+\n",
            "| NVIDIA-SMI 525.85.12    Driver Version: 525.85.12    CUDA Version: 12.0     |\n",
            "|-------------------------------+----------------------+----------------------+\n",
            "| GPU  Name        Persistence-M| Bus-Id        Disp.A | Volatile Uncorr. ECC |\n",
            "| Fan  Temp  Perf  Pwr:Usage/Cap|         Memory-Usage | GPU-Util  Compute M. |\n",
            "|                               |                      |               MIG M. |\n",
            "|===============================+======================+======================|\n",
            "|   0  Tesla T4            Off  | 00000000:00:04.0 Off |                    0 |\n",
            "| N/A   42C    P8     9W /  70W |      0MiB / 15360MiB |      0%      Default |\n",
            "|                               |                      |                  N/A |\n",
            "+-------------------------------+----------------------+----------------------+\n",
            "                                                                               \n",
            "+-----------------------------------------------------------------------------+\n",
            "| Processes:                                                                  |\n",
            "|  GPU   GI   CI        PID   Type   Process name                  GPU Memory |\n",
            "|        ID   ID                                                   Usage      |\n",
            "|=============================================================================|\n",
            "|  No running processes found                                                 |\n",
            "+-----------------------------------------------------------------------------+\n"
          ]
        }
      ],
      "source": [
        "!nvidia-smi"
      ]
    },
    {
      "cell_type": "markdown",
      "metadata": {
        "id": "bzyWicoCluZc"
      },
      "source": [
        "### Get the data"
      ]
    },
    {
      "cell_type": "code",
      "execution_count": 4,
      "metadata": {
        "colab": {
          "base_uri": "https://localhost:8080/"
        },
        "id": "kxRteCd5lzz4",
        "outputId": "0d3451c0-9feb-4ea9-9507-26ed47acbcbc"
      },
      "outputs": [
        {
          "output_type": "stream",
          "name": "stdout",
          "text": [
            "fatal: destination path 'pubmed-rct' already exists and is not an empty directory.\n",
            "PubMed_200k_RCT\n",
            "PubMed_200k_RCT_numbers_replaced_with_at_sign\n",
            "PubMed_20k_RCT\n",
            "PubMed_20k_RCT_numbers_replaced_with_at_sign\n",
            "README.md\n"
          ]
        }
      ],
      "source": [
        "# Clone the GitHub repo and \n",
        "!git clone https://github.com/Franck-Dernoncourt/pubmed-rct\n",
        "!ls pubmed-rct"
      ]
    },
    {
      "cell_type": "code",
      "execution_count": 5,
      "metadata": {
        "id": "SbUcR6XVl6Ny"
      },
      "outputs": [],
      "source": [
        "# Get the full, 200k dataset\n",
        "data_dir = \"/content/pubmed-rct/PubMed_20k_RCT_numbers_replaced_with_at_sign/\""
      ]
    },
    {
      "cell_type": "code",
      "execution_count": 6,
      "metadata": {
        "colab": {
          "base_uri": "https://localhost:8080/"
        },
        "id": "MDY1CugNm15F",
        "outputId": "d23f5a9b-671c-4d67-e11c-e62a184c2140"
      },
      "outputs": [
        {
          "output_type": "execute_result",
          "data": {
            "text/plain": [
              "['/content/pubmed-rct/PubMed_20k_RCT_numbers_replaced_with_at_sign/dev.txt',\n",
              " '/content/pubmed-rct/PubMed_20k_RCT_numbers_replaced_with_at_sign/train.txt',\n",
              " '/content/pubmed-rct/PubMed_20k_RCT_numbers_replaced_with_at_sign/test.txt']"
            ]
          },
          "metadata": {},
          "execution_count": 6
        }
      ],
      "source": [
        "# Check the filenames in the directory\n",
        "import os\n",
        "filenames = [data_dir + filename for filename in os.listdir(data_dir)]\n",
        "filenames"
      ]
    },
    {
      "cell_type": "code",
      "execution_count": 7,
      "metadata": {
        "colab": {
          "base_uri": "https://localhost:8080/"
        },
        "id": "4db3Rks7vv1x",
        "outputId": "f094c69c-7068-4c93-d20b-0c20cd6184c3"
      },
      "outputs": [
        {
          "output_type": "stream",
          "name": "stdout",
          "text": [
            "--2023-05-07 08:06:11--  https://raw.githubusercontent.com/mrdbourke/tensorflow-deep-learning/main/extras/helper_functions.py\n",
            "Resolving raw.githubusercontent.com (raw.githubusercontent.com)... 185.199.108.133, 185.199.109.133, 185.199.110.133, ...\n",
            "Connecting to raw.githubusercontent.com (raw.githubusercontent.com)|185.199.108.133|:443... connected.\n",
            "HTTP request sent, awaiting response... 200 OK\n",
            "Length: 10246 (10K) [text/plain]\n",
            "Saving to: ‘helper_functions.py.1’\n",
            "\n",
            "helper_functions.py 100%[===================>]  10.01K  --.-KB/s    in 0s      \n",
            "\n",
            "2023-05-07 08:06:11 (76.9 MB/s) - ‘helper_functions.py.1’ saved [10246/10246]\n",
            "\n"
          ]
        }
      ],
      "source": [
        "# Download helper functions\n",
        "!wget https://raw.githubusercontent.com/mrdbourke/tensorflow-deep-learning/main/extras/helper_functions.py"
      ]
    },
    {
      "cell_type": "code",
      "execution_count": 8,
      "metadata": {
        "id": "xOusigdcrAg1"
      },
      "outputs": [],
      "source": [
        "# Unzipping the data\n",
        "#from helper_functions import unzip_data\n",
        "#unzip_data(\"/content/pubmed-rct/PubMed_200k_RCT_numbers_replaced_with_at_sign/train.zip\")"
      ]
    },
    {
      "cell_type": "markdown",
      "metadata": {
        "id": "K1NS97hBnFfm"
      },
      "source": [
        "### Preprocess the data"
      ]
    },
    {
      "cell_type": "code",
      "execution_count": 9,
      "metadata": {
        "id": "nPV7Rvt9nHLu"
      },
      "outputs": [],
      "source": [
        "# Create function to read the lines of a document\n",
        "def get_lines(filename):\n",
        "  \"\"\"\n",
        "  Reads filename (text file) and returns the lines of text as a list.\n",
        "\n",
        "  Args:\n",
        "    filename: string, contains the target filepath\n",
        "\n",
        "  Returns:\n",
        "    A list of strins with one string per line from the target filename\n",
        "  \"\"\"\n",
        "\n",
        "  with open(filename, 'r') as f:\n",
        "    return f.readlines()"
      ]
    },
    {
      "cell_type": "code",
      "execution_count": 10,
      "metadata": {
        "colab": {
          "base_uri": "https://localhost:8080/"
        },
        "id": "RJcmuzQlq2_W",
        "outputId": "1afa61e3-43e4-4ecf-e565-3f471f9f2b97"
      },
      "outputs": [
        {
          "output_type": "execute_result",
          "data": {
            "text/plain": [
              "['###24293578\\n',\n",
              " 'OBJECTIVE\\tTo investigate the efficacy of @ weeks of daily low-dose oral prednisolone in improving pain , mobility , and systemic low-grade inflammation in the short term and whether the effect would be sustained at @ weeks in older adults with moderate to severe knee osteoarthritis ( OA ) .\\n',\n",
              " 'METHODS\\tA total of @ patients with primary knee OA were randomized @:@ ; @ received @ mg/day of prednisolone and @ received placebo for @ weeks .\\n',\n",
              " 'METHODS\\tOutcome measures included pain reduction and improvement in function scores and systemic inflammation markers .\\n',\n",
              " 'METHODS\\tPain was assessed using the visual analog pain scale ( @-@ mm ) .\\n',\n",
              " 'METHODS\\tSecondary outcome measures included the Western Ontario and McMaster Universities Osteoarthritis Index scores , patient global assessment ( PGA ) of the severity of knee OA , and @-min walk distance ( @MWD ) .\\n',\n",
              " 'METHODS\\tSerum levels of interleukin @ ( IL-@ ) , IL-@ , tumor necrosis factor ( TNF ) - , and high-sensitivity C-reactive protein ( hsCRP ) were measured .\\n',\n",
              " 'RESULTS\\tThere was a clinically relevant reduction in the intervention group compared to the placebo group for knee pain , physical function , PGA , and @MWD at @ weeks .\\n',\n",
              " 'RESULTS\\tThe mean difference between treatment arms ( @ % CI ) was @ ( @-@ @ ) , p < @ ; @ ( @-@ @ ) , p < @ ; @ ( @-@ @ ) , p < @ ; and @ ( @-@ @ ) , p < @ , respectively .\\n',\n",
              " 'RESULTS\\tFurther , there was a clinically relevant reduction in the serum levels of IL-@ , IL-@ , TNF - , and hsCRP at @ weeks in the intervention group when compared to the placebo group .\\n']"
            ]
          },
          "metadata": {},
          "execution_count": 10
        }
      ],
      "source": [
        "# Reading in the training lines\n",
        "train_lines = get_lines(data_dir + 'train.txt')\n",
        "train_lines[:10]"
      ]
    },
    {
      "cell_type": "code",
      "execution_count": 11,
      "metadata": {
        "colab": {
          "base_uri": "https://localhost:8080/"
        },
        "id": "M8EpuqGDq92i",
        "outputId": "43679d54-3333-4131-8d49-383af6abce8e"
      },
      "outputs": [
        {
          "output_type": "execute_result",
          "data": {
            "text/plain": [
              "210040"
            ]
          },
          "metadata": {},
          "execution_count": 11
        }
      ],
      "source": [
        "# Get the total number of lines\n",
        "len(train_lines)"
      ]
    },
    {
      "cell_type": "code",
      "execution_count": 12,
      "metadata": {
        "id": "mJiHOwdcruRE"
      },
      "outputs": [],
      "source": [
        "# Function to preprocess the data to desired format\n",
        "def preprocess_text_with_linenumbers(filename):\n",
        "  \"\"\"\n",
        "  Returns a list of dictionaries of abstract RCT line data. Takes in the filename,\n",
        "  reads its content and works through each line extracting all necessary data to\n",
        "  be returned,\n",
        "\n",
        "  Args:\n",
        "    filename: string, contains a RCT data \n",
        "\n",
        "  Returns:\n",
        "    abstract_samples: dictionary, with data such as 'target', 'text',\n",
        "      'line_number' and 'total_lines' per each abstract\n",
        "  \"\"\"\n",
        "  input_lines = get_lines(filename)\n",
        "  abstract_lines = \"\"\n",
        "  abstract_samples = []\n",
        "\n",
        "  for line in input_lines:\n",
        "    if line.startswith(\"###\"): # check for the ID of an abastract\n",
        "      abstract_id = line\n",
        "      abstract_lines = \"\" # reset the abstract string so it's empty for new one\n",
        "\n",
        "    elif line.isspace(): # check if the line is the new line\n",
        "      abstract_line_split = abstract_lines.splitlines() # split the lines into new lines\n",
        "\n",
        "      # Iterate through each line in a single abstract and count them at the same time\n",
        "      for abstract_line_number, abstract_line in enumerate(abstract_line_split):\n",
        "        line_data = {} # empty dictionary for each line\n",
        "        target_text_split = abstract_line.split(\"\\t\") # split the text from the target label\n",
        "        line_data['target'] = target_text_split[0] # get the target label\n",
        "        line_data['text'] = target_text_split[1].lower() # get the text in lowered version\n",
        "        line_data['line_number'] = abstract_line_number # get the number of a particular line from enumerate operator\n",
        "        line_data['total_lines'] = len(abstract_line_split)-1 # how many total lines are there in each abstract\n",
        "\n",
        "        abstract_samples.append(line_data) # add the data to the samples list\n",
        "\n",
        "    else: # if the above are not met, the line contains labelled sentence\n",
        "      abstract_lines += line\n",
        "  \n",
        "  return abstract_samples"
      ]
    },
    {
      "cell_type": "code",
      "execution_count": 13,
      "metadata": {
        "colab": {
          "base_uri": "https://localhost:8080/"
        },
        "id": "WmlwytPtvCu_",
        "outputId": "d4e6e999-fa9b-444b-e787-b1eab9605010"
      },
      "outputs": [
        {
          "output_type": "stream",
          "name": "stdout",
          "text": [
            "180040 30212 30135\n",
            "CPU times: user 411 ms, sys: 91.4 ms, total: 502 ms\n",
            "Wall time: 501 ms\n"
          ]
        }
      ],
      "source": [
        "# Get the data into the memory\n",
        "%%time\n",
        "train_samples = preprocess_text_with_linenumbers(data_dir + 'train.txt')\n",
        "val_samples = preprocess_text_with_linenumbers(data_dir + 'dev.txt')\n",
        "test_samples = preprocess_text_with_linenumbers(data_dir + 'test.txt')\n",
        "print(len(train_samples), len(val_samples), len(test_samples))"
      ]
    },
    {
      "cell_type": "code",
      "execution_count": 14,
      "metadata": {
        "colab": {
          "base_uri": "https://localhost:8080/"
        },
        "id": "o5E3aKQWveFn",
        "outputId": "6ef94abd-1c07-42da-b955-bfcfcd22f658"
      },
      "outputs": [
        {
          "output_type": "execute_result",
          "data": {
            "text/plain": [
              "[{'target': 'OBJECTIVE',\n",
              "  'text': 'to investigate the efficacy of @ weeks of daily low-dose oral prednisolone in improving pain , mobility , and systemic low-grade inflammation in the short term and whether the effect would be sustained at @ weeks in older adults with moderate to severe knee osteoarthritis ( oa ) .',\n",
              "  'line_number': 0,\n",
              "  'total_lines': 11},\n",
              " {'target': 'METHODS',\n",
              "  'text': 'a total of @ patients with primary knee oa were randomized @:@ ; @ received @ mg/day of prednisolone and @ received placebo for @ weeks .',\n",
              "  'line_number': 1,\n",
              "  'total_lines': 11},\n",
              " {'target': 'METHODS',\n",
              "  'text': 'outcome measures included pain reduction and improvement in function scores and systemic inflammation markers .',\n",
              "  'line_number': 2,\n",
              "  'total_lines': 11},\n",
              " {'target': 'METHODS',\n",
              "  'text': 'pain was assessed using the visual analog pain scale ( @-@ mm ) .',\n",
              "  'line_number': 3,\n",
              "  'total_lines': 11},\n",
              " {'target': 'METHODS',\n",
              "  'text': 'secondary outcome measures included the western ontario and mcmaster universities osteoarthritis index scores , patient global assessment ( pga ) of the severity of knee oa , and @-min walk distance ( @mwd ) .',\n",
              "  'line_number': 4,\n",
              "  'total_lines': 11},\n",
              " {'target': 'METHODS',\n",
              "  'text': 'serum levels of interleukin @ ( il-@ ) , il-@ , tumor necrosis factor ( tnf ) - , and high-sensitivity c-reactive protein ( hscrp ) were measured .',\n",
              "  'line_number': 5,\n",
              "  'total_lines': 11},\n",
              " {'target': 'RESULTS',\n",
              "  'text': 'there was a clinically relevant reduction in the intervention group compared to the placebo group for knee pain , physical function , pga , and @mwd at @ weeks .',\n",
              "  'line_number': 6,\n",
              "  'total_lines': 11},\n",
              " {'target': 'RESULTS',\n",
              "  'text': 'the mean difference between treatment arms ( @ % ci ) was @ ( @-@ @ ) , p < @ ; @ ( @-@ @ ) , p < @ ; @ ( @-@ @ ) , p < @ ; and @ ( @-@ @ ) , p < @ , respectively .',\n",
              "  'line_number': 7,\n",
              "  'total_lines': 11},\n",
              " {'target': 'RESULTS',\n",
              "  'text': 'further , there was a clinically relevant reduction in the serum levels of il-@ , il-@ , tnf - , and hscrp at @ weeks in the intervention group when compared to the placebo group .',\n",
              "  'line_number': 8,\n",
              "  'total_lines': 11},\n",
              " {'target': 'RESULTS',\n",
              "  'text': 'these differences remained significant at @ weeks .',\n",
              "  'line_number': 9,\n",
              "  'total_lines': 11},\n",
              " {'target': 'RESULTS',\n",
              "  'text': 'the outcome measures in rheumatology clinical trials-osteoarthritis research society international responder rate was @ % in the intervention group and @ % in the placebo group ( p < @ ) .',\n",
              "  'line_number': 10,\n",
              "  'total_lines': 11},\n",
              " {'target': 'CONCLUSIONS',\n",
              "  'text': 'low-dose oral prednisolone had both a short-term and a longer sustained effect resulting in less knee pain , better physical function , and attenuation of systemic inflammation in older patients with knee oa ( clinicaltrials.gov identifier nct@ ) .',\n",
              "  'line_number': 11,\n",
              "  'total_lines': 11},\n",
              " {'target': 'BACKGROUND',\n",
              "  'text': 'emotional eating is associated with overeating and the development of obesity .',\n",
              "  'line_number': 0,\n",
              "  'total_lines': 10},\n",
              " {'target': 'BACKGROUND',\n",
              "  'text': 'yet , empirical evidence for individual ( trait ) differences in emotional eating and cognitive mechanisms that contribute to eating during sad mood remain equivocal .',\n",
              "  'line_number': 1,\n",
              "  'total_lines': 10},\n",
              " {'target': 'OBJECTIVE',\n",
              "  'text': 'the aim of this study was to test if attention bias for food moderates the effect of self-reported emotional eating during sad mood ( vs neutral mood ) on actual food intake .',\n",
              "  'line_number': 2,\n",
              "  'total_lines': 10}]"
            ]
          },
          "metadata": {},
          "execution_count": 14
        }
      ],
      "source": [
        "# Check the first samples from training data\n",
        "train_samples[:15]"
      ]
    },
    {
      "cell_type": "code",
      "execution_count": 15,
      "metadata": {
        "colab": {
          "base_uri": "https://localhost:8080/",
          "height": 504
        },
        "id": "EZwXy1X5vqD9",
        "outputId": "8290e5f2-30b6-4b8b-b165-eda65e2d9f1c"
      },
      "outputs": [
        {
          "output_type": "execute_result",
          "data": {
            "text/plain": [
              "         target                                               text  \\\n",
              "0     OBJECTIVE  to investigate the efficacy of @ weeks of dail...   \n",
              "1       METHODS  a total of @ patients with primary knee oa wer...   \n",
              "2       METHODS  outcome measures included pain reduction and i...   \n",
              "3       METHODS  pain was assessed using the visual analog pain...   \n",
              "4       METHODS  secondary outcome measures included the wester...   \n",
              "5       METHODS  serum levels of interleukin @ ( il-@ ) , il-@ ...   \n",
              "6       RESULTS  there was a clinically relevant reduction in t...   \n",
              "7       RESULTS  the mean difference between treatment arms ( @...   \n",
              "8       RESULTS  further , there was a clinically relevant redu...   \n",
              "9       RESULTS  these differences remained significant at @ we...   \n",
              "10      RESULTS  the outcome measures in rheumatology clinical ...   \n",
              "11  CONCLUSIONS  low-dose oral prednisolone had both a short-te...   \n",
              "12   BACKGROUND  emotional eating is associated with overeating...   \n",
              "13   BACKGROUND  yet , empirical evidence for individual ( trai...   \n",
              "14    OBJECTIVE  the aim of this study was to test if attention...   \n",
              "\n",
              "    line_number  total_lines  \n",
              "0             0           11  \n",
              "1             1           11  \n",
              "2             2           11  \n",
              "3             3           11  \n",
              "4             4           11  \n",
              "5             5           11  \n",
              "6             6           11  \n",
              "7             7           11  \n",
              "8             8           11  \n",
              "9             9           11  \n",
              "10           10           11  \n",
              "11           11           11  \n",
              "12            0           10  \n",
              "13            1           10  \n",
              "14            2           10  "
            ],
            "text/html": [
              "\n",
              "  <div id=\"df-f3cdf428-9025-442f-ab9d-23cd60e49e50\">\n",
              "    <div class=\"colab-df-container\">\n",
              "      <div>\n",
              "<style scoped>\n",
              "    .dataframe tbody tr th:only-of-type {\n",
              "        vertical-align: middle;\n",
              "    }\n",
              "\n",
              "    .dataframe tbody tr th {\n",
              "        vertical-align: top;\n",
              "    }\n",
              "\n",
              "    .dataframe thead th {\n",
              "        text-align: right;\n",
              "    }\n",
              "</style>\n",
              "<table border=\"1\" class=\"dataframe\">\n",
              "  <thead>\n",
              "    <tr style=\"text-align: right;\">\n",
              "      <th></th>\n",
              "      <th>target</th>\n",
              "      <th>text</th>\n",
              "      <th>line_number</th>\n",
              "      <th>total_lines</th>\n",
              "    </tr>\n",
              "  </thead>\n",
              "  <tbody>\n",
              "    <tr>\n",
              "      <th>0</th>\n",
              "      <td>OBJECTIVE</td>\n",
              "      <td>to investigate the efficacy of @ weeks of dail...</td>\n",
              "      <td>0</td>\n",
              "      <td>11</td>\n",
              "    </tr>\n",
              "    <tr>\n",
              "      <th>1</th>\n",
              "      <td>METHODS</td>\n",
              "      <td>a total of @ patients with primary knee oa wer...</td>\n",
              "      <td>1</td>\n",
              "      <td>11</td>\n",
              "    </tr>\n",
              "    <tr>\n",
              "      <th>2</th>\n",
              "      <td>METHODS</td>\n",
              "      <td>outcome measures included pain reduction and i...</td>\n",
              "      <td>2</td>\n",
              "      <td>11</td>\n",
              "    </tr>\n",
              "    <tr>\n",
              "      <th>3</th>\n",
              "      <td>METHODS</td>\n",
              "      <td>pain was assessed using the visual analog pain...</td>\n",
              "      <td>3</td>\n",
              "      <td>11</td>\n",
              "    </tr>\n",
              "    <tr>\n",
              "      <th>4</th>\n",
              "      <td>METHODS</td>\n",
              "      <td>secondary outcome measures included the wester...</td>\n",
              "      <td>4</td>\n",
              "      <td>11</td>\n",
              "    </tr>\n",
              "    <tr>\n",
              "      <th>5</th>\n",
              "      <td>METHODS</td>\n",
              "      <td>serum levels of interleukin @ ( il-@ ) , il-@ ...</td>\n",
              "      <td>5</td>\n",
              "      <td>11</td>\n",
              "    </tr>\n",
              "    <tr>\n",
              "      <th>6</th>\n",
              "      <td>RESULTS</td>\n",
              "      <td>there was a clinically relevant reduction in t...</td>\n",
              "      <td>6</td>\n",
              "      <td>11</td>\n",
              "    </tr>\n",
              "    <tr>\n",
              "      <th>7</th>\n",
              "      <td>RESULTS</td>\n",
              "      <td>the mean difference between treatment arms ( @...</td>\n",
              "      <td>7</td>\n",
              "      <td>11</td>\n",
              "    </tr>\n",
              "    <tr>\n",
              "      <th>8</th>\n",
              "      <td>RESULTS</td>\n",
              "      <td>further , there was a clinically relevant redu...</td>\n",
              "      <td>8</td>\n",
              "      <td>11</td>\n",
              "    </tr>\n",
              "    <tr>\n",
              "      <th>9</th>\n",
              "      <td>RESULTS</td>\n",
              "      <td>these differences remained significant at @ we...</td>\n",
              "      <td>9</td>\n",
              "      <td>11</td>\n",
              "    </tr>\n",
              "    <tr>\n",
              "      <th>10</th>\n",
              "      <td>RESULTS</td>\n",
              "      <td>the outcome measures in rheumatology clinical ...</td>\n",
              "      <td>10</td>\n",
              "      <td>11</td>\n",
              "    </tr>\n",
              "    <tr>\n",
              "      <th>11</th>\n",
              "      <td>CONCLUSIONS</td>\n",
              "      <td>low-dose oral prednisolone had both a short-te...</td>\n",
              "      <td>11</td>\n",
              "      <td>11</td>\n",
              "    </tr>\n",
              "    <tr>\n",
              "      <th>12</th>\n",
              "      <td>BACKGROUND</td>\n",
              "      <td>emotional eating is associated with overeating...</td>\n",
              "      <td>0</td>\n",
              "      <td>10</td>\n",
              "    </tr>\n",
              "    <tr>\n",
              "      <th>13</th>\n",
              "      <td>BACKGROUND</td>\n",
              "      <td>yet , empirical evidence for individual ( trai...</td>\n",
              "      <td>1</td>\n",
              "      <td>10</td>\n",
              "    </tr>\n",
              "    <tr>\n",
              "      <th>14</th>\n",
              "      <td>OBJECTIVE</td>\n",
              "      <td>the aim of this study was to test if attention...</td>\n",
              "      <td>2</td>\n",
              "      <td>10</td>\n",
              "    </tr>\n",
              "  </tbody>\n",
              "</table>\n",
              "</div>\n",
              "      <button class=\"colab-df-convert\" onclick=\"convertToInteractive('df-f3cdf428-9025-442f-ab9d-23cd60e49e50')\"\n",
              "              title=\"Convert this dataframe to an interactive table.\"\n",
              "              style=\"display:none;\">\n",
              "        \n",
              "  <svg xmlns=\"http://www.w3.org/2000/svg\" height=\"24px\"viewBox=\"0 0 24 24\"\n",
              "       width=\"24px\">\n",
              "    <path d=\"M0 0h24v24H0V0z\" fill=\"none\"/>\n",
              "    <path d=\"M18.56 5.44l.94 2.06.94-2.06 2.06-.94-2.06-.94-.94-2.06-.94 2.06-2.06.94zm-11 1L8.5 8.5l.94-2.06 2.06-.94-2.06-.94L8.5 2.5l-.94 2.06-2.06.94zm10 10l.94 2.06.94-2.06 2.06-.94-2.06-.94-.94-2.06-.94 2.06-2.06.94z\"/><path d=\"M17.41 7.96l-1.37-1.37c-.4-.4-.92-.59-1.43-.59-.52 0-1.04.2-1.43.59L10.3 9.45l-7.72 7.72c-.78.78-.78 2.05 0 2.83L4 21.41c.39.39.9.59 1.41.59.51 0 1.02-.2 1.41-.59l7.78-7.78 2.81-2.81c.8-.78.8-2.07 0-2.86zM5.41 20L4 18.59l7.72-7.72 1.47 1.35L5.41 20z\"/>\n",
              "  </svg>\n",
              "      </button>\n",
              "      \n",
              "  <style>\n",
              "    .colab-df-container {\n",
              "      display:flex;\n",
              "      flex-wrap:wrap;\n",
              "      gap: 12px;\n",
              "    }\n",
              "\n",
              "    .colab-df-convert {\n",
              "      background-color: #E8F0FE;\n",
              "      border: none;\n",
              "      border-radius: 50%;\n",
              "      cursor: pointer;\n",
              "      display: none;\n",
              "      fill: #1967D2;\n",
              "      height: 32px;\n",
              "      padding: 0 0 0 0;\n",
              "      width: 32px;\n",
              "    }\n",
              "\n",
              "    .colab-df-convert:hover {\n",
              "      background-color: #E2EBFA;\n",
              "      box-shadow: 0px 1px 2px rgba(60, 64, 67, 0.3), 0px 1px 3px 1px rgba(60, 64, 67, 0.15);\n",
              "      fill: #174EA6;\n",
              "    }\n",
              "\n",
              "    [theme=dark] .colab-df-convert {\n",
              "      background-color: #3B4455;\n",
              "      fill: #D2E3FC;\n",
              "    }\n",
              "\n",
              "    [theme=dark] .colab-df-convert:hover {\n",
              "      background-color: #434B5C;\n",
              "      box-shadow: 0px 1px 3px 1px rgba(0, 0, 0, 0.15);\n",
              "      filter: drop-shadow(0px 1px 2px rgba(0, 0, 0, 0.3));\n",
              "      fill: #FFFFFF;\n",
              "    }\n",
              "  </style>\n",
              "\n",
              "      <script>\n",
              "        const buttonEl =\n",
              "          document.querySelector('#df-f3cdf428-9025-442f-ab9d-23cd60e49e50 button.colab-df-convert');\n",
              "        buttonEl.style.display =\n",
              "          google.colab.kernel.accessAllowed ? 'block' : 'none';\n",
              "\n",
              "        async function convertToInteractive(key) {\n",
              "          const element = document.querySelector('#df-f3cdf428-9025-442f-ab9d-23cd60e49e50');\n",
              "          const dataTable =\n",
              "            await google.colab.kernel.invokeFunction('convertToInteractive',\n",
              "                                                     [key], {});\n",
              "          if (!dataTable) return;\n",
              "\n",
              "          const docLinkHtml = 'Like what you see? Visit the ' +\n",
              "            '<a target=\"_blank\" href=https://colab.research.google.com/notebooks/data_table.ipynb>data table notebook</a>'\n",
              "            + ' to learn more about interactive tables.';\n",
              "          element.innerHTML = '';\n",
              "          dataTable['output_type'] = 'display_data';\n",
              "          await google.colab.output.renderOutput(dataTable, element);\n",
              "          const docLink = document.createElement('div');\n",
              "          docLink.innerHTML = docLinkHtml;\n",
              "          element.appendChild(docLink);\n",
              "        }\n",
              "      </script>\n",
              "    </div>\n",
              "  </div>\n",
              "  "
            ]
          },
          "metadata": {},
          "execution_count": 15
        }
      ],
      "source": [
        "# Placing the data in Pandas DataFrame\n",
        "import pandas as pd\n",
        "train_df = pd.DataFrame(train_samples)\n",
        "val_df = pd.DataFrame(val_samples)\n",
        "test_df = pd.DataFrame(test_samples)\n",
        "train_df.head(15)"
      ]
    },
    {
      "cell_type": "markdown",
      "metadata": {
        "id": "hJBJclHkwqqM"
      },
      "source": [
        "### Small portion of EDA"
      ]
    },
    {
      "cell_type": "code",
      "execution_count": 16,
      "metadata": {
        "colab": {
          "base_uri": "https://localhost:8080/",
          "height": 531
        },
        "id": "ndyMU9QVwzse",
        "outputId": "a0e7e8eb-1527-4c01-d1f0-5adbce1e261b"
      },
      "outputs": [
        {
          "output_type": "execute_result",
          "data": {
            "text/plain": [
              "<Axes: >"
            ]
          },
          "metadata": {},
          "execution_count": 16
        },
        {
          "output_type": "display_data",
          "data": {
            "text/plain": [
              "<Figure size 640x480 with 1 Axes>"
            ],
            "image/png": "[encoded data removed]"
          },
          "metadata": {}
        }
      ],
      "source": [
        "# Distribution of training labels\n",
        "train_df['target'].value_counts().plot(kind='bar')"
      ]
    },
    {
      "cell_type": "code",
      "execution_count": 17,
      "metadata": {
        "colab": {
          "base_uri": "https://localhost:8080/",
          "height": 445
        },
        "id": "lYs6h0Vfw8d6",
        "outputId": "ad7e1600-c1da-4895-af3e-c4d221a44235"
      },
      "outputs": [
        {
          "output_type": "execute_result",
          "data": {
            "text/plain": [
              "<Axes: ylabel='Frequency'>"
            ]
          },
          "metadata": {},
          "execution_count": 17
        },
        {
          "output_type": "display_data",
          "data": {
            "text/plain": [
              "<Figure size 640x480 with 1 Axes>"
            ],
            "image/png": "[encoded data removed]"
          },
          "metadata": {}
        }
      ],
      "source": [
        "# Checking the number of lines per abstract\n",
        "train_df.total_lines.plot.hist(bins=30)"
      ]
    },
    {
      "cell_type": "markdown",
      "metadata": {
        "id": "nsz8jJjwxRBf"
      },
      "source": [
        "### Getting the list of sentences"
      ]
    },
    {
      "cell_type": "code",
      "execution_count": 18,
      "metadata": {
        "colab": {
          "base_uri": "https://localhost:8080/"
        },
        "id": "TYOaZkL6ymyQ",
        "outputId": "c9eb3dce-5254-4b69-f770-fed551a04d0f"
      },
      "outputs": [
        {
          "output_type": "stream",
          "name": "stdout",
          "text": [
            "180040\n"
          ]
        }
      ],
      "source": [
        "# Extracting the lines from DataFrames\n",
        "train_sentences = train_df['text'].to_list()\n",
        "val_sentences = val_df['text'].to_list()\n",
        "test_sentences = test_df['text'].to_list()\n",
        "print(len(train_sentences))"
      ]
    },
    {
      "cell_type": "markdown",
      "metadata": {
        "id": "uQCNljFzy5cu"
      },
      "source": [
        "### Encode the labels\n",
        "Both one-hot-encoded and label encoded (numerical value)"
      ]
    },
    {
      "cell_type": "code",
      "execution_count": 19,
      "metadata": {
        "colab": {
          "base_uri": "https://localhost:8080/"
        },
        "id": "3nAfstDhzPu-",
        "outputId": "d5aed82c-c201-4039-f9d7-62a43186d8e0"
      },
      "outputs": [
        {
          "output_type": "execute_result",
          "data": {
            "text/plain": [
              "array([[0., 0., 0., 1., 0.],\n",
              "       [0., 0., 1., 0., 0.],\n",
              "       [0., 0., 1., 0., 0.],\n",
              "       [0., 0., 1., 0., 0.],\n",
              "       [0., 0., 1., 0., 0.],\n",
              "       [0., 0., 1., 0., 0.],\n",
              "       [0., 0., 0., 0., 1.],\n",
              "       [0., 0., 0., 0., 1.],\n",
              "       [0., 0., 0., 0., 1.],\n",
              "       [0., 0., 0., 0., 1.],\n",
              "       [0., 0., 0., 0., 1.],\n",
              "       [0., 1., 0., 0., 0.],\n",
              "       [1., 0., 0., 0., 0.],\n",
              "       [1., 0., 0., 0., 0.],\n",
              "       [0., 0., 0., 1., 0.],\n",
              "       [0., 0., 0., 1., 0.],\n",
              "       [0., 0., 1., 0., 0.],\n",
              "       [0., 0., 1., 0., 0.],\n",
              "       [0., 0., 1., 0., 0.],\n",
              "       [0., 0., 0., 0., 1.]])"
            ]
          },
          "metadata": {},
          "execution_count": 19
        }
      ],
      "source": [
        "# One-hot encode labels\n",
        "from sklearn.preprocessing import OneHotEncoder\n",
        "\n",
        "one_hot_encoder = OneHotEncoder(sparse_output=False)\n",
        "\n",
        "train_labels_one_hot = one_hot_encoder.fit_transform(train_df['target'].to_numpy().reshape(-1, 1))\n",
        "val_labels_one_hot = one_hot_encoder.transform(val_df['target'].to_numpy().reshape(-1, 1))\n",
        "test_labels_one_hot = one_hot_encoder.fit(test_df['target'].to_numpy().reshape(-1, 1))\n",
        "\n",
        "# Check one set of labels\n",
        "train_labels_one_hot[:20]"
      ]
    },
    {
      "cell_type": "code",
      "execution_count": 20,
      "metadata": {
        "colab": {
          "base_uri": "https://localhost:8080/"
        },
        "id": "D4N6J-dj3gRU",
        "outputId": "acbb5ea6-6c97-42a8-d64f-00d0f4845ca1"
      },
      "outputs": [
        {
          "output_type": "execute_result",
          "data": {
            "text/plain": [
              "array([3, 2, 2, 2, 2, 2, 4, 4, 4, 4, 4, 1, 0, 0, 3, 3, 2, 2, 2, 4])"
            ]
          },
          "metadata": {},
          "execution_count": 20
        }
      ],
      "source": [
        "# Label encode labels (numerical values)\n",
        "from sklearn.preprocessing import LabelEncoder\n",
        "label_encoder = LabelEncoder()\n",
        "\n",
        "train_labels_encoded = label_encoder.fit_transform(train_df['target'].to_numpy())\n",
        "val_labels_encoded = label_encoder.transform(val_df['target'].to_numpy())\n",
        "test_labels_encoded = label_encoder.transform(test_df['target'].to_numpy())\n",
        "\n",
        "# Check the labels\n",
        "train_labels_encoded[:20]"
      ]
    },
    {
      "cell_type": "code",
      "execution_count": 21,
      "metadata": {
        "colab": {
          "base_uri": "https://localhost:8080/"
        },
        "id": "NZw0EY717CaA",
        "outputId": "3582b1e6-5d92-48e9-d66a-3cd516aeddfa"
      },
      "outputs": [
        {
          "output_type": "execute_result",
          "data": {
            "text/plain": [
              "(5,\n",
              " array(['BACKGROUND', 'CONCLUSIONS', 'METHODS', 'OBJECTIVE', 'RESULTS'],\n",
              "       dtype=object))"
            ]
          },
          "metadata": {},
          "execution_count": 21
        }
      ],
      "source": [
        "# Get class names and number of classes\n",
        "num_classes = len(label_encoder.classes_)\n",
        "class_names = label_encoder.classes_\n",
        "num_classes, class_names"
      ]
    },
    {
      "cell_type": "markdown",
      "metadata": {
        "id": "_LVWWa0_8RXg"
      },
      "source": [
        "### Create a character-level tokenizer"
      ]
    },
    {
      "cell_type": "code",
      "execution_count": 22,
      "metadata": {
        "colab": {
          "base_uri": "https://localhost:8080/"
        },
        "id": "zL8sAkTe8e58",
        "outputId": "74ce1aa7-56b7-4893-d7b5-5729e492da54"
      },
      "outputs": [
        {
          "output_type": "execute_result",
          "data": {
            "text/plain": [
              "['to investigate the efficacy of @ weeks of daily low-dose oral prednisolone in improving pain , mobility , and systemic low-grade inflammation in the short term and whether the effect would be sustained at @ weeks in older adults with moderate to severe knee osteoarthritis ( oa ) .',\n",
              " 'a total of @ patients with primary knee oa were randomized @:@ ; @ received @ mg/day of prednisolone and @ received placebo for @ weeks .',\n",
              " 'outcome measures included pain reduction and improvement in function scores and systemic inflammation markers .',\n",
              " 'pain was assessed using the visual analog pain scale ( @-@ mm ) .',\n",
              " 'secondary outcome measures included the western ontario and mcmaster universities osteoarthritis index scores , patient global assessment ( pga ) of the severity of knee oa , and @-min walk distance ( @mwd ) .']"
            ]
          },
          "metadata": {},
          "execution_count": 22
        }
      ],
      "source": [
        "# Look again at the exemplary sentences\n",
        "train_sentences[:5]"
      ]
    },
    {
      "cell_type": "code",
      "execution_count": 23,
      "metadata": {
        "colab": {
          "base_uri": "https://localhost:8080/",
          "height": 116
        },
        "id": "aNjNX9jd9BjY",
        "outputId": "63183230-e7d8-4273-bc23-a297ca5df11b"
      },
      "outputs": [
        {
          "output_type": "execute_result",
          "data": {
            "text/plain": [
              "'a   t       t   h   e       e   n   d       o   f       t   h   e       @   -   m   o   n   t   h       p   e   r   i   o   d       ,       i   n   c   r   e   a   s   e   s       i   n       l   -   b   m   d       w   e   r   e       s   i   m   i   l   a   r       b   e   t   w   e   e   n       g   r   o   u   p       @       (       @       %       )       a   n   d       g   r   o   u   p       @       (       @       %       )       ,       b   u   t       b   a   p   w   v       w   a   s       s   i   g   n   i   f   i   c   a   n   t   l   y       r   e   d   u   c   e   d       i   n       g   r   o   u   p       @       c   o   m   p   a   r   e   d       w   i   t   h       g   r   o   u   p       @       .'"
            ],
            "application/vnd.google.colaboratory.intrinsic+json": {
              "type": "string"
            }
          },
          "metadata": {},
          "execution_count": 23
        }
      ],
      "source": [
        "# Function to split sentences into characters\n",
        "def split_chars(text):\n",
        "  return \" \".join(list(text))\n",
        "\n",
        "# Check the function\n",
        "import random\n",
        "target_sentence = split_chars(random.choice(train_sentences))\n",
        "split_chars(target_sentence)"
      ]
    },
    {
      "cell_type": "code",
      "execution_count": 24,
      "metadata": {
        "colab": {
          "base_uri": "https://localhost:8080/"
        },
        "id": "VboGmFpF9P5Z",
        "outputId": "4f9f52d7-be79-42d5-bf6f-9a44e56002d1"
      },
      "outputs": [
        {
          "output_type": "stream",
          "name": "stdout",
          "text": [
            "a   t o t a l   o f   @   p a t i e n t s   w i t h   p r i m a r y   k n e e   o a   w e r e   r a n d o m i z e d   @ : @   ;   @   r e c e i v e d   @   m g / d a y   o f   p r e d n i s o l o n e   a n d   @   r e c e i v e d   p l a c e b o   f o r   @   w e e k s   .\n"
          ]
        }
      ],
      "source": [
        "# Split all the data into char tokens\n",
        "train_chars = [split_chars(sentence) for sentence in train_sentences]\n",
        "val_chars = [split_chars(sentence) for sentence in val_sentences]\n",
        "test_chars = [split_chars(sentence) for sentence in test_sentences]\n",
        "print(train_chars[1])"
      ]
    },
    {
      "cell_type": "code",
      "execution_count": 25,
      "metadata": {
        "colab": {
          "base_uri": "https://localhost:8080/"
        },
        "id": "y69TB0TF-NbF",
        "outputId": "ba822f76-19e4-4a1b-88a9-b6858b4337c1"
      },
      "outputs": [
        {
          "output_type": "execute_result",
          "data": {
            "text/plain": [
              "149.3662574983337"
            ]
          },
          "metadata": {},
          "execution_count": 25
        }
      ],
      "source": [
        "# Average char length\n",
        "import numpy as np\n",
        "char_len = [len(sentence) for sentence in train_sentences]\n",
        "mean_char_len = np.mean(char_len)\n",
        "mean_char_len"
      ]
    },
    {
      "cell_type": "code",
      "execution_count": 26,
      "metadata": {
        "colab": {
          "base_uri": "https://localhost:8080/",
          "height": 676
        },
        "id": "J9ckJ0yy-fKi",
        "outputId": "5299d618-ae7d-455b-b588-a3b6dec44192"
      },
      "outputs": [
        {
          "output_type": "execute_result",
          "data": {
            "text/plain": [
              "(array([7.8590e+03, 3.5206e+04, 4.9626e+04, 4.0112e+04, 2.4025e+04,\n",
              "        1.2206e+04, 5.8610e+03, 2.5790e+03, 1.2490e+03, 6.2200e+02,\n",
              "        3.1400e+02, 1.5300e+02, 8.8000e+01, 5.1000e+01, 2.8000e+01,\n",
              "        1.7000e+01, 1.7000e+01, 8.0000e+00, 5.0000e+00, 6.0000e+00,\n",
              "        2.0000e+00, 1.0000e+00, 0.0000e+00, 2.0000e+00, 1.0000e+00,\n",
              "        1.0000e+00, 0.0000e+00, 0.0000e+00, 0.0000e+00, 1.0000e+00]),\n",
              " array([1.00000000e+00, 4.71666667e+01, 9.33333333e+01, 1.39500000e+02,\n",
              "        1.85666667e+02, 2.31833333e+02, 2.78000000e+02, 3.24166667e+02,\n",
              "        3.70333333e+02, 4.16500000e+02, 4.62666667e+02, 5.08833333e+02,\n",
              "        5.55000000e+02, 6.01166667e+02, 6.47333333e+02, 6.93500000e+02,\n",
              "        7.39666667e+02, 7.85833333e+02, 8.32000000e+02, 8.78166667e+02,\n",
              "        9.24333333e+02, 9.70500000e+02, 1.01666667e+03, 1.06283333e+03,\n",
              "        1.10900000e+03, 1.15516667e+03, 1.20133333e+03, 1.24750000e+03,\n",
              "        1.29366667e+03, 1.33983333e+03, 1.38600000e+03]),\n",
              " <BarContainer object of 30 artists>)"
            ]
          },
          "metadata": {},
          "execution_count": 26
        },
        {
          "output_type": "display_data",
          "data": {
            "text/plain": [
              "<Figure size 640x480 with 1 Axes>"
            ],
            "image/png": "[encoded data removed]"
          },
          "metadata": {}
        }
      ],
      "source": [
        "# Distribution of character level length\n",
        "import matplotlib.pyplot as plt\n",
        "plt.hist(char_len, bins=30)"
      ]
    },
    {
      "cell_type": "code",
      "execution_count": 27,
      "metadata": {
        "colab": {
          "base_uri": "https://localhost:8080/"
        },
        "id": "LqHJP3K_-r7G",
        "outputId": "61da48c0-da49-414f-ce32-2cd03623868b"
      },
      "outputs": [
        {
          "output_type": "execute_result",
          "data": {
            "text/plain": [
              "290"
            ]
          },
          "metadata": {},
          "execution_count": 27
        }
      ],
      "source": [
        "# Check the 95 percentile\n",
        "output_seq_char_len = int(np.percentile(char_len, 95))\n",
        "output_seq_char_len"
      ]
    },
    {
      "cell_type": "code",
      "execution_count": 28,
      "metadata": {
        "colab": {
          "base_uri": "https://localhost:8080/"
        },
        "id": "eirxHx8L-4H-",
        "outputId": "8951f5cc-df68-480d-810d-8344bb548a46"
      },
      "outputs": [
        {
          "output_type": "execute_result",
          "data": {
            "text/plain": [
              "('abcdefghijklmnopqrstuvwxyz0123456789!\"#$%&\\'()*+,-./:;<=>?@[\\\\]^_`{|}~', 68)"
            ]
          },
          "metadata": {},
          "execution_count": 28
        }
      ],
      "source": [
        "# Get all of the keyboard characters into one variable\n",
        "import string\n",
        "alphabet = string.ascii_lowercase + string.digits + string.punctuation\n",
        "alphabet, len(alphabet)"
      ]
    },
    {
      "cell_type": "code",
      "execution_count": 29,
      "metadata": {
        "id": "6SEKarm3_OrS"
      },
      "outputs": [],
      "source": [
        "# Create character-level token vectorizer instance\n",
        "from tensorflow.keras.layers.experimental.preprocessing import TextVectorization\n",
        "NUM_CHAR_TOKENS = len(alphabet)\n",
        "char_vectorizer = TextVectorization(max_tokens=NUM_CHAR_TOKENS+2,\n",
        "                                    output_sequence_length=output_seq_char_len,\n",
        "                                    standardize=None,\n",
        "                                    name='char_vectorizer')"
      ]
    },
    {
      "cell_type": "code",
      "execution_count": 30,
      "metadata": {
        "colab": {
          "base_uri": "https://localhost:8080/"
        },
        "id": "9x4l-x1z_24I",
        "outputId": "ec54a1e3-a58b-4b8f-cf65-ae3de3040163"
      },
      "outputs": [
        {
          "output_type": "execute_result",
          "data": {
            "text/plain": [
              "<_PrefetchDataset element_spec=TensorSpec(shape=(None,), dtype=tf.string, name=None)>"
            ]
          },
          "metadata": {},
          "execution_count": 30
        }
      ],
      "source": [
        "# Create another instance of dataset for adapting the layer\n",
        "import tensorflow as tf\n",
        "train_char_adapt = tf.data.Dataset.from_tensor_slices(train_chars).batch(128).prefetch(tf.data.AUTOTUNE)\n",
        "train_char_adapt"
      ]
    },
    {
      "cell_type": "code",
      "execution_count": 31,
      "metadata": {
        "colab": {
          "base_uri": "https://localhost:8080/"
        },
        "id": "ZmSpnLnb_tfC",
        "outputId": "a76f79d7-26f8-493c-9078-7365bc123c70"
      },
      "outputs": [
        {
          "output_type": "stream",
          "name": "stdout",
          "text": [
            "CPU times: user 3.72 s, sys: 386 ms, total: 4.11 s\n",
            "Wall time: 2.81 s\n"
          ]
        }
      ],
      "source": [
        "# Adapt the layer to characters\n",
        "%%time\n",
        "char_vectorizer.adapt(train_char_adapt)"
      ]
    },
    {
      "cell_type": "code",
      "execution_count": 32,
      "metadata": {
        "colab": {
          "base_uri": "https://localhost:8080/"
        },
        "id": "xHKwOw6YAbRl",
        "outputId": "fbef6998-bd92-488f-8391-8576c2c106a5"
      },
      "outputs": [
        {
          "output_type": "stream",
          "name": "stdout",
          "text": [
            "Number of chars: 57\n",
            "Most popular chars: ['', '[UNK]', 'e', 't', 'i']\n",
            "Least popular chars: ['|', '\"', ']', '\\\\', '[']\n"
          ]
        }
      ],
      "source": [
        "# Check the vocab stats\n",
        "char_vocab = char_vectorizer.get_vocabulary()\n",
        "print(f\"Number of chars: {len(char_vocab)}\")\n",
        "print(f\"Most popular chars: {char_vocab[:5]}\")\n",
        "print(f\"Least popular chars: {char_vocab[-5:]}\")"
      ]
    },
    {
      "cell_type": "code",
      "execution_count": 33,
      "metadata": {
        "colab": {
          "base_uri": "https://localhost:8080/"
        },
        "id": "TksASWIvAuQR",
        "outputId": "151036b0-58be-4dcc-f3d5-e2cd792afcb9"
      },
      "outputs": [
        {
          "output_type": "stream",
          "name": "stdout",
          "text": [
            "Random charred sentence:\n",
            " b l o o d   l a c t a t e   ,   e m g   f a t i g u e   ,   a n d   t h e   n u m b e r   o f   e l b o w   f l e x i o n - e x t e n s i o n   r e p e t i t i o n s   d u r i n g   t h e   f a t i g u e   p r o t o c o l   w e r e   u s e d   t o   e v a l u a t e   t h e   e f f e c t s   o f   l a s e r   t h e r a p y   (   @   n m   w a v e l e n g t h   ,   @   m w   o u t p u t   p o w e r   ,   p o w e r   d e n s i t y   o f   @   w / c m   (   @   )   ,   @   s e c   e a c h   p o i n t   a n d   @   j / p o i n t   o n   e i g h t   p o i n t s   )   .\n",
            "\n",
            "Vectorized, charred sentence:\n",
            " [23 12  7  7 10 12  5 11  3  5  3  2 24  2 15 18 17  5  3  4 18 16  2 24\n",
            "  5  6 10  3 13  2  6 16 15 23  2  8  7 17  2 12 23  7 21 17 12  2 30  4\n",
            "  7  6 26  2 30  3  2  6  9  4  7  6  8  2 14  2  3  4  3  4  7  6  9 10\n",
            " 16  8  4  6 18  3 13  2 17  5  3  4 18 16  2 14  8  7  3  7 11  7 12 21\n",
            "  2  8  2 16  9  2 10  3  7  2 22  5 12 16  5  3  2  3 13  2  2 17 17  2\n",
            " 11  3  9  7 17 12  5  9  2  8  3 13  2  8  5 14 20 28 19  6 15 21  5 22\n",
            "  2 12  2  6 18  3 13 24 19 15 21  7 16  3 14 16  3 14  7 21  2  8 24 14\n",
            "  7 21  2  8 10  2  6  9  4  3 20  7 17 19 21 35 11 15 28 19 27 24 19  9\n",
            "  2 11  2  5 11 13 14  7  4  6  3  5  6 10 19 37 35 14  7  4  6  3  7  6\n",
            "  2  4 18 13  3 14  7  4  6  3  9 27 25  0  0  0  0  0  0  0  0  0  0  0\n",
            "  0  0  0  0  0  0  0  0  0  0  0  0  0  0  0  0  0  0  0  0  0  0  0  0\n",
            "  0  0  0  0  0  0  0  0  0  0  0  0  0  0  0  0  0  0  0  0  0  0  0  0\n",
            "  0  0]\n",
            "\n",
            "Shape of vectorized, charred text:\n",
            " (290,)\n"
          ]
        }
      ],
      "source": [
        "# Test the layer\n",
        "random_chars = random.choice(train_chars)\n",
        "print(f\"Random charred sentence:\\n {random_chars}\\n\")\n",
        "vectorized_chars = char_vectorizer(random_chars)\n",
        "print(f\"Vectorized, charred sentence:\\n {vectorized_chars}\\n\")\n",
        "print(f\"Shape of vectorized, charred text:\\n {vectorized_chars.shape}\")"
      ]
    },
    {
      "cell_type": "markdown",
      "metadata": {
        "id": "WwzjZPMOCAKy"
      },
      "source": [
        "### Character-level embedding layer"
      ]
    },
    {
      "cell_type": "code",
      "execution_count": 34,
      "metadata": {
        "id": "MD2CGEVPCaJT"
      },
      "outputs": [],
      "source": [
        "# Create embedding layer\n",
        "char_embed = tf.keras.layers.Embedding(input_dim=len(char_vocab), # number of different chars\n",
        "                                       output_dim=25, # as stated in the paper\n",
        "                                       mask_zero=True,\n",
        "                                       name='char_embed')"
      ]
    },
    {
      "cell_type": "code",
      "execution_count": 35,
      "metadata": {
        "colab": {
          "base_uri": "https://localhost:8080/"
        },
        "id": "J17COvBWCtOU",
        "outputId": "e410a369-efa4-4686-bdd6-7d609eaf1dd7"
      },
      "outputs": [
        {
          "output_type": "stream",
          "name": "stdout",
          "text": [
            "Charred text:\n",
            " b l o o d   l a c t a t e   ,   e m g   f a t i g u e   ,   a n d   t h e   n u m b e r   o f   e l b o w   f l e x i o n - e x t e n s i o n   r e p e t i t i o n s   d u r i n g   t h e   f a t i g u e   p r o t o c o l   w e r e   u s e d   t o   e v a l u a t e   t h e   e f f e c t s   o f   l a s e r   t h e r a p y   (   @   n m   w a v e l e n g t h   ,   @   m w   o u t p u t   p o w e r   ,   p o w e r   d e n s i t y   o f   @   w / c m   (   @   )   ,   @   s e c   e a c h   p o i n t   a n d   @   j / p o i n t   o n   e i g h t   p o i n t s   )   .\n",
            "\n",
            "Vectorized, embedded charred text:\n",
            " [[-0.00137402  0.04972769 -0.03115967 ... -0.03655317 -0.00279377\n",
            "   0.0424471 ]\n",
            " [ 0.04850573  0.02666842  0.02908674 ... -0.0231366   0.02754091\n",
            "  -0.01320041]\n",
            " [-0.0011429   0.03808321  0.04227081 ...  0.01383908  0.0409061\n",
            "  -0.01041567]\n",
            " ...\n",
            " [-0.04119812 -0.02715585 -0.04658126 ... -0.01939526 -0.02580874\n",
            "   0.03571686]\n",
            " [-0.04119812 -0.02715585 -0.04658126 ... -0.01939526 -0.02580874\n",
            "   0.03571686]\n",
            " [-0.04119812 -0.02715585 -0.04658126 ... -0.01939526 -0.02580874\n",
            "   0.03571686]]\n",
            "\n",
            "Shape of the output:\n",
            " (290, 25)\n"
          ]
        }
      ],
      "source": [
        "# Test the layer\n",
        "print(f\"Charred text:\\n {random_chars}\\n\")\n",
        "embedded_chars = char_embed(vectorized_chars)\n",
        "print(f\"Vectorized, embedded charred text:\\n {embedded_chars}\\n\")\n",
        "print(f\"Shape of the output:\\n {embedded_chars.shape}\")"
      ]
    },
    {
      "cell_type": "markdown",
      "metadata": {
        "id": "3fcX3-WVGlLq"
      },
      "source": [
        "### Create positional embeddings"
      ]
    },
    {
      "cell_type": "code",
      "execution_count": 36,
      "metadata": {
        "colab": {
          "base_uri": "https://localhost:8080/"
        },
        "id": "WERhiLZhNFLS",
        "outputId": "8ec5d543-0ca5-4608-c1bb-3c26cd590b90"
      },
      "outputs": [
        {
          "output_type": "execute_result",
          "data": {
            "text/plain": [
              "0     15000\n",
              "1     15000\n",
              "2     15000\n",
              "3     15000\n",
              "4     14992\n",
              "5     14949\n",
              "6     14758\n",
              "7     14279\n",
              "8     13346\n",
              "9     11981\n",
              "10    10041\n",
              "11     7892\n",
              "12     5853\n",
              "13     4152\n",
              "14     2835\n",
              "15     1861\n",
              "16     1188\n",
              "17      751\n",
              "18      462\n",
              "19      286\n",
              "20      162\n",
              "21      101\n",
              "22       66\n",
              "23       33\n",
              "24       22\n",
              "25       14\n",
              "26        7\n",
              "27        4\n",
              "28        3\n",
              "29        1\n",
              "30        1\n",
              "Name: line_number, dtype: int64"
            ]
          },
          "metadata": {},
          "execution_count": 36
        }
      ],
      "source": [
        "# Check how many different line numbers are in the dataset\n",
        "train_df['line_number'].value_counts()"
      ]
    },
    {
      "cell_type": "code",
      "execution_count": 37,
      "metadata": {
        "colab": {
          "base_uri": "https://localhost:8080/",
          "height": 445
        },
        "id": "MSW5tSWJNLcE",
        "outputId": "2bde35d1-200f-4899-fb53-d8c1dffd1d3f"
      },
      "outputs": [
        {
          "output_type": "execute_result",
          "data": {
            "text/plain": [
              "<Axes: ylabel='Frequency'>"
            ]
          },
          "metadata": {},
          "execution_count": 37
        },
        {
          "output_type": "display_data",
          "data": {
            "text/plain": [
              "<Figure size 640x480 with 1 Axes>"
            ],
            "image/png": "[encoded data removed]"
          },
          "metadata": {}
        }
      ],
      "source": [
        "# Plot the distribution\n",
        "train_df.line_number.plot.hist()"
      ]
    },
    {
      "cell_type": "code",
      "execution_count": 38,
      "metadata": {
        "colab": {
          "base_uri": "https://localhost:8080/"
        },
        "id": "wdau0GxENSUI",
        "outputId": "bf5e85fa-a83c-4ae6-a73c-1e24a9afedf1"
      },
      "outputs": [
        {
          "output_type": "execute_result",
          "data": {
            "text/plain": [
              "15"
            ]
          },
          "metadata": {},
          "execution_count": 38
        }
      ],
      "source": [
        "# Check the 98th percentile\n",
        "line_number_depth = int(np.percentile(train_df['line_number'], 98))\n",
        "line_number_depth"
      ]
    },
    {
      "cell_type": "code",
      "execution_count": 39,
      "metadata": {
        "colab": {
          "base_uri": "https://localhost:8080/"
        },
        "id": "tN9_A3KnNcQJ",
        "outputId": "cfbf0e7e-b901-4d8c-bf0c-c6f5d850f6af"
      },
      "outputs": [
        {
          "output_type": "execute_result",
          "data": {
            "text/plain": [
              "<tf.Tensor: shape=(15, 15), dtype=float32, numpy=\n",
              "array([[1., 0., 0., 0., 0., 0., 0., 0., 0., 0., 0., 0., 0., 0., 0.],\n",
              "       [0., 1., 0., 0., 0., 0., 0., 0., 0., 0., 0., 0., 0., 0., 0.],\n",
              "       [0., 0., 1., 0., 0., 0., 0., 0., 0., 0., 0., 0., 0., 0., 0.],\n",
              "       [0., 0., 0., 1., 0., 0., 0., 0., 0., 0., 0., 0., 0., 0., 0.],\n",
              "       [0., 0., 0., 0., 1., 0., 0., 0., 0., 0., 0., 0., 0., 0., 0.],\n",
              "       [0., 0., 0., 0., 0., 1., 0., 0., 0., 0., 0., 0., 0., 0., 0.],\n",
              "       [0., 0., 0., 0., 0., 0., 1., 0., 0., 0., 0., 0., 0., 0., 0.],\n",
              "       [0., 0., 0., 0., 0., 0., 0., 1., 0., 0., 0., 0., 0., 0., 0.],\n",
              "       [0., 0., 0., 0., 0., 0., 0., 0., 1., 0., 0., 0., 0., 0., 0.],\n",
              "       [0., 0., 0., 0., 0., 0., 0., 0., 0., 1., 0., 0., 0., 0., 0.],\n",
              "       [0., 0., 0., 0., 0., 0., 0., 0., 0., 0., 1., 0., 0., 0., 0.],\n",
              "       [0., 0., 0., 0., 0., 0., 0., 0., 0., 0., 0., 1., 0., 0., 0.],\n",
              "       [1., 0., 0., 0., 0., 0., 0., 0., 0., 0., 0., 0., 0., 0., 0.],\n",
              "       [0., 1., 0., 0., 0., 0., 0., 0., 0., 0., 0., 0., 0., 0., 0.],\n",
              "       [0., 0., 1., 0., 0., 0., 0., 0., 0., 0., 0., 0., 0., 0., 0.]],\n",
              "      dtype=float32)>"
            ]
          },
          "metadata": {},
          "execution_count": 39
        }
      ],
      "source": [
        "# One hot encode the data\n",
        "train_line_numbers_one_hot = tf.one_hot(train_df['line_number'], depth=line_number_depth)\n",
        "val_line_numbers_one_hot = tf.one_hot(val_df['line_number'], depth=line_number_depth)\n",
        "test_line_numbers_one_hot = tf.one_hot(test_df['line_number'], depth=line_number_depth)\n",
        "train_line_numbers_one_hot[:15]"
      ]
    },
    {
      "cell_type": "code",
      "execution_count": 40,
      "metadata": {
        "colab": {
          "base_uri": "https://localhost:8080/"
        },
        "id": "IGyboBPlN7lK",
        "outputId": "61a64ef9-9c03-49ba-ea45-63f980035824"
      },
      "outputs": [
        {
          "output_type": "execute_result",
          "data": {
            "text/plain": [
              "11    24468\n",
              "10    23639\n",
              "12    22113\n",
              "9     19400\n",
              "13    18438\n",
              "14    14610\n",
              "8     12285\n",
              "15    10768\n",
              "7      7464\n",
              "16     7429\n",
              "17     5202\n",
              "6      3353\n",
              "18     3344\n",
              "19     2480\n",
              "20     1281\n",
              "5      1146\n",
              "21      770\n",
              "22      759\n",
              "23      264\n",
              "4       215\n",
              "24      200\n",
              "25      182\n",
              "26       81\n",
              "28       58\n",
              "3        32\n",
              "30       31\n",
              "27       28\n",
              "Name: total_lines, dtype: int64"
            ]
          },
          "metadata": {},
          "execution_count": 40
        }
      ],
      "source": [
        "# Now onto the total_lines...\n",
        "train_df['total_lines'].value_counts()"
      ]
    },
    {
      "cell_type": "code",
      "execution_count": 41,
      "metadata": {
        "colab": {
          "base_uri": "https://localhost:8080/",
          "height": 447
        },
        "id": "JS35ilbRObdg",
        "outputId": "9ff4311e-5e04-402f-b469-b58aecb7583c"
      },
      "outputs": [
        {
          "output_type": "execute_result",
          "data": {
            "text/plain": [
              "<Axes: ylabel='Frequency'>"
            ]
          },
          "metadata": {},
          "execution_count": 41
        },
        {
          "output_type": "display_data",
          "data": {
            "text/plain": [
              "<Figure size 640x480 with 1 Axes>"
            ],
            "image/png": "[encoded data removed]"
          },
          "metadata": {}
        }
      ],
      "source": [
        "# Distribution\n",
        "train_df['total_lines'].plot.hist()"
      ]
    },
    {
      "cell_type": "code",
      "execution_count": 42,
      "metadata": {
        "colab": {
          "base_uri": "https://localhost:8080/"
        },
        "id": "8R9nySvlOhH5",
        "outputId": "0baf5d11-c82b-469c-9254-c581a81a7c6b"
      },
      "outputs": [
        {
          "output_type": "execute_result",
          "data": {
            "text/plain": [
              "20"
            ]
          },
          "metadata": {},
          "execution_count": 42
        }
      ],
      "source": [
        "# 98th percentile\n",
        "total_lines_depth = int(np.percentile(train_df['total_lines'], 98))\n",
        "total_lines_depth"
      ]
    },
    {
      "cell_type": "code",
      "execution_count": 43,
      "metadata": {
        "colab": {
          "base_uri": "https://localhost:8080/"
        },
        "id": "OcKoKpcbOwNs",
        "outputId": "060ec49f-8d74-4ec9-96f5-9430332dd0c5"
      },
      "outputs": [
        {
          "output_type": "execute_result",
          "data": {
            "text/plain": [
              "<tf.Tensor: shape=(15, 20), dtype=float32, numpy=\n",
              "array([[0., 0., 0., 0., 0., 0., 0., 0., 0., 0., 0., 1., 0., 0., 0., 0.,\n",
              "        0., 0., 0., 0.],\n",
              "       [0., 0., 0., 0., 0., 0., 0., 0., 0., 0., 0., 1., 0., 0., 0., 0.,\n",
              "        0., 0., 0., 0.],\n",
              "       [0., 0., 0., 0., 0., 0., 0., 0., 0., 0., 0., 1., 0., 0., 0., 0.,\n",
              "        0., 0., 0., 0.],\n",
              "       [0., 0., 0., 0., 0., 0., 0., 0., 0., 0., 0., 1., 0., 0., 0., 0.,\n",
              "        0., 0., 0., 0.],\n",
              "       [0., 0., 0., 0., 0., 0., 0., 0., 0., 0., 0., 1., 0., 0., 0., 0.,\n",
              "        0., 0., 0., 0.],\n",
              "       [0., 0., 0., 0., 0., 0., 0., 0., 0., 0., 0., 1., 0., 0., 0., 0.,\n",
              "        0., 0., 0., 0.],\n",
              "       [0., 0., 0., 0., 0., 0., 0., 0., 0., 0., 0., 1., 0., 0., 0., 0.,\n",
              "        0., 0., 0., 0.],\n",
              "       [0., 0., 0., 0., 0., 0., 0., 0., 0., 0., 0., 1., 0., 0., 0., 0.,\n",
              "        0., 0., 0., 0.],\n",
              "       [0., 0., 0., 0., 0., 0., 0., 0., 0., 0., 0., 1., 0., 0., 0., 0.,\n",
              "        0., 0., 0., 0.],\n",
              "       [0., 0., 0., 0., 0., 0., 0., 0., 0., 0., 0., 1., 0., 0., 0., 0.,\n",
              "        0., 0., 0., 0.],\n",
              "       [0., 0., 0., 0., 0., 0., 0., 0., 0., 0., 0., 1., 0., 0., 0., 0.,\n",
              "        0., 0., 0., 0.],\n",
              "       [0., 0., 0., 0., 0., 0., 0., 0., 0., 0., 0., 1., 0., 0., 0., 0.,\n",
              "        0., 0., 0., 0.],\n",
              "       [0., 0., 0., 0., 0., 0., 0., 0., 0., 0., 1., 0., 0., 0., 0., 0.,\n",
              "        0., 0., 0., 0.],\n",
              "       [0., 0., 0., 0., 0., 0., 0., 0., 0., 0., 1., 0., 0., 0., 0., 0.,\n",
              "        0., 0., 0., 0.],\n",
              "       [0., 0., 0., 0., 0., 0., 0., 0., 0., 0., 1., 0., 0., 0., 0., 0.,\n",
              "        0., 0., 0., 0.]], dtype=float32)>"
            ]
          },
          "metadata": {},
          "execution_count": 43
        }
      ],
      "source": [
        "# One hot encode the features\n",
        "train_total_lines_one_hot = tf.one_hot(train_df['total_lines'], depth=total_lines_depth)\n",
        "val_total_lines_one_hot = tf.one_hot(val_df['total_lines'], depth=total_lines_depth)\n",
        "test_total_lines_one_hot = tf.one_hot(test_df['total_lines'], depth=total_lines_depth)\n",
        "train_total_lines_one_hot[:15]"
      ]
    },
    {
      "cell_type": "markdown",
      "metadata": {
        "id": "ED47jRN9RDOM"
      },
      "source": [
        "### Get a Universal Sentence Encoder layer ftom TF Hub"
      ]
    },
    {
      "cell_type": "code",
      "execution_count": 44,
      "metadata": {
        "id": "8gQYJZxERNu4"
      },
      "outputs": [],
      "source": [
        "import tensorflow_hub as hub\n",
        "tf_hub_embedding_layer = hub.KerasLayer(\"https://tfhub.dev/google/universal-sentence-encoder/4\",\n",
        "                                        trainable=False,\n",
        "                                        name='universal_sentence_encoder')"
      ]
    },
    {
      "cell_type": "markdown",
      "metadata": {
        "id": "k59tGxV8PN9z"
      },
      "source": [
        "### Build a model\n",
        "At last, after all this preparation..."
      ]
    },
    {
      "cell_type": "code",
      "execution_count": 45,
      "metadata": {
        "id": "UtGAke6dQzxJ"
      },
      "outputs": [],
      "source": [
        "# 1. Token inputs\n",
        "token_inputs = tf.keras.layers.Input(shape=[], dtype=tf.string, name='token_inputs')\n",
        "token_embeddings = tf_hub_embedding_layer(token_inputs)\n",
        "token_outputs = tf.keras.layers.Dense(128, activation='relu')(token_embeddings)\n",
        "token_model = tf.keras.Model(inputs=token_inputs,\n",
        "                             outputs=token_outputs)\n",
        "\n",
        "# 2. Char inputs\n",
        "char_inputs = tf.keras.layers.Input(shape=(1,), dtype=tf.string, name='char_inputs')\n",
        "char_vectors = char_vectorizer(char_inputs)\n",
        "char_embeddings = char_embed(char_vectors)\n",
        "char_bi_lstm = tf.keras.layers.Bidirectional(tf.keras.layers.LSTM(24))(char_embeddings)\n",
        "char_model = tf.keras.Model(inputs=char_inputs,\n",
        "                            outputs=char_bi_lstm)\n",
        "\n",
        "# 3. Line number inputs\n",
        "line_number_inputs = tf.keras.layers.Input(shape=(15,), dtype=tf.float32, name='line_number_input')\n",
        "line_number_outputs = tf.keras.layers.Dense(32, activation='relu')(line_number_inputs)\n",
        "line_number_model = tf.keras.Model(inputs=line_number_inputs,\n",
        "                                   outputs=line_number_outputs)\n",
        "\n",
        "# 4. Total lines inputs\n",
        "total_lines_inputs = tf.keras.layers.Input(shape=(20,), dtype=tf.float32, name='total_lines_input')\n",
        "total_lines_outputs = tf.keras.layers.Dense(32, activation='relu')(total_lines_inputs)\n",
        "total_lines_model = tf.keras.Model(inputs=total_lines_inputs,\n",
        "                                   outputs=total_lines_outputs)\n",
        "\n",
        "# 5. Combine token and char embeddings into a hybrid embedding\n",
        "combined_embeddings = tf.keras.layers.Concatenate(name='char_token_embedding')([char_model.output,\n",
        "                                                                                token_model.output])\n",
        "combined_dense = tf.keras.layers.Dense(256, activation='relu')(combined_embeddings)\n",
        "combined_dropout = tf.keras.layers.Dropout(0.5)(combined_dense)\n",
        "\n",
        "# 6. Triple embedding with line number, total lines and combined char&token embeddings\n",
        "triple_embedding = tf.keras.layers.Concatenate(name='triple_embedding')([line_number_model.output,\n",
        "                                                                         total_lines_model.output,\n",
        "                                                                         combined_dropout])\n",
        "\n",
        "# 7. Create the final output layer\n",
        "output_layer = tf.keras.layers.Dense(5, activation='softmax', name='output_layer')(triple_embedding)\n",
        "\n",
        "# 8. Put the model together\n",
        "model_5 = tf.keras.Model(inputs=[line_number_model.input,\n",
        "                                 total_lines_model.input,\n",
        "                                 char_model.input,\n",
        "                                 token_model.input],\n",
        "                         outputs=output_layer,\n",
        "                         name='triple_embedding_model')"
      ]
    },
    {
      "cell_type": "code",
      "execution_count": 46,
      "metadata": {
        "colab": {
          "base_uri": "https://localhost:8080/",
          "height": 790
        },
        "id": "nAfCl3g1VZMe",
        "outputId": "aa537016-0546-43ea-e295-35b1bb8b9904"
      },
      "outputs": [
        {
          "output_type": "execute_result",
          "data": {
            "image/png": "[encoded data removed]",
            "text/plain": [
              "<IPython.core.display.Image object>"
            ]
          },
          "metadata": {},
          "execution_count": 46
        }
      ],
      "source": [
        "# Plot the architecture\n",
        "tf.keras.utils.plot_model(model_5,\n",
        "                          show_shapes=True,\n",
        "                          show_trainable=True)"
      ]
    },
    {
      "cell_type": "code",
      "execution_count": 47,
      "metadata": {
        "colab": {
          "base_uri": "https://localhost:8080/"
        },
        "id": "yowTbgiuVrgW",
        "outputId": "eac3ce59-1f4f-4a38-815d-62c2135026ae"
      },
      "outputs": [
        {
          "output_type": "stream",
          "name": "stdout",
          "text": [
            "Model: \"triple_embedding_model\"\n",
            "__________________________________________________________________________________________________\n",
            " Layer (type)                   Output Shape         Param #     Connected to                     \n",
            "==================================================================================================\n",
            " char_inputs (InputLayer)       [(None, 1)]          0           []                               \n",
            "                                                                                                  \n",
            " char_vectorizer (TextVectoriza  (None, 290)         0           ['char_inputs[0][0]']            \n",
            " tion)                                                                                            \n",
            "                                                                                                  \n",
            " token_inputs (InputLayer)      [(None,)]            0           []                               \n",
            "                                                                                                  \n",
            " char_embed (Embedding)         (None, 290, 25)      1425        ['char_vectorizer[0][0]']        \n",
            "                                                                                                  \n",
            " universal_sentence_encoder (Ke  (None, 512)         256797824   ['token_inputs[0][0]']           \n",
            " rasLayer)                                                                                        \n",
            "                                                                                                  \n",
            " bidirectional (Bidirectional)  (None, 48)           9600        ['char_embed[0][0]']             \n",
            "                                                                                                  \n",
            " dense (Dense)                  (None, 128)          65664       ['universal_sentence_encoder[0][0\n",
            "                                                                 ]']                              \n",
            "                                                                                                  \n",
            " char_token_embedding (Concaten  (None, 176)         0           ['bidirectional[0][0]',          \n",
            " ate)                                                             'dense[0][0]']                  \n",
            "                                                                                                  \n",
            " line_number_input (InputLayer)  [(None, 15)]        0           []                               \n",
            "                                                                                                  \n",
            " total_lines_input (InputLayer)  [(None, 20)]        0           []                               \n",
            "                                                                                                  \n",
            " dense_3 (Dense)                (None, 256)          45312       ['char_token_embedding[0][0]']   \n",
            "                                                                                                  \n",
            " dense_1 (Dense)                (None, 32)           512         ['line_number_input[0][0]']      \n",
            "                                                                                                  \n",
            " dense_2 (Dense)                (None, 32)           672         ['total_lines_input[0][0]']      \n",
            "                                                                                                  \n",
            " dropout (Dropout)              (None, 256)          0           ['dense_3[0][0]']                \n",
            "                                                                                                  \n",
            " triple_embedding (Concatenate)  (None, 320)         0           ['dense_1[0][0]',                \n",
            "                                                                  'dense_2[0][0]',                \n",
            "                                                                  'dropout[0][0]']                \n",
            "                                                                                                  \n",
            " output_layer (Dense)           (None, 5)            1605        ['triple_embedding[0][0]']       \n",
            "                                                                                                  \n",
            "==================================================================================================\n",
            "Total params: 256,922,614\n",
            "Trainable params: 124,790\n",
            "Non-trainable params: 256,797,824\n",
            "__________________________________________________________________________________________________\n"
          ]
        }
      ],
      "source": [
        "# Check the summary of the model\n",
        "model_5.summary()"
      ]
    },
    {
      "cell_type": "markdown",
      "metadata": {
        "id": "FI7Ce2ffWBQY"
      },
      "source": [
        "### Prepare datasets for the model"
      ]
    },
    {
      "cell_type": "code",
      "execution_count": 48,
      "metadata": {
        "colab": {
          "base_uri": "https://localhost:8080/"
        },
        "id": "r_CG2_SXoMBj",
        "outputId": "845fd46e-361c-441b-a5d1-4afc61ba691c"
      },
      "outputs": [
        {
          "output_type": "execute_result",
          "data": {
            "text/plain": [
              "<_PrefetchDataset element_spec=((TensorSpec(shape=(None, 15), dtype=tf.float32, name=None), TensorSpec(shape=(None, 20), dtype=tf.float32, name=None), TensorSpec(shape=(None,), dtype=tf.string, name=None), TensorSpec(shape=(None,), dtype=tf.string, name=None)), TensorSpec(shape=(None, 5), dtype=tf.float64, name=None))>"
            ]
          },
          "metadata": {},
          "execution_count": 48
        }
      ],
      "source": [
        "# Train dataset\n",
        "train_ln_tl_char_token_data = tf.data.Dataset.from_tensor_slices((train_line_numbers_one_hot,\n",
        "                                                                  train_total_lines_one_hot,\n",
        "                                                                  train_chars,\n",
        "                                                                  train_sentences))\n",
        "train_ln_tl_char_token_labels = tf.data.Dataset.from_tensor_slices(train_labels_one_hot)\n",
        "train_ln_tl_char_token_dataset = tf.data.Dataset.zip((train_ln_tl_char_token_data,\n",
        "                                                      train_ln_tl_char_token_labels))\n",
        "train_ln_tl_char_token_dataset = train_ln_tl_char_token_dataset.batch(32).prefetch(tf.data.AUTOTUNE)\n",
        "train_ln_tl_char_token_dataset"
      ]
    },
    {
      "cell_type": "code",
      "execution_count": 49,
      "metadata": {
        "colab": {
          "base_uri": "https://localhost:8080/"
        },
        "id": "jWc4wnHboMAI",
        "outputId": "4318f0d9-dcf1-4b93-c6f0-b2aacd731095"
      },
      "outputs": [
        {
          "output_type": "execute_result",
          "data": {
            "text/plain": [
              "<_PrefetchDataset element_spec=((TensorSpec(shape=(None, 15), dtype=tf.float32, name=None), TensorSpec(shape=(None, 20), dtype=tf.float32, name=None), TensorSpec(shape=(None,), dtype=tf.string, name=None), TensorSpec(shape=(None,), dtype=tf.string, name=None)), TensorSpec(shape=(None, 5), dtype=tf.float64, name=None))>"
            ]
          },
          "metadata": {},
          "execution_count": 49
        }
      ],
      "source": [
        "# Validation dataset\n",
        "val_ln_tl_char_token_data = tf.data.Dataset.from_tensor_slices((val_line_numbers_one_hot,\n",
        "                                                                val_total_lines_one_hot,\n",
        "                                                                val_chars,\n",
        "                                                                val_sentences))\n",
        "val_ln_tl_char_token_labels = tf.data.Dataset.from_tensor_slices(val_labels_one_hot)\n",
        "val_ln_tl_char_token_dataset = tf.data.Dataset.zip((val_ln_tl_char_token_data,\n",
        "                                                    val_ln_tl_char_token_labels))\n",
        "val_ln_tl_char_token_dataset = val_ln_tl_char_token_dataset.batch(32).prefetch(tf.data.AUTOTUNE)\n",
        "val_ln_tl_char_token_dataset"
      ]
    },
    {
      "cell_type": "markdown",
      "metadata": {
        "id": "zHwcTjiC49ss"
      },
      "source": [
        "### Create the callbacks\n",
        "More specifically: ModelCheckpoint and EarlyStopping."
      ]
    },
    {
      "cell_type": "code",
      "execution_count": 50,
      "metadata": {
        "id": "uJVxNUM44814"
      },
      "outputs": [],
      "source": [
        "from tensorflow.keras.callbacks import ModelCheckpoint, EarlyStopping\n",
        "\n",
        "model_checkpoint = ModelCheckpoint(filepath=\"model_5_ckpt\",\n",
        "                                   monitor='val_loss',\n",
        "                                   verbose=1,\n",
        "                                   save_weights_only=True,\n",
        "                                   save_freq='epoch')\n",
        "\n",
        "early_stopping = EarlyStopping(monitor='val_loss',\n",
        "                               patience=3,\n",
        "                               verbose=1,\n",
        "                               restore_best_weights=True,\n",
        "                               start_from_epoch=3)"
      ]
    },
    {
      "cell_type": "markdown",
      "metadata": {
        "id": "eul7YqkVp7_s"
      },
      "source": [
        "### Compile the model"
      ]
    },
    {
      "cell_type": "code",
      "execution_count": null,
      "metadata": {
        "id": "Tf2m2GS1qpwJ"
      },
      "outputs": [],
      "source": [
        "model_5.compile(loss=tf.keras.losses.CategoricalCrossentropy(label_smoothing=0.2),\n",
        "                optimizer=tf.keras.optimizers.SGD(),\n",
        "                metrics=['accuracy'])"
      ]
    },
    {
      "cell_type": "code",
      "execution_count": null,
      "metadata": {
        "colab": {
          "base_uri": "https://localhost:8080/"
        },
        "id": "V-MmH0hqq4tN",
        "outputId": "0d7e447a-fc0e-4147-eef7-238d82b2d9a9"
      },
      "outputs": [
        {
          "name": "stdout",
          "output_type": "stream",
          "text": [
            "Epoch 1/25\n",
            "5626/5627 [============================>.] - ETA: 0s - loss: 0.8446 - accuracy: 0.9002\n",
            "Epoch 1: saving model to model_5_ckpt\n",
            "5627/5627 [==============================] - 219s 36ms/step - loss: 0.8446 - accuracy: 0.9002 - val_loss: 0.8813 - val_accuracy: 0.8650\n",
            "Epoch 2/25\n",
            "5627/5627 [==============================] - ETA: 0s - loss: 0.8423 - accuracy: 0.9014\n",
            "Epoch 2: saving model to model_5_ckpt\n",
            "5627/5627 [==============================] - 199s 35ms/step - loss: 0.8423 - accuracy: 0.9014 - val_loss: 0.8808 - val_accuracy: 0.8657\n",
            "Epoch 3/25\n",
            "5627/5627 [==============================] - ETA: 0s - loss: 0.8413 - accuracy: 0.9027\n",
            "Epoch 3: saving model to model_5_ckpt\n",
            "5627/5627 [==============================] - 201s 36ms/step - loss: 0.8413 - accuracy: 0.9027 - val_loss: 0.8808 - val_accuracy: 0.8660\n",
            "Epoch 4/25\n",
            "5627/5627 [==============================] - ETA: 0s - loss: 0.8408 - accuracy: 0.9029\n",
            "Epoch 4: saving model to model_5_ckpt\n",
            "5627/5627 [==============================] - 203s 36ms/step - loss: 0.8408 - accuracy: 0.9029 - val_loss: 0.8810 - val_accuracy: 0.8657\n",
            "Epoch 5/25\n",
            "5627/5627 [==============================] - ETA: 0s - loss: 0.8403 - accuracy: 0.9031\n",
            "Epoch 5: saving model to model_5_ckpt\n",
            "5627/5627 [==============================] - 195s 35ms/step - loss: 0.8403 - accuracy: 0.9031 - val_loss: 0.8810 - val_accuracy: 0.8664\n",
            "Epoch 6/25\n",
            "5626/5627 [============================>.] - ETA: 0s - loss: 0.8399 - accuracy: 0.9028\n",
            "Epoch 6: saving model to model_5_ckpt\n",
            "5627/5627 [==============================] - 197s 35ms/step - loss: 0.8399 - accuracy: 0.9028 - val_loss: 0.8810 - val_accuracy: 0.8664\n",
            "Epoch 7/25\n",
            "5627/5627 [==============================] - ETA: 0s - loss: 0.8393 - accuracy: 0.9037\n",
            "Epoch 7: saving model to model_5_ckpt\n",
            "5627/5627 [==============================] - 200s 36ms/step - loss: 0.8393 - accuracy: 0.9037 - val_loss: 0.8808 - val_accuracy: 0.8654\n",
            "Epoch 8/25\n",
            "5626/5627 [============================>.] - ETA: 0s - loss: 0.8390 - accuracy: 0.9038\n",
            "Epoch 8: saving model to model_5_ckpt\n",
            "5627/5627 [==============================] - 200s 36ms/step - loss: 0.8390 - accuracy: 0.9038 - val_loss: 0.8809 - val_accuracy: 0.8650\n",
            "Epoch 9/25\n",
            "5626/5627 [============================>.] - ETA: 0s - loss: 0.8387 - accuracy: 0.9042\n",
            "Epoch 9: saving model to model_5_ckpt\n",
            "5627/5627 [==============================] - 197s 35ms/step - loss: 0.8387 - accuracy: 0.9042 - val_loss: 0.8812 - val_accuracy: 0.8644\n",
            "Epoch 10/25\n",
            "5627/5627 [==============================] - ETA: 0s - loss: 0.8385 - accuracy: 0.9047\n",
            "Epoch 10: saving model to model_5_ckpt\n",
            "Restoring model weights from the end of the best epoch: 7.\n",
            "5627/5627 [==============================] - 202s 36ms/step - loss: 0.8385 - accuracy: 0.9047 - val_loss: 0.8811 - val_accuracy: 0.8650\n",
            "Epoch 10: early stopping\n"
          ]
        }
      ],
      "source": [
        "history_model_5 = model_5.fit(train_ln_tl_char_token_dataset,\n",
        "                              #steps_per_epoch=int(0.1*len(train_ln_tl_char_token_dataset)),\n",
        "                              epochs=25,\n",
        "                              validation_data=val_ln_tl_char_token_dataset,\n",
        "                              validation_steps=int(0.1*len(val_ln_tl_char_token_dataset)),\n",
        "                              callbacks=[model_checkpoint,\n",
        "                                         early_stopping])"
      ]
    },
    {
      "cell_type": "code",
      "execution_count": null,
      "metadata": {
        "colab": {
          "base_uri": "https://localhost:8080/"
        },
        "id": "tNPruoCrrYAO",
        "outputId": "b0cebde1-50d9-4062-efca-af1a9e2daf75"
      },
      "outputs": [
        {
          "name": "stdout",
          "output_type": "stream",
          "text": [
            "945/945 [==============================] - 23s 24ms/step - loss: 0.8873 - accuracy: 0.8628\n",
            "Evaluation results:\n",
            " [0.8873068690299988, 0.8628028631210327]\n",
            "945/945 [==============================] - 17s 18ms/step\n",
            "Calculated Adam results:\n",
            "\n"
          ]
        },
        {
          "data": {
            "text/plain": [
              "{'accuracy': 86.28028597908116,\n",
              " 'precision': 0.8633113519609606,\n",
              " 'recall': 0.8628028597908116,\n",
              " 'f1': 0.8602664183128899}"
            ]
          },
          "execution_count": 55,
          "metadata": {},
          "output_type": "execute_result"
        }
      ],
      "source": [
        "# Adam optimizer metrics\n",
        "print(f'Evaluation results:\\n {model_5.evaluate(val_ln_tl_char_token_dataset)}')\n",
        "preds_adam = tf.argmax(model_5.predict(val_ln_tl_char_token_dataset), axis=1)\n",
        "\n",
        "from helper_functions import calculate_results\n",
        "results_adam = calculate_results(y_true=val_labels_encoded,\n",
        "                                 y_pred=preds_adam)\n",
        "\n",
        "print(f'Calculated Adam results:')\n",
        "results_adam"
      ]
    },
    {
      "cell_type": "code",
      "execution_count": null,
      "metadata": {
        "colab": {
          "base_uri": "https://localhost:8080/"
        },
        "id": "AV6J55BFj9wh",
        "outputId": "503ed154-51fb-4c2d-c3e7-a54feaef437d"
      },
      "outputs": [
        {
          "name": "stdout",
          "output_type": "stream",
          "text": [
            "945/945 [==============================] - 21s 23ms/step - loss: 0.8829 - accuracy: 0.8647\n",
            "Evaluation results:\n",
            " [0.8829268217086792, 0.8646564483642578]\n",
            "945/945 [==============================] - 23s 21ms/step\n",
            "Calculated Adam results:\n"
          ]
        },
        {
          "data": {
            "text/plain": [
              "{'accuracy': 86.465642790944,\n",
              " 'precision': 0.8654445177131733,\n",
              " 'recall': 0.86465642790944,\n",
              " 'f1': 0.8619575645166653}"
            ]
          },
          "execution_count": 58,
          "metadata": {},
          "output_type": "execute_result"
        }
      ],
      "source": [
        "# SGD optimizer metrics\n",
        "print(f'Evaluation results:\\n {model_5.evaluate(val_ln_tl_char_token_dataset)}')\n",
        "preds_sgd = tf.argmax(model_5.predict(val_ln_tl_char_token_dataset), axis=1)\n",
        "\n",
        "from helper_functions import calculate_results\n",
        "results_sgd = calculate_results(y_true=val_labels_encoded,\n",
        "                                 y_pred=preds_sgd)\n",
        "\n",
        "print(f'Calculated SGD results:')\n",
        "results_sgd"
      ]
    },
    {
      "cell_type": "code",
      "execution_count": null,
      "metadata": {
        "id": "bWiZk7jJvy1-"
      },
      "outputs": [],
      "source": [
        "# Saving the model for further use \n",
        "save_path = \"/content/drive/MyDrive/tensorflow/models/09_exercise\"\n",
        "# model_5.save(save_path)"
      ]
    },
    {
      "cell_type": "code",
      "execution_count": null,
      "metadata": {
        "colab": {
          "base_uri": "https://localhost:8080/"
        },
        "id": "egCScxSxxc67",
        "outputId": "93d0f0e2-becf-4223-f6d9-5b8f94b5cf38"
      },
      "outputs": [
        {
          "name": "stdout",
          "output_type": "stream",
          "text": [
            "945/945 [==============================] - 29s 21ms/step - loss: 0.8829 - accuracy: 0.8647\n"
          ]
        },
        {
          "data": {
            "text/plain": [
              "[0.8829268217086792, 0.8646564483642578]"
            ]
          },
          "execution_count": 52,
          "metadata": {},
          "output_type": "execute_result"
        }
      ],
      "source": [
        "# Load model\n",
        "import tensorflow as tf\n",
        "model_loaded = tf.keras.models.load_model(save_path)\n",
        "model_loaded.evaluate(val_ln_tl_char_token_dataset)"
      ]
    },
    {
      "cell_type": "markdown",
      "metadata": {
        "id": "SqpDKsd50OF-"
      },
      "source": [
        "### Conclusion - exercise 1\n",
        "The model was basically copied from the notebook with some tweaks on data processing side. Training was handled on the whole RCT 20k dataset with both `Adam` and `SGD` optimizers. \n",
        "\n",
        "Final results were comparable with a slight advantage for `SGD` however performace of both is very good and beats the paper nevetheless. "
      ]
    },
    {
      "cell_type": "markdown",
      "metadata": {
        "id": "YTNiVBHIyHJs"
      },
      "source": [
        "## Exercise 2\n",
        "Check out the *Keras guide on using pretrainged GloVe \n",
        "embeddings*. Can you get this working in one of our models?\n",
        "\n",
        "Source: https://keras.io/examples/nlp/pretrained_word_embeddings/"
      ]
    },
    {
      "cell_type": "markdown",
      "metadata": {
        "id": "09u1v7GzYXf-"
      },
      "source": [
        "### Download the GloVe embeddings"
      ]
    },
    {
      "cell_type": "code",
      "execution_count": null,
      "metadata": {
        "colab": {
          "base_uri": "https://localhost:8080/"
        },
        "id": "4Y2vrNibOrw4",
        "outputId": "4d15b020-b6b8-4822-e988-2c9750af082a"
      },
      "outputs": [
        {
          "name": "stdout",
          "output_type": "stream",
          "text": [
            "--2023-05-06 11:42:01--  http://nlp.stanford.edu/data/glove.6B.zip\n",
            "Resolving nlp.stanford.edu (nlp.stanford.edu)... 171.64.67.140\n",
            "Connecting to nlp.stanford.edu (nlp.stanford.edu)|171.64.67.140|:80... connected.\n",
            "HTTP request sent, awaiting response... 302 Found\n",
            "Location: https://nlp.stanford.edu/data/glove.6B.zip [following]\n",
            "--2023-05-06 11:42:01--  https://nlp.stanford.edu/data/glove.6B.zip\n",
            "Connecting to nlp.stanford.edu (nlp.stanford.edu)|171.64.67.140|:443... connected.\n",
            "HTTP request sent, awaiting response... 301 Moved Permanently\n",
            "Location: https://downloads.cs.stanford.edu/nlp/data/glove.6B.zip [following]\n",
            "--2023-05-06 11:42:01--  https://downloads.cs.stanford.edu/nlp/data/glove.6B.zip\n",
            "Resolving downloads.cs.stanford.edu (downloads.cs.stanford.edu)... 171.64.64.22\n",
            "Connecting to downloads.cs.stanford.edu (downloads.cs.stanford.edu)|171.64.64.22|:443... connected.\n",
            "HTTP request sent, awaiting response... 200 OK\n",
            "Length: 862182613 (822M) [application/zip]\n",
            "Saving to: ‘glove.6B.zip’\n",
            "\n",
            "glove.6B.zip        100%[===================>] 822.24M  5.02MB/s    in 2m 39s  \n",
            "\n",
            "2023-05-06 11:44:40 (5.18 MB/s) - ‘glove.6B.zip’ saved [862182613/862182613]\n",
            "\n"
          ]
        }
      ],
      "source": [
        "# Get the GloVe embeddings into Colab\n",
        "!wget http://nlp.stanford.edu/data/glove.6B.zip\n",
        "!unzip -q glove.6B.zip"
      ]
    },
    {
      "cell_type": "code",
      "execution_count": null,
      "metadata": {
        "colab": {
          "base_uri": "https://localhost:8080/"
        },
        "id": "e6QA9bFNVI5q",
        "outputId": "7f401422-e053-413a-d699-ae7105c4ac0c"
      },
      "outputs": [
        {
          "data": {
            "text/plain": [
              "['to investigate the efficacy of @ weeks of daily low-dose oral prednisolone in improving pain , mobility , and systemic low-grade inflammation in the short term and whether the effect would be sustained at @ weeks in older adults with moderate to severe knee osteoarthritis ( oa ) .',\n",
              " 'a total of @ patients with primary knee oa were randomized @:@ ; @ received @ mg/day of prednisolone and @ received placebo for @ weeks .',\n",
              " 'outcome measures included pain reduction and improvement in function scores and systemic inflammation markers .',\n",
              " 'pain was assessed using the visual analog pain scale ( @-@ mm ) .',\n",
              " 'secondary outcome measures included the western ontario and mcmaster universities osteoarthritis index scores , patient global assessment ( pga ) of the severity of knee oa , and @-min walk distance ( @mwd ) .']"
            ]
          },
          "execution_count": 54,
          "metadata": {},
          "output_type": "execute_result"
        }
      ],
      "source": [
        "# Look at the data\n",
        "train_sentences[:5]"
      ]
    },
    {
      "cell_type": "markdown",
      "metadata": {
        "id": "mRWTe1f3ow57"
      },
      "source": [
        "### Basic text metrics for test sentences"
      ]
    },
    {
      "cell_type": "code",
      "execution_count": null,
      "metadata": {
        "colab": {
          "base_uri": "https://localhost:8080/"
        },
        "id": "wuGlPnalVNOv",
        "outputId": "83518246-bcca-4e20-f814-7a9b05033748"
      },
      "outputs": [
        {
          "data": {
            "text/plain": [
              "49.0"
            ]
          },
          "execution_count": 55,
          "metadata": {},
          "output_type": "execute_result"
        }
      ],
      "source": [
        "# Get basic metrics - average sentence length \n",
        "np.mean(len(train_sentences[0].split()))"
      ]
    },
    {
      "cell_type": "code",
      "execution_count": null,
      "metadata": {
        "id": "OULinxG3VveI"
      },
      "outputs": [],
      "source": [
        "# Average sentence length in whole set\n",
        "avg_sent_len = [len(sentence.split()) for sentence in train_sentences]"
      ]
    },
    {
      "cell_type": "code",
      "execution_count": null,
      "metadata": {
        "colab": {
          "base_uri": "https://localhost:8080/"
        },
        "id": "cxzZqBO5WwUo",
        "outputId": "8a8ccf55-8d4b-4832-c1cc-c4b8726b3fc5"
      },
      "outputs": [
        {
          "data": {
            "text/plain": [
              "68"
            ]
          },
          "execution_count": 57,
          "metadata": {},
          "output_type": "execute_result"
        }
      ],
      "source": [
        "# Check the percentile \n",
        "output_sent_len = int(np.percentile(avg_sent_len, 98))\n",
        "output_sent_len"
      ]
    },
    {
      "cell_type": "markdown",
      "metadata": {
        "id": "X1ez5vi2o8Rm"
      },
      "source": [
        "### `TextVectorizer` instance"
      ]
    },
    {
      "cell_type": "code",
      "execution_count": null,
      "metadata": {
        "colab": {
          "base_uri": "https://localhost:8080/"
        },
        "id": "yS2Ff1s6SCPt",
        "outputId": "5bc38a70-02e6-475d-b626-bcd7caab372c"
      },
      "outputs": [
        {
          "data": {
            "text/plain": [
              "['', '[UNK]', 'the', 'and', 'of']"
            ]
          },
          "execution_count": 58,
          "metadata": {},
          "output_type": "execute_result"
        }
      ],
      "source": [
        "# Create the TextVectorization layer\n",
        "from tensorflow.keras.layers import TextVectorization\n",
        "\n",
        "text_vectorizer = TextVectorization(max_tokens=20000, # going with 20k as per tutorial, with 33k there were 12k missing words\n",
        "                                    output_sequence_length=output_sent_len)\n",
        "text_ds = train_sentences\n",
        "text_vectorizer.adapt(text_ds)\n",
        "text_vectorizer.get_vocabulary()[:5]"
      ]
    },
    {
      "cell_type": "code",
      "execution_count": null,
      "metadata": {
        "colab": {
          "base_uri": "https://localhost:8080/"
        },
        "id": "PGKROkMi_lZO",
        "outputId": "c3b6513b-8196-411c-b21b-f45f696a67c2"
      },
      "outputs": [
        {
          "data": {
            "text/plain": [
              "<tf.Tensor: shape=(1, 68), dtype=int64, numpy=\n",
              "array([[    2,  4498,  8370,    18,     2, 12001,     0,     0,     0,\n",
              "            0,     0,     0,     0,     0,     0,     0,     0,     0,\n",
              "            0,     0,     0,     0,     0,     0,     0,     0,     0,\n",
              "            0,     0,     0,     0,     0,     0,     0,     0,     0,\n",
              "            0,     0,     0,     0,     0,     0,     0,     0,     0,\n",
              "            0,     0,     0,     0,     0,     0,     0,     0,     0,\n",
              "            0,     0,     0,     0,     0,     0,     0,     0,     0,\n",
              "            0,     0,     0,     0,     0]])>"
            ]
          },
          "execution_count": 59,
          "metadata": {},
          "output_type": "execute_result"
        }
      ],
      "source": [
        "# Test the vectorizer\n",
        "output = text_vectorizer(['the cat sat on the mat'])\n",
        "output"
      ]
    },
    {
      "cell_type": "code",
      "execution_count": null,
      "metadata": {
        "colab": {
          "base_uri": "https://localhost:8080/"
        },
        "id": "sznHfthc_0wy",
        "outputId": "49572862-0bbb-4119-e8b4-2a1d91f3731b"
      },
      "outputs": [
        {
          "data": {
            "text/plain": [
              "[2, 4498, 8370, 18, 2, 12001]"
            ]
          },
          "execution_count": 60,
          "metadata": {},
          "output_type": "execute_result"
        }
      ],
      "source": [
        "# Check the encoding\n",
        "vocab = text_vectorizer.get_vocabulary()\n",
        "word_index = dict(zip(vocab, range(len(vocab))))\n",
        "test = ['the', 'cat', 'sat', 'on', 'the', 'mat']\n",
        "[word_index[w] for w in test]"
      ]
    },
    {
      "cell_type": "markdown",
      "metadata": {
        "id": "hnJc_Su_pDX6"
      },
      "source": [
        "### Matching downloaded embeddigns with vocabulary from test dataset"
      ]
    },
    {
      "cell_type": "code",
      "execution_count": null,
      "metadata": {
        "colab": {
          "base_uri": "https://localhost:8080/"
        },
        "id": "_Gz9FcsABCUd",
        "outputId": "bf0d7353-0ab1-4b64-f55e-c375f3930650"
      },
      "outputs": [
        {
          "name": "stdout",
          "output_type": "stream",
          "text": [
            "Found 400000 word vectors\n"
          ]
        }
      ],
      "source": [
        "# Creating dict mapping words to their NumPy vector representation\n",
        "path_to_glove_file = os.path.join(os.path.expanduser('~'), \n",
        "                                  \"/content/glove.6B.200d.txt\") # using 200-dimensional version\n",
        "\n",
        "embeddings_index = {}\n",
        "\n",
        "with open(path_to_glove_file) as f:\n",
        "  for line in f:\n",
        "    word, coefs = line.split(maxsplit=1)\n",
        "    coefs = np.fromstring(string=coefs, \n",
        "                          dtype='f', \n",
        "                          sep=' ')\n",
        "    embeddings_index[word] = coefs\n",
        "\n",
        "print(f\"Found {len(embeddings_index)} word vectors\")"
      ]
    },
    {
      "cell_type": "code",
      "execution_count": null,
      "metadata": {
        "colab": {
          "base_uri": "https://localhost:8080/"
        },
        "id": "WlBuwsXIBxKL",
        "outputId": "12eb46d4-9681-4da4-b2ad-b76e69360e07"
      },
      "outputs": [
        {
          "name": "stdout",
          "output_type": "stream",
          "text": [
            "Converted 14778 words with 5222 misses.\n"
          ]
        }
      ],
      "source": [
        "# Preparing embedding matrix to be used with Keras Embedding layer\n",
        "\n",
        "# It's a NumPy matrix where entry at index is is the pre-trained vector \n",
        "# for the word of index i in vectorizers vocabulary\n",
        "\n",
        "num_tokens = len(vocab) + 2 # 'OOV' and [UNK]?\n",
        "embedding_dim = 200 # as per file name\n",
        "hits = 0\n",
        "misses = 0\n",
        "\n",
        "# Preparing embedding matrix\n",
        "embedding_matrix = np.zeros((num_tokens, embedding_dim))\n",
        "for word, i in word_index.items():\n",
        "  embedding_vector = embeddings_index.get(word)\n",
        "  if embedding_vector is not None:\n",
        "    # Words not found will all be zeroes\n",
        "    # Includes padding and OOVs\n",
        "    embedding_matrix[i] = embedding_vector\n",
        "    hits += 1\n",
        "  else:\n",
        "    misses += 1\n",
        "\n",
        "print(f\"Converted {hits} words with {misses} misses.\")"
      ]
    },
    {
      "cell_type": "code",
      "execution_count": null,
      "metadata": {
        "colab": {
          "base_uri": "https://localhost:8080/"
        },
        "id": "nDUoOXemDvoe",
        "outputId": "43dd64f0-37f0-4a93-fa85-3aa0c34ac52a"
      },
      "outputs": [
        {
          "data": {
            "text/plain": [
              "<keras.layers.core.embedding.Embedding at 0x7f8f12fe3bb0>"
            ]
          },
          "execution_count": 63,
          "metadata": {},
          "output_type": "execute_result"
        }
      ],
      "source": [
        "# Build the layer itself\n",
        "from tensorflow.keras.layers import Embedding\n",
        "\n",
        "glove_embeddings = Embedding(\n",
        "    input_dim=num_tokens,\n",
        "    output_dim=embedding_dim,\n",
        "    embeddings_initializer=tf.keras.initializers.Constant(embedding_matrix),\n",
        "    trainable=False,\n",
        "    name='glove_embeddings'\n",
        ")\n",
        "\n",
        "glove_embeddings"
      ]
    },
    {
      "cell_type": "markdown",
      "metadata": {
        "id": "RecoRObypPyF"
      },
      "source": [
        "### Reusing `model_5` with new token embeddings GloVe layer"
      ]
    },
    {
      "cell_type": "code",
      "execution_count": null,
      "metadata": {
        "colab": {
          "base_uri": "https://localhost:8080/"
        },
        "id": "9i4DmWrwEHaM",
        "outputId": "0bf82621-56b3-4716-ca8e-e09593b6847f"
      },
      "outputs": [
        {
          "name": "stdout",
          "output_type": "stream",
          "text": [
            "Model: \"triple_embedding_model\"\n",
            "__________________________________________________________________________________________________\n",
            " Layer (type)                   Output Shape         Param #     Connected to                     \n",
            "==================================================================================================\n",
            " token_inputs (InputLayer)      [(None,)]            0           []                               \n",
            "                                                                                                  \n",
            " char_inputs (InputLayer)       [(None, 1)]          0           []                               \n",
            "                                                                                                  \n",
            " text_vectorization (TextVector  (None, 68)          0           ['token_inputs[0][0]']           \n",
            " ization)                                                                                         \n",
            "                                                                                                  \n",
            " char_vectorizer (TextVectoriza  (None, 290)         0           ['char_inputs[0][0]']            \n",
            " tion)                                                                                            \n",
            "                                                                                                  \n",
            " glove_embeddings (Embedding)   (None, 68, 200)      4000400     ['text_vectorization[0][0]']     \n",
            "                                                                                                  \n",
            " char_embed (Embedding)         (None, 290, 25)      1425        ['char_vectorizer[1][0]']        \n",
            "                                                                                                  \n",
            " global_max_pooling1d (GlobalMa  (None, 200)         0           ['glove_embeddings[0][0]']       \n",
            " xPooling1D)                                                                                      \n",
            "                                                                                                  \n",
            " bidirectional_1 (Bidirectional  (None, 48)          9600        ['char_embed[1][0]']             \n",
            " )                                                                                                \n",
            "                                                                                                  \n",
            " dense_4 (Dense)                (None, 128)          25728       ['global_max_pooling1d[0][0]']   \n",
            "                                                                                                  \n",
            " char_token_embedding (Concaten  (None, 176)         0           ['bidirectional_1[0][0]',        \n",
            " ate)                                                             'dense_4[0][0]']                \n",
            "                                                                                                  \n",
            " line_number_input (InputLayer)  [(None, 15)]        0           []                               \n",
            "                                                                                                  \n",
            " total_lines_input (InputLayer)  [(None, 20)]        0           []                               \n",
            "                                                                                                  \n",
            " dense_7 (Dense)                (None, 256)          45312       ['char_token_embedding[0][0]']   \n",
            "                                                                                                  \n",
            " dense_5 (Dense)                (None, 32)           512         ['line_number_input[0][0]']      \n",
            "                                                                                                  \n",
            " dense_6 (Dense)                (None, 32)           672         ['total_lines_input[0][0]']      \n",
            "                                                                                                  \n",
            " dropout_1 (Dropout)            (None, 256)          0           ['dense_7[0][0]']                \n",
            "                                                                                                  \n",
            " triple_embedding (Concatenate)  (None, 320)         0           ['dense_5[0][0]',                \n",
            "                                                                  'dense_6[0][0]',                \n",
            "                                                                  'dropout_1[0][0]']              \n",
            "                                                                                                  \n",
            " output_layer (Dense)           (None, 5)            1605        ['triple_embedding[0][0]']       \n",
            "                                                                                                  \n",
            "==================================================================================================\n",
            "Total params: 4,085,254\n",
            "Trainable params: 84,854\n",
            "Non-trainable params: 4,000,400\n",
            "__________________________________________________________________________________________________\n"
          ]
        }
      ],
      "source": [
        "# Use the earlier created model with new embeddings created\n",
        "\n",
        "# 1. Token inputs\n",
        "token_inputs = tf.keras.layers.Input(shape=[], dtype=tf.string, name='token_inputs')\n",
        "token_vectorizer = text_vectorizer(token_inputs) # needs to be added\n",
        "token_embeddings = glove_embeddings(token_vectorizer) # here's the change\n",
        "max_pooling = tf.keras.layers.GlobalMaxPooling1D()(token_embeddings) # also needs to be added to reduce dimensiality\n",
        "token_outputs = tf.keras.layers.Dense(128, activation='relu')(max_pooling)\n",
        "token_model = tf.keras.Model(inputs=token_inputs,\n",
        "                             outputs=token_outputs)\n",
        "\n",
        "# 2. Char inputs\n",
        "char_inputs = tf.keras.layers.Input(shape=(1,), dtype=tf.string, name='char_inputs')\n",
        "char_vectors = char_vectorizer(char_inputs)\n",
        "char_embeddings = char_embed(char_vectors)\n",
        "char_bi_lstm = tf.keras.layers.Bidirectional(tf.keras.layers.LSTM(24))(char_embeddings)\n",
        "char_model = tf.keras.Model(inputs=char_inputs,\n",
        "                            outputs=char_bi_lstm)\n",
        "\n",
        "# 3. Line number inputs\n",
        "line_number_inputs = tf.keras.layers.Input(shape=(15,), dtype=tf.float32, name='line_number_input')\n",
        "line_number_outputs = tf.keras.layers.Dense(32, activation='relu')(line_number_inputs)\n",
        "line_number_model = tf.keras.Model(inputs=line_number_inputs,\n",
        "                                   outputs=line_number_outputs)\n",
        "\n",
        "# 4. Total lines inputs\n",
        "total_lines_inputs = tf.keras.layers.Input(shape=(20,), dtype=tf.float32, name='total_lines_input')\n",
        "total_lines_outputs = tf.keras.layers.Dense(32, activation='relu')(total_lines_inputs)\n",
        "total_lines_model = tf.keras.Model(inputs=total_lines_inputs,\n",
        "                                   outputs=total_lines_outputs)\n",
        "\n",
        "# 5. Combine token and char embeddings into a hybrid embedding\n",
        "combined_embeddings = tf.keras.layers.Concatenate(name='char_token_embedding')([char_model.output,\n",
        "                                                                                token_model.output])\n",
        "combined_dense = tf.keras.layers.Dense(256, activation='relu')(combined_embeddings)\n",
        "combined_dropout = tf.keras.layers.Dropout(0.5)(combined_dense)\n",
        "\n",
        "# 6. Triple embedding with line number, total lines and combined char&token embeddings\n",
        "triple_embedding = tf.keras.layers.Concatenate(name='triple_embedding')([line_number_model.output,\n",
        "                                                                         total_lines_model.output,\n",
        "                                                                         combined_dropout])\n",
        "\n",
        "# 7. Create the final output layer\n",
        "output_layer = tf.keras.layers.Dense(5, activation='softmax', name='output_layer')(triple_embedding)\n",
        "\n",
        "# 8. Put the model together\n",
        "model_5_glove = tf.keras.Model(\n",
        "    inputs=[line_number_model.input,\n",
        "            total_lines_model.input,\n",
        "            char_model.input,\n",
        "            token_model.input],\n",
        "    outputs=output_layer,\n",
        "    name='triple_embedding_model')\n",
        "\n",
        "# Create a summary\n",
        "model_5_glove.summary()"
      ]
    },
    {
      "cell_type": "code",
      "execution_count": null,
      "metadata": {
        "id": "ptgvnNcqEuEy"
      },
      "outputs": [],
      "source": [
        "# Compile the model\n",
        "model_5_glove.compile(loss=tf.keras.losses.CategoricalCrossentropy(label_smoothing=0.2),\n",
        "                      optimizer=tf.keras.optimizers.Adam(),\n",
        "                      metrics=['accuracy'])"
      ]
    },
    {
      "cell_type": "code",
      "execution_count": null,
      "metadata": {
        "colab": {
          "base_uri": "https://localhost:8080/"
        },
        "id": "x-UODUk_F28E",
        "outputId": "3556ccc5-39b3-4770-82f1-9308c9815208"
      },
      "outputs": [
        {
          "name": "stdout",
          "output_type": "stream",
          "text": [
            "Epoch 1/30\n",
            "5627/5627 [==============================] - 206s 35ms/step - loss: 0.9547 - accuracy: 0.8241 - val_loss: 0.9401 - val_accuracy: 0.8315\n",
            "Epoch 2/30\n",
            "5627/5627 [==============================] - 189s 34ms/step - loss: 0.9409 - accuracy: 0.8346 - val_loss: 0.9345 - val_accuracy: 0.8377\n",
            "Epoch 3/30\n",
            "5627/5627 [==============================] - 204s 36ms/step - loss: 0.9308 - accuracy: 0.8414 - val_loss: 0.9214 - val_accuracy: 0.8487\n",
            "Epoch 4/30\n",
            "5627/5627 [==============================] - 181s 32ms/step - loss: 0.9240 - accuracy: 0.8463 - val_loss: 0.9166 - val_accuracy: 0.8507\n",
            "Epoch 5/30\n",
            "5627/5627 [==============================] - 174s 31ms/step - loss: 0.9235 - accuracy: 0.8464 - val_loss: 0.9152 - val_accuracy: 0.8492\n",
            "Epoch 6/30\n",
            "5627/5627 [==============================] - 191s 34ms/step - loss: 0.9145 - accuracy: 0.8525 - val_loss: 0.9050 - val_accuracy: 0.8582\n",
            "Epoch 7/30\n",
            "5627/5627 [==============================] - 199s 35ms/step - loss: 0.9101 - accuracy: 0.8559 - val_loss: 0.9063 - val_accuracy: 0.8551\n",
            "Epoch 8/30\n",
            "5627/5627 [==============================] - 186s 33ms/step - loss: 0.9048 - accuracy: 0.8587 - val_loss: 0.9027 - val_accuracy: 0.8583\n",
            "Epoch 9/30\n",
            "5627/5627 [==============================] - 227s 40ms/step - loss: 0.9011 - accuracy: 0.8615 - val_loss: 0.8992 - val_accuracy: 0.8592\n",
            "Epoch 10/30\n",
            "5627/5627 [==============================] - 175s 31ms/step - loss: 0.8976 - accuracy: 0.8637 - val_loss: 0.8982 - val_accuracy: 0.8585\n",
            "Epoch 11/30\n",
            "5627/5627 [==============================] - 197s 35ms/step - loss: 0.8950 - accuracy: 0.8656 - val_loss: 0.8987 - val_accuracy: 0.8574\n",
            "Epoch 12/30\n",
            "5627/5627 [==============================] - 169s 30ms/step - loss: 0.8929 - accuracy: 0.8666 - val_loss: 0.8943 - val_accuracy: 0.8614\n",
            "Epoch 13/30\n",
            "5627/5627 [==============================] - 171s 30ms/step - loss: 0.8904 - accuracy: 0.8684 - val_loss: 0.8919 - val_accuracy: 0.8628\n",
            "Epoch 14/30\n",
            "5627/5627 [==============================] - 176s 31ms/step - loss: 0.8885 - accuracy: 0.8694 - val_loss: 0.8935 - val_accuracy: 0.8595\n",
            "Epoch 15/30\n",
            "5627/5627 [==============================] - 187s 33ms/step - loss: 0.8861 - accuracy: 0.8715 - val_loss: 0.8885 - val_accuracy: 0.8620\n",
            "Epoch 16/30\n",
            "5627/5627 [==============================] - 192s 34ms/step - loss: 0.8843 - accuracy: 0.8719 - val_loss: 0.8933 - val_accuracy: 0.8592\n",
            "Epoch 17/30\n",
            "5627/5627 [==============================] - 189s 34ms/step - loss: 0.8832 - accuracy: 0.8727 - val_loss: 0.8923 - val_accuracy: 0.8613\n",
            "Epoch 18/30\n",
            "5626/5627 [============================>.] - ETA: 0s - loss: 0.8813 - accuracy: 0.8742Restoring model weights from the end of the best epoch: 15.\n",
            "5627/5627 [==============================] - 188s 33ms/step - loss: 0.8813 - accuracy: 0.8742 - val_loss: 0.8889 - val_accuracy: 0.8630\n",
            "Epoch 18: early stopping\n"
          ]
        }
      ],
      "source": [
        "# Fit the model and compare the results\n",
        "history_model_5_glove = model_5_glove.fit(\n",
        "    train_ln_tl_char_token_dataset,\n",
        "    #steps_per_epoch=int(0.05*len(train_ln_tl_char_token_dataset)),\n",
        "    epochs=30,\n",
        "    validation_data=val_ln_tl_char_token_dataset,\n",
        "    validation_steps=int(0.1*len(val_ln_tl_char_token_dataset)),\n",
        "    callbacks=[early_stopping])"
      ]
    },
    {
      "cell_type": "code",
      "execution_count": null,
      "metadata": {
        "colab": {
          "base_uri": "https://localhost:8080/"
        },
        "id": "RSfufK_DKHcD",
        "outputId": "915ea370-eb16-451b-80e6-b41690a47cb7"
      },
      "outputs": [
        {
          "name": "stdout",
          "output_type": "stream",
          "text": [
            "945/945 [==============================] - 13s 14ms/step - loss: 0.8885 - accuracy: 0.8620\n",
            "Evaluation results:\n",
            " [0.8884706497192383, 0.8620084524154663]\n",
            "945/945 [==============================] - 22s 20ms/step\n",
            "Calculated GloVe results:\n"
          ]
        },
        {
          "data": {
            "text/plain": [
              "{'accuracy': 18.042499669005693,\n",
              " 'precision': 0.1997230468097904,\n",
              " 'recall': 0.18042499669005693,\n",
              " 'f1': 0.14978855295011526}"
            ]
          },
          "execution_count": 69,
          "metadata": {},
          "output_type": "execute_result"
        }
      ],
      "source": [
        "# GloVe embeddings results\n",
        "from helper_functions import calculate_results\n",
        "print(f'Evaluation results:\\n {model_5_glove.evaluate(val_ln_tl_char_token_dataset)}')\n",
        "preds_glove = tf.argmax(model_5.predict(val_ln_tl_char_token_dataset), axis=1)\n",
        "results_glove = calculate_results(y_true=val_labels_encoded,\n",
        "                                  y_pred=preds_glove)\n",
        "print(f'Calculated GloVe results:')\n",
        "results_glove"
      ]
    },
    {
      "cell_type": "markdown",
      "metadata": {
        "id": "QNShC9AS56r8"
      },
      "source": [
        "### Conclusion - exercise 2\n",
        "The usage of GloVe embeddings gave quite similar results to the Universal Sentence Encoder however the USE model way was quicker to train with 8-10 epochs compared to almost 20 epochs for GloVe.\n",
        "\n",
        "The `model_5_glove` has some potential to score even better results with fine-tuning the model, however it's not the case for this exercise.\n",
        "\n",
        "Unfortunately, I'm not quite sure what happened to the `calculate_results` function as it does produce some weird results. This may be a case to check later on...\n"
      ]
    },
    {
      "cell_type": "markdown",
      "metadata": {
        "id": "FIwOTNeGKmXC"
      },
      "source": [
        "## Exercise 3\n",
        "Try replacing Universal Sentence Encoder pretrained embeddings for the *TensorFlow Hub BERT PubMed* expert pretrained embeddings. Does the affect the final results?\n",
        "\n",
        "**NOTE:** Using BERT requires an extra preprocesing step for sequences as detailed in the guide: https://tfhub.dev/google/experts/bert/pubmed/2\n",
        "\n",
        "Does BERT beat the results from the paper we're competing with?"
      ]
    },
    {
      "cell_type": "code",
      "execution_count": 51,
      "metadata": {
        "id": "14OB8Uu8PYqf"
      },
      "outputs": [],
      "source": [
        "!pip3 install --quiet tensorflow_text"
      ]
    },
    {
      "cell_type": "code",
      "execution_count": 52,
      "metadata": {
        "id": "dw_eYXgc67MU"
      },
      "outputs": [],
      "source": [
        "# Imports\n",
        "import numpy as np\n",
        "import tensorflow as tf\n",
        "import tensorflow_hub as hub\n",
        "import tensorflow_text as text"
      ]
    },
    {
      "cell_type": "code",
      "execution_count": 53,
      "metadata": {
        "id": "m5xZM7hY9vjx"
      },
      "outputs": [],
      "source": [
        "# Load the BERT encoder and preprocessing models\n",
        "bert_preprocess = hub.KerasLayer(\"https://tfhub.dev/tensorflow/bert_en_uncased_preprocess/3\")\n",
        "bert = hub.KerasLayer(\"https://tfhub.dev/google/experts/bert/pubmed/2\", trainable=False)"
      ]
    },
    {
      "cell_type": "code",
      "execution_count": 54,
      "metadata": {
        "colab": {
          "base_uri": "https://localhost:8080/"
        },
        "id": "gCtUTCg8-ZNQ",
        "outputId": "e44a5ab7-5a95-48de-b988-4ff2b47abf60"
      },
      "outputs": [
        {
          "output_type": "stream",
          "name": "stdout",
          "text": [
            "Model: \"triple_embedding_model\"\n",
            "__________________________________________________________________________________________________\n",
            " Layer (type)                   Output Shape         Param #     Connected to                     \n",
            "==================================================================================================\n",
            " token_inputs (InputLayer)      [(None,)]            0           []                               \n",
            "                                                                                                  \n",
            " char_inputs (InputLayer)       [(None, 1)]          0           []                               \n",
            "                                                                                                  \n",
            " keras_layer (KerasLayer)       {'input_type_ids':   0           ['token_inputs[0][0]']           \n",
            "                                (None, 128),                                                      \n",
            "                                 'input_word_ids':                                                \n",
            "                                (None, 128),                                                      \n",
            "                                 'input_mask': (Non                                               \n",
            "                                e, 128)}                                                          \n",
            "                                                                                                  \n",
            " char_vectorizer (TextVectoriza  (None, 290)         0           ['char_inputs[0][0]']            \n",
            " tion)                                                                                            \n",
            "                                                                                                  \n",
            " keras_layer_1 (KerasLayer)     {'sequence_output':  109482241   ['keras_layer[0][0]',            \n",
            "                                 (None, 128, 768),                'keras_layer[0][1]',            \n",
            "                                 'pooled_output': (               'keras_layer[0][2]']            \n",
            "                                None, 768),                                                       \n",
            "                                 'default': (None,                                                \n",
            "                                768),                                                             \n",
            "                                 'encoder_outputs':                                               \n",
            "                                 [(None, 128, 768),                                               \n",
            "                                 (None, 128, 768),                                                \n",
            "                                 (None, 128, 768),                                                \n",
            "                                 (None, 128, 768),                                                \n",
            "                                 (None, 128, 768),                                                \n",
            "                                 (None, 128, 768),                                                \n",
            "                                 (None, 128, 768),                                                \n",
            "                                 (None, 128, 768),                                                \n",
            "                                 (None, 128, 768),                                                \n",
            "                                 (None, 128, 768),                                                \n",
            "                                 (None, 128, 768),                                                \n",
            "                                 (None, 128, 768)]}                                               \n",
            "                                                                                                  \n",
            " char_embed (Embedding)         (None, 290, 25)      1425        ['char_vectorizer[1][0]']        \n",
            "                                                                                                  \n",
            " dense_4 (Dense)                (None, 128, 128)     98432       ['keras_layer_1[0][14]']         \n",
            "                                                                                                  \n",
            " bidirectional_1 (Bidirectional  (None, 48)          9600        ['char_embed[1][0]']             \n",
            " )                                                                                                \n",
            "                                                                                                  \n",
            " global_max_pooling1d (GlobalMa  (None, 128)         0           ['dense_4[0][0]']                \n",
            " xPooling1D)                                                                                      \n",
            "                                                                                                  \n",
            " char_token_embedding (Concaten  (None, 176)         0           ['bidirectional_1[0][0]',        \n",
            " ate)                                                             'global_max_pooling1d[0][0]']   \n",
            "                                                                                                  \n",
            " line_number_input (InputLayer)  [(None, 15)]        0           []                               \n",
            "                                                                                                  \n",
            " total_lines_input (InputLayer)  [(None, 20)]        0           []                               \n",
            "                                                                                                  \n",
            " dense_7 (Dense)                (None, 256)          45312       ['char_token_embedding[0][0]']   \n",
            "                                                                                                  \n",
            " dense_5 (Dense)                (None, 32)           512         ['line_number_input[0][0]']      \n",
            "                                                                                                  \n",
            " dense_6 (Dense)                (None, 32)           672         ['total_lines_input[0][0]']      \n",
            "                                                                                                  \n",
            " dropout_1 (Dropout)            (None, 256)          0           ['dense_7[0][0]']                \n",
            "                                                                                                  \n",
            " triple_embedding (Concatenate)  (None, 320)         0           ['dense_5[0][0]',                \n",
            "                                                                  'dense_6[0][0]',                \n",
            "                                                                  'dropout_1[0][0]']              \n",
            "                                                                                                  \n",
            " output_layer (Dense)           (None, 5)            1605        ['triple_embedding[0][0]']       \n",
            "                                                                                                  \n",
            "==================================================================================================\n",
            "Total params: 109,639,799\n",
            "Trainable params: 157,558\n",
            "Non-trainable params: 109,482,241\n",
            "__________________________________________________________________________________________________\n"
          ]
        }
      ],
      "source": [
        "from keras.layers import GlobalMaxPool1D\n",
        "# Use BERT in model_5 architecture\n",
        "\n",
        "# 1. Token inputs\n",
        "token_inputs = tf.keras.layers.Input(shape=[], dtype=tf.string, name='token_inputs')\n",
        "bert_inputs = bert_preprocess(token_inputs)\n",
        "bert_outputs = bert(bert_inputs, training=False)\n",
        "#pooled_output = bert_outputs['pooled_output']\n",
        "#sequence_output = bert_outputs['sequence_output']\n",
        "token_outputs = tf.keras.layers.Dense(128, activation='relu')(bert_outputs['sequence_output'])\n",
        "max_pooling = GlobalMaxPool1D()(token_outputs)\n",
        "token_model = tf.keras.Model(inputs=token_inputs,\n",
        "                             outputs=max_pooling)\n",
        "\n",
        "# 2. Char inputs\n",
        "char_inputs = tf.keras.layers.Input(shape=(1,), dtype=tf.string, name='char_inputs')\n",
        "char_vectors = char_vectorizer(char_inputs)\n",
        "char_embeddings = char_embed(char_vectors)\n",
        "char_bi_lstm = tf.keras.layers.Bidirectional(tf.keras.layers.LSTM(24))(char_embeddings)\n",
        "char_model = tf.keras.Model(inputs=char_inputs,\n",
        "                            outputs=char_bi_lstm)\n",
        "\n",
        "# 3. Line number inputs\n",
        "line_number_inputs = tf.keras.layers.Input(shape=(15,), dtype=tf.float32, name='line_number_input')\n",
        "line_number_outputs = tf.keras.layers.Dense(32, activation='relu')(line_number_inputs)\n",
        "line_number_model = tf.keras.Model(inputs=line_number_inputs,\n",
        "                                   outputs=line_number_outputs)\n",
        "\n",
        "# 4. Total lines inputs\n",
        "total_lines_inputs = tf.keras.layers.Input(shape=(20,), dtype=tf.float32, name='total_lines_input')\n",
        "total_lines_outputs = tf.keras.layers.Dense(32, activation='relu')(total_lines_inputs)\n",
        "total_lines_model = tf.keras.Model(inputs=total_lines_inputs,\n",
        "                                   outputs=total_lines_outputs)\n",
        "\n",
        "# 5. Combine token and char embeddings into a hybrid embedding\n",
        "combined_embeddings = tf.keras.layers.Concatenate(name='char_token_embedding')([char_model.output,\n",
        "                                                                                token_model.output])\n",
        "combined_dense = tf.keras.layers.Dense(256, activation='relu')(combined_embeddings)\n",
        "combined_dropout = tf.keras.layers.Dropout(0.5)(combined_dense)\n",
        "\n",
        "# 6. Triple embedding with line number, total lines and combined char&token embeddings\n",
        "triple_embedding = tf.keras.layers.Concatenate(name='triple_embedding')([line_number_model.output,\n",
        "                                                                         total_lines_model.output,\n",
        "                                                                         combined_dropout])\n",
        "\n",
        "# 7. Create the final output layer\n",
        "output_layer = tf.keras.layers.Dense(5, activation='softmax', name='output_layer')(triple_embedding)\n",
        "\n",
        "# 8. Put the model together\n",
        "model_5_bert = tf.keras.Model(\n",
        "    inputs=[line_number_model.input,\n",
        "            total_lines_model.input,\n",
        "            char_model.input,\n",
        "            token_model.input],\n",
        "    outputs=output_layer,\n",
        "    name='triple_embedding_model')\n",
        "\n",
        "# Create a summary\n",
        "model_5_bert.summary()"
      ]
    },
    {
      "cell_type": "code",
      "execution_count": 55,
      "metadata": {
        "colab": {
          "base_uri": "https://localhost:8080/",
          "height": 378
        },
        "id": "yOY8NPk3IKUL",
        "outputId": "83618fff-ecca-4a0a-cd9b-02b696245d07"
      },
      "outputs": [
        {
          "output_type": "execute_result",
          "data": {
            "image/png": "[encoded data removed]",
            "text/plain": [
              "<IPython.core.display.Image object>"
            ]
          },
          "metadata": {},
          "execution_count": 55
        }
      ],
      "source": [
        "# Check the architecture\n",
        "tf.keras.utils.plot_model(model_5_bert,\n",
        "                          show_shapes=True)"
      ]
    },
    {
      "cell_type": "code",
      "execution_count": 59,
      "metadata": {
        "id": "NaLQ1U5eJIUI"
      },
      "outputs": [],
      "source": [
        "# Compile the model_5_bert\n",
        "model_5_bert.compile(loss=tf.keras.losses.CategoricalCrossentropy(label_smoothing=0.2),\n",
        "                     optimizer=tf.keras.optimizers.Adam(),\n",
        "                     metrics=['accuracy'])"
      ]
    },
    {
      "cell_type": "code",
      "execution_count": 60,
      "metadata": {
        "colab": {
          "base_uri": "https://localhost:8080/"
        },
        "id": "lc4yC_6VJxK1",
        "outputId": "46fedc32-a057-4bef-d41d-1ab65fc38466"
      },
      "outputs": [
        {
          "output_type": "stream",
          "name": "stdout",
          "text": [
            "Epoch 1/20\n",
            "562/562 [==============================] - 235s 398ms/step - loss: 0.8882 - accuracy: 0.8769 - val_loss: 0.8548 - val_accuracy: 0.8850\n",
            "Epoch 2/20\n",
            "562/562 [==============================] - 220s 392ms/step - loss: 0.8688 - accuracy: 0.8877 - val_loss: 0.8531 - val_accuracy: 0.8896\n",
            "Epoch 3/20\n",
            "562/562 [==============================] - 221s 393ms/step - loss: 0.8650 - accuracy: 0.8833 - val_loss: 0.8509 - val_accuracy: 0.8833\n",
            "Epoch 4/20\n",
            "562/562 [==============================] - 232s 413ms/step - loss: 0.8619 - accuracy: 0.8910 - val_loss: 0.8457 - val_accuracy: 0.8910\n",
            "Epoch 5/20\n",
            "562/562 [==============================] - 221s 393ms/step - loss: 0.8608 - accuracy: 0.8888 - val_loss: 0.8363 - val_accuracy: 0.8953\n",
            "Epoch 6/20\n",
            "562/562 [==============================] - 220s 392ms/step - loss: 0.8640 - accuracy: 0.8877 - val_loss: 0.8370 - val_accuracy: 0.8956\n",
            "Epoch 7/20\n",
            "562/562 [==============================] - 221s 394ms/step - loss: 0.8547 - accuracy: 0.8899 - val_loss: 0.8362 - val_accuracy: 0.8953\n",
            "Epoch 8/20\n",
            "562/562 [==============================] - 222s 395ms/step - loss: 0.8509 - accuracy: 0.8935 - val_loss: 0.8350 - val_accuracy: 0.9003\n",
            "Epoch 9/20\n",
            "562/562 [==============================] - 220s 392ms/step - loss: 0.8509 - accuracy: 0.8937 - val_loss: 0.8443 - val_accuracy: 0.8933\n",
            "Epoch 10/20\n",
            "562/562 [==============================] - 220s 392ms/step - loss: 0.8520 - accuracy: 0.8908 - val_loss: 0.8327 - val_accuracy: 0.8966\n",
            "Epoch 11/20\n",
            "  7/562 [..............................] - ETA: 2:44 - loss: 0.8837 - accuracy: 0.8850"
          ]
        },
        {
          "output_type": "stream",
          "name": "stderr",
          "text": [
            "WARNING:tensorflow:Your input ran out of data; interrupting training. Make sure that your dataset or generator can generate at least `steps_per_epoch * epochs` batches (in this case, 11240 batches). You may need to use the repeat() function when building your dataset.\n"
          ]
        },
        {
          "output_type": "stream",
          "name": "stdout",
          "text": [
            "\b\b\b\b\b\b\b\b\b\b\b\b\b\b\b\b\b\b\b\b\b\b\b\b\b\b\b\b\b\b\b\b\b\b\b\b\b\b\b\b\b\b\b\b\b\b\b\b\b\b\b\b\b\b\b\b\b\b\b\b\b\b\b\b\b\b\b\b\b\b\b\b\b\b\b\b\b\b\b\b\b\b\b\b\b\b\r562/562 [==============================] - 33s 58ms/step - loss: 0.8837 - accuracy: 0.8850 - val_loss: 0.8543 - val_accuracy: 0.8830\n"
          ]
        }
      ],
      "source": [
        "# Fit the BERT-enhanced model_5\n",
        "history_model_5_bert = model_5_bert.fit(x=train_ln_tl_char_token_dataset,\n",
        "                                        epochs=20,\n",
        "                                        steps_per_epoch=int(0.1*(len(train_ln_tl_char_token_dataset))),\n",
        "                                        validation_data=val_ln_tl_char_token_dataset,\n",
        "                                        validation_steps=int(0.1*len(val_ln_tl_char_token_dataset)),\n",
        "                                        callbacks=[early_stopping])"
      ]
    },
    {
      "cell_type": "code",
      "execution_count": 61,
      "metadata": {
        "colab": {
          "base_uri": "https://localhost:8080/"
        },
        "id": "IJd5lrgfKi39",
        "outputId": "bddb450d-06ed-4846-f916-7273a85295ea"
      },
      "outputs": [
        {
          "output_type": "stream",
          "name": "stdout",
          "text": [
            "945/945 [==============================] - 307s 320ms/step\n"
          ]
        },
        {
          "output_type": "execute_result",
          "data": {
            "text/plain": [
              "{'accuracy': 88.68330464716007,\n",
              " 'precision': 0.8877561542945497,\n",
              " 'recall': 0.8868330464716007,\n",
              " 'f1': 0.8833713143730126}"
            ]
          },
          "metadata": {},
          "execution_count": 61
        }
      ],
      "source": [
        "from helper_functions import calculate_results\n",
        "bert_preds = tf.argmax(model_5_bert.predict(val_ln_tl_char_token_dataset), axis=1)\n",
        "results_bert = calculate_results(y_true=val_labels_encoded,\n",
        "                                 y_pred=bert_preds)\n",
        "results_bert"
      ]
    },
    {
      "cell_type": "markdown",
      "source": [
        "### Conclusion - exercise 3\n",
        "As supposed, the BERT-enhanced `model_5` was the best amongst all remaining ones we've built yet. I achieved results close to 90% in both *accuracy* and *F1-score* with a `val_loss` at the level of 0.83 compared to 0.88 for previous models (which is approx. 10% better in comparison).\n",
        "\n",
        "Turns out that the state-of-the-art transformer architecture does its job and elevates model's performance even more.\n"
      ],
      "metadata": {
        "id": "osn8U3XorAMY"
      }
    },
    {
      "cell_type": "code",
      "source": [],
      "metadata": {
        "id": "ASx-3QabsECj"
      },
      "execution_count": null,
      "outputs": []
    }
  ],
  "metadata": {
    "colab": {
      "provenance": [],
      "gpuType": "A100"
    },
    "gpuClass": "standard",
    "kernelspec": {
      "display_name": "Python 3",
      "name": "python3"
    },
    "language_info": {
      "name": "python"
    }
  },
  "nbformat": 4,
  "nbformat_minor": 0
}