{
  "cells": [
    {
      "cell_type": "markdown",
      "metadata": {
        "id": "6T5ZBj-OjeI4"
      },
      "source": [
        "# SkimLit exercises\n",
        "Exercises from @mrdbourdke course, all solution are either code-alongs (if already created) or proposed my myself."
      ]
    },
    {
      "cell_type": "markdown",
      "metadata": {
        "id": "z_nu2bCPlCuL"
      },
      "source": [
        "## Exercise 1\n",
        "Train `model_5` from notebook 09 on all of the data in the training dataset as many epochs until it stops improving. Since this might take a while, consider using:\n",
        "* `tf.keras.callbacks.ModelCheckpoint` to save weights of the best model trained\n",
        "* `tf.keras.callbacks.EarlyStopping` to stop the model from training once the validation less has stopped improving for approx. 3 epochs"
      ]
    },
    {
      "cell_type": "markdown",
      "metadata": {
        "id": "7sG82xH4lhNB"
      },
      "source": [
        "### Confirm GPU access"
      ]
    },
    {
      "cell_type": "code",
      "execution_count": 1,
      "metadata": {
        "colab": {
          "base_uri": "https://localhost:8080/"
        },
        "id": "Um0dGSQ4lpHF",
        "outputId": "1f14195a-53d7-43cd-a0b5-7a1007f69fc9"
      },
      "outputs": [
        {
          "output_type": "stream",
          "name": "stdout",
          "text": [
            "/bin/bash: nvidia: command not found\n"
          ]
        }
      ],
      "source": [
        "!nvidia -smi"
      ]
    },
    {
      "cell_type": "markdown",
      "metadata": {
        "id": "bzyWicoCluZc"
      },
      "source": [
        "### Get the data"
      ]
    },
    {
      "cell_type": "code",
      "execution_count": 2,
      "metadata": {
        "colab": {
          "base_uri": "https://localhost:8080/"
        },
        "id": "kxRteCd5lzz4",
        "outputId": "08d47b1f-cf51-4e02-d944-d04d6dc187df"
      },
      "outputs": [
        {
          "output_type": "stream",
          "name": "stdout",
          "text": [
            "Cloning into 'pubmed-rct'...\n",
            "remote: Enumerating objects: 33, done.\u001b[K\n",
            "remote: Counting objects: 100% (8/8), done.\u001b[K\n",
            "remote: Compressing objects: 100% (3/3), done.\u001b[K\n",
            "remote: Total 33 (delta 5), reused 5 (delta 5), pack-reused 25\u001b[K\n",
            "Unpacking objects: 100% (33/33), 177.08 MiB | 8.93 MiB/s, done.\n",
            "PubMed_200k_RCT\n",
            "PubMed_200k_RCT_numbers_replaced_with_at_sign\n",
            "PubMed_20k_RCT\n",
            "PubMed_20k_RCT_numbers_replaced_with_at_sign\n",
            "README.md\n"
          ]
        }
      ],
      "source": [
        "# Clone the GitHub repo and \n",
        "!git clone https://github.com/Franck-Dernoncourt/pubmed-rct\n",
        "!ls pubmed-rct"
      ]
    },
    {
      "cell_type": "code",
      "execution_count": 3,
      "metadata": {
        "id": "SbUcR6XVl6Ny"
      },
      "outputs": [],
      "source": [
        "# Get the full, 200k dataset\n",
        "data_dir = \"/content/pubmed-rct/PubMed_20k_RCT_numbers_replaced_with_at_sign/\""
      ]
    },
    {
      "cell_type": "code",
      "execution_count": 4,
      "metadata": {
        "colab": {
          "base_uri": "https://localhost:8080/"
        },
        "id": "MDY1CugNm15F",
        "outputId": "4efd9cf4-c2e5-4636-c0d8-4eb88413ca59"
      },
      "outputs": [
        {
          "output_type": "execute_result",
          "data": {
            "text/plain": [
              "['/content/pubmed-rct/PubMed_20k_RCT_numbers_replaced_with_at_sign/dev.txt',\n",
              " '/content/pubmed-rct/PubMed_20k_RCT_numbers_replaced_with_at_sign/train.txt',\n",
              " '/content/pubmed-rct/PubMed_20k_RCT_numbers_replaced_with_at_sign/test.txt']"
            ]
          },
          "metadata": {},
          "execution_count": 4
        }
      ],
      "source": [
        "# Check the filenames in the directory\n",
        "import os\n",
        "filenames = [data_dir + filename for filename in os.listdir(data_dir)]\n",
        "filenames"
      ]
    },
    {
      "cell_type": "code",
      "execution_count": 5,
      "metadata": {
        "colab": {
          "base_uri": "https://localhost:8080/"
        },
        "id": "4db3Rks7vv1x",
        "outputId": "7d1076dd-de53-4fc6-9901-b6587af2baed"
      },
      "outputs": [
        {
          "output_type": "stream",
          "name": "stdout",
          "text": [
            "--2023-05-05 20:41:46--  https://raw.githubusercontent.com/mrdbourke/tensorflow-deep-learning/main/extras/helper_functions.py\n",
            "Resolving raw.githubusercontent.com (raw.githubusercontent.com)... 185.199.108.133, 185.199.109.133, 185.199.110.133, ...\n",
            "Connecting to raw.githubusercontent.com (raw.githubusercontent.com)|185.199.108.133|:443... connected.\n",
            "HTTP request sent, awaiting response... 200 OK\n",
            "Length: 10246 (10K) [text/plain]\n",
            "Saving to: ‘helper_functions.py’\n",
            "\n",
            "helper_functions.py 100%[===================>]  10.01K  --.-KB/s    in 0s      \n",
            "\n",
            "2023-05-05 20:41:46 (88.5 MB/s) - ‘helper_functions.py’ saved [10246/10246]\n",
            "\n"
          ]
        }
      ],
      "source": [
        "# Download helper functions\n",
        "!wget https://raw.githubusercontent.com/mrdbourke/tensorflow-deep-learning/main/extras/helper_functions.py"
      ]
    },
    {
      "cell_type": "code",
      "execution_count": 6,
      "metadata": {
        "id": "xOusigdcrAg1"
      },
      "outputs": [],
      "source": [
        "# Unzipping the data\n",
        "#from helper_functions import unzip_data\n",
        "#unzip_data(\"/content/pubmed-rct/PubMed_200k_RCT_numbers_replaced_with_at_sign/train.zip\")"
      ]
    },
    {
      "cell_type": "markdown",
      "metadata": {
        "id": "K1NS97hBnFfm"
      },
      "source": [
        "### Preprocess the data"
      ]
    },
    {
      "cell_type": "code",
      "execution_count": 7,
      "metadata": {
        "id": "nPV7Rvt9nHLu"
      },
      "outputs": [],
      "source": [
        "# Create function to read the lines of a document\n",
        "def get_lines(filename):\n",
        "  \"\"\"\n",
        "  Reads filename (text file) and returns the lines of text as a list.\n",
        "\n",
        "  Args:\n",
        "    filename: string, contains the target filepath\n",
        "\n",
        "  Returns:\n",
        "    A list of strins with one string per line from the target filename\n",
        "  \"\"\"\n",
        "\n",
        "  with open(filename, 'r') as f:\n",
        "    return f.readlines()"
      ]
    },
    {
      "cell_type": "code",
      "execution_count": 8,
      "metadata": {
        "colab": {
          "base_uri": "https://localhost:8080/"
        },
        "id": "RJcmuzQlq2_W",
        "outputId": "9480f8d5-c80a-49dd-847f-f54e4d3c584a"
      },
      "outputs": [
        {
          "output_type": "execute_result",
          "data": {
            "text/plain": [
              "['###24293578\\n',\n",
              " 'OBJECTIVE\\tTo investigate the efficacy of @ weeks of daily low-dose oral prednisolone in improving pain , mobility , and systemic low-grade inflammation in the short term and whether the effect would be sustained at @ weeks in older adults with moderate to severe knee osteoarthritis ( OA ) .\\n',\n",
              " 'METHODS\\tA total of @ patients with primary knee OA were randomized @:@ ; @ received @ mg/day of prednisolone and @ received placebo for @ weeks .\\n',\n",
              " 'METHODS\\tOutcome measures included pain reduction and improvement in function scores and systemic inflammation markers .\\n',\n",
              " 'METHODS\\tPain was assessed using the visual analog pain scale ( @-@ mm ) .\\n',\n",
              " 'METHODS\\tSecondary outcome measures included the Western Ontario and McMaster Universities Osteoarthritis Index scores , patient global assessment ( PGA ) of the severity of knee OA , and @-min walk distance ( @MWD ) .\\n',\n",
              " 'METHODS\\tSerum levels of interleukin @ ( IL-@ ) , IL-@ , tumor necrosis factor ( TNF ) - , and high-sensitivity C-reactive protein ( hsCRP ) were measured .\\n',\n",
              " 'RESULTS\\tThere was a clinically relevant reduction in the intervention group compared to the placebo group for knee pain , physical function , PGA , and @MWD at @ weeks .\\n',\n",
              " 'RESULTS\\tThe mean difference between treatment arms ( @ % CI ) was @ ( @-@ @ ) , p < @ ; @ ( @-@ @ ) , p < @ ; @ ( @-@ @ ) , p < @ ; and @ ( @-@ @ ) , p < @ , respectively .\\n',\n",
              " 'RESULTS\\tFurther , there was a clinically relevant reduction in the serum levels of IL-@ , IL-@ , TNF - , and hsCRP at @ weeks in the intervention group when compared to the placebo group .\\n']"
            ]
          },
          "metadata": {},
          "execution_count": 8
        }
      ],
      "source": [
        "# Reading in the training lines\n",
        "train_lines = get_lines(data_dir + 'train.txt')\n",
        "train_lines[:10]"
      ]
    },
    {
      "cell_type": "code",
      "execution_count": 9,
      "metadata": {
        "colab": {
          "base_uri": "https://localhost:8080/"
        },
        "id": "M8EpuqGDq92i",
        "outputId": "a5f40cfe-f7d5-42d5-919f-9aeaa59841b1"
      },
      "outputs": [
        {
          "output_type": "execute_result",
          "data": {
            "text/plain": [
              "210040"
            ]
          },
          "metadata": {},
          "execution_count": 9
        }
      ],
      "source": [
        "# Get the total number of lines\n",
        "len(train_lines)"
      ]
    },
    {
      "cell_type": "code",
      "execution_count": 10,
      "metadata": {
        "id": "mJiHOwdcruRE"
      },
      "outputs": [],
      "source": [
        "# Function to preprocess the data to desired format\n",
        "def preprocess_text_with_linenumbers(filename):\n",
        "  \"\"\"\n",
        "  Returns a list of dictionaries of abstract RCT line data. Takes in the filename,\n",
        "  reads its content and works through each line extracting all necessary data to\n",
        "  be returned,\n",
        "\n",
        "  Args:\n",
        "    filename: string, contains a RCT data \n",
        "\n",
        "  Returns:\n",
        "    abstract_samples: dictionary, with data such as 'target', 'text',\n",
        "      'line_number' and 'total_lines' per each abstract\n",
        "  \"\"\"\n",
        "  input_lines = get_lines(filename)\n",
        "  abstract_lines = \"\"\n",
        "  abstract_samples = []\n",
        "\n",
        "  for line in input_lines:\n",
        "    if line.startswith(\"###\"): # check for the ID of an abastract\n",
        "      abstract_id = line\n",
        "      abstract_lines = \"\" # reset the abstract string so it's empty for new one\n",
        "\n",
        "    elif line.isspace(): # check if the line is the new line\n",
        "      abstract_line_split = abstract_lines.splitlines() # split the lines into new lines\n",
        "\n",
        "      # Iterate through each line in a single abstract and count them at the same time\n",
        "      for abstract_line_number, abstract_line in enumerate(abstract_line_split):\n",
        "        line_data = {} # empty dictionary for each line\n",
        "        target_text_split = abstract_line.split(\"\\t\") # split the text from the target label\n",
        "        line_data['target'] = target_text_split[0] # get the target label\n",
        "        line_data['text'] = target_text_split[1].lower() # get the text in lowered version\n",
        "        line_data['line_number'] = abstract_line_number # get the number of a particular line from enumerate operator\n",
        "        line_data['total_lines'] = len(abstract_line_split)-1 # how many total lines are there in each abstract\n",
        "\n",
        "        abstract_samples.append(line_data) # add the data to the samples list\n",
        "\n",
        "    else: # if the above are not met, the line contains labelled sentence\n",
        "      abstract_lines += line\n",
        "  \n",
        "  return abstract_samples"
      ]
    },
    {
      "cell_type": "code",
      "execution_count": 11,
      "metadata": {
        "colab": {
          "base_uri": "https://localhost:8080/"
        },
        "id": "WmlwytPtvCu_",
        "outputId": "8658aa7a-77c8-44af-f2e3-99882f4ab272"
      },
      "outputs": [
        {
          "output_type": "stream",
          "name": "stdout",
          "text": [
            "180040 30212 30135\n",
            "CPU times: user 377 ms, sys: 119 ms, total: 497 ms\n",
            "Wall time: 501 ms\n"
          ]
        }
      ],
      "source": [
        "# Get the data into the memory\n",
        "%%time\n",
        "train_samples = preprocess_text_with_linenumbers(data_dir + 'train.txt')\n",
        "val_samples = preprocess_text_with_linenumbers(data_dir + 'dev.txt')\n",
        "test_samples = preprocess_text_with_linenumbers(data_dir + 'test.txt')\n",
        "print(len(train_samples), len(val_samples), len(test_samples))"
      ]
    },
    {
      "cell_type": "code",
      "execution_count": 12,
      "metadata": {
        "colab": {
          "base_uri": "https://localhost:8080/"
        },
        "id": "o5E3aKQWveFn",
        "outputId": "874638e2-cf67-4780-826f-c36c685581ec"
      },
      "outputs": [
        {
          "output_type": "execute_result",
          "data": {
            "text/plain": [
              "[{'target': 'OBJECTIVE',\n",
              "  'text': 'to investigate the efficacy of @ weeks of daily low-dose oral prednisolone in improving pain , mobility , and systemic low-grade inflammation in the short term and whether the effect would be sustained at @ weeks in older adults with moderate to severe knee osteoarthritis ( oa ) .',\n",
              "  'line_number': 0,\n",
              "  'total_lines': 11},\n",
              " {'target': 'METHODS',\n",
              "  'text': 'a total of @ patients with primary knee oa were randomized @:@ ; @ received @ mg/day of prednisolone and @ received placebo for @ weeks .',\n",
              "  'line_number': 1,\n",
              "  'total_lines': 11},\n",
              " {'target': 'METHODS',\n",
              "  'text': 'outcome measures included pain reduction and improvement in function scores and systemic inflammation markers .',\n",
              "  'line_number': 2,\n",
              "  'total_lines': 11},\n",
              " {'target': 'METHODS',\n",
              "  'text': 'pain was assessed using the visual analog pain scale ( @-@ mm ) .',\n",
              "  'line_number': 3,\n",
              "  'total_lines': 11},\n",
              " {'target': 'METHODS',\n",
              "  'text': 'secondary outcome measures included the western ontario and mcmaster universities osteoarthritis index scores , patient global assessment ( pga ) of the severity of knee oa , and @-min walk distance ( @mwd ) .',\n",
              "  'line_number': 4,\n",
              "  'total_lines': 11},\n",
              " {'target': 'METHODS',\n",
              "  'text': 'serum levels of interleukin @ ( il-@ ) , il-@ , tumor necrosis factor ( tnf ) - , and high-sensitivity c-reactive protein ( hscrp ) were measured .',\n",
              "  'line_number': 5,\n",
              "  'total_lines': 11},\n",
              " {'target': 'RESULTS',\n",
              "  'text': 'there was a clinically relevant reduction in the intervention group compared to the placebo group for knee pain , physical function , pga , and @mwd at @ weeks .',\n",
              "  'line_number': 6,\n",
              "  'total_lines': 11},\n",
              " {'target': 'RESULTS',\n",
              "  'text': 'the mean difference between treatment arms ( @ % ci ) was @ ( @-@ @ ) , p < @ ; @ ( @-@ @ ) , p < @ ; @ ( @-@ @ ) , p < @ ; and @ ( @-@ @ ) , p < @ , respectively .',\n",
              "  'line_number': 7,\n",
              "  'total_lines': 11},\n",
              " {'target': 'RESULTS',\n",
              "  'text': 'further , there was a clinically relevant reduction in the serum levels of il-@ , il-@ , tnf - , and hscrp at @ weeks in the intervention group when compared to the placebo group .',\n",
              "  'line_number': 8,\n",
              "  'total_lines': 11},\n",
              " {'target': 'RESULTS',\n",
              "  'text': 'these differences remained significant at @ weeks .',\n",
              "  'line_number': 9,\n",
              "  'total_lines': 11},\n",
              " {'target': 'RESULTS',\n",
              "  'text': 'the outcome measures in rheumatology clinical trials-osteoarthritis research society international responder rate was @ % in the intervention group and @ % in the placebo group ( p < @ ) .',\n",
              "  'line_number': 10,\n",
              "  'total_lines': 11},\n",
              " {'target': 'CONCLUSIONS',\n",
              "  'text': 'low-dose oral prednisolone had both a short-term and a longer sustained effect resulting in less knee pain , better physical function , and attenuation of systemic inflammation in older patients with knee oa ( clinicaltrials.gov identifier nct@ ) .',\n",
              "  'line_number': 11,\n",
              "  'total_lines': 11},\n",
              " {'target': 'BACKGROUND',\n",
              "  'text': 'emotional eating is associated with overeating and the development of obesity .',\n",
              "  'line_number': 0,\n",
              "  'total_lines': 10},\n",
              " {'target': 'BACKGROUND',\n",
              "  'text': 'yet , empirical evidence for individual ( trait ) differences in emotional eating and cognitive mechanisms that contribute to eating during sad mood remain equivocal .',\n",
              "  'line_number': 1,\n",
              "  'total_lines': 10},\n",
              " {'target': 'OBJECTIVE',\n",
              "  'text': 'the aim of this study was to test if attention bias for food moderates the effect of self-reported emotional eating during sad mood ( vs neutral mood ) on actual food intake .',\n",
              "  'line_number': 2,\n",
              "  'total_lines': 10}]"
            ]
          },
          "metadata": {},
          "execution_count": 12
        }
      ],
      "source": [
        "# Check the first samples from training data\n",
        "train_samples[:15]"
      ]
    },
    {
      "cell_type": "code",
      "execution_count": 13,
      "metadata": {
        "colab": {
          "base_uri": "https://localhost:8080/",
          "height": 504
        },
        "id": "EZwXy1X5vqD9",
        "outputId": "bd6f58d6-c172-4482-c120-8ca5e1292d56"
      },
      "outputs": [
        {
          "output_type": "execute_result",
          "data": {
            "text/plain": [
              "         target                                               text  \\\n",
              "0     OBJECTIVE  to investigate the efficacy of @ weeks of dail...   \n",
              "1       METHODS  a total of @ patients with primary knee oa wer...   \n",
              "2       METHODS  outcome measures included pain reduction and i...   \n",
              "3       METHODS  pain was assessed using the visual analog pain...   \n",
              "4       METHODS  secondary outcome measures included the wester...   \n",
              "5       METHODS  serum levels of interleukin @ ( il-@ ) , il-@ ...   \n",
              "6       RESULTS  there was a clinically relevant reduction in t...   \n",
              "7       RESULTS  the mean difference between treatment arms ( @...   \n",
              "8       RESULTS  further , there was a clinically relevant redu...   \n",
              "9       RESULTS  these differences remained significant at @ we...   \n",
              "10      RESULTS  the outcome measures in rheumatology clinical ...   \n",
              "11  CONCLUSIONS  low-dose oral prednisolone had both a short-te...   \n",
              "12   BACKGROUND  emotional eating is associated with overeating...   \n",
              "13   BACKGROUND  yet , empirical evidence for individual ( trai...   \n",
              "14    OBJECTIVE  the aim of this study was to test if attention...   \n",
              "\n",
              "    line_number  total_lines  \n",
              "0             0           11  \n",
              "1             1           11  \n",
              "2             2           11  \n",
              "3             3           11  \n",
              "4             4           11  \n",
              "5             5           11  \n",
              "6             6           11  \n",
              "7             7           11  \n",
              "8             8           11  \n",
              "9             9           11  \n",
              "10           10           11  \n",
              "11           11           11  \n",
              "12            0           10  \n",
              "13            1           10  \n",
              "14            2           10  "
            ],
            "text/html": [
              "\n",
              "  <div id=\"df-6d0668ca-e7f8-4668-abf6-48f1263a6005\">\n",
              "    <div class=\"colab-df-container\">\n",
              "      <div>\n",
              "<style scoped>\n",
              "    .dataframe tbody tr th:only-of-type {\n",
              "        vertical-align: middle;\n",
              "    }\n",
              "\n",
              "    .dataframe tbody tr th {\n",
              "        vertical-align: top;\n",
              "    }\n",
              "\n",
              "    .dataframe thead th {\n",
              "        text-align: right;\n",
              "    }\n",
              "</style>\n",
              "<table border=\"1\" class=\"dataframe\">\n",
              "  <thead>\n",
              "    <tr style=\"text-align: right;\">\n",
              "      <th></th>\n",
              "      <th>target</th>\n",
              "      <th>text</th>\n",
              "      <th>line_number</th>\n",
              "      <th>total_lines</th>\n",
              "    </tr>\n",
              "  </thead>\n",
              "  <tbody>\n",
              "    <tr>\n",
              "      <th>0</th>\n",
              "      <td>OBJECTIVE</td>\n",
              "      <td>to investigate the efficacy of @ weeks of dail...</td>\n",
              "      <td>0</td>\n",
              "      <td>11</td>\n",
              "    </tr>\n",
              "    <tr>\n",
              "      <th>1</th>\n",
              "      <td>METHODS</td>\n",
              "      <td>a total of @ patients with primary knee oa wer...</td>\n",
              "      <td>1</td>\n",
              "      <td>11</td>\n",
              "    </tr>\n",
              "    <tr>\n",
              "      <th>2</th>\n",
              "      <td>METHODS</td>\n",
              "      <td>outcome measures included pain reduction and i...</td>\n",
              "      <td>2</td>\n",
              "      <td>11</td>\n",
              "    </tr>\n",
              "    <tr>\n",
              "      <th>3</th>\n",
              "      <td>METHODS</td>\n",
              "      <td>pain was assessed using the visual analog pain...</td>\n",
              "      <td>3</td>\n",
              "      <td>11</td>\n",
              "    </tr>\n",
              "    <tr>\n",
              "      <th>4</th>\n",
              "      <td>METHODS</td>\n",
              "      <td>secondary outcome measures included the wester...</td>\n",
              "      <td>4</td>\n",
              "      <td>11</td>\n",
              "    </tr>\n",
              "    <tr>\n",
              "      <th>5</th>\n",
              "      <td>METHODS</td>\n",
              "      <td>serum levels of interleukin @ ( il-@ ) , il-@ ...</td>\n",
              "      <td>5</td>\n",
              "      <td>11</td>\n",
              "    </tr>\n",
              "    <tr>\n",
              "      <th>6</th>\n",
              "      <td>RESULTS</td>\n",
              "      <td>there was a clinically relevant reduction in t...</td>\n",
              "      <td>6</td>\n",
              "      <td>11</td>\n",
              "    </tr>\n",
              "    <tr>\n",
              "      <th>7</th>\n",
              "      <td>RESULTS</td>\n",
              "      <td>the mean difference between treatment arms ( @...</td>\n",
              "      <td>7</td>\n",
              "      <td>11</td>\n",
              "    </tr>\n",
              "    <tr>\n",
              "      <th>8</th>\n",
              "      <td>RESULTS</td>\n",
              "      <td>further , there was a clinically relevant redu...</td>\n",
              "      <td>8</td>\n",
              "      <td>11</td>\n",
              "    </tr>\n",
              "    <tr>\n",
              "      <th>9</th>\n",
              "      <td>RESULTS</td>\n",
              "      <td>these differences remained significant at @ we...</td>\n",
              "      <td>9</td>\n",
              "      <td>11</td>\n",
              "    </tr>\n",
              "    <tr>\n",
              "      <th>10</th>\n",
              "      <td>RESULTS</td>\n",
              "      <td>the outcome measures in rheumatology clinical ...</td>\n",
              "      <td>10</td>\n",
              "      <td>11</td>\n",
              "    </tr>\n",
              "    <tr>\n",
              "      <th>11</th>\n",
              "      <td>CONCLUSIONS</td>\n",
              "      <td>low-dose oral prednisolone had both a short-te...</td>\n",
              "      <td>11</td>\n",
              "      <td>11</td>\n",
              "    </tr>\n",
              "    <tr>\n",
              "      <th>12</th>\n",
              "      <td>BACKGROUND</td>\n",
              "      <td>emotional eating is associated with overeating...</td>\n",
              "      <td>0</td>\n",
              "      <td>10</td>\n",
              "    </tr>\n",
              "    <tr>\n",
              "      <th>13</th>\n",
              "      <td>BACKGROUND</td>\n",
              "      <td>yet , empirical evidence for individual ( trai...</td>\n",
              "      <td>1</td>\n",
              "      <td>10</td>\n",
              "    </tr>\n",
              "    <tr>\n",
              "      <th>14</th>\n",
              "      <td>OBJECTIVE</td>\n",
              "      <td>the aim of this study was to test if attention...</td>\n",
              "      <td>2</td>\n",
              "      <td>10</td>\n",
              "    </tr>\n",
              "  </tbody>\n",
              "</table>\n",
              "</div>\n",
              "      <button class=\"colab-df-convert\" onclick=\"convertToInteractive('df-6d0668ca-e7f8-4668-abf6-48f1263a6005')\"\n",
              "              title=\"Convert this dataframe to an interactive table.\"\n",
              "              style=\"display:none;\">\n",
              "        \n",
              "  <svg xmlns=\"http://www.w3.org/2000/svg\" height=\"24px\"viewBox=\"0 0 24 24\"\n",
              "       width=\"24px\">\n",
              "    <path d=\"M0 0h24v24H0V0z\" fill=\"none\"/>\n",
              "    <path d=\"M18.56 5.44l.94 2.06.94-2.06 2.06-.94-2.06-.94-.94-2.06-.94 2.06-2.06.94zm-11 1L8.5 8.5l.94-2.06 2.06-.94-2.06-.94L8.5 2.5l-.94 2.06-2.06.94zm10 10l.94 2.06.94-2.06 2.06-.94-2.06-.94-.94-2.06-.94 2.06-2.06.94z\"/><path d=\"M17.41 7.96l-1.37-1.37c-.4-.4-.92-.59-1.43-.59-.52 0-1.04.2-1.43.59L10.3 9.45l-7.72 7.72c-.78.78-.78 2.05 0 2.83L4 21.41c.39.39.9.59 1.41.59.51 0 1.02-.2 1.41-.59l7.78-7.78 2.81-2.81c.8-.78.8-2.07 0-2.86zM5.41 20L4 18.59l7.72-7.72 1.47 1.35L5.41 20z\"/>\n",
              "  </svg>\n",
              "      </button>\n",
              "      \n",
              "  <style>\n",
              "    .colab-df-container {\n",
              "      display:flex;\n",
              "      flex-wrap:wrap;\n",
              "      gap: 12px;\n",
              "    }\n",
              "\n",
              "    .colab-df-convert {\n",
              "      background-color: #E8F0FE;\n",
              "      border: none;\n",
              "      border-radius: 50%;\n",
              "      cursor: pointer;\n",
              "      display: none;\n",
              "      fill: #1967D2;\n",
              "      height: 32px;\n",
              "      padding: 0 0 0 0;\n",
              "      width: 32px;\n",
              "    }\n",
              "\n",
              "    .colab-df-convert:hover {\n",
              "      background-color: #E2EBFA;\n",
              "      box-shadow: 0px 1px 2px rgba(60, 64, 67, 0.3), 0px 1px 3px 1px rgba(60, 64, 67, 0.15);\n",
              "      fill: #174EA6;\n",
              "    }\n",
              "\n",
              "    [theme=dark] .colab-df-convert {\n",
              "      background-color: #3B4455;\n",
              "      fill: #D2E3FC;\n",
              "    }\n",
              "\n",
              "    [theme=dark] .colab-df-convert:hover {\n",
              "      background-color: #434B5C;\n",
              "      box-shadow: 0px 1px 3px 1px rgba(0, 0, 0, 0.15);\n",
              "      filter: drop-shadow(0px 1px 2px rgba(0, 0, 0, 0.3));\n",
              "      fill: #FFFFFF;\n",
              "    }\n",
              "  </style>\n",
              "\n",
              "      <script>\n",
              "        const buttonEl =\n",
              "          document.querySelector('#df-6d0668ca-e7f8-4668-abf6-48f1263a6005 button.colab-df-convert');\n",
              "        buttonEl.style.display =\n",
              "          google.colab.kernel.accessAllowed ? 'block' : 'none';\n",
              "\n",
              "        async function convertToInteractive(key) {\n",
              "          const element = document.querySelector('#df-6d0668ca-e7f8-4668-abf6-48f1263a6005');\n",
              "          const dataTable =\n",
              "            await google.colab.kernel.invokeFunction('convertToInteractive',\n",
              "                                                     [key], {});\n",
              "          if (!dataTable) return;\n",
              "\n",
              "          const docLinkHtml = 'Like what you see? Visit the ' +\n",
              "            '<a target=\"_blank\" href=https://colab.research.google.com/notebooks/data_table.ipynb>data table notebook</a>'\n",
              "            + ' to learn more about interactive tables.';\n",
              "          element.innerHTML = '';\n",
              "          dataTable['output_type'] = 'display_data';\n",
              "          await google.colab.output.renderOutput(dataTable, element);\n",
              "          const docLink = document.createElement('div');\n",
              "          docLink.innerHTML = docLinkHtml;\n",
              "          element.appendChild(docLink);\n",
              "        }\n",
              "      </script>\n",
              "    </div>\n",
              "  </div>\n",
              "  "
            ]
          },
          "metadata": {},
          "execution_count": 13
        }
      ],
      "source": [
        "# Placing the data in Pandas DataFrame\n",
        "import pandas as pd\n",
        "train_df = pd.DataFrame(train_samples)\n",
        "val_df = pd.DataFrame(val_samples)\n",
        "test_df = pd.DataFrame(test_samples)\n",
        "train_df.head(15)"
      ]
    },
    {
      "cell_type": "markdown",
      "metadata": {
        "id": "hJBJclHkwqqM"
      },
      "source": [
        "### Small portion of EDA"
      ]
    },
    {
      "cell_type": "code",
      "execution_count": 14,
      "metadata": {
        "colab": {
          "base_uri": "https://localhost:8080/",
          "height": 531
        },
        "id": "ndyMU9QVwzse",
        "outputId": "56f89fdc-e3a0-452f-8ce8-b672c9b5f0a6"
      },
      "outputs": [
        {
          "output_type": "execute_result",
          "data": {
            "text/plain": [
              "<Axes: >"
            ]
          },
          "metadata": {},
          "execution_count": 14
        },
        {
          "output_type": "display_data",
          "data": {
            "text/plain": [
              "<Figure size 640x480 with 1 Axes>"
            ],
            "image/png": "[encoded data removed]"
          },
          "metadata": {}
        }
      ],
      "source": [
        "# Distribution of training labels\n",
        "train_df['target'].value_counts().plot(kind='bar')"
      ]
    },
    {
      "cell_type": "code",
      "execution_count": 15,
      "metadata": {
        "colab": {
          "base_uri": "https://localhost:8080/",
          "height": 445
        },
        "id": "lYs6h0Vfw8d6",
        "outputId": "182bbc53-e675-4efa-ee25-bbd4375cb3ca"
      },
      "outputs": [
        {
          "output_type": "execute_result",
          "data": {
            "text/plain": [
              "<Axes: ylabel='Frequency'>"
            ]
          },
          "metadata": {},
          "execution_count": 15
        },
        {
          "output_type": "display_data",
          "data": {
            "text/plain": [
              "<Figure size 640x480 with 1 Axes>"
            ],
            "image/png": "[encoded data removed]"
          },
          "metadata": {}
        }
      ],
      "source": [
        "# Checking the number of lines per abstract\n",
        "train_df.total_lines.plot.hist(bins=30)"
      ]
    },
    {
      "cell_type": "markdown",
      "metadata": {
        "id": "nsz8jJjwxRBf"
      },
      "source": [
        "### Getting the list of sentences"
      ]
    },
    {
      "cell_type": "code",
      "execution_count": 16,
      "metadata": {
        "colab": {
          "base_uri": "https://localhost:8080/"
        },
        "id": "TYOaZkL6ymyQ",
        "outputId": "b14b04d0-5824-4a64-8b08-944ae0448889"
      },
      "outputs": [
        {
          "output_type": "stream",
          "name": "stdout",
          "text": [
            "180040\n"
          ]
        }
      ],
      "source": [
        "# Extracting the lines from DataFrames\n",
        "train_sentences = train_df['text'].to_list()\n",
        "val_sentences = val_df['text'].to_list()\n",
        "test_sentences = test_df['text'].to_list()\n",
        "print(len(train_sentences))"
      ]
    },
    {
      "cell_type": "markdown",
      "metadata": {
        "id": "uQCNljFzy5cu"
      },
      "source": [
        "### Encode the labels\n",
        "Both one-hot-encoded and label encoded (numerical value)"
      ]
    },
    {
      "cell_type": "code",
      "execution_count": 17,
      "metadata": {
        "colab": {
          "base_uri": "https://localhost:8080/"
        },
        "id": "3nAfstDhzPu-",
        "outputId": "66c5c649-3628-4597-f3cd-35279d6dae08"
      },
      "outputs": [
        {
          "output_type": "execute_result",
          "data": {
            "text/plain": [
              "array([[0., 0., 0., 1., 0.],\n",
              "       [0., 0., 1., 0., 0.],\n",
              "       [0., 0., 1., 0., 0.],\n",
              "       [0., 0., 1., 0., 0.],\n",
              "       [0., 0., 1., 0., 0.],\n",
              "       [0., 0., 1., 0., 0.],\n",
              "       [0., 0., 0., 0., 1.],\n",
              "       [0., 0., 0., 0., 1.],\n",
              "       [0., 0., 0., 0., 1.],\n",
              "       [0., 0., 0., 0., 1.],\n",
              "       [0., 0., 0., 0., 1.],\n",
              "       [0., 1., 0., 0., 0.],\n",
              "       [1., 0., 0., 0., 0.],\n",
              "       [1., 0., 0., 0., 0.],\n",
              "       [0., 0., 0., 1., 0.],\n",
              "       [0., 0., 0., 1., 0.],\n",
              "       [0., 0., 1., 0., 0.],\n",
              "       [0., 0., 1., 0., 0.],\n",
              "       [0., 0., 1., 0., 0.],\n",
              "       [0., 0., 0., 0., 1.]])"
            ]
          },
          "metadata": {},
          "execution_count": 17
        }
      ],
      "source": [
        "# One-hot encode labels\n",
        "from sklearn.preprocessing import OneHotEncoder\n",
        "\n",
        "one_hot_encoder = OneHotEncoder(sparse_output=False)\n",
        "\n",
        "train_labels_one_hot = one_hot_encoder.fit_transform(train_df['target'].to_numpy().reshape(-1, 1))\n",
        "val_labels_one_hot = one_hot_encoder.transform(val_df['target'].to_numpy().reshape(-1, 1))\n",
        "test_labels_one_hot = one_hot_encoder.fit(test_df['target'].to_numpy().reshape(-1, 1))\n",
        "\n",
        "# Check one set of labels\n",
        "train_labels_one_hot[:20]"
      ]
    },
    {
      "cell_type": "code",
      "execution_count": 18,
      "metadata": {
        "colab": {
          "base_uri": "https://localhost:8080/"
        },
        "id": "D4N6J-dj3gRU",
        "outputId": "85d78ba2-055a-4dd3-f7c8-886b6a1b7fce"
      },
      "outputs": [
        {
          "output_type": "execute_result",
          "data": {
            "text/plain": [
              "array([3, 2, 2, 2, 2, 2, 4, 4, 4, 4, 4, 1, 0, 0, 3, 3, 2, 2, 2, 4])"
            ]
          },
          "metadata": {},
          "execution_count": 18
        }
      ],
      "source": [
        "# Label encode labels (numerical values)\n",
        "from sklearn.preprocessing import LabelEncoder\n",
        "label_encoder = LabelEncoder()\n",
        "\n",
        "train_labels_encoded = label_encoder.fit_transform(train_df['target'].to_numpy())\n",
        "val_labels_encoded = label_encoder.transform(val_df['target'].to_numpy())\n",
        "test_labels_encoded = label_encoder.transform(test_df['target'].to_numpy())\n",
        "\n",
        "# Check the labels\n",
        "train_labels_encoded[:20]"
      ]
    },
    {
      "cell_type": "code",
      "execution_count": 19,
      "metadata": {
        "colab": {
          "base_uri": "https://localhost:8080/"
        },
        "id": "NZw0EY717CaA",
        "outputId": "c0bf7263-46b3-4e47-d000-ff2c7e447fe0"
      },
      "outputs": [
        {
          "output_type": "execute_result",
          "data": {
            "text/plain": [
              "(5,\n",
              " array(['BACKGROUND', 'CONCLUSIONS', 'METHODS', 'OBJECTIVE', 'RESULTS'],\n",
              "       dtype=object))"
            ]
          },
          "metadata": {},
          "execution_count": 19
        }
      ],
      "source": [
        "# Get class names and number of classes\n",
        "num_classes = len(label_encoder.classes_)\n",
        "class_names = label_encoder.classes_\n",
        "num_classes, class_names"
      ]
    },
    {
      "cell_type": "markdown",
      "metadata": {
        "id": "_LVWWa0_8RXg"
      },
      "source": [
        "### Create a character-level tokenizer"
      ]
    },
    {
      "cell_type": "code",
      "execution_count": 20,
      "metadata": {
        "colab": {
          "base_uri": "https://localhost:8080/"
        },
        "id": "zL8sAkTe8e58",
        "outputId": "2b12ec25-0480-49cd-e3f6-f1d3386fa39f"
      },
      "outputs": [
        {
          "output_type": "execute_result",
          "data": {
            "text/plain": [
              "['to investigate the efficacy of @ weeks of daily low-dose oral prednisolone in improving pain , mobility , and systemic low-grade inflammation in the short term and whether the effect would be sustained at @ weeks in older adults with moderate to severe knee osteoarthritis ( oa ) .',\n",
              " 'a total of @ patients with primary knee oa were randomized @:@ ; @ received @ mg/day of prednisolone and @ received placebo for @ weeks .',\n",
              " 'outcome measures included pain reduction and improvement in function scores and systemic inflammation markers .',\n",
              " 'pain was assessed using the visual analog pain scale ( @-@ mm ) .',\n",
              " 'secondary outcome measures included the western ontario and mcmaster universities osteoarthritis index scores , patient global assessment ( pga ) of the severity of knee oa , and @-min walk distance ( @mwd ) .']"
            ]
          },
          "metadata": {},
          "execution_count": 20
        }
      ],
      "source": [
        "# Look again at the exemplary sentences\n",
        "train_sentences[:5]"
      ]
    },
    {
      "cell_type": "code",
      "execution_count": 21,
      "metadata": {
        "colab": {
          "base_uri": "https://localhost:8080/",
          "height": 83
        },
        "id": "aNjNX9jd9BjY",
        "outputId": "b33a93f5-a1f7-436a-e248-834a3b3f118c"
      },
      "outputs": [
        {
          "output_type": "execute_result",
          "data": {
            "text/plain": [
              "'s   t   u   d   y       h   y   p   o   t   h   e   s   i   s       w   a   s       t   h   a   t       a       s   e   c   o   n   d       d   o   s   e       o   f       t   x   a       w   o   u   l   d       n   o   t       o   f   f   e   r       a   n   y       c   l   i   n   i   c   a   l       b   e   n   e   f   i   t   s       o   v   e   r       t   h   e       s   i   n   g   l   e       i   n   f   u   s   i   o   n       .'"
            ],
            "application/vnd.google.colaboratory.intrinsic+json": {
              "type": "string"
            }
          },
          "metadata": {},
          "execution_count": 21
        }
      ],
      "source": [
        "# Function to split sentences into characters\n",
        "def split_chars(text):\n",
        "  return \" \".join(list(text))\n",
        "\n",
        "# Check the function\n",
        "import random\n",
        "target_sentence = split_chars(random.choice(train_sentences))\n",
        "split_chars(target_sentence)"
      ]
    },
    {
      "cell_type": "code",
      "execution_count": 22,
      "metadata": {
        "colab": {
          "base_uri": "https://localhost:8080/"
        },
        "id": "VboGmFpF9P5Z",
        "outputId": "2c818a69-20dd-4b5e-a24a-43e1d9f2d5a3"
      },
      "outputs": [
        {
          "output_type": "stream",
          "name": "stdout",
          "text": [
            "a   t o t a l   o f   @   p a t i e n t s   w i t h   p r i m a r y   k n e e   o a   w e r e   r a n d o m i z e d   @ : @   ;   @   r e c e i v e d   @   m g / d a y   o f   p r e d n i s o l o n e   a n d   @   r e c e i v e d   p l a c e b o   f o r   @   w e e k s   .\n"
          ]
        }
      ],
      "source": [
        "# Split all the data into char tokens\n",
        "train_chars = [split_chars(sentence) for sentence in train_sentences]\n",
        "val_chars = [split_chars(sentence) for sentence in val_sentences]\n",
        "test_chars = [split_chars(sentence) for sentence in test_sentences]\n",
        "print(train_chars[1])"
      ]
    },
    {
      "cell_type": "code",
      "execution_count": 23,
      "metadata": {
        "colab": {
          "base_uri": "https://localhost:8080/"
        },
        "id": "y69TB0TF-NbF",
        "outputId": "4de641ab-5300-47be-cf47-4fabfbb17859"
      },
      "outputs": [
        {
          "output_type": "execute_result",
          "data": {
            "text/plain": [
              "149.3662574983337"
            ]
          },
          "metadata": {},
          "execution_count": 23
        }
      ],
      "source": [
        "# Average char length\n",
        "import numpy as np\n",
        "char_len = [len(sentence) for sentence in train_sentences]\n",
        "mean_char_len = np.mean(char_len)\n",
        "mean_char_len"
      ]
    },
    {
      "cell_type": "code",
      "execution_count": 24,
      "metadata": {
        "colab": {
          "base_uri": "https://localhost:8080/",
          "height": 676
        },
        "id": "J9ckJ0yy-fKi",
        "outputId": "14a8fa52-07d9-471d-98d3-405241ca829b"
      },
      "outputs": [
        {
          "output_type": "execute_result",
          "data": {
            "text/plain": [
              "(array([7.8590e+03, 3.5206e+04, 4.9626e+04, 4.0112e+04, 2.4025e+04,\n",
              "        1.2206e+04, 5.8610e+03, 2.5790e+03, 1.2490e+03, 6.2200e+02,\n",
              "        3.1400e+02, 1.5300e+02, 8.8000e+01, 5.1000e+01, 2.8000e+01,\n",
              "        1.7000e+01, 1.7000e+01, 8.0000e+00, 5.0000e+00, 6.0000e+00,\n",
              "        2.0000e+00, 1.0000e+00, 0.0000e+00, 2.0000e+00, 1.0000e+00,\n",
              "        1.0000e+00, 0.0000e+00, 0.0000e+00, 0.0000e+00, 1.0000e+00]),\n",
              " array([1.00000000e+00, 4.71666667e+01, 9.33333333e+01, 1.39500000e+02,\n",
              "        1.85666667e+02, 2.31833333e+02, 2.78000000e+02, 3.24166667e+02,\n",
              "        3.70333333e+02, 4.16500000e+02, 4.62666667e+02, 5.08833333e+02,\n",
              "        5.55000000e+02, 6.01166667e+02, 6.47333333e+02, 6.93500000e+02,\n",
              "        7.39666667e+02, 7.85833333e+02, 8.32000000e+02, 8.78166667e+02,\n",
              "        9.24333333e+02, 9.70500000e+02, 1.01666667e+03, 1.06283333e+03,\n",
              "        1.10900000e+03, 1.15516667e+03, 1.20133333e+03, 1.24750000e+03,\n",
              "        1.29366667e+03, 1.33983333e+03, 1.38600000e+03]),\n",
              " <BarContainer object of 30 artists>)"
            ]
          },
          "metadata": {},
          "execution_count": 24
        },
        {
          "output_type": "display_data",
          "data": {
            "text/plain": [
              "<Figure size 640x480 with 1 Axes>"
            ],
            "image/png": "[encoded data removed]"
          },
          "metadata": {}
        }
      ],
      "source": [
        "# Distribution of character level length\n",
        "import matplotlib.pyplot as plt\n",
        "plt.hist(char_len, bins=30)"
      ]
    },
    {
      "cell_type": "code",
      "execution_count": 25,
      "metadata": {
        "colab": {
          "base_uri": "https://localhost:8080/"
        },
        "id": "LqHJP3K_-r7G",
        "outputId": "f6be916e-9a17-40af-92ef-9b3ce25fb3a7"
      },
      "outputs": [
        {
          "output_type": "execute_result",
          "data": {
            "text/plain": [
              "290"
            ]
          },
          "metadata": {},
          "execution_count": 25
        }
      ],
      "source": [
        "# Check the 95 percentile\n",
        "output_seq_char_len = int(np.percentile(char_len, 95))\n",
        "output_seq_char_len"
      ]
    },
    {
      "cell_type": "code",
      "execution_count": 26,
      "metadata": {
        "colab": {
          "base_uri": "https://localhost:8080/"
        },
        "id": "eirxHx8L-4H-",
        "outputId": "8163ba94-bfb8-4fe7-e8ff-ea604389a835"
      },
      "outputs": [
        {
          "output_type": "execute_result",
          "data": {
            "text/plain": [
              "('abcdefghijklmnopqrstuvwxyz0123456789!\"#$%&\\'()*+,-./:;<=>?@[\\\\]^_`{|}~', 68)"
            ]
          },
          "metadata": {},
          "execution_count": 26
        }
      ],
      "source": [
        "# Get all of the keyboard characters into one variable\n",
        "import string\n",
        "alphabet = string.ascii_lowercase + string.digits + string.punctuation\n",
        "alphabet, len(alphabet)"
      ]
    },
    {
      "cell_type": "code",
      "execution_count": 27,
      "metadata": {
        "id": "6SEKarm3_OrS"
      },
      "outputs": [],
      "source": [
        "# Create character-level token vectorizer instance\n",
        "from tensorflow.keras.layers.experimental.preprocessing import TextVectorization\n",
        "NUM_CHAR_TOKENS = len(alphabet)\n",
        "char_vectorizer = TextVectorization(max_tokens=NUM_CHAR_TOKENS+2,\n",
        "                                    output_sequence_length=output_seq_char_len,\n",
        "                                    standardize=None,\n",
        "                                    name='char_vectorizer')"
      ]
    },
    {
      "cell_type": "code",
      "execution_count": 28,
      "metadata": {
        "colab": {
          "base_uri": "https://localhost:8080/"
        },
        "id": "9x4l-x1z_24I",
        "outputId": "5bc0cbbb-334b-4ea6-f336-1ce6e5ddd4ff"
      },
      "outputs": [
        {
          "output_type": "execute_result",
          "data": {
            "text/plain": [
              "<_PrefetchDataset element_spec=TensorSpec(shape=(None,), dtype=tf.string, name=None)>"
            ]
          },
          "metadata": {},
          "execution_count": 28
        }
      ],
      "source": [
        "# Create another instance of dataset for adapting the layer\n",
        "import tensorflow as tf\n",
        "train_char_adapt = tf.data.Dataset.from_tensor_slices(train_chars).batch(128).prefetch(tf.data.AUTOTUNE)\n",
        "train_char_adapt"
      ]
    },
    {
      "cell_type": "code",
      "execution_count": 29,
      "metadata": {
        "colab": {
          "base_uri": "https://localhost:8080/"
        },
        "id": "ZmSpnLnb_tfC",
        "outputId": "aa3a3915-0ab5-43d9-8b01-e4ac38419f73"
      },
      "outputs": [
        {
          "output_type": "stream",
          "name": "stdout",
          "text": [
            "CPU times: user 3.18 s, sys: 112 ms, total: 3.29 s\n",
            "Wall time: 2.86 s\n"
          ]
        }
      ],
      "source": [
        "# Adapt the layer to characters\n",
        "%%time\n",
        "char_vectorizer.adapt(train_char_adapt)"
      ]
    },
    {
      "cell_type": "code",
      "execution_count": 30,
      "metadata": {
        "colab": {
          "base_uri": "https://localhost:8080/"
        },
        "id": "xHKwOw6YAbRl",
        "outputId": "5964d9b6-0040-470e-8222-798998eece55"
      },
      "outputs": [
        {
          "output_type": "stream",
          "name": "stdout",
          "text": [
            "Number of chars: 57\n",
            "Most popular chars: ['', '[UNK]', 'e', 't', 'i']\n",
            "Least popular chars: ['|', '\"', ']', '\\\\', '[']\n"
          ]
        }
      ],
      "source": [
        "# Check the vocab stats\n",
        "char_vocab = char_vectorizer.get_vocabulary()\n",
        "print(f\"Number of chars: {len(char_vocab)}\")\n",
        "print(f\"Most popular chars: {char_vocab[:5]}\")\n",
        "print(f\"Least popular chars: {char_vocab[-5:]}\")"
      ]
    },
    {
      "cell_type": "code",
      "execution_count": 31,
      "metadata": {
        "colab": {
          "base_uri": "https://localhost:8080/"
        },
        "id": "TksASWIvAuQR",
        "outputId": "d6e67695-f678-4b74-cea6-189283086b74"
      },
      "outputs": [
        {
          "output_type": "stream",
          "name": "stdout",
          "text": [
            "Random charred sentence:\n",
            " a n a l y s i s   o f   v a r i a n c e   w a s   c o n d u c t e d   t o   e v a l u a t e   d i f f e r e n c e s   i n   c t   n u m b e r   ,   b a c k g r o u n d   n o i s e   ,   s i g n a l - t o - n o i s e   r a t i o   ,   e f f e c t i v e   d o s e   ,   l e s i o n - t o - p a n c r e a s   c o n t r a s t - t o - n o i s e   r a t i o   ,   a n d   f i g u r e   o f   m e r i t   .\n",
            "\n",
            "Vectorized, charred sentence:\n",
            " [ 5  6  5 12 20  9  4  9  7 17 22  5  8  4  5  6 11  2 21  5  9 11  7  6\n",
            " 10 16 11  3  2 10  3  7  2 22  5 12 16  5  3  2 10  4 17 17  2  8  2  6\n",
            " 11  2  9  4  6 11  3  6 16 15 23  2  8 24 23  5 11 29 18  8  7 16  6 10\n",
            "  6  7  4  9  2 24  9  4 18  6  5 12 26  3  7 26  6  7  4  9  2  8  5  3\n",
            "  4  7 24  2 17 17  2 11  3  4 22  2 10  7  9  2 24 12  2  9  4  7  6 26\n",
            "  3  7 26 14  5  6 11  8  2  5  9 11  7  6  3  8  5  9  3 26  3  7 26  6\n",
            "  7  4  9  2  8  5  3  4  7 24  5  6 10 17  4 18 16  8  2  7 17 15  2  8\n",
            "  4  3 25  0  0  0  0  0  0  0  0  0  0  0  0  0  0  0  0  0  0  0  0  0\n",
            "  0  0  0  0  0  0  0  0  0  0  0  0  0  0  0  0  0  0  0  0  0  0  0  0\n",
            "  0  0  0  0  0  0  0  0  0  0  0  0  0  0  0  0  0  0  0  0  0  0  0  0\n",
            "  0  0  0  0  0  0  0  0  0  0  0  0  0  0  0  0  0  0  0  0  0  0  0  0\n",
            "  0  0  0  0  0  0  0  0  0  0  0  0  0  0  0  0  0  0  0  0  0  0  0  0\n",
            "  0  0]\n",
            "\n",
            "Shape of vectorized, charred text:\n",
            " (290,)\n"
          ]
        }
      ],
      "source": [
        "# Test the layer\n",
        "random_chars = random.choice(train_chars)\n",
        "print(f\"Random charred sentence:\\n {random_chars}\\n\")\n",
        "vectorized_chars = char_vectorizer(random_chars)\n",
        "print(f\"Vectorized, charred sentence:\\n {vectorized_chars}\\n\")\n",
        "print(f\"Shape of vectorized, charred text:\\n {vectorized_chars.shape}\")"
      ]
    },
    {
      "cell_type": "markdown",
      "metadata": {
        "id": "WwzjZPMOCAKy"
      },
      "source": [
        "### Character-level embedding layer"
      ]
    },
    {
      "cell_type": "code",
      "execution_count": 32,
      "metadata": {
        "id": "MD2CGEVPCaJT"
      },
      "outputs": [],
      "source": [
        "# Create embedding layer\n",
        "char_embed = tf.keras.layers.Embedding(input_dim=len(char_vocab), # number of different chars\n",
        "                                       output_dim=25, # as stated in the paper\n",
        "                                       mask_zero=True,\n",
        "                                       name='char_embed')"
      ]
    },
    {
      "cell_type": "code",
      "execution_count": 33,
      "metadata": {
        "colab": {
          "base_uri": "https://localhost:8080/"
        },
        "id": "J17COvBWCtOU",
        "outputId": "1b51bef1-19dc-46dd-cbdd-4f656e38b297"
      },
      "outputs": [
        {
          "output_type": "stream",
          "name": "stdout",
          "text": [
            "Charred text:\n",
            " a n a l y s i s   o f   v a r i a n c e   w a s   c o n d u c t e d   t o   e v a l u a t e   d i f f e r e n c e s   i n   c t   n u m b e r   ,   b a c k g r o u n d   n o i s e   ,   s i g n a l - t o - n o i s e   r a t i o   ,   e f f e c t i v e   d o s e   ,   l e s i o n - t o - p a n c r e a s   c o n t r a s t - t o - n o i s e   r a t i o   ,   a n d   f i g u r e   o f   m e r i t   .\n",
            "\n",
            "Vectorized, embedded charred text:\n",
            " [[-0.00128363 -0.00323781  0.0396953  ...  0.0449701  -0.01822909\n",
            "  -0.01223361]\n",
            " [ 0.02639404  0.04747302  0.01237408 ...  0.0199142   0.00940662\n",
            "  -0.02543006]\n",
            " [-0.00128363 -0.00323781  0.0396953  ...  0.0449701  -0.01822909\n",
            "  -0.01223361]\n",
            " ...\n",
            " [ 0.03314039 -0.01754981  0.04683815 ...  0.04732534 -0.04864621\n",
            "  -0.02175795]\n",
            " [ 0.03314039 -0.01754981  0.04683815 ...  0.04732534 -0.04864621\n",
            "  -0.02175795]\n",
            " [ 0.03314039 -0.01754981  0.04683815 ...  0.04732534 -0.04864621\n",
            "  -0.02175795]]\n",
            "\n",
            "Shape of the output:\n",
            " (290, 25)\n"
          ]
        }
      ],
      "source": [
        "# Test the layer\n",
        "print(f\"Charred text:\\n {random_chars}\\n\")\n",
        "embedded_chars = char_embed(vectorized_chars)\n",
        "print(f\"Vectorized, embedded charred text:\\n {embedded_chars}\\n\")\n",
        "print(f\"Shape of the output:\\n {embedded_chars.shape}\")"
      ]
    },
    {
      "cell_type": "markdown",
      "metadata": {
        "id": "3fcX3-WVGlLq"
      },
      "source": [
        "### Create positional embeddings"
      ]
    },
    {
      "cell_type": "code",
      "execution_count": 34,
      "metadata": {
        "colab": {
          "base_uri": "https://localhost:8080/"
        },
        "id": "WERhiLZhNFLS",
        "outputId": "4cd8ae6c-123f-4182-fea0-384503fea361"
      },
      "outputs": [
        {
          "output_type": "execute_result",
          "data": {
            "text/plain": [
              "0     15000\n",
              "1     15000\n",
              "2     15000\n",
              "3     15000\n",
              "4     14992\n",
              "5     14949\n",
              "6     14758\n",
              "7     14279\n",
              "8     13346\n",
              "9     11981\n",
              "10    10041\n",
              "11     7892\n",
              "12     5853\n",
              "13     4152\n",
              "14     2835\n",
              "15     1861\n",
              "16     1188\n",
              "17      751\n",
              "18      462\n",
              "19      286\n",
              "20      162\n",
              "21      101\n",
              "22       66\n",
              "23       33\n",
              "24       22\n",
              "25       14\n",
              "26        7\n",
              "27        4\n",
              "28        3\n",
              "29        1\n",
              "30        1\n",
              "Name: line_number, dtype: int64"
            ]
          },
          "metadata": {},
          "execution_count": 34
        }
      ],
      "source": [
        "# Check how many different line numbers are in the dataset\n",
        "train_df['line_number'].value_counts()"
      ]
    },
    {
      "cell_type": "code",
      "execution_count": 35,
      "metadata": {
        "colab": {
          "base_uri": "https://localhost:8080/",
          "height": 445
        },
        "id": "MSW5tSWJNLcE",
        "outputId": "4083de44-b536-48da-d19f-541ead5c7337"
      },
      "outputs": [
        {
          "output_type": "execute_result",
          "data": {
            "text/plain": [
              "<Axes: ylabel='Frequency'>"
            ]
          },
          "metadata": {},
          "execution_count": 35
        },
        {
          "output_type": "display_data",
          "data": {
            "text/plain": [
              "<Figure size 640x480 with 1 Axes>"
            ],
            "image/png": "[encoded data removed]"
          },
          "metadata": {}
        }
      ],
      "source": [
        "# Plot the distribution\n",
        "train_df.line_number.plot.hist()"
      ]
    },
    {
      "cell_type": "code",
      "execution_count": 36,
      "metadata": {
        "colab": {
          "base_uri": "https://localhost:8080/"
        },
        "id": "wdau0GxENSUI",
        "outputId": "f1ac2a72-0e23-47c2-aa25-f1d4a8cc9b0c"
      },
      "outputs": [
        {
          "output_type": "execute_result",
          "data": {
            "text/plain": [
              "15"
            ]
          },
          "metadata": {},
          "execution_count": 36
        }
      ],
      "source": [
        "# Check the 98th percentile\n",
        "line_number_depth = int(np.percentile(train_df['line_number'], 98))\n",
        "line_number_depth"
      ]
    },
    {
      "cell_type": "code",
      "execution_count": 37,
      "metadata": {
        "colab": {
          "base_uri": "https://localhost:8080/"
        },
        "id": "tN9_A3KnNcQJ",
        "outputId": "13e2a0af-b236-46d1-9b21-e4ed44bc8834"
      },
      "outputs": [
        {
          "output_type": "execute_result",
          "data": {
            "text/plain": [
              "<tf.Tensor: shape=(15, 15), dtype=float32, numpy=\n",
              "array([[1., 0., 0., 0., 0., 0., 0., 0., 0., 0., 0., 0., 0., 0., 0.],\n",
              "       [0., 1., 0., 0., 0., 0., 0., 0., 0., 0., 0., 0., 0., 0., 0.],\n",
              "       [0., 0., 1., 0., 0., 0., 0., 0., 0., 0., 0., 0., 0., 0., 0.],\n",
              "       [0., 0., 0., 1., 0., 0., 0., 0., 0., 0., 0., 0., 0., 0., 0.],\n",
              "       [0., 0., 0., 0., 1., 0., 0., 0., 0., 0., 0., 0., 0., 0., 0.],\n",
              "       [0., 0., 0., 0., 0., 1., 0., 0., 0., 0., 0., 0., 0., 0., 0.],\n",
              "       [0., 0., 0., 0., 0., 0., 1., 0., 0., 0., 0., 0., 0., 0., 0.],\n",
              "       [0., 0., 0., 0., 0., 0., 0., 1., 0., 0., 0., 0., 0., 0., 0.],\n",
              "       [0., 0., 0., 0., 0., 0., 0., 0., 1., 0., 0., 0., 0., 0., 0.],\n",
              "       [0., 0., 0., 0., 0., 0., 0., 0., 0., 1., 0., 0., 0., 0., 0.],\n",
              "       [0., 0., 0., 0., 0., 0., 0., 0., 0., 0., 1., 0., 0., 0., 0.],\n",
              "       [0., 0., 0., 0., 0., 0., 0., 0., 0., 0., 0., 1., 0., 0., 0.],\n",
              "       [1., 0., 0., 0., 0., 0., 0., 0., 0., 0., 0., 0., 0., 0., 0.],\n",
              "       [0., 1., 0., 0., 0., 0., 0., 0., 0., 0., 0., 0., 0., 0., 0.],\n",
              "       [0., 0., 1., 0., 0., 0., 0., 0., 0., 0., 0., 0., 0., 0., 0.]],\n",
              "      dtype=float32)>"
            ]
          },
          "metadata": {},
          "execution_count": 37
        }
      ],
      "source": [
        "# One hot encode the data\n",
        "train_line_numbers_one_hot = tf.one_hot(train_df['line_number'], depth=line_number_depth)\n",
        "val_line_numbers_one_hot = tf.one_hot(val_df['line_number'], depth=line_number_depth)\n",
        "test_line_numbers_one_hot = tf.one_hot(test_df['line_number'], depth=line_number_depth)\n",
        "train_line_numbers_one_hot[:15]"
      ]
    },
    {
      "cell_type": "code",
      "execution_count": 38,
      "metadata": {
        "colab": {
          "base_uri": "https://localhost:8080/"
        },
        "id": "IGyboBPlN7lK",
        "outputId": "06581145-4373-4ae1-d2eb-32205f950cfe"
      },
      "outputs": [
        {
          "output_type": "execute_result",
          "data": {
            "text/plain": [
              "11    24468\n",
              "10    23639\n",
              "12    22113\n",
              "9     19400\n",
              "13    18438\n",
              "14    14610\n",
              "8     12285\n",
              "15    10768\n",
              "7      7464\n",
              "16     7429\n",
              "17     5202\n",
              "6      3353\n",
              "18     3344\n",
              "19     2480\n",
              "20     1281\n",
              "5      1146\n",
              "21      770\n",
              "22      759\n",
              "23      264\n",
              "4       215\n",
              "24      200\n",
              "25      182\n",
              "26       81\n",
              "28       58\n",
              "3        32\n",
              "30       31\n",
              "27       28\n",
              "Name: total_lines, dtype: int64"
            ]
          },
          "metadata": {},
          "execution_count": 38
        }
      ],
      "source": [
        "# Now onto the total_lines...\n",
        "train_df['total_lines'].value_counts()"
      ]
    },
    {
      "cell_type": "code",
      "execution_count": 39,
      "metadata": {
        "colab": {
          "base_uri": "https://localhost:8080/",
          "height": 447
        },
        "id": "JS35ilbRObdg",
        "outputId": "dd19fede-57d8-44cd-dfd4-f4a44910f559"
      },
      "outputs": [
        {
          "output_type": "execute_result",
          "data": {
            "text/plain": [
              "<Axes: ylabel='Frequency'>"
            ]
          },
          "metadata": {},
          "execution_count": 39
        },
        {
          "output_type": "display_data",
          "data": {
            "text/plain": [
              "<Figure size 640x480 with 1 Axes>"
            ],
            "image/png": "[encoded data removed]"
          },
          "metadata": {}
        }
      ],
      "source": [
        "# Distribution\n",
        "train_df['total_lines'].plot.hist()"
      ]
    },
    {
      "cell_type": "code",
      "execution_count": 40,
      "metadata": {
        "colab": {
          "base_uri": "https://localhost:8080/"
        },
        "id": "8R9nySvlOhH5",
        "outputId": "702030c1-80b1-4fc5-f41b-6bca76adf955"
      },
      "outputs": [
        {
          "output_type": "execute_result",
          "data": {
            "text/plain": [
              "20"
            ]
          },
          "metadata": {},
          "execution_count": 40
        }
      ],
      "source": [
        "# 98th percentile\n",
        "total_lines_depth = int(np.percentile(train_df['total_lines'], 98))\n",
        "total_lines_depth"
      ]
    },
    {
      "cell_type": "code",
      "execution_count": 41,
      "metadata": {
        "colab": {
          "base_uri": "https://localhost:8080/"
        },
        "id": "OcKoKpcbOwNs",
        "outputId": "a6efd933-ff05-468c-ff32-3a55472d3910"
      },
      "outputs": [
        {
          "output_type": "execute_result",
          "data": {
            "text/plain": [
              "<tf.Tensor: shape=(15, 20), dtype=float32, numpy=\n",
              "array([[0., 0., 0., 0., 0., 0., 0., 0., 0., 0., 0., 1., 0., 0., 0., 0.,\n",
              "        0., 0., 0., 0.],\n",
              "       [0., 0., 0., 0., 0., 0., 0., 0., 0., 0., 0., 1., 0., 0., 0., 0.,\n",
              "        0., 0., 0., 0.],\n",
              "       [0., 0., 0., 0., 0., 0., 0., 0., 0., 0., 0., 1., 0., 0., 0., 0.,\n",
              "        0., 0., 0., 0.],\n",
              "       [0., 0., 0., 0., 0., 0., 0., 0., 0., 0., 0., 1., 0., 0., 0., 0.,\n",
              "        0., 0., 0., 0.],\n",
              "       [0., 0., 0., 0., 0., 0., 0., 0., 0., 0., 0., 1., 0., 0., 0., 0.,\n",
              "        0., 0., 0., 0.],\n",
              "       [0., 0., 0., 0., 0., 0., 0., 0., 0., 0., 0., 1., 0., 0., 0., 0.,\n",
              "        0., 0., 0., 0.],\n",
              "       [0., 0., 0., 0., 0., 0., 0., 0., 0., 0., 0., 1., 0., 0., 0., 0.,\n",
              "        0., 0., 0., 0.],\n",
              "       [0., 0., 0., 0., 0., 0., 0., 0., 0., 0., 0., 1., 0., 0., 0., 0.,\n",
              "        0., 0., 0., 0.],\n",
              "       [0., 0., 0., 0., 0., 0., 0., 0., 0., 0., 0., 1., 0., 0., 0., 0.,\n",
              "        0., 0., 0., 0.],\n",
              "       [0., 0., 0., 0., 0., 0., 0., 0., 0., 0., 0., 1., 0., 0., 0., 0.,\n",
              "        0., 0., 0., 0.],\n",
              "       [0., 0., 0., 0., 0., 0., 0., 0., 0., 0., 0., 1., 0., 0., 0., 0.,\n",
              "        0., 0., 0., 0.],\n",
              "       [0., 0., 0., 0., 0., 0., 0., 0., 0., 0., 0., 1., 0., 0., 0., 0.,\n",
              "        0., 0., 0., 0.],\n",
              "       [0., 0., 0., 0., 0., 0., 0., 0., 0., 0., 1., 0., 0., 0., 0., 0.,\n",
              "        0., 0., 0., 0.],\n",
              "       [0., 0., 0., 0., 0., 0., 0., 0., 0., 0., 1., 0., 0., 0., 0., 0.,\n",
              "        0., 0., 0., 0.],\n",
              "       [0., 0., 0., 0., 0., 0., 0., 0., 0., 0., 1., 0., 0., 0., 0., 0.,\n",
              "        0., 0., 0., 0.]], dtype=float32)>"
            ]
          },
          "metadata": {},
          "execution_count": 41
        }
      ],
      "source": [
        "# One hot encode the features\n",
        "train_total_lines_one_hot = tf.one_hot(train_df['total_lines'], depth=total_lines_depth)\n",
        "val_total_lines_one_hot = tf.one_hot(val_df['total_lines'], depth=total_lines_depth)\n",
        "test_total_lines_one_hot = tf.one_hot(test_df['total_lines'], depth=total_lines_depth)\n",
        "train_total_lines_one_hot[:15]"
      ]
    },
    {
      "cell_type": "markdown",
      "metadata": {
        "id": "ED47jRN9RDOM"
      },
      "source": [
        "### Get a Universal Sentence Encoder layer ftom TF Hub"
      ]
    },
    {
      "cell_type": "code",
      "execution_count": 42,
      "metadata": {
        "id": "8gQYJZxERNu4"
      },
      "outputs": [],
      "source": [
        "import tensorflow_hub as hub\n",
        "tf_hub_embedding_layer = hub.KerasLayer(\"https://tfhub.dev/google/universal-sentence-encoder/4\",\n",
        "                                        trainable=False,\n",
        "                                        name='universal_sentence_encoder')"
      ]
    },
    {
      "cell_type": "markdown",
      "metadata": {
        "id": "k59tGxV8PN9z"
      },
      "source": [
        "### Build a model\n",
        "At last, after all this preparation..."
      ]
    },
    {
      "cell_type": "code",
      "execution_count": 43,
      "metadata": {
        "id": "UtGAke6dQzxJ"
      },
      "outputs": [],
      "source": [
        "# 1. Token inputs\n",
        "token_inputs = tf.keras.layers.Input(shape=[], dtype=tf.string, name='token_inputs')\n",
        "token_embeddings = tf_hub_embedding_layer(token_inputs)\n",
        "token_outputs = tf.keras.layers.Dense(128, activation='relu')(token_embeddings)\n",
        "token_model = tf.keras.Model(inputs=token_inputs,\n",
        "                             outputs=token_outputs)\n",
        "\n",
        "# 2. Char inputs\n",
        "char_inputs = tf.keras.layers.Input(shape=(1,), dtype=tf.string, name='char_inputs')\n",
        "char_vectors = char_vectorizer(char_inputs)\n",
        "char_embeddings = char_embed(char_vectors)\n",
        "char_bi_lstm = tf.keras.layers.Bidirectional(tf.keras.layers.LSTM(24))(char_embeddings)\n",
        "char_model = tf.keras.Model(inputs=char_inputs,\n",
        "                            outputs=char_bi_lstm)\n",
        "\n",
        "# 3. Line number inputs\n",
        "line_number_inputs = tf.keras.layers.Input(shape=(15,), dtype=tf.float32, name='line_number_input')\n",
        "line_number_outputs = tf.keras.layers.Dense(32, activation='relu')(line_number_inputs)\n",
        "line_number_model = tf.keras.Model(inputs=line_number_inputs,\n",
        "                                   outputs=line_number_outputs)\n",
        "\n",
        "# 4. Total lines inputs\n",
        "total_lines_inputs = tf.keras.layers.Input(shape=(20,), dtype=tf.float32, name='total_lines_input')\n",
        "total_lines_outputs = tf.keras.layers.Dense(32, activation='relu')(total_lines_inputs)\n",
        "total_lines_model = tf.keras.Model(inputs=total_lines_inputs,\n",
        "                                   outputs=total_lines_outputs)\n",
        "\n",
        "# 5. Combine token and char embeddings into a hybrid embedding\n",
        "combined_embeddings = tf.keras.layers.Concatenate(name='char_token_embedding')([char_model.output,\n",
        "                                                                                token_model.output])\n",
        "combined_dense = tf.keras.layers.Dense(256, activation='relu')(combined_embeddings)\n",
        "combined_dropout = tf.keras.layers.Dropout(0.5)(combined_dense)\n",
        "\n",
        "# 6. Triple embedding with line number, total lines and combined char&token embeddings\n",
        "triple_embedding = tf.keras.layers.Concatenate(name='triple_embedding')([line_number_model.output,\n",
        "                                                                         total_lines_model.output,\n",
        "                                                                         combined_dropout])\n",
        "\n",
        "# 7. Create the final output layer\n",
        "output_layer = tf.keras.layers.Dense(5, activation='softmax', name='output_layer')(triple_embedding)\n",
        "\n",
        "# 8. Put the model together\n",
        "model_5 = tf.keras.Model(inputs=[line_number_model.input,\n",
        "                                 total_lines_model.input,\n",
        "                                 char_model.input,\n",
        "                                 token_model.input],\n",
        "                         outputs=output_layer,\n",
        "                         name='triple_embedding_model')"
      ]
    },
    {
      "cell_type": "code",
      "execution_count": 44,
      "metadata": {
        "colab": {
          "base_uri": "https://localhost:8080/",
          "height": 785
        },
        "id": "nAfCl3g1VZMe",
        "outputId": "7e6395d5-1e7a-4516-b1fd-787299ccec5d"
      },
      "outputs": [
        {
          "output_type": "execute_result",
          "data": {
            "image/png": "[encoded data removed]",
            "text/plain": [
              "<IPython.core.display.Image object>"
            ]
          },
          "metadata": {},
          "execution_count": 44
        }
      ],
      "source": [
        "# Plot the architecture\n",
        "tf.keras.utils.plot_model(model_5,\n",
        "                          show_shapes=True,\n",
        "                          show_trainable=True)"
      ]
    },
    {
      "cell_type": "code",
      "execution_count": 45,
      "metadata": {
        "colab": {
          "base_uri": "https://localhost:8080/"
        },
        "id": "yowTbgiuVrgW",
        "outputId": "8d2f8cfb-65a8-406f-82b9-45d5ac19f70f"
      },
      "outputs": [
        {
          "output_type": "stream",
          "name": "stdout",
          "text": [
            "Model: \"triple_embedding_model\"\n",
            "__________________________________________________________________________________________________\n",
            " Layer (type)                   Output Shape         Param #     Connected to                     \n",
            "==================================================================================================\n",
            " char_inputs (InputLayer)       [(None, 1)]          0           []                               \n",
            "                                                                                                  \n",
            " char_vectorizer (TextVectoriza  (None, 290)         0           ['char_inputs[0][0]']            \n",
            " tion)                                                                                            \n",
            "                                                                                                  \n",
            " token_inputs (InputLayer)      [(None,)]            0           []                               \n",
            "                                                                                                  \n",
            " char_embed (Embedding)         (None, 290, 25)      1425        ['char_vectorizer[0][0]']        \n",
            "                                                                                                  \n",
            " universal_sentence_encoder (Ke  (None, 512)         256797824   ['token_inputs[0][0]']           \n",
            " rasLayer)                                                                                        \n",
            "                                                                                                  \n",
            " bidirectional (Bidirectional)  (None, 48)           9600        ['char_embed[0][0]']             \n",
            "                                                                                                  \n",
            " dense (Dense)                  (None, 128)          65664       ['universal_sentence_encoder[0][0\n",
            "                                                                 ]']                              \n",
            "                                                                                                  \n",
            " char_token_embedding (Concaten  (None, 176)         0           ['bidirectional[0][0]',          \n",
            " ate)                                                             'dense[0][0]']                  \n",
            "                                                                                                  \n",
            " line_number_input (InputLayer)  [(None, 15)]        0           []                               \n",
            "                                                                                                  \n",
            " total_lines_input (InputLayer)  [(None, 20)]        0           []                               \n",
            "                                                                                                  \n",
            " dense_3 (Dense)                (None, 256)          45312       ['char_token_embedding[0][0]']   \n",
            "                                                                                                  \n",
            " dense_1 (Dense)                (None, 32)           512         ['line_number_input[0][0]']      \n",
            "                                                                                                  \n",
            " dense_2 (Dense)                (None, 32)           672         ['total_lines_input[0][0]']      \n",
            "                                                                                                  \n",
            " dropout (Dropout)              (None, 256)          0           ['dense_3[0][0]']                \n",
            "                                                                                                  \n",
            " triple_embedding (Concatenate)  (None, 320)         0           ['dense_1[0][0]',                \n",
            "                                                                  'dense_2[0][0]',                \n",
            "                                                                  'dropout[0][0]']                \n",
            "                                                                                                  \n",
            " output_layer (Dense)           (None, 5)            1605        ['triple_embedding[0][0]']       \n",
            "                                                                                                  \n",
            "==================================================================================================\n",
            "Total params: 256,922,614\n",
            "Trainable params: 124,790\n",
            "Non-trainable params: 256,797,824\n",
            "__________________________________________________________________________________________________\n"
          ]
        }
      ],
      "source": [
        "# Check the summary of the model\n",
        "model_5.summary()"
      ]
    },
    {
      "cell_type": "markdown",
      "metadata": {
        "id": "FI7Ce2ffWBQY"
      },
      "source": [
        "### Prepare datasets for the model"
      ]
    },
    {
      "cell_type": "code",
      "execution_count": 46,
      "metadata": {
        "colab": {
          "base_uri": "https://localhost:8080/"
        },
        "id": "r_CG2_SXoMBj",
        "outputId": "e8b86ea2-d7d4-4945-b4bd-4c18b85000f3"
      },
      "outputs": [
        {
          "output_type": "execute_result",
          "data": {
            "text/plain": [
              "<_PrefetchDataset element_spec=((TensorSpec(shape=(None, 15), dtype=tf.float32, name=None), TensorSpec(shape=(None, 20), dtype=tf.float32, name=None), TensorSpec(shape=(None,), dtype=tf.string, name=None), TensorSpec(shape=(None,), dtype=tf.string, name=None)), TensorSpec(shape=(None, 5), dtype=tf.float64, name=None))>"
            ]
          },
          "metadata": {},
          "execution_count": 46
        }
      ],
      "source": [
        "# Train dataset\n",
        "train_ln_tl_char_token_data = tf.data.Dataset.from_tensor_slices((train_line_numbers_one_hot,\n",
        "                                                                  train_total_lines_one_hot,\n",
        "                                                                  train_chars,\n",
        "                                                                  train_sentences))\n",
        "train_ln_tl_char_token_labels = tf.data.Dataset.from_tensor_slices(train_labels_one_hot)\n",
        "train_ln_tl_char_token_dataset = tf.data.Dataset.zip((train_ln_tl_char_token_data,\n",
        "                                                      train_ln_tl_char_token_labels))\n",
        "train_ln_tl_char_token_dataset = train_ln_tl_char_token_dataset.batch(32).prefetch(tf.data.AUTOTUNE)\n",
        "train_ln_tl_char_token_dataset"
      ]
    },
    {
      "cell_type": "code",
      "execution_count": 47,
      "metadata": {
        "colab": {
          "base_uri": "https://localhost:8080/"
        },
        "id": "jWc4wnHboMAI",
        "outputId": "c7520b56-2132-47b3-b71c-81649a30f825"
      },
      "outputs": [
        {
          "output_type": "execute_result",
          "data": {
            "text/plain": [
              "<_PrefetchDataset element_spec=((TensorSpec(shape=(None, 15), dtype=tf.float32, name=None), TensorSpec(shape=(None, 20), dtype=tf.float32, name=None), TensorSpec(shape=(None,), dtype=tf.string, name=None), TensorSpec(shape=(None,), dtype=tf.string, name=None)), TensorSpec(shape=(None, 5), dtype=tf.float64, name=None))>"
            ]
          },
          "metadata": {},
          "execution_count": 47
        }
      ],
      "source": [
        "# Validation dataset\n",
        "val_ln_tl_char_token_data = tf.data.Dataset.from_tensor_slices((val_line_numbers_one_hot,\n",
        "                                                                val_total_lines_one_hot,\n",
        "                                                                val_chars,\n",
        "                                                                val_sentences))\n",
        "val_ln_tl_char_token_labels = tf.data.Dataset.from_tensor_slices(val_labels_one_hot)\n",
        "val_ln_tl_char_token_dataset = tf.data.Dataset.zip((val_ln_tl_char_token_data,\n",
        "                                                    val_ln_tl_char_token_labels))\n",
        "val_ln_tl_char_token_dataset = val_ln_tl_char_token_dataset.batch(32).prefetch(tf.data.AUTOTUNE)\n",
        "val_ln_tl_char_token_dataset"
      ]
    },
    {
      "cell_type": "markdown",
      "metadata": {
        "id": "zHwcTjiC49ss"
      },
      "source": [
        "### Create the callbacks\n",
        "More specifically: ModelCheckpoint and EarlyStopping."
      ]
    },
    {
      "cell_type": "code",
      "execution_count": 48,
      "metadata": {
        "id": "uJVxNUM44814"
      },
      "outputs": [],
      "source": [
        "from tensorflow.keras.callbacks import ModelCheckpoint, EarlyStopping\n",
        "\n",
        "model_checkpoint = ModelCheckpoint(filepath=\"model_5_ckpt\",\n",
        "                                   monitor='val_loss',\n",
        "                                   verbose=1,\n",
        "                                   save_weights_only=True,\n",
        "                                   save_freq='epoch')\n",
        "\n",
        "early_stopping = EarlyStopping(monitor='val_loss',\n",
        "                               patience=3,\n",
        "                               verbose=1,\n",
        "                               restore_best_weights=True,\n",
        "                               start_from_epoch=3)"
      ]
    },
    {
      "cell_type": "markdown",
      "metadata": {
        "id": "eul7YqkVp7_s"
      },
      "source": [
        "### Compile the model"
      ]
    },
    {
      "cell_type": "code",
      "execution_count": 49,
      "metadata": {
        "id": "Tf2m2GS1qpwJ"
      },
      "outputs": [],
      "source": [
        "model_5.compile(loss=tf.keras.losses.CategoricalCrossentropy(label_smoothing=0.2),\n",
        "                optimizer=tf.keras.optimizers.SGD(),\n",
        "                metrics=['accuracy'])"
      ]
    },
    {
      "cell_type": "code",
      "execution_count": null,
      "metadata": {
        "colab": {
          "base_uri": "https://localhost:8080/"
        },
        "id": "V-MmH0hqq4tN",
        "outputId": "0d7e447a-fc0e-4147-eef7-238d82b2d9a9"
      },
      "outputs": [
        {
          "output_type": "stream",
          "name": "stdout",
          "text": [
            "Epoch 1/25\n",
            "5626/5627 [============================>.] - ETA: 0s - loss: 0.8446 - accuracy: 0.9002\n",
            "Epoch 1: saving model to model_5_ckpt\n",
            "5627/5627 [==============================] - 219s 36ms/step - loss: 0.8446 - accuracy: 0.9002 - val_loss: 0.8813 - val_accuracy: 0.8650\n",
            "Epoch 2/25\n",
            "5627/5627 [==============================] - ETA: 0s - loss: 0.8423 - accuracy: 0.9014\n",
            "Epoch 2: saving model to model_5_ckpt\n",
            "5627/5627 [==============================] - 199s 35ms/step - loss: 0.8423 - accuracy: 0.9014 - val_loss: 0.8808 - val_accuracy: 0.8657\n",
            "Epoch 3/25\n",
            "5627/5627 [==============================] - ETA: 0s - loss: 0.8413 - accuracy: 0.9027\n",
            "Epoch 3: saving model to model_5_ckpt\n",
            "5627/5627 [==============================] - 201s 36ms/step - loss: 0.8413 - accuracy: 0.9027 - val_loss: 0.8808 - val_accuracy: 0.8660\n",
            "Epoch 4/25\n",
            "5627/5627 [==============================] - ETA: 0s - loss: 0.8408 - accuracy: 0.9029\n",
            "Epoch 4: saving model to model_5_ckpt\n",
            "5627/5627 [==============================] - 203s 36ms/step - loss: 0.8408 - accuracy: 0.9029 - val_loss: 0.8810 - val_accuracy: 0.8657\n",
            "Epoch 5/25\n",
            "5627/5627 [==============================] - ETA: 0s - loss: 0.8403 - accuracy: 0.9031\n",
            "Epoch 5: saving model to model_5_ckpt\n",
            "5627/5627 [==============================] - 195s 35ms/step - loss: 0.8403 - accuracy: 0.9031 - val_loss: 0.8810 - val_accuracy: 0.8664\n",
            "Epoch 6/25\n",
            "5626/5627 [============================>.] - ETA: 0s - loss: 0.8399 - accuracy: 0.9028\n",
            "Epoch 6: saving model to model_5_ckpt\n",
            "5627/5627 [==============================] - 197s 35ms/step - loss: 0.8399 - accuracy: 0.9028 - val_loss: 0.8810 - val_accuracy: 0.8664\n",
            "Epoch 7/25\n",
            "5627/5627 [==============================] - ETA: 0s - loss: 0.8393 - accuracy: 0.9037\n",
            "Epoch 7: saving model to model_5_ckpt\n",
            "5627/5627 [==============================] - 200s 36ms/step - loss: 0.8393 - accuracy: 0.9037 - val_loss: 0.8808 - val_accuracy: 0.8654\n",
            "Epoch 8/25\n",
            "5626/5627 [============================>.] - ETA: 0s - loss: 0.8390 - accuracy: 0.9038\n",
            "Epoch 8: saving model to model_5_ckpt\n",
            "5627/5627 [==============================] - 200s 36ms/step - loss: 0.8390 - accuracy: 0.9038 - val_loss: 0.8809 - val_accuracy: 0.8650\n",
            "Epoch 9/25\n",
            "5626/5627 [============================>.] - ETA: 0s - loss: 0.8387 - accuracy: 0.9042\n",
            "Epoch 9: saving model to model_5_ckpt\n",
            "5627/5627 [==============================] - 197s 35ms/step - loss: 0.8387 - accuracy: 0.9042 - val_loss: 0.8812 - val_accuracy: 0.8644\n",
            "Epoch 10/25\n",
            "5627/5627 [==============================] - ETA: 0s - loss: 0.8385 - accuracy: 0.9047\n",
            "Epoch 10: saving model to model_5_ckpt\n",
            "Restoring model weights from the end of the best epoch: 7.\n",
            "5627/5627 [==============================] - 202s 36ms/step - loss: 0.8385 - accuracy: 0.9047 - val_loss: 0.8811 - val_accuracy: 0.8650\n",
            "Epoch 10: early stopping\n"
          ]
        }
      ],
      "source": [
        "history_model_5 = model_5.fit(train_ln_tl_char_token_dataset,\n",
        "                              #steps_per_epoch=int(0.1*len(train_ln_tl_char_token_dataset)),\n",
        "                              epochs=25,\n",
        "                              validation_data=val_ln_tl_char_token_dataset,\n",
        "                              validation_steps=int(0.1*len(val_ln_tl_char_token_dataset)),\n",
        "                              callbacks=[model_checkpoint,\n",
        "                                         early_stopping])"
      ]
    },
    {
      "cell_type": "code",
      "execution_count": null,
      "metadata": {
        "id": "tNPruoCrrYAO",
        "colab": {
          "base_uri": "https://localhost:8080/"
        },
        "outputId": "b0cebde1-50d9-4062-efca-af1a9e2daf75"
      },
      "outputs": [
        {
          "output_type": "stream",
          "name": "stdout",
          "text": [
            "945/945 [==============================] - 23s 24ms/step - loss: 0.8873 - accuracy: 0.8628\n",
            "Evaluation results:\n",
            " [0.8873068690299988, 0.8628028631210327]\n",
            "945/945 [==============================] - 17s 18ms/step\n",
            "Calculated Adam results:\n",
            "\n"
          ]
        },
        {
          "output_type": "execute_result",
          "data": {
            "text/plain": [
              "{'accuracy': 86.28028597908116,\n",
              " 'precision': 0.8633113519609606,\n",
              " 'recall': 0.8628028597908116,\n",
              " 'f1': 0.8602664183128899}"
            ]
          },
          "metadata": {},
          "execution_count": 55
        }
      ],
      "source": [
        "# Adam optimizer metrics\n",
        "print(f'Evaluation results:\\n {model_5.evaluate(val_ln_tl_char_token_dataset)}')\n",
        "preds_adam = tf.argmax(model_5.predict(val_ln_tl_char_token_dataset), axis=1)\n",
        "\n",
        "from helper_functions import calculate_results\n",
        "results_adam = calculate_results(y_true=val_labels_encoded,\n",
        "                                 y_pred=preds_adam)\n",
        "\n",
        "print(f'Calculated Adam results:')\n",
        "results_adam"
      ]
    },
    {
      "cell_type": "code",
      "source": [
        "# SGD optimizer metrics\n",
        "print(f'Evaluation results:\\n {model_5.evaluate(val_ln_tl_char_token_dataset)}')\n",
        "preds_sgd = tf.argmax(model_5.predict(val_ln_tl_char_token_dataset), axis=1)\n",
        "\n",
        "from helper_functions import calculate_results\n",
        "results_sgd = calculate_results(y_true=val_labels_encoded,\n",
        "                                 y_pred=preds_sgd)\n",
        "\n",
        "print(f'Calculated Adam results:')\n",
        "results_sgd"
      ],
      "metadata": {
        "colab": {
          "base_uri": "https://localhost:8080/"
        },
        "id": "AV6J55BFj9wh",
        "outputId": "503ed154-51fb-4c2d-c3e7-a54feaef437d"
      },
      "execution_count": null,
      "outputs": [
        {
          "output_type": "stream",
          "name": "stdout",
          "text": [
            "945/945 [==============================] - 21s 23ms/step - loss: 0.8829 - accuracy: 0.8647\n",
            "Evaluation results:\n",
            " [0.8829268217086792, 0.8646564483642578]\n",
            "945/945 [==============================] - 23s 21ms/step\n",
            "Calculated Adam results:\n"
          ]
        },
        {
          "output_type": "execute_result",
          "data": {
            "text/plain": [
              "{'accuracy': 86.465642790944,\n",
              " 'precision': 0.8654445177131733,\n",
              " 'recall': 0.86465642790944,\n",
              " 'f1': 0.8619575645166653}"
            ]
          },
          "metadata": {},
          "execution_count": 58
        }
      ]
    },
    {
      "cell_type": "code",
      "source": [
        "# Saving the model for further use \n",
        "save_path = \"/content/drive/MyDrive/tensorflow/models/09_exercise\"\n",
        "# model_5.save(save_path)"
      ],
      "metadata": {
        "id": "bWiZk7jJvy1-"
      },
      "execution_count": 49,
      "outputs": []
    },
    {
      "cell_type": "code",
      "source": [
        "# Load model\n",
        "import tensorflow as tf\n",
        "model_loaded = tf.keras.models.load_model(save_path)\n",
        "model_loaded.evaluate(val_ln_tl_char_token_dataset)"
      ],
      "metadata": {
        "colab": {
          "base_uri": "https://localhost:8080/"
        },
        "id": "egCScxSxxc67",
        "outputId": "6b559bf3-25bc-458c-dd97-e7d65b20b065"
      },
      "execution_count": 50,
      "outputs": [
        {
          "output_type": "stream",
          "name": "stdout",
          "text": [
            "945/945 [==============================] - 28s 20ms/step - loss: 0.8829 - accuracy: 0.8647\n"
          ]
        },
        {
          "output_type": "execute_result",
          "data": {
            "text/plain": [
              "[0.8829268217086792, 0.8646564483642578]"
            ]
          },
          "metadata": {},
          "execution_count": 50
        }
      ]
    },
    {
      "cell_type": "markdown",
      "source": [
        "### Conclusion - exercise 1\n",
        "The model was basically copied from the notebook with some tweaks on data processing side. Training was handled on the whole RCT 20k dataset with both `Adam` and `SGD` optimizers. \n",
        "\n",
        "Final results were comparable with a slight advantage for `SGD` however performace of both is very good and beats the paper nevetheless. "
      ],
      "metadata": {
        "id": "SqpDKsd50OF-"
      }
    },
    {
      "cell_type": "markdown",
      "source": [
        "## Exercise 2\n",
        "Check out the *Keras guide on using pretrainged GloVe \n",
        "embeddings*. Can you get this working in one of our models?\n",
        "\n",
        "Source: https://keras.io/examples/nlp/pretrained_word_embeddings/"
      ],
      "metadata": {
        "id": "YTNiVBHIyHJs"
      }
    },
    {
      "cell_type": "markdown",
      "source": [
        "### Download the GloVe embeddings"
      ],
      "metadata": {
        "id": "09u1v7GzYXf-"
      }
    },
    {
      "cell_type": "code",
      "source": [
        "# Get the GloVe embeddings into Colab\n",
        "!wget http://nlp.stanford.edu/data/glove.6B.zip\n",
        "!unzip -q glove.6B.zip"
      ],
      "metadata": {
        "colab": {
          "base_uri": "https://localhost:8080/"
        },
        "id": "4Y2vrNibOrw4",
        "outputId": "529b478c-4688-4a38-dde3-2f773b5df4ca"
      },
      "execution_count": 50,
      "outputs": [
        {
          "output_type": "stream",
          "name": "stdout",
          "text": [
            "--2023-05-05 20:43:14--  http://nlp.stanford.edu/data/glove.6B.zip\n",
            "Resolving nlp.stanford.edu (nlp.stanford.edu)... 171.64.67.140\n",
            "Connecting to nlp.stanford.edu (nlp.stanford.edu)|171.64.67.140|:80... connected.\n",
            "HTTP request sent, awaiting response... 302 Found\n",
            "Location: https://nlp.stanford.edu/data/glove.6B.zip [following]\n",
            "--2023-05-05 20:43:14--  https://nlp.stanford.edu/data/glove.6B.zip\n",
            "Connecting to nlp.stanford.edu (nlp.stanford.edu)|171.64.67.140|:443... connected.\n",
            "HTTP request sent, awaiting response... 301 Moved Permanently\n",
            "Location: https://downloads.cs.stanford.edu/nlp/data/glove.6B.zip [following]\n",
            "--2023-05-05 20:43:15--  https://downloads.cs.stanford.edu/nlp/data/glove.6B.zip\n",
            "Resolving downloads.cs.stanford.edu (downloads.cs.stanford.edu)... 171.64.64.22\n",
            "Connecting to downloads.cs.stanford.edu (downloads.cs.stanford.edu)|171.64.64.22|:443... connected.\n",
            "HTTP request sent, awaiting response... 200 OK\n",
            "Length: 862182613 (822M) [application/zip]\n",
            "Saving to: ‘glove.6B.zip’\n",
            "\n",
            "glove.6B.zip        100%[===================>] 822.24M  5.01MB/s    in 2m 39s  \n",
            "\n",
            "2023-05-05 20:45:54 (5.19 MB/s) - ‘glove.6B.zip’ saved [862182613/862182613]\n",
            "\n"
          ]
        }
      ]
    },
    {
      "cell_type": "code",
      "source": [
        "# Look at the data\n",
        "train_sentences[:5]"
      ],
      "metadata": {
        "colab": {
          "base_uri": "https://localhost:8080/"
        },
        "id": "e6QA9bFNVI5q",
        "outputId": "106d2903-dc3a-4a46-9e4b-13ec4dac8337"
      },
      "execution_count": 51,
      "outputs": [
        {
          "output_type": "execute_result",
          "data": {
            "text/plain": [
              "['to investigate the efficacy of @ weeks of daily low-dose oral prednisolone in improving pain , mobility , and systemic low-grade inflammation in the short term and whether the effect would be sustained at @ weeks in older adults with moderate to severe knee osteoarthritis ( oa ) .',\n",
              " 'a total of @ patients with primary knee oa were randomized @:@ ; @ received @ mg/day of prednisolone and @ received placebo for @ weeks .',\n",
              " 'outcome measures included pain reduction and improvement in function scores and systemic inflammation markers .',\n",
              " 'pain was assessed using the visual analog pain scale ( @-@ mm ) .',\n",
              " 'secondary outcome measures included the western ontario and mcmaster universities osteoarthritis index scores , patient global assessment ( pga ) of the severity of knee oa , and @-min walk distance ( @mwd ) .']"
            ]
          },
          "metadata": {},
          "execution_count": 51
        }
      ]
    },
    {
      "cell_type": "markdown",
      "source": [
        "### Basic text metrics for test sentences"
      ],
      "metadata": {
        "id": "mRWTe1f3ow57"
      }
    },
    {
      "cell_type": "code",
      "source": [
        "# Get basic metrics - average sentence length \n",
        "np.mean(len(train_sentences[0].split()))"
      ],
      "metadata": {
        "colab": {
          "base_uri": "https://localhost:8080/"
        },
        "id": "wuGlPnalVNOv",
        "outputId": "e4f58952-3d35-4c54-d56a-d35ba34d6213"
      },
      "execution_count": 52,
      "outputs": [
        {
          "output_type": "execute_result",
          "data": {
            "text/plain": [
              "49.0"
            ]
          },
          "metadata": {},
          "execution_count": 52
        }
      ]
    },
    {
      "cell_type": "code",
      "source": [
        "# Average sentence length in whole set\n",
        "avg_sent_len = [len(sentence.split()) for sentence in train_sentences]"
      ],
      "metadata": {
        "id": "OULinxG3VveI"
      },
      "execution_count": 53,
      "outputs": []
    },
    {
      "cell_type": "code",
      "source": [
        "# Check the percentile \n",
        "output_sent_len = int(np.percentile(avg_sent_len, 98))\n",
        "output_sent_len"
      ],
      "metadata": {
        "colab": {
          "base_uri": "https://localhost:8080/"
        },
        "id": "cxzZqBO5WwUo",
        "outputId": "393b055c-6882-4c52-9447-2d58be2e344f"
      },
      "execution_count": 54,
      "outputs": [
        {
          "output_type": "execute_result",
          "data": {
            "text/plain": [
              "68"
            ]
          },
          "metadata": {},
          "execution_count": 54
        }
      ]
    },
    {
      "cell_type": "markdown",
      "source": [
        "### `TextVectorizer` instance"
      ],
      "metadata": {
        "id": "X1ez5vi2o8Rm"
      }
    },
    {
      "cell_type": "code",
      "source": [
        "# Create the TextVectorization layer\n",
        "from tensorflow.keras.layers import TextVectorization\n",
        "\n",
        "text_vectorizer = TextVectorization(max_tokens=20000, # going with 20k as per tutorial, with 33k there were 12k missing words\n",
        "                                    output_sequence_length=output_sent_len)\n",
        "text_ds = train_sentences\n",
        "text_vectorizer.adapt(text_ds)\n",
        "text_vectorizer.get_vocabulary()[:5]"
      ],
      "metadata": {
        "colab": {
          "base_uri": "https://localhost:8080/"
        },
        "id": "yS2Ff1s6SCPt",
        "outputId": "c9fcfb3a-5c7e-4ae8-f282-54a9ba44aeda"
      },
      "execution_count": 55,
      "outputs": [
        {
          "output_type": "execute_result",
          "data": {
            "text/plain": [
              "['', '[UNK]', 'the', 'and', 'of']"
            ]
          },
          "metadata": {},
          "execution_count": 55
        }
      ]
    },
    {
      "cell_type": "code",
      "source": [
        "# Test the vectorizer\n",
        "output = text_vectorizer(['the cat sat on the mat'])\n",
        "output"
      ],
      "metadata": {
        "colab": {
          "base_uri": "https://localhost:8080/"
        },
        "id": "PGKROkMi_lZO",
        "outputId": "06551044-c27c-4331-cce1-66f655cdfba2"
      },
      "execution_count": 56,
      "outputs": [
        {
          "output_type": "execute_result",
          "data": {
            "text/plain": [
              "<tf.Tensor: shape=(1, 68), dtype=int64, numpy=\n",
              "array([[    2,  4498,  8370,    18,     2, 12001,     0,     0,     0,\n",
              "            0,     0,     0,     0,     0,     0,     0,     0,     0,\n",
              "            0,     0,     0,     0,     0,     0,     0,     0,     0,\n",
              "            0,     0,     0,     0,     0,     0,     0,     0,     0,\n",
              "            0,     0,     0,     0,     0,     0,     0,     0,     0,\n",
              "            0,     0,     0,     0,     0,     0,     0,     0,     0,\n",
              "            0,     0,     0,     0,     0,     0,     0,     0,     0,\n",
              "            0,     0,     0,     0,     0]])>"
            ]
          },
          "metadata": {},
          "execution_count": 56
        }
      ]
    },
    {
      "cell_type": "code",
      "source": [
        "# Check the encoding\n",
        "vocab = text_vectorizer.get_vocabulary()\n",
        "word_index = dict(zip(vocab, range(len(vocab))))\n",
        "test = ['the', 'cat', 'sat', 'on', 'the', 'mat']\n",
        "[word_index[w] for w in test]"
      ],
      "metadata": {
        "colab": {
          "base_uri": "https://localhost:8080/"
        },
        "id": "sznHfthc_0wy",
        "outputId": "3e159776-b526-444d-c4a9-1d793b891a36"
      },
      "execution_count": 57,
      "outputs": [
        {
          "output_type": "execute_result",
          "data": {
            "text/plain": [
              "[2, 4498, 8370, 18, 2, 12001]"
            ]
          },
          "metadata": {},
          "execution_count": 57
        }
      ]
    },
    {
      "cell_type": "markdown",
      "source": [
        "### Matching downloaded embeddigns with vocabulary from test dataset"
      ],
      "metadata": {
        "id": "hnJc_Su_pDX6"
      }
    },
    {
      "cell_type": "code",
      "source": [
        "# Creating dict mapping words to their NumPy vector representation\n",
        "path_to_glove_file = os.path.join(os.path.expanduser('~'), \n",
        "                                  \"/content/glove.6B.200d.txt\") # using 200-dimensional version\n",
        "\n",
        "embeddings_index = {}\n",
        "\n",
        "with open(path_to_glove_file) as f:\n",
        "  for line in f:\n",
        "    word, coefs = line.split(maxsplit=1)\n",
        "    coefs = np.fromstring(string=coefs, \n",
        "                          dtype='f', \n",
        "                          sep=' ')\n",
        "    embeddings_index[word] = coefs\n",
        "\n",
        "print(f\"Found {len(embeddings_index)} word vectors\")"
      ],
      "metadata": {
        "colab": {
          "base_uri": "https://localhost:8080/"
        },
        "id": "_Gz9FcsABCUd",
        "outputId": "021aff03-b729-43c5-90d3-4199db96f1c2"
      },
      "execution_count": 58,
      "outputs": [
        {
          "output_type": "stream",
          "name": "stdout",
          "text": [
            "Found 400000 word vectors\n"
          ]
        }
      ]
    },
    {
      "cell_type": "code",
      "source": [
        "# Preparing embedding matrix to be used with Keras Embedding layer\n",
        "\n",
        "# It's a NumPy matrix where entry at index is is the pre-trained vector \n",
        "# for the word of index i in vectorizers vocabulary\n",
        "\n",
        "num_tokens = len(vocab) + 2 # 'OOV' and [UNK]?\n",
        "embedding_dim = 200 # as per file name\n",
        "hits = 0\n",
        "misses = 0\n",
        "\n",
        "# Preparing embedding matrix\n",
        "embedding_matrix = np.zeros((num_tokens, embedding_dim))\n",
        "for word, i in word_index.items():\n",
        "  embedding_vector = embeddings_index.get(word)\n",
        "  if embedding_vector is not None:\n",
        "    # Words not found will all be zeroes\n",
        "    # Includes padding and OOVs\n",
        "    embedding_matrix[i] = embedding_vector\n",
        "    hits += 1\n",
        "  else:\n",
        "    misses += 1\n",
        "\n",
        "print(f\"Converted {hits} words with {misses} misses.\")"
      ],
      "metadata": {
        "colab": {
          "base_uri": "https://localhost:8080/"
        },
        "id": "WlBuwsXIBxKL",
        "outputId": "e31e70d8-c525-44db-8ff4-c322289f3a0b"
      },
      "execution_count": 59,
      "outputs": [
        {
          "output_type": "stream",
          "name": "stdout",
          "text": [
            "Converted 14778 words with 5222 misses.\n"
          ]
        }
      ]
    },
    {
      "cell_type": "code",
      "source": [
        "# Build the layer itself\n",
        "from tensorflow.keras.layers import Embedding\n",
        "\n",
        "glove_embeddings = Embedding(\n",
        "    input_dim=num_tokens,\n",
        "    output_dim=embedding_dim,\n",
        "    embeddings_initializer=tf.keras.initializers.Constant(embedding_matrix),\n",
        "    trainable=False,\n",
        "    name='glove_embeddings'\n",
        ")\n",
        "\n",
        "glove_embeddings"
      ],
      "metadata": {
        "colab": {
          "base_uri": "https://localhost:8080/"
        },
        "id": "nDUoOXemDvoe",
        "outputId": "3ed316b4-bf45-4e85-c45a-dae016e189a8"
      },
      "execution_count": 60,
      "outputs": [
        {
          "output_type": "execute_result",
          "data": {
            "text/plain": [
              "<keras.layers.core.embedding.Embedding at 0x7f715e503820>"
            ]
          },
          "metadata": {},
          "execution_count": 60
        }
      ]
    },
    {
      "cell_type": "markdown",
      "source": [
        "### Reusing `model_5` with new token embeddings GloVe layer"
      ],
      "metadata": {
        "id": "RecoRObypPyF"
      }
    },
    {
      "cell_type": "code",
      "source": [
        "# Use the earlier created model with new embeddings created\n",
        "\n",
        "# 1. Token inputs\n",
        "token_inputs = tf.keras.layers.Input(shape=[], dtype=tf.string, name='token_inputs')\n",
        "token_vectorizer = text_vectorizer(token_inputs) # needs to be added\n",
        "token_embeddings = glove_embeddings(token_vectorizer) # here's the change\n",
        "max_pooling = tf.keras.layers.GlobalMaxPooling1D()(token_embeddings) # also needs to be added to reduce dimensiality\n",
        "token_outputs = tf.keras.layers.Dense(128, activation='relu')(max_pooling)\n",
        "token_model = tf.keras.Model(inputs=token_inputs,\n",
        "                             outputs=token_outputs)\n",
        "\n",
        "# 2. Char inputs\n",
        "char_inputs = tf.keras.layers.Input(shape=(1,), dtype=tf.string, name='char_inputs')\n",
        "char_vectors = char_vectorizer(char_inputs)\n",
        "char_embeddings = char_embed(char_vectors)\n",
        "char_bi_lstm = tf.keras.layers.Bidirectional(tf.keras.layers.LSTM(24))(char_embeddings)\n",
        "char_model = tf.keras.Model(inputs=char_inputs,\n",
        "                            outputs=char_bi_lstm)\n",
        "\n",
        "# 3. Line number inputs\n",
        "line_number_inputs = tf.keras.layers.Input(shape=(15,), dtype=tf.float32, name='line_number_input')\n",
        "line_number_outputs = tf.keras.layers.Dense(32, activation='relu')(line_number_inputs)\n",
        "line_number_model = tf.keras.Model(inputs=line_number_inputs,\n",
        "                                   outputs=line_number_outputs)\n",
        "\n",
        "# 4. Total lines inputs\n",
        "total_lines_inputs = tf.keras.layers.Input(shape=(20,), dtype=tf.float32, name='total_lines_input')\n",
        "total_lines_outputs = tf.keras.layers.Dense(32, activation='relu')(total_lines_inputs)\n",
        "total_lines_model = tf.keras.Model(inputs=total_lines_inputs,\n",
        "                                   outputs=total_lines_outputs)\n",
        "\n",
        "# 5. Combine token and char embeddings into a hybrid embedding\n",
        "combined_embeddings = tf.keras.layers.Concatenate(name='char_token_embedding')([char_model.output,\n",
        "                                                                                token_model.output])\n",
        "combined_dense = tf.keras.layers.Dense(256, activation='relu')(combined_embeddings)\n",
        "combined_dropout = tf.keras.layers.Dropout(0.5)(combined_dense)\n",
        "\n",
        "# 6. Triple embedding with line number, total lines and combined char&token embeddings\n",
        "triple_embedding = tf.keras.layers.Concatenate(name='triple_embedding')([line_number_model.output,\n",
        "                                                                         total_lines_model.output,\n",
        "                                                                         combined_dropout])\n",
        "\n",
        "# 7. Create the final output layer\n",
        "output_layer = tf.keras.layers.Dense(5, activation='softmax', name='output_layer')(triple_embedding)\n",
        "\n",
        "# 8. Put the model together\n",
        "model_5_glove = tf.keras.Model(\n",
        "    inputs=[line_number_model.input,\n",
        "            total_lines_model.input,\n",
        "            char_model.input,\n",
        "            token_model.input],\n",
        "    outputs=output_layer,\n",
        "    name='triple_embedding_model')\n",
        "\n",
        "# Create a summary\n",
        "model_5_glove.summary()"
      ],
      "metadata": {
        "colab": {
          "base_uri": "https://localhost:8080/"
        },
        "id": "9i4DmWrwEHaM",
        "outputId": "e5e1be33-fbb5-4c0d-f51b-6865c41072fd"
      },
      "execution_count": 61,
      "outputs": [
        {
          "output_type": "stream",
          "name": "stdout",
          "text": [
            "Model: \"triple_embedding_model\"\n",
            "__________________________________________________________________________________________________\n",
            " Layer (type)                   Output Shape         Param #     Connected to                     \n",
            "==================================================================================================\n",
            " token_inputs (InputLayer)      [(None,)]            0           []                               \n",
            "                                                                                                  \n",
            " char_inputs (InputLayer)       [(None, 1)]          0           []                               \n",
            "                                                                                                  \n",
            " text_vectorization (TextVector  (None, 68)          0           ['token_inputs[0][0]']           \n",
            " ization)                                                                                         \n",
            "                                                                                                  \n",
            " char_vectorizer (TextVectoriza  (None, 290)         0           ['char_inputs[0][0]']            \n",
            " tion)                                                                                            \n",
            "                                                                                                  \n",
            " glove_embeddings (Embedding)   (None, 68, 200)      4000400     ['text_vectorization[0][0]']     \n",
            "                                                                                                  \n",
            " char_embed (Embedding)         (None, 290, 25)      1425        ['char_vectorizer[1][0]']        \n",
            "                                                                                                  \n",
            " global_max_pooling1d (GlobalMa  (None, 200)         0           ['glove_embeddings[0][0]']       \n",
            " xPooling1D)                                                                                      \n",
            "                                                                                                  \n",
            " bidirectional_1 (Bidirectional  (None, 48)          9600        ['char_embed[1][0]']             \n",
            " )                                                                                                \n",
            "                                                                                                  \n",
            " dense_4 (Dense)                (None, 128)          25728       ['global_max_pooling1d[0][0]']   \n",
            "                                                                                                  \n",
            " char_token_embedding (Concaten  (None, 176)         0           ['bidirectional_1[0][0]',        \n",
            " ate)                                                             'dense_4[0][0]']                \n",
            "                                                                                                  \n",
            " line_number_input (InputLayer)  [(None, 15)]        0           []                               \n",
            "                                                                                                  \n",
            " total_lines_input (InputLayer)  [(None, 20)]        0           []                               \n",
            "                                                                                                  \n",
            " dense_7 (Dense)                (None, 256)          45312       ['char_token_embedding[0][0]']   \n",
            "                                                                                                  \n",
            " dense_5 (Dense)                (None, 32)           512         ['line_number_input[0][0]']      \n",
            "                                                                                                  \n",
            " dense_6 (Dense)                (None, 32)           672         ['total_lines_input[0][0]']      \n",
            "                                                                                                  \n",
            " dropout_1 (Dropout)            (None, 256)          0           ['dense_7[0][0]']                \n",
            "                                                                                                  \n",
            " triple_embedding (Concatenate)  (None, 320)         0           ['dense_5[0][0]',                \n",
            "                                                                  'dense_6[0][0]',                \n",
            "                                                                  'dropout_1[0][0]']              \n",
            "                                                                                                  \n",
            " output_layer (Dense)           (None, 5)            1605        ['triple_embedding[0][0]']       \n",
            "                                                                                                  \n",
            "==================================================================================================\n",
            "Total params: 4,085,254\n",
            "Trainable params: 84,854\n",
            "Non-trainable params: 4,000,400\n",
            "__________________________________________________________________________________________________\n"
          ]
        }
      ]
    },
    {
      "cell_type": "code",
      "source": [
        "# Compile the model\n",
        "model_5_glove.compile(loss=tf.keras.losses.CategoricalCrossentropy(label_smoothing=0.2),\n",
        "                      optimizer=tf.keras.optimizers.Adam(),\n",
        "                      metrics=['accuracy'])"
      ],
      "metadata": {
        "id": "ptgvnNcqEuEy"
      },
      "execution_count": 65,
      "outputs": []
    },
    {
      "cell_type": "code",
      "source": [
        "# Fit the model and compare the results\n",
        "history_model_5_glove = model_5_glove.fit(\n",
        "    train_ln_tl_char_token_dataset,\n",
        "    steps_per_epoch=int(0.05*len(train_ln_tl_char_token_dataset)),\n",
        "    epochs=25,\n",
        "    validation_data=val_ln_tl_char_token_dataset,\n",
        "    #validation_steps=int(0.1*len(val_ln_tl_char_token_dataset)),\n",
        "    callbacks=[early_stopping])"
      ],
      "metadata": {
        "colab": {
          "base_uri": "https://localhost:8080/"
        },
        "id": "x-UODUk_F28E",
        "outputId": "797dde3d-9459-4d9d-c791-8cc2c5898ec8"
      },
      "execution_count": 66,
      "outputs": [
        {
          "output_type": "stream",
          "name": "stdout",
          "text": [
            "Epoch 1/25\n",
            "281/281 [==============================] - 170s 569ms/step - loss: 1.1144 - accuracy: 0.7032 - val_loss: 1.0548 - val_accuracy: 0.7301\n",
            "Epoch 2/25\n",
            "281/281 [==============================] - 181s 645ms/step - loss: 1.0676 - accuracy: 0.7272 - val_loss: 1.0301 - val_accuracy: 0.7622\n",
            "Epoch 3/25\n",
            "281/281 [==============================] - 176s 629ms/step - loss: 1.0353 - accuracy: 0.7617 - val_loss: 1.0368 - val_accuracy: 0.7563\n",
            "Epoch 4/25\n",
            "281/281 [==============================] - 176s 629ms/step - loss: 1.0286 - accuracy: 0.7658 - val_loss: 1.0108 - val_accuracy: 0.7708\n",
            "Epoch 5/25\n",
            "281/281 [==============================] - 176s 629ms/step - loss: 1.0254 - accuracy: 0.7667 - val_loss: 0.9911 - val_accuracy: 0.7966\n",
            "Epoch 6/25\n",
            "281/281 [==============================] - 176s 627ms/step - loss: 1.0086 - accuracy: 0.7801 - val_loss: 0.9904 - val_accuracy: 0.7915\n",
            "Epoch 7/25\n",
            "281/281 [==============================] - 153s 546ms/step - loss: 1.0053 - accuracy: 0.7865 - val_loss: 0.9936 - val_accuracy: 0.7981\n",
            "Epoch 8/25\n",
            "281/281 [==============================] - 178s 636ms/step - loss: 1.0002 - accuracy: 0.7938 - val_loss: 0.9824 - val_accuracy: 0.8016\n",
            "Epoch 9/25\n",
            "281/281 [==============================] - 178s 635ms/step - loss: 0.9972 - accuracy: 0.7935 - val_loss: 0.9810 - val_accuracy: 0.8078\n",
            "Epoch 10/25\n",
            "281/281 [==============================] - 178s 634ms/step - loss: 0.9948 - accuracy: 0.7925 - val_loss: 0.9786 - val_accuracy: 0.8021\n",
            "Epoch 11/25\n",
            "281/281 [==============================] - 155s 552ms/step - loss: 0.9971 - accuracy: 0.7853 - val_loss: 0.9679 - val_accuracy: 0.8167\n",
            "Epoch 12/25\n",
            "281/281 [==============================] - 176s 628ms/step - loss: 0.9967 - accuracy: 0.7905 - val_loss: 0.9678 - val_accuracy: 0.8154\n",
            "Epoch 13/25\n",
            "281/281 [==============================] - 176s 627ms/step - loss: 0.9741 - accuracy: 0.8085 - val_loss: 0.9824 - val_accuracy: 0.7977\n",
            "Epoch 14/25\n",
            "281/281 [==============================] - 176s 628ms/step - loss: 0.9905 - accuracy: 0.7928 - val_loss: 0.9680 - val_accuracy: 0.8137\n",
            "Epoch 15/25\n",
            "281/281 [==============================] - ETA: 0s - loss: 0.9762 - accuracy: 0.8101Restoring model weights from the end of the best epoch: 12.\n",
            "281/281 [==============================] - 176s 627ms/step - loss: 0.9762 - accuracy: 0.8101 - val_loss: 0.9697 - val_accuracy: 0.8128\n",
            "Epoch 15: early stopping\n"
          ]
        }
      ]
    },
    {
      "cell_type": "code",
      "source": [
        "# GloVe embeddings results\n",
        "from helper_functions import calculate_results\n",
        "print(f'Evaluation results:\\n {model_5_glove.evaluate(val_ln_tl_char_token_dataset)}')\n",
        "preds_glove = tf.argmax(model_5.predict(val_ln_tl_char_token_dataset), axis=1)\n",
        "results_glove = calculate_results(y_true=val_labels_encoded,\n",
        "                                  y_pred=preds_glove)\n",
        "print(f'Calculated GloVe results:')\n",
        "results_glove"
      ],
      "metadata": {
        "colab": {
          "base_uri": "https://localhost:8080/"
        },
        "id": "RSfufK_DKHcD",
        "outputId": "0b65e1ff-48d3-454b-8cfa-1cd9b54437e0"
      },
      "execution_count": 67,
      "outputs": [
        {
          "output_type": "stream",
          "name": "stdout",
          "text": [
            "945/945 [==============================] - 66s 70ms/step - loss: 0.9678 - accuracy: 0.8154\n",
            "Evaluation results:\n",
            " [0.9678013920783997, 0.8154375553131104]\n",
            "945/945 [==============================] - 70s 74ms/step\n",
            "Calculated GloVe results:\n"
          ]
        },
        {
          "output_type": "execute_result",
          "data": {
            "text/plain": [
              "{'accuracy': 22.67972990864557,\n",
              " 'precision': 0.20643966827590068,\n",
              " 'recall': 0.2267972990864557,\n",
              " 'f1': 0.1755920376108146}"
            ]
          },
          "metadata": {},
          "execution_count": 67
        }
      ]
    },
    {
      "cell_type": "code",
      "source": [],
      "metadata": {
        "id": "FIwOTNeGKmXC"
      },
      "execution_count": null,
      "outputs": []
    }
  ],
  "metadata": {
    "accelerator": "GPU",
    "colab": {
      "provenance": [],
      "toc_visible": true
    },
    "gpuClass": "standard",
    "kernelspec": {
      "display_name": "Python 3",
      "name": "python3"
    },
    "language_info": {
      "name": "python"
    }
  },
  "nbformat": 4,
  "nbformat_minor": 0
}